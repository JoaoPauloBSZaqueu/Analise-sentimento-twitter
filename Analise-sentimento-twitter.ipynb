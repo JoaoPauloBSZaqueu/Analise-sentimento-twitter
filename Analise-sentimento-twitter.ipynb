{
 "cells": [
  {
   "cell_type": "markdown",
   "metadata": {},
   "source": [
    "# Dependencies"
   ]
  },
  {
   "cell_type": "code",
   "execution_count": 1,
   "metadata": {
    "ExecuteTime": {
     "end_time": "2022-03-24T13:28:04.623284Z",
     "start_time": "2022-03-24T13:27:58.879490Z"
    }
   },
   "outputs": [
    {
     "name": "stderr",
     "output_type": "stream",
     "text": [
      "[nltk_data] Downloading package stopwords to\n",
      "[nltk_data]     C:\\Users\\jotap\\AppData\\Roaming\\nltk_data...\n",
      "[nltk_data]   Package stopwords is already up-to-date!\n",
      "[nltk_data] Downloading package punkt to\n",
      "[nltk_data]     C:\\Users\\jotap\\AppData\\Roaming\\nltk_data...\n",
      "[nltk_data]   Package punkt is already up-to-date!\n"
     ]
    }
   ],
   "source": [
    "import numpy as np\n",
    "import pandas as pd\n",
    "import re\n",
    "import nltk\n",
    "from nltk.corpus import stopwords \n",
    "from nltk.stem.porter import *\n",
    "from nltk.tokenize import word_tokenize\n",
    "import matplotlib.pyplot as plt\n",
    "import seaborn as sns\n",
    "from unidecode import unidecode\n",
    "#from nltk import word_tokenize\n",
    "from nltk.corpus import stopwords\n",
    "from spacy.lang.pt.stop_words import STOP_WORDS\n",
    "from string import punctuation\n",
    "from sklearn.model_selection import train_test_split, cross_validate\n",
    "from sklearn import metrics, preprocessing\n",
    "\n",
    "from sklearn.feature_extraction.text import CountVectorizer\n",
    "from sklearn.feature_extraction.text import TfidfVectorizer\n",
    "from gensim.models import Word2Vec\n",
    "from nltk.stem import WordNetLemmatizer\n",
    "\n",
    "from mlxtend import plotting\n",
    "\n",
    "from sklearn.ensemble import RandomForestClassifier, AdaBoostClassifier\n",
    "from sklearn.metrics import accuracy_score, precision_score, recall_score, f1_score\n",
    "from sklearn.tree import DecisionTreeClassifier\n",
    "from sklearn.linear_model import LogisticRegression\n",
    "from sklearn import model_selection\n",
    "import spacy\n",
    "import optuna\n",
    "\n",
    "nltk.download('stopwords')\n",
    "nltk.download('punkt')\n",
    "stemmer = nltk.stem.SnowballStemmer('portuguese')\n",
    "#stopwords = set(stopwords.words('portuguese'))\n"
   ]
  },
  {
   "cell_type": "markdown",
   "metadata": {},
   "source": [
    "## Functions"
   ]
  },
  {
   "cell_type": "code",
   "execution_count": 2,
   "metadata": {
    "ExecuteTime": {
     "end_time": "2022-03-24T13:28:04.746953Z",
     "start_time": "2022-03-24T13:28:04.626276Z"
    }
   },
   "outputs": [],
   "source": [
    "# Cross Validation\n",
    "def cross_val(n_splits, model, X_train_std, y_train, threshold):\n",
    "    \"\"\"\n",
    "    n_splits: int, numero de folds. Deve ser maior ou igual a 2\n",
    "    model: modelo que sera utilizado\n",
    "    X_train_std: Base de treinos escalonada\n",
    "    y_train: Base de treino do target\n",
    "    threshold: float, valor do threshold\n",
    "\n",
    "    Return:\n",
    "        Pandas DataFrame com os valores de accuracy, precision, recall e f1 em cada fold\n",
    "\n",
    "    \"\"\"\n",
    "    \n",
    "    # estratificação da base\n",
    "    kf = model_selection.StratifiedKFold(n_splits=n_splits)\n",
    "    kf.get_n_splits(X_train_std)\n",
    "    \n",
    "    #data frame vazio\n",
    "    response = {}\n",
    "    cm = {}\n",
    "    s1 = pd.DataFrame()\n",
    "\n",
    "    for i, (train_index, val_index) in enumerate(kf.split(X_train_std, y_train)):\n",
    "        \n",
    "        #separando a base em treino e validacao\n",
    "        KFold_X_train, KFold_X_val = X_train_std[train_index], X_train_std[val_index]\n",
    "        KFold_y_train, KFold_y_val = y_train.to_numpy()[train_index], y_train.to_numpy()[val_index]\n",
    "        \n",
    "        # fit predict\n",
    "        model.fit(KFold_X_train, KFold_y_train)\n",
    "        y_pred = model.predict(KFold_X_val)\n",
    "\n",
    "        \n",
    "        #matriz de confusao do modelo\n",
    "        cm[f'Fold {i}'] = metrics.confusion_matrix(KFold_y_val, y_pred)\n",
    "\n",
    "        response[f'Fold {i}'] = metrics.classification_report(KFold_y_val,\n",
    "                                                                        y_pred,\n",
    "                                                                        output_dict=True)\n",
    "        #salvando no dataframe\n",
    "        # label 0\n",
    "        s2 = pd.DataFrame(response[f'Fold {i}']['0'], index=[f'Fold {i}'])\n",
    "        s2['label'] = 0\n",
    "        #label 1\n",
    "        s3 = pd.DataFrame(response[f'Fold {i}']['1'], index=[f'Fold {i}'])\n",
    "        s3['label'] = 1\n",
    "        #label 2\n",
    "        s4 = pd.DataFrame(response[f'Fold {i}']['2'], index=[f'Fold {i}'])\n",
    "        s4['label'] = 2\n",
    "        s1 = pd.concat([s1, s2, s3, s4])\n",
    "\n",
    "    # reorganizando o dataframe\n",
    "    s1 = s1[['label', 'precision', 'recall', 'f1-score', 'support']]\n",
    "    s1.reset_index(level=0, inplace=True)\n",
    "    s1 = s1.rename(columns={'index': 'Fold'})\n",
    "    s1.set_index(['Fold', 'label'], inplace=True)\n",
    "    \n",
    "    return response, s1, cm\n",
    "\n",
    "\n",
    "def baseline(X_train, X_test, y_train, y_test, list_model):\n",
    "    \"\"\"\n",
    "    X: DataFrame sem o target\n",
    "    y: target\n",
    "    test_size: float, proporcao do dataset separada para teste \n",
    "    list_model: Lista de dicionarios dos modelos a serem utilizados\n",
    "                    formato:List[Dict{'model_name': modelo}] \n",
    "    threshold: float, valor do threshold\n",
    "\n",
    "    Return:\n",
    "        response: dict com o classification_report de cada modelo\n",
    "        s1 : DataFrame com os valores de accuracy, precision, recall e f1\n",
    "             para cada modelo\n",
    "        cm: dict com a confusion_matrix de cada modelo\n",
    "\n",
    "    \"\"\"\n",
    "\n",
    "    response = {}\n",
    "    cm = {}\n",
    "    s1 = pd.DataFrame()\n",
    "    for mdl in list_model:\n",
    "        #fit predict\n",
    "        model = mdl.get('estimator')\n",
    "        model.fit(X_train, y_train)\n",
    "        y_pred = model.predict(X_test)\n",
    "        \n",
    "        #matriz de confusao do modelo\n",
    "        cm[mdl.get('model_name')] = metrics.confusion_matrix(y_test, y_pred)\n",
    "\n",
    "        response[mdl.get('model_name')] = metrics.classification_report(y_test,\n",
    "                                                                        y_pred,\n",
    "                                                                        output_dict=True)\n",
    "        #salvando no dataframe\n",
    "        # label 0\n",
    "        s2 = pd.DataFrame(response[mdl.get('model_name')]['0'], index=[mdl.get('model_name')])\n",
    "        s2['label'] = 0\n",
    "        #label 1\n",
    "        s3 = pd.DataFrame(response[mdl.get('model_name')]['1'], index=[mdl.get('model_name')])\n",
    "        s3['label'] = 1\n",
    "        #label 2\n",
    "        s4 = pd.DataFrame(response[mdl.get('model_name')]['2'], index=[mdl.get('model_name')])\n",
    "        s4['label'] = 2\n",
    "        s1 = pd.concat([s1, s2, s3, s4])\n",
    "\n",
    "    # reorganizando o dataframe\n",
    "    s1 = s1[['label', 'precision', 'recall', 'f1-score', 'support']]\n",
    "    s1.reset_index(level=0, inplace=True)\n",
    "    s1 = s1.rename(columns={'index': 'model_name'})\n",
    "    s1.set_index(['model_name', 'label'], inplace=True)\n",
    "    \n",
    "    return response, s1, cm\n",
    "\n",
    "#funcao para o Gradiente Boosting\n",
    "def objective_LR_tfidf(trial):\n",
    "    #escolhendo os parametros\n",
    "    params = dict(\n",
    "        tol = trial.suggest_float('tol',1e-4,1e-2,log=True),\n",
    "        C = trial.suggest_float('C',1,3.5),\n",
    "        max_iter = trial.suggest_float('max_iter',100,500),\n",
    "        warm_start = trial.suggest_categorical('warm_start',[True,False])\n",
    "    )\n",
    "\n",
    "    model = LogisticRegression(**params,\n",
    "                               random_state=42,\n",
    "                               n_jobs=-1,\n",
    "                               solver='newton-cg',\n",
    "                               multi_class='multinomial')\n",
    "    print(model)\n",
    "    return cross_validate(model,\n",
    "                        X_train_tfidf, #dataset de treino tf-idf\n",
    "                        y_train, #dataset de treino\n",
    "                        scoring=['precision_weighted'],\n",
    "                        cv = 5,\n",
    "                        n_jobs=-1)['test_precision_weighted'].mean()\n",
    "\n",
    "def objective_LR_cv(trial):\n",
    "    #escolhendo os parametros\n",
    "    params = dict(\n",
    "        tol = trial.suggest_float('tol',1e-4,1e-2,log=True),\n",
    "        C = trial.suggest_float('C',1,3.5),\n",
    "        max_iter = trial.suggest_float('max_iter',100,500),\n",
    "        warm_start = trial.suggest_categorical('warm_start',[True,False])\n",
    "    )\n",
    "\n",
    "    model = LogisticRegression(**params,\n",
    "                               random_state=42,\n",
    "                               n_jobs=-1,\n",
    "                               solver='newton-cg',\n",
    "                               multi_class='multinomial')\n",
    "    print(model)\n",
    "    return cross_validate(model,\n",
    "                        X_train_cv, #dataset de treino count vectorize\n",
    "                        y_train, #dataset de treino\n",
    "                        scoring=['precision_weighted'],\n",
    "                        cv = 5,\n",
    "                        n_jobs=-1)['test_precision_weighted'].mean()"
   ]
  },
  {
   "cell_type": "markdown",
   "metadata": {},
   "source": [
    "## Análise de consistência dos dados"
   ]
  },
  {
   "cell_type": "code",
   "execution_count": 3,
   "metadata": {
    "ExecuteTime": {
     "end_time": "2022-03-24T13:28:05.168856Z",
     "start_time": "2022-03-24T13:28:04.748949Z"
    }
   },
   "outputs": [
    {
     "data": {
      "text/html": [
       "<div>\n",
       "<style scoped>\n",
       "    .dataframe tbody tr th:only-of-type {\n",
       "        vertical-align: middle;\n",
       "    }\n",
       "\n",
       "    .dataframe tbody tr th {\n",
       "        vertical-align: top;\n",
       "    }\n",
       "\n",
       "    .dataframe thead th {\n",
       "        text-align: right;\n",
       "    }\n",
       "</style>\n",
       "<table border=\"1\" class=\"dataframe\">\n",
       "  <thead>\n",
       "    <tr style=\"text-align: right;\">\n",
       "      <th></th>\n",
       "      <th>id</th>\n",
       "      <th>tweet_text</th>\n",
       "      <th>tweet_date</th>\n",
       "      <th>sentiment</th>\n",
       "      <th>query_used</th>\n",
       "    </tr>\n",
       "  </thead>\n",
       "  <tbody>\n",
       "    <tr>\n",
       "      <th>0</th>\n",
       "      <td>1049721159292346368</td>\n",
       "      <td>Rio elege maior bancada policial de sua histór...</td>\n",
       "      <td>Tue Oct 09 18:00:01 +0000 2018</td>\n",
       "      <td>2</td>\n",
       "      <td>folha</td>\n",
       "    </tr>\n",
       "    <tr>\n",
       "      <th>1</th>\n",
       "      <td>1046251157025423360</td>\n",
       "      <td>fiquei tão triste quando eu vi o preço da câme...</td>\n",
       "      <td>Sun Sep 30 04:11:28 +0000 2018</td>\n",
       "      <td>0</td>\n",
       "      <td>:(</td>\n",
       "    </tr>\n",
       "    <tr>\n",
       "      <th>2</th>\n",
       "      <td>1041744620206653440</td>\n",
       "      <td>Para Theresa May, seu plano para o Brexit é a ...</td>\n",
       "      <td>Mon Sep 17 17:44:06 +0000 2018</td>\n",
       "      <td>2</td>\n",
       "      <td>exame</td>\n",
       "    </tr>\n",
       "    <tr>\n",
       "      <th>3</th>\n",
       "      <td>1046937084727107589</td>\n",
       "      <td>caralho eu quero proteger a danielly em um pot...</td>\n",
       "      <td>Tue Oct 02 01:37:06 +0000 2018</td>\n",
       "      <td>0</td>\n",
       "      <td>:(</td>\n",
       "    </tr>\n",
       "    <tr>\n",
       "      <th>4</th>\n",
       "      <td>1047326854229778432</td>\n",
       "      <td>@SiCaetano_ viva o caos :)</td>\n",
       "      <td>Wed Oct 03 03:25:55 +0000 2018</td>\n",
       "      <td>1</td>\n",
       "      <td>:)</td>\n",
       "    </tr>\n",
       "  </tbody>\n",
       "</table>\n",
       "</div>"
      ],
      "text/plain": [
       "                    id                                         tweet_text  \\\n",
       "0  1049721159292346368  Rio elege maior bancada policial de sua histór...   \n",
       "1  1046251157025423360  fiquei tão triste quando eu vi o preço da câme...   \n",
       "2  1041744620206653440  Para Theresa May, seu plano para o Brexit é a ...   \n",
       "3  1046937084727107589  caralho eu quero proteger a danielly em um pot...   \n",
       "4  1047326854229778432                         @SiCaetano_ viva o caos :)   \n",
       "\n",
       "                       tweet_date  sentiment query_used  \n",
       "0  Tue Oct 09 18:00:01 +0000 2018          2      folha  \n",
       "1  Sun Sep 30 04:11:28 +0000 2018          0         :(  \n",
       "2  Mon Sep 17 17:44:06 +0000 2018          2      exame  \n",
       "3  Tue Oct 02 01:37:06 +0000 2018          0         :(  \n",
       "4  Wed Oct 03 03:25:55 +0000 2018          1         :)  "
      ]
     },
     "execution_count": 3,
     "metadata": {},
     "output_type": "execute_result"
    }
   ],
   "source": [
    "df = pd.read_csv('./Dados/train/Train3Classes.csv')\n",
    "df.head()"
   ]
  },
  {
   "cell_type": "code",
   "execution_count": 4,
   "metadata": {
    "ExecuteTime": {
     "end_time": "2022-03-24T13:28:05.215760Z",
     "start_time": "2022-03-24T13:28:05.170852Z"
    }
   },
   "outputs": [
    {
     "name": "stdout",
     "output_type": "stream",
     "text": [
      "<class 'pandas.core.frame.DataFrame'>\n",
      "RangeIndex: 95000 entries, 0 to 94999\n",
      "Data columns (total 5 columns):\n",
      " #   Column      Non-Null Count  Dtype \n",
      "---  ------      --------------  ----- \n",
      " 0   id          95000 non-null  int64 \n",
      " 1   tweet_text  95000 non-null  object\n",
      " 2   tweet_date  95000 non-null  object\n",
      " 3   sentiment   95000 non-null  int64 \n",
      " 4   query_used  95000 non-null  object\n",
      "dtypes: int64(2), object(3)\n",
      "memory usage: 3.6+ MB\n"
     ]
    }
   ],
   "source": [
    "df.info()"
   ]
  },
  {
   "cell_type": "code",
   "execution_count": 5,
   "metadata": {
    "ExecuteTime": {
     "end_time": "2022-03-24T13:28:05.246652Z",
     "start_time": "2022-03-24T13:28:05.217728Z"
    }
   },
   "outputs": [
    {
     "data": {
      "text/html": [
       "<div>\n",
       "<style scoped>\n",
       "    .dataframe tbody tr th:only-of-type {\n",
       "        vertical-align: middle;\n",
       "    }\n",
       "\n",
       "    .dataframe tbody tr th {\n",
       "        vertical-align: top;\n",
       "    }\n",
       "\n",
       "    .dataframe thead th {\n",
       "        text-align: right;\n",
       "    }\n",
       "</style>\n",
       "<table border=\"1\" class=\"dataframe\">\n",
       "  <thead>\n",
       "    <tr style=\"text-align: right;\">\n",
       "      <th></th>\n",
       "      <th>id</th>\n",
       "      <th>sentiment</th>\n",
       "    </tr>\n",
       "  </thead>\n",
       "  <tbody>\n",
       "    <tr>\n",
       "      <th>count</th>\n",
       "      <td>9.500000e+04</td>\n",
       "      <td>95000.000000</td>\n",
       "    </tr>\n",
       "    <tr>\n",
       "      <th>mean</th>\n",
       "      <td>1.045740e+18</td>\n",
       "      <td>0.999263</td>\n",
       "    </tr>\n",
       "    <tr>\n",
       "      <th>std</th>\n",
       "      <td>4.259084e+15</td>\n",
       "      <td>0.816427</td>\n",
       "    </tr>\n",
       "    <tr>\n",
       "      <th>min</th>\n",
       "      <td>1.027374e+18</td>\n",
       "      <td>0.000000</td>\n",
       "    </tr>\n",
       "    <tr>\n",
       "      <th>25%</th>\n",
       "      <td>1.045370e+18</td>\n",
       "      <td>0.000000</td>\n",
       "    </tr>\n",
       "    <tr>\n",
       "      <th>50%</th>\n",
       "      <td>1.046827e+18</td>\n",
       "      <td>1.000000</td>\n",
       "    </tr>\n",
       "    <tr>\n",
       "      <th>75%</th>\n",
       "      <td>1.049106e+18</td>\n",
       "      <td>2.000000</td>\n",
       "    </tr>\n",
       "    <tr>\n",
       "      <th>max</th>\n",
       "      <td>1.053355e+18</td>\n",
       "      <td>2.000000</td>\n",
       "    </tr>\n",
       "  </tbody>\n",
       "</table>\n",
       "</div>"
      ],
      "text/plain": [
       "                 id     sentiment\n",
       "count  9.500000e+04  95000.000000\n",
       "mean   1.045740e+18      0.999263\n",
       "std    4.259084e+15      0.816427\n",
       "min    1.027374e+18      0.000000\n",
       "25%    1.045370e+18      0.000000\n",
       "50%    1.046827e+18      1.000000\n",
       "75%    1.049106e+18      2.000000\n",
       "max    1.053355e+18      2.000000"
      ]
     },
     "execution_count": 5,
     "metadata": {},
     "output_type": "execute_result"
    }
   ],
   "source": [
    "df.describe()"
   ]
  },
  {
   "cell_type": "code",
   "execution_count": 6,
   "metadata": {
    "ExecuteTime": {
     "end_time": "2022-03-24T13:28:05.278592Z",
     "start_time": "2022-03-24T13:28:05.248645Z"
    },
    "scrolled": true
   },
   "outputs": [
    {
     "data": {
      "text/html": [
       "<div>\n",
       "<style scoped>\n",
       "    .dataframe tbody tr th:only-of-type {\n",
       "        vertical-align: middle;\n",
       "    }\n",
       "\n",
       "    .dataframe tbody tr th {\n",
       "        vertical-align: top;\n",
       "    }\n",
       "\n",
       "    .dataframe thead th {\n",
       "        text-align: right;\n",
       "    }\n",
       "</style>\n",
       "<table border=\"1\" class=\"dataframe\">\n",
       "  <thead>\n",
       "    <tr style=\"text-align: right;\">\n",
       "      <th></th>\n",
       "      <th>id</th>\n",
       "      <th>tweet_text</th>\n",
       "      <th>tweet_date</th>\n",
       "      <th>sentiment</th>\n",
       "      <th>query_used</th>\n",
       "    </tr>\n",
       "  </thead>\n",
       "  <tbody>\n",
       "    <tr>\n",
       "      <th>39184</th>\n",
       "      <td>1037082879438729216</td>\n",
       "      <td>O que é #FATO ou #FAKE na entrevista de Gerald...</td>\n",
       "      <td>Tue Sep 04 21:00:01 +0000 2018</td>\n",
       "      <td>2</td>\n",
       "      <td>#fato</td>\n",
       "    </tr>\n",
       "    <tr>\n",
       "      <th>38913</th>\n",
       "      <td>1037082879438729216</td>\n",
       "      <td>O que é #FATO ou #FAKE na entrevista de Gerald...</td>\n",
       "      <td>Tue Sep 04 21:00:01 +0000 2018</td>\n",
       "      <td>2</td>\n",
       "      <td>jornaloglobo</td>\n",
       "    </tr>\n",
       "    <tr>\n",
       "      <th>35012</th>\n",
       "      <td>1037837855433928704</td>\n",
       "      <td>Veja o que é #FATO ou #FAKE na entrevista de E...</td>\n",
       "      <td>Thu Sep 06 23:00:01 +0000 2018</td>\n",
       "      <td>2</td>\n",
       "      <td>#fato</td>\n",
       "    </tr>\n",
       "    <tr>\n",
       "      <th>20226</th>\n",
       "      <td>1037837855433928704</td>\n",
       "      <td>Veja o que é #FATO ou #FAKE na entrevista de E...</td>\n",
       "      <td>Thu Sep 06 23:00:01 +0000 2018</td>\n",
       "      <td>2</td>\n",
       "      <td>jornaloglobo</td>\n",
       "    </tr>\n",
       "    <tr>\n",
       "      <th>39324</th>\n",
       "      <td>1038222887432273920</td>\n",
       "      <td>Veja o que é #FATO ou #FAKE na entrevista de F...</td>\n",
       "      <td>Sat Sep 08 00:30:00 +0000 2018</td>\n",
       "      <td>2</td>\n",
       "      <td>jornaloglobo</td>\n",
       "    </tr>\n",
       "    <tr>\n",
       "      <th>83565</th>\n",
       "      <td>1038222887432273920</td>\n",
       "      <td>Veja o que é #FATO ou #FAKE na entrevista de F...</td>\n",
       "      <td>Sat Sep 08 00:30:00 +0000 2018</td>\n",
       "      <td>2</td>\n",
       "      <td>#fato</td>\n",
       "    </tr>\n",
       "    <tr>\n",
       "      <th>69100</th>\n",
       "      <td>1038494427503837185</td>\n",
       "      <td>Veja o que é #FATO ou #FAKE na entrevista de H...</td>\n",
       "      <td>Sat Sep 08 18:29:00 +0000 2018</td>\n",
       "      <td>2</td>\n",
       "      <td>#fato</td>\n",
       "    </tr>\n",
       "    <tr>\n",
       "      <th>35849</th>\n",
       "      <td>1038494427503837185</td>\n",
       "      <td>Veja o que é #FATO ou #FAKE na entrevista de H...</td>\n",
       "      <td>Sat Sep 08 18:29:00 +0000 2018</td>\n",
       "      <td>2</td>\n",
       "      <td>jornaloglobo</td>\n",
       "    </tr>\n",
       "    <tr>\n",
       "      <th>62236</th>\n",
       "      <td>1038570177191993344</td>\n",
       "      <td>Veja o que é #FATO ou #FAKE na entrevista de H...</td>\n",
       "      <td>Sat Sep 08 23:30:00 +0000 2018</td>\n",
       "      <td>2</td>\n",
       "      <td>#fato</td>\n",
       "    </tr>\n",
       "    <tr>\n",
       "      <th>93665</th>\n",
       "      <td>1038570177191993344</td>\n",
       "      <td>Veja o que é #FATO ou #FAKE na entrevista de H...</td>\n",
       "      <td>Sat Sep 08 23:30:00 +0000 2018</td>\n",
       "      <td>2</td>\n",
       "      <td>jornaloglobo</td>\n",
       "    </tr>\n",
       "    <tr>\n",
       "      <th>21547</th>\n",
       "      <td>1039333665304588296</td>\n",
       "      <td>Veja o que é #FATO ou #FAKE na entrevista de A...</td>\n",
       "      <td>Tue Sep 11 02:03:50 +0000 2018</td>\n",
       "      <td>2</td>\n",
       "      <td>jornaloglobo</td>\n",
       "    </tr>\n",
       "    <tr>\n",
       "      <th>56550</th>\n",
       "      <td>1039333665304588296</td>\n",
       "      <td>Veja o que é #FATO ou #FAKE na entrevista de A...</td>\n",
       "      <td>Tue Sep 11 02:03:50 +0000 2018</td>\n",
       "      <td>2</td>\n",
       "      <td>#fato</td>\n",
       "    </tr>\n",
       "    <tr>\n",
       "      <th>17419</th>\n",
       "      <td>1039617074081849345</td>\n",
       "      <td>Veja o que é #FATO ou #FAKE na sabatina de Mar...</td>\n",
       "      <td>Tue Sep 11 20:50:00 +0000 2018</td>\n",
       "      <td>2</td>\n",
       "      <td>jornaloglobo</td>\n",
       "    </tr>\n",
       "    <tr>\n",
       "      <th>42936</th>\n",
       "      <td>1039617074081849345</td>\n",
       "      <td>Veja o que é #FATO ou #FAKE na sabatina de Mar...</td>\n",
       "      <td>Tue Sep 11 20:50:00 +0000 2018</td>\n",
       "      <td>2</td>\n",
       "      <td>#fato</td>\n",
       "    </tr>\n",
       "    <tr>\n",
       "      <th>18026</th>\n",
       "      <td>1039987011904462849</td>\n",
       "      <td>Veja o que é #FATO ou #FAKE na sabatina de Cir...</td>\n",
       "      <td>Wed Sep 12 21:20:00 +0000 2018</td>\n",
       "      <td>2</td>\n",
       "      <td>#fato</td>\n",
       "    </tr>\n",
       "    <tr>\n",
       "      <th>68291</th>\n",
       "      <td>1039987011904462849</td>\n",
       "      <td>Veja o que é #FATO ou #FAKE na sabatina de Cir...</td>\n",
       "      <td>Wed Sep 12 21:20:00 +0000 2018</td>\n",
       "      <td>2</td>\n",
       "      <td>jornaloglobo</td>\n",
       "    </tr>\n",
       "    <tr>\n",
       "      <th>30744</th>\n",
       "      <td>1040377082189172738</td>\n",
       "      <td>Veja o que é #FATO ou #FAKE na sabatina de Ger...</td>\n",
       "      <td>Thu Sep 13 23:10:00 +0000 2018</td>\n",
       "      <td>2</td>\n",
       "      <td>#fato</td>\n",
       "    </tr>\n",
       "    <tr>\n",
       "      <th>32410</th>\n",
       "      <td>1040377082189172738</td>\n",
       "      <td>Veja o que é #FATO ou #FAKE na sabatina de Ger...</td>\n",
       "      <td>Thu Sep 13 23:10:00 +0000 2018</td>\n",
       "      <td>2</td>\n",
       "      <td>jornaloglobo</td>\n",
       "    </tr>\n",
       "    <tr>\n",
       "      <th>28564</th>\n",
       "      <td>1040952020990128129</td>\n",
       "      <td>Veja o que é #FATO ou #FAKE na entrevista de F...</td>\n",
       "      <td>Sat Sep 15 13:14:36 +0000 2018</td>\n",
       "      <td>2</td>\n",
       "      <td>#fato</td>\n",
       "    </tr>\n",
       "    <tr>\n",
       "      <th>66221</th>\n",
       "      <td>1040952020990128129</td>\n",
       "      <td>Veja o que é #FATO ou #FAKE na entrevista de F...</td>\n",
       "      <td>Sat Sep 15 13:14:36 +0000 2018</td>\n",
       "      <td>2</td>\n",
       "      <td>jornaloglobo</td>\n",
       "    </tr>\n",
       "    <tr>\n",
       "      <th>4777</th>\n",
       "      <td>1042890896163790848</td>\n",
       "      <td>Veja o que é #FATO ou #FAKE na entrevista de F...</td>\n",
       "      <td>Thu Sep 20 21:39:00 +0000 2018</td>\n",
       "      <td>2</td>\n",
       "      <td>jornaloglobo</td>\n",
       "    </tr>\n",
       "    <tr>\n",
       "      <th>39007</th>\n",
       "      <td>1042890896163790848</td>\n",
       "      <td>Veja o que é #FATO ou #FAKE na entrevista de F...</td>\n",
       "      <td>Thu Sep 20 21:39:00 +0000 2018</td>\n",
       "      <td>2</td>\n",
       "      <td>#fato</td>\n",
       "    </tr>\n",
       "    <tr>\n",
       "      <th>87130</th>\n",
       "      <td>1043522812634267648</td>\n",
       "      <td>Veja o que é #FATO ou #FAKE na entrevista de M...</td>\n",
       "      <td>Sat Sep 22 15:30:00 +0000 2018</td>\n",
       "      <td>2</td>\n",
       "      <td>#fato</td>\n",
       "    </tr>\n",
       "    <tr>\n",
       "      <th>65328</th>\n",
       "      <td>1043522812634267648</td>\n",
       "      <td>Veja o que é #FATO ou #FAKE na entrevista de M...</td>\n",
       "      <td>Sat Sep 22 15:30:00 +0000 2018</td>\n",
       "      <td>2</td>\n",
       "      <td>jornaloglobo</td>\n",
       "    </tr>\n",
       "    <tr>\n",
       "      <th>48967</th>\n",
       "      <td>1050747512179576834</td>\n",
       "      <td>era para ser somente algo normal, sem perceber...</td>\n",
       "      <td>Fri Oct 12 13:58:23 +0000 2018</td>\n",
       "      <td>1</td>\n",
       "      <td>:)</td>\n",
       "    </tr>\n",
       "    <tr>\n",
       "      <th>34464</th>\n",
       "      <td>1050747512179576834</td>\n",
       "      <td>era para ser somente algo normal, sem perceber...</td>\n",
       "      <td>Fri Oct 12 13:58:23 +0000 2018</td>\n",
       "      <td>2</td>\n",
       "      <td>#trabalho</td>\n",
       "    </tr>\n",
       "  </tbody>\n",
       "</table>\n",
       "</div>"
      ],
      "text/plain": [
       "                        id                                         tweet_text  \\\n",
       "39184  1037082879438729216  O que é #FATO ou #FAKE na entrevista de Gerald...   \n",
       "38913  1037082879438729216  O que é #FATO ou #FAKE na entrevista de Gerald...   \n",
       "35012  1037837855433928704  Veja o que é #FATO ou #FAKE na entrevista de E...   \n",
       "20226  1037837855433928704  Veja o que é #FATO ou #FAKE na entrevista de E...   \n",
       "39324  1038222887432273920  Veja o que é #FATO ou #FAKE na entrevista de F...   \n",
       "83565  1038222887432273920  Veja o que é #FATO ou #FAKE na entrevista de F...   \n",
       "69100  1038494427503837185  Veja o que é #FATO ou #FAKE na entrevista de H...   \n",
       "35849  1038494427503837185  Veja o que é #FATO ou #FAKE na entrevista de H...   \n",
       "62236  1038570177191993344  Veja o que é #FATO ou #FAKE na entrevista de H...   \n",
       "93665  1038570177191993344  Veja o que é #FATO ou #FAKE na entrevista de H...   \n",
       "21547  1039333665304588296  Veja o que é #FATO ou #FAKE na entrevista de A...   \n",
       "56550  1039333665304588296  Veja o que é #FATO ou #FAKE na entrevista de A...   \n",
       "17419  1039617074081849345  Veja o que é #FATO ou #FAKE na sabatina de Mar...   \n",
       "42936  1039617074081849345  Veja o que é #FATO ou #FAKE na sabatina de Mar...   \n",
       "18026  1039987011904462849  Veja o que é #FATO ou #FAKE na sabatina de Cir...   \n",
       "68291  1039987011904462849  Veja o que é #FATO ou #FAKE na sabatina de Cir...   \n",
       "30744  1040377082189172738  Veja o que é #FATO ou #FAKE na sabatina de Ger...   \n",
       "32410  1040377082189172738  Veja o que é #FATO ou #FAKE na sabatina de Ger...   \n",
       "28564  1040952020990128129  Veja o que é #FATO ou #FAKE na entrevista de F...   \n",
       "66221  1040952020990128129  Veja o que é #FATO ou #FAKE na entrevista de F...   \n",
       "4777   1042890896163790848  Veja o que é #FATO ou #FAKE na entrevista de F...   \n",
       "39007  1042890896163790848  Veja o que é #FATO ou #FAKE na entrevista de F...   \n",
       "87130  1043522812634267648  Veja o que é #FATO ou #FAKE na entrevista de M...   \n",
       "65328  1043522812634267648  Veja o que é #FATO ou #FAKE na entrevista de M...   \n",
       "48967  1050747512179576834  era para ser somente algo normal, sem perceber...   \n",
       "34464  1050747512179576834  era para ser somente algo normal, sem perceber...   \n",
       "\n",
       "                           tweet_date  sentiment    query_used  \n",
       "39184  Tue Sep 04 21:00:01 +0000 2018          2         #fato  \n",
       "38913  Tue Sep 04 21:00:01 +0000 2018          2  jornaloglobo  \n",
       "35012  Thu Sep 06 23:00:01 +0000 2018          2         #fato  \n",
       "20226  Thu Sep 06 23:00:01 +0000 2018          2  jornaloglobo  \n",
       "39324  Sat Sep 08 00:30:00 +0000 2018          2  jornaloglobo  \n",
       "83565  Sat Sep 08 00:30:00 +0000 2018          2         #fato  \n",
       "69100  Sat Sep 08 18:29:00 +0000 2018          2         #fato  \n",
       "35849  Sat Sep 08 18:29:00 +0000 2018          2  jornaloglobo  \n",
       "62236  Sat Sep 08 23:30:00 +0000 2018          2         #fato  \n",
       "93665  Sat Sep 08 23:30:00 +0000 2018          2  jornaloglobo  \n",
       "21547  Tue Sep 11 02:03:50 +0000 2018          2  jornaloglobo  \n",
       "56550  Tue Sep 11 02:03:50 +0000 2018          2         #fato  \n",
       "17419  Tue Sep 11 20:50:00 +0000 2018          2  jornaloglobo  \n",
       "42936  Tue Sep 11 20:50:00 +0000 2018          2         #fato  \n",
       "18026  Wed Sep 12 21:20:00 +0000 2018          2         #fato  \n",
       "68291  Wed Sep 12 21:20:00 +0000 2018          2  jornaloglobo  \n",
       "30744  Thu Sep 13 23:10:00 +0000 2018          2         #fato  \n",
       "32410  Thu Sep 13 23:10:00 +0000 2018          2  jornaloglobo  \n",
       "28564  Sat Sep 15 13:14:36 +0000 2018          2         #fato  \n",
       "66221  Sat Sep 15 13:14:36 +0000 2018          2  jornaloglobo  \n",
       "4777   Thu Sep 20 21:39:00 +0000 2018          2  jornaloglobo  \n",
       "39007  Thu Sep 20 21:39:00 +0000 2018          2         #fato  \n",
       "87130  Sat Sep 22 15:30:00 +0000 2018          2         #fato  \n",
       "65328  Sat Sep 22 15:30:00 +0000 2018          2  jornaloglobo  \n",
       "48967  Fri Oct 12 13:58:23 +0000 2018          1            :)  \n",
       "34464  Fri Oct 12 13:58:23 +0000 2018          2     #trabalho  "
      ]
     },
     "execution_count": 6,
     "metadata": {},
     "output_type": "execute_result"
    }
   ],
   "source": [
    "#verificando se tem algum id duplicado\n",
    "df[df.duplicated('id',keep=False)].sort_values('id')"
   ]
  },
  {
   "cell_type": "code",
   "execution_count": 7,
   "metadata": {
    "ExecuteTime": {
     "end_time": "2022-03-24T13:28:05.293525Z",
     "start_time": "2022-03-24T13:28:05.280586Z"
    }
   },
   "outputs": [
    {
     "data": {
      "text/html": [
       "<div>\n",
       "<style scoped>\n",
       "    .dataframe tbody tr th:only-of-type {\n",
       "        vertical-align: middle;\n",
       "    }\n",
       "\n",
       "    .dataframe tbody tr th {\n",
       "        vertical-align: top;\n",
       "    }\n",
       "\n",
       "    .dataframe thead th {\n",
       "        text-align: right;\n",
       "    }\n",
       "</style>\n",
       "<table border=\"1\" class=\"dataframe\">\n",
       "  <thead>\n",
       "    <tr style=\"text-align: right;\">\n",
       "      <th></th>\n",
       "      <th>id</th>\n",
       "      <th>tweet_text</th>\n",
       "      <th>tweet_date</th>\n",
       "      <th>sentiment</th>\n",
       "      <th>query_used</th>\n",
       "    </tr>\n",
       "  </thead>\n",
       "  <tbody>\n",
       "    <tr>\n",
       "      <th>34464</th>\n",
       "      <td>1050747512179576834</td>\n",
       "      <td>era para ser somente algo normal, sem perceber...</td>\n",
       "      <td>Fri Oct 12 13:58:23 +0000 2018</td>\n",
       "      <td>2</td>\n",
       "      <td>#trabalho</td>\n",
       "    </tr>\n",
       "    <tr>\n",
       "      <th>48967</th>\n",
       "      <td>1050747512179576834</td>\n",
       "      <td>era para ser somente algo normal, sem perceber...</td>\n",
       "      <td>Fri Oct 12 13:58:23 +0000 2018</td>\n",
       "      <td>1</td>\n",
       "      <td>:)</td>\n",
       "    </tr>\n",
       "  </tbody>\n",
       "</table>\n",
       "</div>"
      ],
      "text/plain": [
       "                        id                                         tweet_text  \\\n",
       "34464  1050747512179576834  era para ser somente algo normal, sem perceber...   \n",
       "48967  1050747512179576834  era para ser somente algo normal, sem perceber...   \n",
       "\n",
       "                           tweet_date  sentiment query_used  \n",
       "34464  Fri Oct 12 13:58:23 +0000 2018          2  #trabalho  \n",
       "48967  Fri Oct 12 13:58:23 +0000 2018          1         :)  "
      ]
     },
     "execution_count": 7,
     "metadata": {},
     "output_type": "execute_result"
    }
   ],
   "source": [
    "df[df['id']==1050747512179576834]"
   ]
  },
  {
   "cell_type": "code",
   "execution_count": 8,
   "metadata": {
    "ExecuteTime": {
     "end_time": "2022-03-24T13:28:05.325440Z",
     "start_time": "2022-03-24T13:28:05.296516Z"
    }
   },
   "outputs": [],
   "source": [
    "#dropando os duplicados\n",
    "df.drop_duplicates('id',inplace=True, ignore_index=True)"
   ]
  },
  {
   "cell_type": "code",
   "execution_count": 9,
   "metadata": {
    "ExecuteTime": {
     "end_time": "2022-03-24T13:28:05.450107Z",
     "start_time": "2022-03-24T13:28:05.327435Z"
    },
    "scrolled": true
   },
   "outputs": [
    {
     "data": {
      "text/html": [
       "<div>\n",
       "<style scoped>\n",
       "    .dataframe tbody tr th:only-of-type {\n",
       "        vertical-align: middle;\n",
       "    }\n",
       "\n",
       "    .dataframe tbody tr th {\n",
       "        vertical-align: top;\n",
       "    }\n",
       "\n",
       "    .dataframe thead th {\n",
       "        text-align: right;\n",
       "    }\n",
       "</style>\n",
       "<table border=\"1\" class=\"dataframe\">\n",
       "  <thead>\n",
       "    <tr style=\"text-align: right;\">\n",
       "      <th></th>\n",
       "      <th>id</th>\n",
       "      <th>tweet_text</th>\n",
       "      <th>tweet_date</th>\n",
       "      <th>sentiment</th>\n",
       "      <th>query_used</th>\n",
       "    </tr>\n",
       "  </thead>\n",
       "  <tbody>\n",
       "    <tr>\n",
       "      <th>17965</th>\n",
       "      <td>1045342307073966080</td>\n",
       "      <td>Dólar caiu :) - R$4,00 às 12:50</td>\n",
       "      <td>Thu Sep 27 16:00:02 +0000 2018</td>\n",
       "      <td>1</td>\n",
       "      <td>:)</td>\n",
       "    </tr>\n",
       "    <tr>\n",
       "      <th>49471</th>\n",
       "      <td>1045372511704080384</td>\n",
       "      <td>Dólar caiu :) - R$4,01 às 14:49</td>\n",
       "      <td>Thu Sep 27 18:00:03 +0000 2018</td>\n",
       "      <td>1</td>\n",
       "      <td>:)</td>\n",
       "    </tr>\n",
       "    <tr>\n",
       "      <th>50498</th>\n",
       "      <td>1049295226605645824</td>\n",
       "      <td>bar :( : d35a805e-1a31-4b08-8341-728a704e2841</td>\n",
       "      <td>Mon Oct 08 13:47:31 +0000 2018</td>\n",
       "      <td>0</td>\n",
       "      <td>:(</td>\n",
       "    </tr>\n",
       "    <tr>\n",
       "      <th>52542</th>\n",
       "      <td>1045334760774496256</td>\n",
       "      <td>Dólar caiu :) - R$3,99 às 12:20</td>\n",
       "      <td>Thu Sep 27 15:30:03 +0000 2018</td>\n",
       "      <td>1</td>\n",
       "      <td>:)</td>\n",
       "    </tr>\n",
       "    <tr>\n",
       "      <th>59698</th>\n",
       "      <td>1046710262391349248</td>\n",
       "      <td>bar :( : e439def0-4d0c-4159-bffa-3b5363f0fff6</td>\n",
       "      <td>Mon Oct 01 10:35:48 +0000 2018</td>\n",
       "      <td>0</td>\n",
       "      <td>:(</td>\n",
       "    </tr>\n",
       "    <tr>\n",
       "      <th>63061</th>\n",
       "      <td>1047561933514129408</td>\n",
       "      <td>Dólar caiu :) - R$3,89 às 15:50</td>\n",
       "      <td>Wed Oct 03 19:00:02 +0000 2018</td>\n",
       "      <td>1</td>\n",
       "      <td>:)</td>\n",
       "    </tr>\n",
       "    <tr>\n",
       "      <th>66829</th>\n",
       "      <td>1046795634773127168</td>\n",
       "      <td>Dólar subiu :( - R$4,01 às 13:09</td>\n",
       "      <td>Mon Oct 01 16:15:02 +0000 2018</td>\n",
       "      <td>0</td>\n",
       "      <td>:(</td>\n",
       "    </tr>\n",
       "    <tr>\n",
       "      <th>67044</th>\n",
       "      <td>1049271951015833600</td>\n",
       "      <td>Dólar caiu :) - R$3,74 às 09:09</td>\n",
       "      <td>Mon Oct 08 12:15:02 +0000 2018</td>\n",
       "      <td>1</td>\n",
       "      <td>:)</td>\n",
       "    </tr>\n",
       "    <tr>\n",
       "      <th>70719</th>\n",
       "      <td>1047493988381388800</td>\n",
       "      <td>Dólar caiu :) - R$3,84 às 11:20</td>\n",
       "      <td>Wed Oct 03 14:30:02 +0000 2018</td>\n",
       "      <td>1</td>\n",
       "      <td>:)</td>\n",
       "    </tr>\n",
       "    <tr>\n",
       "      <th>74556</th>\n",
       "      <td>1049283280166510593</td>\n",
       "      <td>Dólar subiu :( - R$3,74 às 09:50</td>\n",
       "      <td>Mon Oct 08 13:00:03 +0000 2018</td>\n",
       "      <td>0</td>\n",
       "      <td>:(</td>\n",
       "    </tr>\n",
       "    <tr>\n",
       "      <th>76937</th>\n",
       "      <td>1046791862063775744</td>\n",
       "      <td>Dólar caiu :) - R$4,00 às 12:50</td>\n",
       "      <td>Mon Oct 01 16:00:03 +0000 2018</td>\n",
       "      <td>1</td>\n",
       "      <td>:)</td>\n",
       "    </tr>\n",
       "  </tbody>\n",
       "</table>\n",
       "</div>"
      ],
      "text/plain": [
       "                        id                                     tweet_text  \\\n",
       "17965  1045342307073966080                Dólar caiu :) - R$4,00 às 12:50   \n",
       "49471  1045372511704080384                Dólar caiu :) - R$4,01 às 14:49   \n",
       "50498  1049295226605645824  bar :( : d35a805e-1a31-4b08-8341-728a704e2841   \n",
       "52542  1045334760774496256                Dólar caiu :) - R$3,99 às 12:20   \n",
       "59698  1046710262391349248  bar :( : e439def0-4d0c-4159-bffa-3b5363f0fff6   \n",
       "63061  1047561933514129408                Dólar caiu :) - R$3,89 às 15:50   \n",
       "66829  1046795634773127168               Dólar subiu :( - R$4,01 às 13:09   \n",
       "67044  1049271951015833600                Dólar caiu :) - R$3,74 às 09:09   \n",
       "70719  1047493988381388800                Dólar caiu :) - R$3,84 às 11:20   \n",
       "74556  1049283280166510593               Dólar subiu :( - R$3,74 às 09:50   \n",
       "76937  1046791862063775744                Dólar caiu :) - R$4,00 às 12:50   \n",
       "\n",
       "                           tweet_date  sentiment query_used  \n",
       "17965  Thu Sep 27 16:00:02 +0000 2018          1         :)  \n",
       "49471  Thu Sep 27 18:00:03 +0000 2018          1         :)  \n",
       "50498  Mon Oct 08 13:47:31 +0000 2018          0         :(  \n",
       "52542  Thu Sep 27 15:30:03 +0000 2018          1         :)  \n",
       "59698  Mon Oct 01 10:35:48 +0000 2018          0         :(  \n",
       "63061  Wed Oct 03 19:00:02 +0000 2018          1         :)  \n",
       "66829  Mon Oct 01 16:15:02 +0000 2018          0         :(  \n",
       "67044  Mon Oct 08 12:15:02 +0000 2018          1         :)  \n",
       "70719  Wed Oct 03 14:30:02 +0000 2018          1         :)  \n",
       "74556  Mon Oct 08 13:00:03 +0000 2018          0         :(  \n",
       "76937  Mon Oct 01 16:00:03 +0000 2018          1         :)  "
      ]
     },
     "execution_count": 9,
     "metadata": {},
     "output_type": "execute_result"
    }
   ],
   "source": [
    "df[df.duplicated(['tweet_text','tweet_date'])]"
   ]
  },
  {
   "cell_type": "code",
   "execution_count": 10,
   "metadata": {
    "ExecuteTime": {
     "end_time": "2022-03-24T13:28:05.543888Z",
     "start_time": "2022-03-24T13:28:05.452103Z"
    }
   },
   "outputs": [],
   "source": [
    "df.drop_duplicates(['tweet_text','tweet_date'],inplace=True, ignore_index=True)"
   ]
  },
  {
   "cell_type": "markdown",
   "metadata": {
    "ExecuteTime": {
     "end_time": "2022-03-01T15:24:19.632043Z",
     "start_time": "2022-03-01T15:24:19.542238Z"
    }
   },
   "source": [
    "## EDA"
   ]
  },
  {
   "cell_type": "code",
   "execution_count": 11,
   "metadata": {
    "ExecuteTime": {
     "end_time": "2022-03-24T13:28:05.558854Z",
     "start_time": "2022-03-24T13:28:05.545849Z"
    }
   },
   "outputs": [
    {
     "data": {
      "text/plain": [
       "sentiment\n",
       "0    31692\n",
       "1    31670\n",
       "2    31614\n",
       "dtype: int64"
      ]
     },
     "execution_count": 11,
     "metadata": {},
     "output_type": "execute_result"
    }
   ],
   "source": [
    "df.value_counts('sentiment')"
   ]
  },
  {
   "cell_type": "code",
   "execution_count": 12,
   "metadata": {
    "ExecuteTime": {
     "end_time": "2022-03-24T13:28:06.175166Z",
     "start_time": "2022-03-24T13:28:05.560809Z"
    }
   },
   "outputs": [
    {
     "data": {
      "text/plain": [
       "<seaborn.axisgrid.FacetGrid at 0x1c6cf177eb0>"
      ]
     },
     "execution_count": 12,
     "metadata": {},
     "output_type": "execute_result"
    },
    {
     "data": {
      "image/png": "[encoded data removed]",
      "text/plain": [
       "<Figure size 1210.5x576 with 1 Axes>"
      ]
     },
     "metadata": {
      "needs_background": "light"
     },
     "output_type": "display_data"
    }
   ],
   "source": [
    "sns.catplot(x='query_used',kind='count', hue='sentiment', data=df, height=8, aspect=16/8)"
   ]
  },
  {
   "cell_type": "markdown",
   "metadata": {},
   "source": [
    "apenas :) tem sentiment = 1 e :( tem sentiment = 0"
   ]
  },
  {
   "cell_type": "code",
   "execution_count": 13,
   "metadata": {
    "ExecuteTime": {
     "end_time": "2022-03-24T13:28:06.252991Z",
     "start_time": "2022-03-24T13:28:06.177162Z"
    },
    "scrolled": true
   },
   "outputs": [
    {
     "data": {
      "text/html": [
       "<div>\n",
       "<style scoped>\n",
       "    .dataframe tbody tr th:only-of-type {\n",
       "        vertical-align: middle;\n",
       "    }\n",
       "\n",
       "    .dataframe tbody tr th {\n",
       "        vertical-align: top;\n",
       "    }\n",
       "\n",
       "    .dataframe thead th {\n",
       "        text-align: right;\n",
       "    }\n",
       "</style>\n",
       "<table border=\"1\" class=\"dataframe\">\n",
       "  <thead>\n",
       "    <tr style=\"text-align: right;\">\n",
       "      <th></th>\n",
       "      <th>id</th>\n",
       "      <th>tweet_text</th>\n",
       "      <th>tweet_date</th>\n",
       "      <th>sentiment</th>\n",
       "      <th>query_used</th>\n",
       "    </tr>\n",
       "  </thead>\n",
       "  <tbody>\n",
       "    <tr>\n",
       "      <th>39378</th>\n",
       "      <td>1049701870124584961</td>\n",
       "      <td>\"Em recuperação judicial, Eternit vê receita c...</td>\n",
       "      <td>Tue Oct 09 16:43:23 +0000 2018</td>\n",
       "      <td>2</td>\n",
       "      <td>#trabalho</td>\n",
       "    </tr>\n",
       "    <tr>\n",
       "      <th>74323</th>\n",
       "      <td>1049661470877908992</td>\n",
       "      <td>\"Em recuperação judicial, Eternit vê receita c...</td>\n",
       "      <td>Tue Oct 09 14:02:51 +0000 2018</td>\n",
       "      <td>2</td>\n",
       "      <td>#trabalho</td>\n",
       "    </tr>\n",
       "    <tr>\n",
       "      <th>26626</th>\n",
       "      <td>1049314705863598080</td>\n",
       "      <td>#CulturalSpam serale... #notizie #curiose, #in...</td>\n",
       "      <td>Mon Oct 08 15:04:55 +0000 2018</td>\n",
       "      <td>1</td>\n",
       "      <td>:)</td>\n",
       "    </tr>\n",
       "    <tr>\n",
       "      <th>36588</th>\n",
       "      <td>1045363120120745984</td>\n",
       "      <td>#CulturalSpam serale... #notizie #curiose, #in...</td>\n",
       "      <td>Thu Sep 27 17:22:44 +0000 2018</td>\n",
       "      <td>1</td>\n",
       "      <td>:)</td>\n",
       "    </tr>\n",
       "    <tr>\n",
       "      <th>21986</th>\n",
       "      <td>1050748068050677761</td>\n",
       "      <td>#FollowFriday Todos os meus seguidores. :) #ff</td>\n",
       "      <td>Fri Oct 12 14:00:36 +0000 2018</td>\n",
       "      <td>1</td>\n",
       "      <td>:)</td>\n",
       "    </tr>\n",
       "    <tr>\n",
       "      <th>...</th>\n",
       "      <td>...</td>\n",
       "      <td>...</td>\n",
       "      <td>...</td>\n",
       "      <td>...</td>\n",
       "      <td>...</td>\n",
       "    </tr>\n",
       "    <tr>\n",
       "      <th>15184</th>\n",
       "      <td>1049312016803028992</td>\n",
       "      <td>voltei :)</td>\n",
       "      <td>Mon Oct 08 14:54:14 +0000 2018</td>\n",
       "      <td>1</td>\n",
       "      <td>:)</td>\n",
       "    </tr>\n",
       "    <tr>\n",
       "      <th>89175</th>\n",
       "      <td>1046657747306127360</td>\n",
       "      <td>vou tentar dormir :(</td>\n",
       "      <td>Mon Oct 01 07:07:07 +0000 2018</td>\n",
       "      <td>0</td>\n",
       "      <td>:(</td>\n",
       "    </tr>\n",
       "    <tr>\n",
       "      <th>59232</th>\n",
       "      <td>1049173804612800514</td>\n",
       "      <td>vou tentar dormir :(</td>\n",
       "      <td>Mon Oct 08 05:45:02 +0000 2018</td>\n",
       "      <td>0</td>\n",
       "      <td>:(</td>\n",
       "    </tr>\n",
       "    <tr>\n",
       "      <th>7137</th>\n",
       "      <td>1043907817550295043</td>\n",
       "      <td>😱NOVOS FILMES E SÉRIES ESTÃO CHEGANDO NA NETFL...</td>\n",
       "      <td>Sun Sep 23 16:59:53 +0000 2018</td>\n",
       "      <td>2</td>\n",
       "      <td>#noticia</td>\n",
       "    </tr>\n",
       "    <tr>\n",
       "      <th>61082</th>\n",
       "      <td>1043909701140959232</td>\n",
       "      <td>😱NOVOS FILMES E SÉRIES ESTÃO CHEGANDO NA NETFL...</td>\n",
       "      <td>Sun Sep 23 17:07:22 +0000 2018</td>\n",
       "      <td>2</td>\n",
       "      <td>#noticia</td>\n",
       "    </tr>\n",
       "  </tbody>\n",
       "</table>\n",
       "<p>1257 rows × 5 columns</p>\n",
       "</div>"
      ],
      "text/plain": [
       "                        id                                         tweet_text  \\\n",
       "39378  1049701870124584961  \"Em recuperação judicial, Eternit vê receita c...   \n",
       "74323  1049661470877908992  \"Em recuperação judicial, Eternit vê receita c...   \n",
       "26626  1049314705863598080  #CulturalSpam serale... #notizie #curiose, #in...   \n",
       "36588  1045363120120745984  #CulturalSpam serale... #notizie #curiose, #in...   \n",
       "21986  1050748068050677761     #FollowFriday Todos os meus seguidores. :) #ff   \n",
       "...                    ...                                                ...   \n",
       "15184  1049312016803028992                                          voltei :)   \n",
       "89175  1046657747306127360                               vou tentar dormir :(   \n",
       "59232  1049173804612800514                               vou tentar dormir :(   \n",
       "7137   1043907817550295043  😱NOVOS FILMES E SÉRIES ESTÃO CHEGANDO NA NETFL...   \n",
       "61082  1043909701140959232  😱NOVOS FILMES E SÉRIES ESTÃO CHEGANDO NA NETFL...   \n",
       "\n",
       "                           tweet_date  sentiment query_used  \n",
       "39378  Tue Oct 09 16:43:23 +0000 2018          2  #trabalho  \n",
       "74323  Tue Oct 09 14:02:51 +0000 2018          2  #trabalho  \n",
       "26626  Mon Oct 08 15:04:55 +0000 2018          1         :)  \n",
       "36588  Thu Sep 27 17:22:44 +0000 2018          1         :)  \n",
       "21986  Fri Oct 12 14:00:36 +0000 2018          1         :)  \n",
       "...                               ...        ...        ...  \n",
       "15184  Mon Oct 08 14:54:14 +0000 2018          1         :)  \n",
       "89175  Mon Oct 01 07:07:07 +0000 2018          0         :(  \n",
       "59232  Mon Oct 08 05:45:02 +0000 2018          0         :(  \n",
       "7137   Sun Sep 23 16:59:53 +0000 2018          2   #noticia  \n",
       "61082  Sun Sep 23 17:07:22 +0000 2018          2   #noticia  \n",
       "\n",
       "[1257 rows x 5 columns]"
      ]
     },
     "execution_count": 13,
     "metadata": {},
     "output_type": "execute_result"
    }
   ],
   "source": [
    "df[df.duplicated(['tweet_text'], keep=False)].sort_values('tweet_text')"
   ]
  },
  {
   "cell_type": "code",
   "execution_count": 14,
   "metadata": {
    "ExecuteTime": {
     "end_time": "2022-03-24T13:28:06.268915Z",
     "start_time": "2022-03-24T13:28:06.254966Z"
    }
   },
   "outputs": [
    {
     "data": {
      "text/html": [
       "<div>\n",
       "<style scoped>\n",
       "    .dataframe tbody tr th:only-of-type {\n",
       "        vertical-align: middle;\n",
       "    }\n",
       "\n",
       "    .dataframe tbody tr th {\n",
       "        vertical-align: top;\n",
       "    }\n",
       "\n",
       "    .dataframe thead th {\n",
       "        text-align: right;\n",
       "    }\n",
       "</style>\n",
       "<table border=\"1\" class=\"dataframe\">\n",
       "  <thead>\n",
       "    <tr style=\"text-align: right;\">\n",
       "      <th></th>\n",
       "      <th>id</th>\n",
       "      <th>tweet_text</th>\n",
       "      <th>tweet_date</th>\n",
       "      <th>sentiment</th>\n",
       "      <th>query_used</th>\n",
       "    </tr>\n",
       "  </thead>\n",
       "  <tbody>\n",
       "    <tr>\n",
       "      <th>0</th>\n",
       "      <td>1049721159292346368</td>\n",
       "      <td>Rio elege maior bancada policial de sua histór...</td>\n",
       "      <td>Tue Oct 09 18:00:01 +0000 2018</td>\n",
       "      <td>2</td>\n",
       "      <td>folha</td>\n",
       "    </tr>\n",
       "    <tr>\n",
       "      <th>1</th>\n",
       "      <td>1046251157025423360</td>\n",
       "      <td>fiquei tão triste quando eu vi o preço da câme...</td>\n",
       "      <td>Sun Sep 30 04:11:28 +0000 2018</td>\n",
       "      <td>0</td>\n",
       "      <td>:(</td>\n",
       "    </tr>\n",
       "    <tr>\n",
       "      <th>2</th>\n",
       "      <td>1041744620206653440</td>\n",
       "      <td>Para Theresa May, seu plano para o Brexit é a ...</td>\n",
       "      <td>Mon Sep 17 17:44:06 +0000 2018</td>\n",
       "      <td>2</td>\n",
       "      <td>exame</td>\n",
       "    </tr>\n",
       "    <tr>\n",
       "      <th>3</th>\n",
       "      <td>1046937084727107589</td>\n",
       "      <td>caralho eu quero proteger a danielly em um pot...</td>\n",
       "      <td>Tue Oct 02 01:37:06 +0000 2018</td>\n",
       "      <td>0</td>\n",
       "      <td>:(</td>\n",
       "    </tr>\n",
       "    <tr>\n",
       "      <th>4</th>\n",
       "      <td>1047326854229778432</td>\n",
       "      <td>@SiCaetano_ viva o caos :)</td>\n",
       "      <td>Wed Oct 03 03:25:55 +0000 2018</td>\n",
       "      <td>1</td>\n",
       "      <td>:)</td>\n",
       "    </tr>\n",
       "    <tr>\n",
       "      <th>...</th>\n",
       "      <td>...</td>\n",
       "      <td>...</td>\n",
       "      <td>...</td>\n",
       "      <td>...</td>\n",
       "      <td>...</td>\n",
       "    </tr>\n",
       "    <tr>\n",
       "      <th>94971</th>\n",
       "      <td>1041831666883321856</td>\n",
       "      <td>Cuba e defensor de direitos humanos se unem co...</td>\n",
       "      <td>Mon Sep 17 23:30:00 +0000 2018</td>\n",
       "      <td>2</td>\n",
       "      <td>jornaloglobo</td>\n",
       "    </tr>\n",
       "    <tr>\n",
       "      <th>94972</th>\n",
       "      <td>1032352892194369536</td>\n",
       "      <td>#Oportunidade ➡️ Venha fazer parte da nossa eq...</td>\n",
       "      <td>Wed Aug 22 19:44:44 +0000 2018</td>\n",
       "      <td>2</td>\n",
       "      <td>#oportunidade</td>\n",
       "    </tr>\n",
       "    <tr>\n",
       "      <th>94973</th>\n",
       "      <td>1046785538542440448</td>\n",
       "      <td>@96syoo EU SEI 😭😭 é por isso que significa mui...</td>\n",
       "      <td>Mon Oct 01 15:34:55 +0000 2018</td>\n",
       "      <td>0</td>\n",
       "      <td>:(</td>\n",
       "    </tr>\n",
       "    <tr>\n",
       "      <th>94974</th>\n",
       "      <td>1045457469110177792</td>\n",
       "      <td>@louistsexhes N te conheço mas posta :D</td>\n",
       "      <td>Thu Sep 27 23:37:38 +0000 2018</td>\n",
       "      <td>1</td>\n",
       "      <td>:)</td>\n",
       "    </tr>\n",
       "    <tr>\n",
       "      <th>94975</th>\n",
       "      <td>1046239135286136832</td>\n",
       "      <td>meu deus :( https://t.co/BlXazxZeKq</td>\n",
       "      <td>Sun Sep 30 03:23:42 +0000 2018</td>\n",
       "      <td>0</td>\n",
       "      <td>:(</td>\n",
       "    </tr>\n",
       "  </tbody>\n",
       "</table>\n",
       "<p>94976 rows × 5 columns</p>\n",
       "</div>"
      ],
      "text/plain": [
       "                        id                                         tweet_text  \\\n",
       "0      1049721159292346368  Rio elege maior bancada policial de sua histór...   \n",
       "1      1046251157025423360  fiquei tão triste quando eu vi o preço da câme...   \n",
       "2      1041744620206653440  Para Theresa May, seu plano para o Brexit é a ...   \n",
       "3      1046937084727107589  caralho eu quero proteger a danielly em um pot...   \n",
       "4      1047326854229778432                         @SiCaetano_ viva o caos :)   \n",
       "...                    ...                                                ...   \n",
       "94971  1041831666883321856  Cuba e defensor de direitos humanos se unem co...   \n",
       "94972  1032352892194369536  #Oportunidade ➡️ Venha fazer parte da nossa eq...   \n",
       "94973  1046785538542440448  @96syoo EU SEI 😭😭 é por isso que significa mui...   \n",
       "94974  1045457469110177792            @louistsexhes N te conheço mas posta :D   \n",
       "94975  1046239135286136832                meu deus :( https://t.co/BlXazxZeKq   \n",
       "\n",
       "                           tweet_date  sentiment     query_used  \n",
       "0      Tue Oct 09 18:00:01 +0000 2018          2          folha  \n",
       "1      Sun Sep 30 04:11:28 +0000 2018          0             :(  \n",
       "2      Mon Sep 17 17:44:06 +0000 2018          2          exame  \n",
       "3      Tue Oct 02 01:37:06 +0000 2018          0             :(  \n",
       "4      Wed Oct 03 03:25:55 +0000 2018          1             :)  \n",
       "...                               ...        ...            ...  \n",
       "94971  Mon Sep 17 23:30:00 +0000 2018          2   jornaloglobo  \n",
       "94972  Wed Aug 22 19:44:44 +0000 2018          2  #oportunidade  \n",
       "94973  Mon Oct 01 15:34:55 +0000 2018          0             :(  \n",
       "94974  Thu Sep 27 23:37:38 +0000 2018          1             :)  \n",
       "94975  Sun Sep 30 03:23:42 +0000 2018          0             :(  \n",
       "\n",
       "[94976 rows x 5 columns]"
      ]
     },
     "execution_count": 14,
     "metadata": {},
     "output_type": "execute_result"
    }
   ],
   "source": [
    "df"
   ]
  },
  {
   "cell_type": "markdown",
   "metadata": {},
   "source": [
    "## Pré-processamento e transformações"
   ]
  },
  {
   "cell_type": "markdown",
   "metadata": {},
   "source": [
    "### Limpeza e lemmatização"
   ]
  },
  {
   "cell_type": "code",
   "execution_count": 15,
   "metadata": {
    "ExecuteTime": {
     "end_time": "2022-03-24T13:28:09.978542Z",
     "start_time": "2022-03-24T13:28:06.270910Z"
    }
   },
   "outputs": [],
   "source": [
    "nlp = spacy.load(\"pt_core_news_lg\")\n",
    "def preprocessamento_texto(text, stopwords):\n",
    "    \n",
    "    # Colocando todas as letras do texto em caixa baixa:\n",
    "    text = text.lower()\n",
    "    # Excluindo citações com @:\n",
    "    text = re.sub('@[^\\s]+', '', text)\n",
    "    # Excluindo acentuação das palavras:\n",
    "    text = unidecode(text)\n",
    "    # Excluindo html tags, como <strong></strong>:\n",
    "    text = re.sub('<[^<]+?>','', text)\n",
    "    #Removendo todos os sorrisos\n",
    "    text = text.replace(':d','')\n",
    "    text = text.replace(':(','')\n",
    "    text = text.replace(':)','')\n",
    "    text = text.replace(':p','')\n",
    "    # Excluindo os números:\n",
    "    text = ''.join(c for c in text if not c.isdigit())\n",
    "    # Excluindo URL's:\n",
    "    text = re.sub('((www\\.[^\\s]+)|(https?://[^\\s]+)|(http?://[^\\s]+))', '', text)\n",
    "    # Excluindo pontuação:\n",
    "    text = ''.join(c for c in text if c not in punctuation)  \n",
    "    \n",
    "    #Tokenizando\n",
    "    doc = nlp(text)\n",
    "    #Removendo as stopwords:\n",
    "    text = [word for word in doc if word.text not in stopwords]\n",
    "    #Removendo palavras que não tem lemma\n",
    "    text = [word.lemma_.strip() for word in text]\n",
    "    #Removendo elementos vazio \n",
    "    text = [word for word in text if word != '']\n",
    "    return text"
   ]
  },
  {
   "cell_type": "code",
   "execution_count": 16,
   "metadata": {
    "ExecuteTime": {
     "end_time": "2022-03-24T13:28:09.994498Z",
     "start_time": "2022-03-24T13:28:09.980535Z"
    }
   },
   "outputs": [],
   "source": [
    "sw = list(set(stopwords.words('portuguese') + list(STOP_WORDS)))"
   ]
  },
  {
   "cell_type": "code",
   "execution_count": 17,
   "metadata": {
    "ExecuteTime": {
     "end_time": "2022-03-24T13:38:02.457794Z",
     "start_time": "2022-03-24T13:28:09.996495Z"
    }
   },
   "outputs": [],
   "source": [
    "df[\"filtered_words\"] = df['tweet_text'].apply(lambda x: preprocessamento_texto(x,sw))\n",
    "\n",
    "#juntamos as palavras novamente em uma só string\n",
    "\n",
    "df['join_words'] = df['filtered_words'].apply(lambda x: ' '.join(x))"
   ]
  },
  {
   "cell_type": "code",
   "execution_count": 18,
   "metadata": {
    "ExecuteTime": {
     "end_time": "2022-03-24T13:38:02.489676Z",
     "start_time": "2022-03-24T13:38:02.459791Z"
    },
    "scrolled": true
   },
   "outputs": [
    {
     "data": {
      "text/html": [
       "<div>\n",
       "<style scoped>\n",
       "    .dataframe tbody tr th:only-of-type {\n",
       "        vertical-align: middle;\n",
       "    }\n",
       "\n",
       "    .dataframe tbody tr th {\n",
       "        vertical-align: top;\n",
       "    }\n",
       "\n",
       "    .dataframe thead th {\n",
       "        text-align: right;\n",
       "    }\n",
       "</style>\n",
       "<table border=\"1\" class=\"dataframe\">\n",
       "  <thead>\n",
       "    <tr style=\"text-align: right;\">\n",
       "      <th></th>\n",
       "      <th>id</th>\n",
       "      <th>tweet_text</th>\n",
       "      <th>tweet_date</th>\n",
       "      <th>sentiment</th>\n",
       "      <th>query_used</th>\n",
       "      <th>filtered_words</th>\n",
       "      <th>join_words</th>\n",
       "    </tr>\n",
       "  </thead>\n",
       "  <tbody>\n",
       "    <tr>\n",
       "      <th>0</th>\n",
       "      <td>1049721159292346368</td>\n",
       "      <td>Rio elege maior bancada policial de sua histór...</td>\n",
       "      <td>Tue Oct 09 18:00:01 +0000 2018</td>\n",
       "      <td>2</td>\n",
       "      <td>folha</td>\n",
       "      <td>[rir, eleger, bancada, policial, historiar]</td>\n",
       "      <td>rir eleger bancada policial historiar</td>\n",
       "    </tr>\n",
       "    <tr>\n",
       "      <th>1</th>\n",
       "      <td>1046251157025423360</td>\n",
       "      <td>fiquei tão triste quando eu vi o preço da câme...</td>\n",
       "      <td>Sun Sep 30 04:11:28 +0000 2018</td>\n",
       "      <td>0</td>\n",
       "      <td>:(</td>\n",
       "      <td>[ficar, tao, triste, vir, preco, camera]</td>\n",
       "      <td>ficar tao triste vir preco camera</td>\n",
       "    </tr>\n",
       "    <tr>\n",
       "      <th>2</th>\n",
       "      <td>1041744620206653440</td>\n",
       "      <td>Para Theresa May, seu plano para o Brexit é a ...</td>\n",
       "      <td>Mon Sep 17 17:44:06 +0000 2018</td>\n",
       "      <td>2</td>\n",
       "      <td>exame</td>\n",
       "      <td>[theresa, may, planar, brexit, unica, opcao]</td>\n",
       "      <td>theresa may planar brexit unica opcao</td>\n",
       "    </tr>\n",
       "    <tr>\n",
       "      <th>3</th>\n",
       "      <td>1046937084727107589</td>\n",
       "      <td>caralho eu quero proteger a danielly em um pot...</td>\n",
       "      <td>Tue Oct 02 01:37:06 +0000 2018</td>\n",
       "      <td>0</td>\n",
       "      <td>:(</td>\n",
       "      <td>[caralho, proteger, danielly, pote, tadinhaa]</td>\n",
       "      <td>caralho proteger danielly pote tadinhaa</td>\n",
       "    </tr>\n",
       "    <tr>\n",
       "      <th>4</th>\n",
       "      <td>1047326854229778432</td>\n",
       "      <td>@SiCaetano_ viva o caos :)</td>\n",
       "      <td>Wed Oct 03 03:25:55 +0000 2018</td>\n",
       "      <td>1</td>\n",
       "      <td>:)</td>\n",
       "      <td>[vivo, caos]</td>\n",
       "      <td>vivo caos</td>\n",
       "    </tr>\n",
       "    <tr>\n",
       "      <th>...</th>\n",
       "      <td>...</td>\n",
       "      <td>...</td>\n",
       "      <td>...</td>\n",
       "      <td>...</td>\n",
       "      <td>...</td>\n",
       "      <td>...</td>\n",
       "      <td>...</td>\n",
       "    </tr>\n",
       "    <tr>\n",
       "      <th>94971</th>\n",
       "      <td>1041831666883321856</td>\n",
       "      <td>Cuba e defensor de direitos humanos se unem co...</td>\n",
       "      <td>Mon Sep 17 23:30:00 +0000 2018</td>\n",
       "      <td>2</td>\n",
       "      <td>jornaloglobo</td>\n",
       "      <td>[cubar, defensor, direito, humano, unir, chefe...</td>\n",
       "      <td>cubar defensor direito humano unir chefe oea i...</td>\n",
       "    </tr>\n",
       "    <tr>\n",
       "      <th>94972</th>\n",
       "      <td>1032352892194369536</td>\n",
       "      <td>#Oportunidade ➡️ Venha fazer parte da nossa eq...</td>\n",
       "      <td>Wed Aug 22 19:44:44 +0000 2018</td>\n",
       "      <td>2</td>\n",
       "      <td>#oportunidade</td>\n",
       "      <td>[oportunidade, vir, equipar, vago, aberto, alu...</td>\n",
       "      <td>oportunidade vir equipar vago aberto aluno adm...</td>\n",
       "    </tr>\n",
       "    <tr>\n",
       "      <th>94973</th>\n",
       "      <td>1046785538542440448</td>\n",
       "      <td>@96syoo EU SEI 😭😭 é por isso que significa mui...</td>\n",
       "      <td>Mon Oct 01 15:34:55 +0000 2018</td>\n",
       "      <td>0</td>\n",
       "      <td>:(</td>\n",
       "      <td>[significar, to, feliz, amar, pra, deixar, ban...</td>\n",
       "      <td>significar to feliz amar pra deixar bandeiro f...</td>\n",
       "    </tr>\n",
       "    <tr>\n",
       "      <th>94974</th>\n",
       "      <td>1045457469110177792</td>\n",
       "      <td>@louistsexhes N te conheço mas posta :D</td>\n",
       "      <td>Thu Sep 27 23:37:38 +0000 2018</td>\n",
       "      <td>1</td>\n",
       "      <td>:)</td>\n",
       "      <td>[n, conheco, posto]</td>\n",
       "      <td>n conheco posto</td>\n",
       "    </tr>\n",
       "    <tr>\n",
       "      <th>94975</th>\n",
       "      <td>1046239135286136832</td>\n",
       "      <td>meu deus :( https://t.co/BlXazxZeKq</td>\n",
       "      <td>Sun Sep 30 03:23:42 +0000 2018</td>\n",
       "      <td>0</td>\n",
       "      <td>:(</td>\n",
       "      <td>[deus]</td>\n",
       "      <td>deus</td>\n",
       "    </tr>\n",
       "  </tbody>\n",
       "</table>\n",
       "<p>94976 rows × 7 columns</p>\n",
       "</div>"
      ],
      "text/plain": [
       "                        id                                         tweet_text  \\\n",
       "0      1049721159292346368  Rio elege maior bancada policial de sua histór...   \n",
       "1      1046251157025423360  fiquei tão triste quando eu vi o preço da câme...   \n",
       "2      1041744620206653440  Para Theresa May, seu plano para o Brexit é a ...   \n",
       "3      1046937084727107589  caralho eu quero proteger a danielly em um pot...   \n",
       "4      1047326854229778432                         @SiCaetano_ viva o caos :)   \n",
       "...                    ...                                                ...   \n",
       "94971  1041831666883321856  Cuba e defensor de direitos humanos se unem co...   \n",
       "94972  1032352892194369536  #Oportunidade ➡️ Venha fazer parte da nossa eq...   \n",
       "94973  1046785538542440448  @96syoo EU SEI 😭😭 é por isso que significa mui...   \n",
       "94974  1045457469110177792            @louistsexhes N te conheço mas posta :D   \n",
       "94975  1046239135286136832                meu deus :( https://t.co/BlXazxZeKq   \n",
       "\n",
       "                           tweet_date  sentiment     query_used  \\\n",
       "0      Tue Oct 09 18:00:01 +0000 2018          2          folha   \n",
       "1      Sun Sep 30 04:11:28 +0000 2018          0             :(   \n",
       "2      Mon Sep 17 17:44:06 +0000 2018          2          exame   \n",
       "3      Tue Oct 02 01:37:06 +0000 2018          0             :(   \n",
       "4      Wed Oct 03 03:25:55 +0000 2018          1             :)   \n",
       "...                               ...        ...            ...   \n",
       "94971  Mon Sep 17 23:30:00 +0000 2018          2   jornaloglobo   \n",
       "94972  Wed Aug 22 19:44:44 +0000 2018          2  #oportunidade   \n",
       "94973  Mon Oct 01 15:34:55 +0000 2018          0             :(   \n",
       "94974  Thu Sep 27 23:37:38 +0000 2018          1             :)   \n",
       "94975  Sun Sep 30 03:23:42 +0000 2018          0             :(   \n",
       "\n",
       "                                          filtered_words  \\\n",
       "0            [rir, eleger, bancada, policial, historiar]   \n",
       "1               [ficar, tao, triste, vir, preco, camera]   \n",
       "2           [theresa, may, planar, brexit, unica, opcao]   \n",
       "3          [caralho, proteger, danielly, pote, tadinhaa]   \n",
       "4                                           [vivo, caos]   \n",
       "...                                                  ...   \n",
       "94971  [cubar, defensor, direito, humano, unir, chefe...   \n",
       "94972  [oportunidade, vir, equipar, vago, aberto, alu...   \n",
       "94973  [significar, to, feliz, amar, pra, deixar, ban...   \n",
       "94974                                [n, conheco, posto]   \n",
       "94975                                             [deus]   \n",
       "\n",
       "                                              join_words  \n",
       "0                  rir eleger bancada policial historiar  \n",
       "1                      ficar tao triste vir preco camera  \n",
       "2                  theresa may planar brexit unica opcao  \n",
       "3                caralho proteger danielly pote tadinhaa  \n",
       "4                                              vivo caos  \n",
       "...                                                  ...  \n",
       "94971  cubar defensor direito humano unir chefe oea i...  \n",
       "94972  oportunidade vir equipar vago aberto aluno adm...  \n",
       "94973  significar to feliz amar pra deixar bandeiro f...  \n",
       "94974                                    n conheco posto  \n",
       "94975                                               deus  \n",
       "\n",
       "[94976 rows x 7 columns]"
      ]
     },
     "execution_count": 18,
     "metadata": {},
     "output_type": "execute_result"
    }
   ],
   "source": [
    "df"
   ]
  },
  {
   "cell_type": "code",
   "execution_count": 19,
   "metadata": {
    "ExecuteTime": {
     "end_time": "2022-03-24T13:38:02.505632Z",
     "start_time": "2022-03-24T13:38:02.491669Z"
    }
   },
   "outputs": [],
   "source": [
    "dataf = df"
   ]
  },
  {
   "cell_type": "markdown",
   "metadata": {},
   "source": [
    "### Treino e Teste"
   ]
  },
  {
   "cell_type": "code",
   "execution_count": null,
   "metadata": {},
   "outputs": [],
   "source": []
  },
  {
   "cell_type": "code",
   "execution_count": 20,
   "metadata": {
    "ExecuteTime": {
     "end_time": "2022-03-24T13:38:02.521589Z",
     "start_time": "2022-03-24T13:38:02.506631Z"
    }
   },
   "outputs": [],
   "source": [
    "X = df['join_words']\n",
    "y = df['sentiment']"
   ]
  },
  {
   "cell_type": "code",
   "execution_count": 21,
   "metadata": {
    "ExecuteTime": {
     "end_time": "2022-03-24T13:38:02.553505Z",
     "start_time": "2022-03-24T13:38:02.523584Z"
    }
   },
   "outputs": [],
   "source": [
    "X_train, X_test, y_train, y_test = train_test_split(X, \n",
    "                                                     y, \n",
    "                                                     test_size = 0.3, \n",
    "                                                     random_state = 42)"
   ]
  },
  {
   "cell_type": "code",
   "execution_count": 22,
   "metadata": {
    "ExecuteTime": {
     "end_time": "2022-03-24T13:38:02.569461Z",
     "start_time": "2022-03-24T13:38:02.554502Z"
    }
   },
   "outputs": [],
   "source": [
    "random_seed = 42\n",
    "\n",
    "list_model = [\n",
    "{'model_name': 'Logistic Regression',\n",
    " 'estimator' : LogisticRegression(random_state = random_seed, solver='newton-cg')},\n",
    "{'model_name': 'Decision Tree',\n",
    " 'estimator' : DecisionTreeClassifier(random_state = random_seed)},\n",
    "{'model_name': 'Random Forest',\n",
    " 'estimator' : RandomForestClassifier(random_state = random_seed)}, \n",
    "{'model_name': 'AdaBoost',\n",
    " 'estimator' : AdaBoostClassifier(random_state = random_seed)}\n",
    "]"
   ]
  },
  {
   "cell_type": "markdown",
   "metadata": {},
   "source": [
    "### Convertendo textos"
   ]
  },
  {
   "cell_type": "markdown",
   "metadata": {},
   "source": [
    "#### Count Vectorizer"
   ]
  },
  {
   "cell_type": "code",
   "execution_count": 23,
   "metadata": {
    "ExecuteTime": {
     "end_time": "2022-03-24T13:38:02.585419Z",
     "start_time": "2022-03-24T13:38:02.571458Z"
    }
   },
   "outputs": [],
   "source": [
    "cv = CountVectorizer()"
   ]
  },
  {
   "cell_type": "code",
   "execution_count": 24,
   "metadata": {
    "ExecuteTime": {
     "end_time": "2022-03-24T13:38:03.454380Z",
     "start_time": "2022-03-24T13:38:02.587428Z"
    }
   },
   "outputs": [],
   "source": [
    "X_train_cv = cv.fit_transform(X_train)\n",
    "X_test_cv = cv.transform(X_test)"
   ]
  },
  {
   "cell_type": "markdown",
   "metadata": {},
   "source": [
    "##### Modelo"
   ]
  },
  {
   "cell_type": "code",
   "execution_count": 25,
   "metadata": {
    "ExecuteTime": {
     "end_time": "2022-03-24T13:43:21.816717Z",
     "start_time": "2022-03-24T13:38:03.460273Z"
    },
    "scrolled": true
   },
   "outputs": [],
   "source": [
    "response_cv, s1_cv, cm_cv = baseline(X_train_cv, X_test_cv, y_train, y_test, list_model)"
   ]
  },
  {
   "cell_type": "code",
   "execution_count": 26,
   "metadata": {
    "ExecuteTime": {
     "end_time": "2022-03-24T13:43:21.847925Z",
     "start_time": "2022-03-24T13:43:21.821164Z"
    }
   },
   "outputs": [
    {
     "data": {
      "text/html": [
       "<div>\n",
       "<style scoped>\n",
       "    .dataframe tbody tr th:only-of-type {\n",
       "        vertical-align: middle;\n",
       "    }\n",
       "\n",
       "    .dataframe tbody tr th {\n",
       "        vertical-align: top;\n",
       "    }\n",
       "\n",
       "    .dataframe thead th {\n",
       "        text-align: right;\n",
       "    }\n",
       "</style>\n",
       "<table border=\"1\" class=\"dataframe\">\n",
       "  <thead>\n",
       "    <tr style=\"text-align: right;\">\n",
       "      <th></th>\n",
       "      <th></th>\n",
       "      <th>precision</th>\n",
       "      <th>recall</th>\n",
       "      <th>f1-score</th>\n",
       "      <th>support</th>\n",
       "    </tr>\n",
       "    <tr>\n",
       "      <th>model_name</th>\n",
       "      <th>label</th>\n",
       "      <th></th>\n",
       "      <th></th>\n",
       "      <th></th>\n",
       "      <th></th>\n",
       "    </tr>\n",
       "  </thead>\n",
       "  <tbody>\n",
       "    <tr>\n",
       "      <th rowspan=\"3\" valign=\"top\">Logistic Regression</th>\n",
       "      <th>0</th>\n",
       "      <td>0.721064</td>\n",
       "      <td>0.723870</td>\n",
       "      <td>0.722464</td>\n",
       "      <td>9510</td>\n",
       "    </tr>\n",
       "    <tr>\n",
       "      <th>1</th>\n",
       "      <td>0.692316</td>\n",
       "      <td>0.700000</td>\n",
       "      <td>0.696137</td>\n",
       "      <td>9550</td>\n",
       "    </tr>\n",
       "    <tr>\n",
       "      <th>2</th>\n",
       "      <td>0.944349</td>\n",
       "      <td>0.930033</td>\n",
       "      <td>0.937136</td>\n",
       "      <td>9433</td>\n",
       "    </tr>\n",
       "    <tr>\n",
       "      <th rowspan=\"3\" valign=\"top\">Decision Tree</th>\n",
       "      <th>0</th>\n",
       "      <td>0.610095</td>\n",
       "      <td>0.683807</td>\n",
       "      <td>0.644851</td>\n",
       "      <td>9510</td>\n",
       "    </tr>\n",
       "    <tr>\n",
       "      <th>1</th>\n",
       "      <td>0.595863</td>\n",
       "      <td>0.573089</td>\n",
       "      <td>0.584254</td>\n",
       "      <td>9550</td>\n",
       "    </tr>\n",
       "    <tr>\n",
       "      <th>2</th>\n",
       "      <td>0.903457</td>\n",
       "      <td>0.828368</td>\n",
       "      <td>0.864285</td>\n",
       "      <td>9433</td>\n",
       "    </tr>\n",
       "    <tr>\n",
       "      <th rowspan=\"3\" valign=\"top\">Random Forest</th>\n",
       "      <th>0</th>\n",
       "      <td>0.654394</td>\n",
       "      <td>0.743849</td>\n",
       "      <td>0.696260</td>\n",
       "      <td>9510</td>\n",
       "    </tr>\n",
       "    <tr>\n",
       "      <th>1</th>\n",
       "      <td>0.661135</td>\n",
       "      <td>0.617382</td>\n",
       "      <td>0.638510</td>\n",
       "      <td>9550</td>\n",
       "    </tr>\n",
       "    <tr>\n",
       "      <th>2</th>\n",
       "      <td>0.939418</td>\n",
       "      <td>0.872893</td>\n",
       "      <td>0.904935</td>\n",
       "      <td>9433</td>\n",
       "    </tr>\n",
       "    <tr>\n",
       "      <th rowspan=\"3\" valign=\"top\">AdaBoost</th>\n",
       "      <th>0</th>\n",
       "      <td>0.663426</td>\n",
       "      <td>0.473607</td>\n",
       "      <td>0.552672</td>\n",
       "      <td>9510</td>\n",
       "    </tr>\n",
       "    <tr>\n",
       "      <th>1</th>\n",
       "      <td>0.486055</td>\n",
       "      <td>0.739058</td>\n",
       "      <td>0.586432</td>\n",
       "      <td>9550</td>\n",
       "    </tr>\n",
       "    <tr>\n",
       "      <th>2</th>\n",
       "      <td>0.906307</td>\n",
       "      <td>0.690130</td>\n",
       "      <td>0.783582</td>\n",
       "      <td>9433</td>\n",
       "    </tr>\n",
       "  </tbody>\n",
       "</table>\n",
       "</div>"
      ],
      "text/plain": [
       "                           precision    recall  f1-score  support\n",
       "model_name          label                                        \n",
       "Logistic Regression 0       0.721064  0.723870  0.722464     9510\n",
       "                    1       0.692316  0.700000  0.696137     9550\n",
       "                    2       0.944349  0.930033  0.937136     9433\n",
       "Decision Tree       0       0.610095  0.683807  0.644851     9510\n",
       "                    1       0.595863  0.573089  0.584254     9550\n",
       "                    2       0.903457  0.828368  0.864285     9433\n",
       "Random Forest       0       0.654394  0.743849  0.696260     9510\n",
       "                    1       0.661135  0.617382  0.638510     9550\n",
       "                    2       0.939418  0.872893  0.904935     9433\n",
       "AdaBoost            0       0.663426  0.473607  0.552672     9510\n",
       "                    1       0.486055  0.739058  0.586432     9550\n",
       "                    2       0.906307  0.690130  0.783582     9433"
      ]
     },
     "execution_count": 26,
     "metadata": {},
     "output_type": "execute_result"
    }
   ],
   "source": [
    "s1_cv"
   ]
  },
  {
   "cell_type": "code",
   "execution_count": 27,
   "metadata": {
    "ExecuteTime": {
     "end_time": "2022-03-24T13:43:22.306351Z",
     "start_time": "2022-03-24T13:43:21.848883Z"
    },
    "scrolled": true
   },
   "outputs": [
    {
     "data": {
      "image/png": "[encoded data removed]",
      "text/plain": [
       "<Figure size 432x288 with 1 Axes>"
      ]
     },
     "metadata": {
      "needs_background": "light"
     },
     "output_type": "display_data"
    },
    {
     "data": {
      "image/png": "[encoded data removed]",
      "text/plain": [
       "<Figure size 432x288 with 1 Axes>"
      ]
     },
     "metadata": {
      "needs_background": "light"
     },
     "output_type": "display_data"
    },
    {
     "data": {
      "image/png": "[encoded data removed]",
      "text/plain": [
       "<Figure size 432x288 with 1 Axes>"
      ]
     },
     "metadata": {
      "needs_background": "light"
     },
     "output_type": "display_data"
    },
    {
     "data": {
      "image/png": "[encoded data removed]",
      "text/plain": [
       "<Figure size 432x288 with 1 Axes>"
      ]
     },
     "metadata": {
      "needs_background": "light"
     },
     "output_type": "display_data"
    }
   ],
   "source": [
    "for key, value in cm_cv.items():\n",
    "\n",
    "    plotting.plot_confusion_matrix(conf_mat=value, fontcolor_threshold=1)\n",
    "    plt.title(key)\n",
    "    plt.show()"
   ]
  },
  {
   "cell_type": "markdown",
   "metadata": {
    "ExecuteTime": {
     "end_time": "2022-03-15T15:38:34.306510Z",
     "start_time": "2022-03-15T15:38:34.294571Z"
    }
   },
   "source": [
    "#### TF-IDF"
   ]
  },
  {
   "cell_type": "code",
   "execution_count": 28,
   "metadata": {
    "ExecuteTime": {
     "end_time": "2022-03-24T13:43:22.321309Z",
     "start_time": "2022-03-24T13:43:22.308315Z"
    }
   },
   "outputs": [],
   "source": [
    "tfidf = TfidfVectorizer(use_idf=True)"
   ]
  },
  {
   "cell_type": "code",
   "execution_count": 29,
   "metadata": {
    "ExecuteTime": {
     "end_time": "2022-03-24T13:43:23.247518Z",
     "start_time": "2022-03-24T13:43:22.323307Z"
    }
   },
   "outputs": [],
   "source": [
    "X_train_tfidf = tfidf.fit_transform(X_train)\n",
    "X_test_tfidf  = tfidf.transform(X_test)"
   ]
  },
  {
   "cell_type": "code",
   "execution_count": 30,
   "metadata": {
    "ExecuteTime": {
     "end_time": "2022-03-24T13:48:04.702229Z",
     "start_time": "2022-03-24T13:43:23.249440Z"
    }
   },
   "outputs": [],
   "source": [
    "response_tfidf, s1_tfidf, cm_tfidf = baseline(X_train_tfidf, X_test_tfidf, y_train, y_test, list_model)"
   ]
  },
  {
   "cell_type": "code",
   "execution_count": 31,
   "metadata": {
    "ExecuteTime": {
     "end_time": "2022-03-24T13:48:04.732181Z",
     "start_time": "2022-03-24T13:48:04.703239Z"
    }
   },
   "outputs": [
    {
     "data": {
      "text/html": [
       "<div>\n",
       "<style scoped>\n",
       "    .dataframe tbody tr th:only-of-type {\n",
       "        vertical-align: middle;\n",
       "    }\n",
       "\n",
       "    .dataframe tbody tr th {\n",
       "        vertical-align: top;\n",
       "    }\n",
       "\n",
       "    .dataframe thead th {\n",
       "        text-align: right;\n",
       "    }\n",
       "</style>\n",
       "<table border=\"1\" class=\"dataframe\">\n",
       "  <thead>\n",
       "    <tr style=\"text-align: right;\">\n",
       "      <th></th>\n",
       "      <th></th>\n",
       "      <th>precision</th>\n",
       "      <th>recall</th>\n",
       "      <th>f1-score</th>\n",
       "      <th>support</th>\n",
       "    </tr>\n",
       "    <tr>\n",
       "      <th>model_name</th>\n",
       "      <th>label</th>\n",
       "      <th></th>\n",
       "      <th></th>\n",
       "      <th></th>\n",
       "      <th></th>\n",
       "    </tr>\n",
       "  </thead>\n",
       "  <tbody>\n",
       "    <tr>\n",
       "      <th rowspan=\"3\" valign=\"top\">Logistic Regression</th>\n",
       "      <th>0</th>\n",
       "      <td>0.742737</td>\n",
       "      <td>0.707045</td>\n",
       "      <td>0.724452</td>\n",
       "      <td>9510</td>\n",
       "    </tr>\n",
       "    <tr>\n",
       "      <th>1</th>\n",
       "      <td>0.696383</td>\n",
       "      <td>0.711623</td>\n",
       "      <td>0.703920</td>\n",
       "      <td>9550</td>\n",
       "    </tr>\n",
       "    <tr>\n",
       "      <th>2</th>\n",
       "      <td>0.918294</td>\n",
       "      <td>0.942436</td>\n",
       "      <td>0.930208</td>\n",
       "      <td>9433</td>\n",
       "    </tr>\n",
       "    <tr>\n",
       "      <th rowspan=\"3\" valign=\"top\">Decision Tree</th>\n",
       "      <th>0</th>\n",
       "      <td>0.650985</td>\n",
       "      <td>0.653312</td>\n",
       "      <td>0.652147</td>\n",
       "      <td>9510</td>\n",
       "    </tr>\n",
       "    <tr>\n",
       "      <th>1</th>\n",
       "      <td>0.614780</td>\n",
       "      <td>0.606283</td>\n",
       "      <td>0.610502</td>\n",
       "      <td>9550</td>\n",
       "    </tr>\n",
       "    <tr>\n",
       "      <th>2</th>\n",
       "      <td>0.891617</td>\n",
       "      <td>0.900880</td>\n",
       "      <td>0.896224</td>\n",
       "      <td>9433</td>\n",
       "    </tr>\n",
       "    <tr>\n",
       "      <th rowspan=\"3\" valign=\"top\">Random Forest</th>\n",
       "      <th>0</th>\n",
       "      <td>0.708421</td>\n",
       "      <td>0.707676</td>\n",
       "      <td>0.708048</td>\n",
       "      <td>9510</td>\n",
       "    </tr>\n",
       "    <tr>\n",
       "      <th>1</th>\n",
       "      <td>0.680021</td>\n",
       "      <td>0.668272</td>\n",
       "      <td>0.674096</td>\n",
       "      <td>9550</td>\n",
       "    </tr>\n",
       "    <tr>\n",
       "      <th>2</th>\n",
       "      <td>0.919338</td>\n",
       "      <td>0.936394</td>\n",
       "      <td>0.927787</td>\n",
       "      <td>9433</td>\n",
       "    </tr>\n",
       "    <tr>\n",
       "      <th rowspan=\"3\" valign=\"top\">AdaBoost</th>\n",
       "      <th>0</th>\n",
       "      <td>0.681166</td>\n",
       "      <td>0.474238</td>\n",
       "      <td>0.559172</td>\n",
       "      <td>9510</td>\n",
       "    </tr>\n",
       "    <tr>\n",
       "      <th>1</th>\n",
       "      <td>0.488166</td>\n",
       "      <td>0.749424</td>\n",
       "      <td>0.591219</td>\n",
       "      <td>9550</td>\n",
       "    </tr>\n",
       "    <tr>\n",
       "      <th>2</th>\n",
       "      <td>0.907641</td>\n",
       "      <td>0.693841</td>\n",
       "      <td>0.786470</td>\n",
       "      <td>9433</td>\n",
       "    </tr>\n",
       "  </tbody>\n",
       "</table>\n",
       "</div>"
      ],
      "text/plain": [
       "                           precision    recall  f1-score  support\n",
       "model_name          label                                        \n",
       "Logistic Regression 0       0.742737  0.707045  0.724452     9510\n",
       "                    1       0.696383  0.711623  0.703920     9550\n",
       "                    2       0.918294  0.942436  0.930208     9433\n",
       "Decision Tree       0       0.650985  0.653312  0.652147     9510\n",
       "                    1       0.614780  0.606283  0.610502     9550\n",
       "                    2       0.891617  0.900880  0.896224     9433\n",
       "Random Forest       0       0.708421  0.707676  0.708048     9510\n",
       "                    1       0.680021  0.668272  0.674096     9550\n",
       "                    2       0.919338  0.936394  0.927787     9433\n",
       "AdaBoost            0       0.681166  0.474238  0.559172     9510\n",
       "                    1       0.488166  0.749424  0.591219     9550\n",
       "                    2       0.907641  0.693841  0.786470     9433"
      ]
     },
     "execution_count": 31,
     "metadata": {},
     "output_type": "execute_result"
    }
   ],
   "source": [
    "s1_tfidf"
   ]
  },
  {
   "cell_type": "code",
   "execution_count": 32,
   "metadata": {
    "ExecuteTime": {
     "end_time": "2022-03-24T13:48:05.173534Z",
     "start_time": "2022-03-24T13:48:04.734145Z"
    }
   },
   "outputs": [
    {
     "data": {
      "image/png": "[encoded data removed]",
      "text/plain": [
       "<Figure size 432x288 with 1 Axes>"
      ]
     },
     "metadata": {
      "needs_background": "light"
     },
     "output_type": "display_data"
    },
    {
     "data": {
      "image/png": "[encoded data removed]",
      "text/plain": [
       "<Figure size 432x288 with 1 Axes>"
      ]
     },
     "metadata": {
      "needs_background": "light"
     },
     "output_type": "display_data"
    },
    {
     "data": {
      "image/png": "[encoded data removed]",
      "text/plain": [
       "<Figure size 432x288 with 1 Axes>"
      ]
     },
     "metadata": {
      "needs_background": "light"
     },
     "output_type": "display_data"
    },
    {
     "data": {
      "image/png": "[encoded data removed]",
      "text/plain": [
       "<Figure size 432x288 with 1 Axes>"
      ]
     },
     "metadata": {
      "needs_background": "light"
     },
     "output_type": "display_data"
    }
   ],
   "source": [
    "for key, value in cm_tfidf.items():\n",
    "\n",
    "    plotting.plot_confusion_matrix(conf_mat=value, fontcolor_threshold=1)\n",
    "    plt.title(key)\n",
    "    plt.show()"
   ]
  },
  {
   "cell_type": "markdown",
   "metadata": {},
   "source": [
    "#### Word2vec"
   ]
  },
  {
   "cell_type": "code",
   "execution_count": 33,
   "metadata": {
    "ExecuteTime": {
     "end_time": "2022-03-24T13:48:05.204425Z",
     "start_time": "2022-03-24T13:48:05.175482Z"
    },
    "scrolled": true
   },
   "outputs": [
    {
     "data": {
      "text/html": [
       "<div>\n",
       "<style scoped>\n",
       "    .dataframe tbody tr th:only-of-type {\n",
       "        vertical-align: middle;\n",
       "    }\n",
       "\n",
       "    .dataframe tbody tr th {\n",
       "        vertical-align: top;\n",
       "    }\n",
       "\n",
       "    .dataframe thead th {\n",
       "        text-align: right;\n",
       "    }\n",
       "</style>\n",
       "<table border=\"1\" class=\"dataframe\">\n",
       "  <thead>\n",
       "    <tr style=\"text-align: right;\">\n",
       "      <th></th>\n",
       "      <th>id</th>\n",
       "      <th>tweet_text</th>\n",
       "      <th>tweet_date</th>\n",
       "      <th>sentiment</th>\n",
       "      <th>query_used</th>\n",
       "      <th>filtered_words</th>\n",
       "      <th>join_words</th>\n",
       "    </tr>\n",
       "  </thead>\n",
       "  <tbody>\n",
       "    <tr>\n",
       "      <th>0</th>\n",
       "      <td>1049721159292346368</td>\n",
       "      <td>Rio elege maior bancada policial de sua histór...</td>\n",
       "      <td>Tue Oct 09 18:00:01 +0000 2018</td>\n",
       "      <td>2</td>\n",
       "      <td>folha</td>\n",
       "      <td>[rir, eleger, bancada, policial, historiar]</td>\n",
       "      <td>rir eleger bancada policial historiar</td>\n",
       "    </tr>\n",
       "    <tr>\n",
       "      <th>1</th>\n",
       "      <td>1046251157025423360</td>\n",
       "      <td>fiquei tão triste quando eu vi o preço da câme...</td>\n",
       "      <td>Sun Sep 30 04:11:28 +0000 2018</td>\n",
       "      <td>0</td>\n",
       "      <td>:(</td>\n",
       "      <td>[ficar, tao, triste, vir, preco, camera]</td>\n",
       "      <td>ficar tao triste vir preco camera</td>\n",
       "    </tr>\n",
       "    <tr>\n",
       "      <th>2</th>\n",
       "      <td>1041744620206653440</td>\n",
       "      <td>Para Theresa May, seu plano para o Brexit é a ...</td>\n",
       "      <td>Mon Sep 17 17:44:06 +0000 2018</td>\n",
       "      <td>2</td>\n",
       "      <td>exame</td>\n",
       "      <td>[theresa, may, planar, brexit, unica, opcao]</td>\n",
       "      <td>theresa may planar brexit unica opcao</td>\n",
       "    </tr>\n",
       "    <tr>\n",
       "      <th>3</th>\n",
       "      <td>1046937084727107589</td>\n",
       "      <td>caralho eu quero proteger a danielly em um pot...</td>\n",
       "      <td>Tue Oct 02 01:37:06 +0000 2018</td>\n",
       "      <td>0</td>\n",
       "      <td>:(</td>\n",
       "      <td>[caralho, proteger, danielly, pote, tadinhaa]</td>\n",
       "      <td>caralho proteger danielly pote tadinhaa</td>\n",
       "    </tr>\n",
       "    <tr>\n",
       "      <th>4</th>\n",
       "      <td>1047326854229778432</td>\n",
       "      <td>@SiCaetano_ viva o caos :)</td>\n",
       "      <td>Wed Oct 03 03:25:55 +0000 2018</td>\n",
       "      <td>1</td>\n",
       "      <td>:)</td>\n",
       "      <td>[vivo, caos]</td>\n",
       "      <td>vivo caos</td>\n",
       "    </tr>\n",
       "    <tr>\n",
       "      <th>...</th>\n",
       "      <td>...</td>\n",
       "      <td>...</td>\n",
       "      <td>...</td>\n",
       "      <td>...</td>\n",
       "      <td>...</td>\n",
       "      <td>...</td>\n",
       "      <td>...</td>\n",
       "    </tr>\n",
       "    <tr>\n",
       "      <th>94971</th>\n",
       "      <td>1041831666883321856</td>\n",
       "      <td>Cuba e defensor de direitos humanos se unem co...</td>\n",
       "      <td>Mon Sep 17 23:30:00 +0000 2018</td>\n",
       "      <td>2</td>\n",
       "      <td>jornaloglobo</td>\n",
       "      <td>[cubar, defensor, direito, humano, unir, chefe...</td>\n",
       "      <td>cubar defensor direito humano unir chefe oea i...</td>\n",
       "    </tr>\n",
       "    <tr>\n",
       "      <th>94972</th>\n",
       "      <td>1032352892194369536</td>\n",
       "      <td>#Oportunidade ➡️ Venha fazer parte da nossa eq...</td>\n",
       "      <td>Wed Aug 22 19:44:44 +0000 2018</td>\n",
       "      <td>2</td>\n",
       "      <td>#oportunidade</td>\n",
       "      <td>[oportunidade, vir, equipar, vago, aberto, alu...</td>\n",
       "      <td>oportunidade vir equipar vago aberto aluno adm...</td>\n",
       "    </tr>\n",
       "    <tr>\n",
       "      <th>94973</th>\n",
       "      <td>1046785538542440448</td>\n",
       "      <td>@96syoo EU SEI 😭😭 é por isso que significa mui...</td>\n",
       "      <td>Mon Oct 01 15:34:55 +0000 2018</td>\n",
       "      <td>0</td>\n",
       "      <td>:(</td>\n",
       "      <td>[significar, to, feliz, amar, pra, deixar, ban...</td>\n",
       "      <td>significar to feliz amar pra deixar bandeiro f...</td>\n",
       "    </tr>\n",
       "    <tr>\n",
       "      <th>94974</th>\n",
       "      <td>1045457469110177792</td>\n",
       "      <td>@louistsexhes N te conheço mas posta :D</td>\n",
       "      <td>Thu Sep 27 23:37:38 +0000 2018</td>\n",
       "      <td>1</td>\n",
       "      <td>:)</td>\n",
       "      <td>[n, conheco, posto]</td>\n",
       "      <td>n conheco posto</td>\n",
       "    </tr>\n",
       "    <tr>\n",
       "      <th>94975</th>\n",
       "      <td>1046239135286136832</td>\n",
       "      <td>meu deus :( https://t.co/BlXazxZeKq</td>\n",
       "      <td>Sun Sep 30 03:23:42 +0000 2018</td>\n",
       "      <td>0</td>\n",
       "      <td>:(</td>\n",
       "      <td>[deus]</td>\n",
       "      <td>deus</td>\n",
       "    </tr>\n",
       "  </tbody>\n",
       "</table>\n",
       "<p>94976 rows × 7 columns</p>\n",
       "</div>"
      ],
      "text/plain": [
       "                        id                                         tweet_text  \\\n",
       "0      1049721159292346368  Rio elege maior bancada policial de sua histór...   \n",
       "1      1046251157025423360  fiquei tão triste quando eu vi o preço da câme...   \n",
       "2      1041744620206653440  Para Theresa May, seu plano para o Brexit é a ...   \n",
       "3      1046937084727107589  caralho eu quero proteger a danielly em um pot...   \n",
       "4      1047326854229778432                         @SiCaetano_ viva o caos :)   \n",
       "...                    ...                                                ...   \n",
       "94971  1041831666883321856  Cuba e defensor de direitos humanos se unem co...   \n",
       "94972  1032352892194369536  #Oportunidade ➡️ Venha fazer parte da nossa eq...   \n",
       "94973  1046785538542440448  @96syoo EU SEI 😭😭 é por isso que significa mui...   \n",
       "94974  1045457469110177792            @louistsexhes N te conheço mas posta :D   \n",
       "94975  1046239135286136832                meu deus :( https://t.co/BlXazxZeKq   \n",
       "\n",
       "                           tweet_date  sentiment     query_used  \\\n",
       "0      Tue Oct 09 18:00:01 +0000 2018          2          folha   \n",
       "1      Sun Sep 30 04:11:28 +0000 2018          0             :(   \n",
       "2      Mon Sep 17 17:44:06 +0000 2018          2          exame   \n",
       "3      Tue Oct 02 01:37:06 +0000 2018          0             :(   \n",
       "4      Wed Oct 03 03:25:55 +0000 2018          1             :)   \n",
       "...                               ...        ...            ...   \n",
       "94971  Mon Sep 17 23:30:00 +0000 2018          2   jornaloglobo   \n",
       "94972  Wed Aug 22 19:44:44 +0000 2018          2  #oportunidade   \n",
       "94973  Mon Oct 01 15:34:55 +0000 2018          0             :(   \n",
       "94974  Thu Sep 27 23:37:38 +0000 2018          1             :)   \n",
       "94975  Sun Sep 30 03:23:42 +0000 2018          0             :(   \n",
       "\n",
       "                                          filtered_words  \\\n",
       "0            [rir, eleger, bancada, policial, historiar]   \n",
       "1               [ficar, tao, triste, vir, preco, camera]   \n",
       "2           [theresa, may, planar, brexit, unica, opcao]   \n",
       "3          [caralho, proteger, danielly, pote, tadinhaa]   \n",
       "4                                           [vivo, caos]   \n",
       "...                                                  ...   \n",
       "94971  [cubar, defensor, direito, humano, unir, chefe...   \n",
       "94972  [oportunidade, vir, equipar, vago, aberto, alu...   \n",
       "94973  [significar, to, feliz, amar, pra, deixar, ban...   \n",
       "94974                                [n, conheco, posto]   \n",
       "94975                                             [deus]   \n",
       "\n",
       "                                              join_words  \n",
       "0                  rir eleger bancada policial historiar  \n",
       "1                      ficar tao triste vir preco camera  \n",
       "2                  theresa may planar brexit unica opcao  \n",
       "3                caralho proteger danielly pote tadinhaa  \n",
       "4                                              vivo caos  \n",
       "...                                                  ...  \n",
       "94971  cubar defensor direito humano unir chefe oea i...  \n",
       "94972  oportunidade vir equipar vago aberto aluno adm...  \n",
       "94973  significar to feliz amar pra deixar bandeiro f...  \n",
       "94974                                    n conheco posto  \n",
       "94975                                               deus  \n",
       "\n",
       "[94976 rows x 7 columns]"
      ]
     },
     "execution_count": 33,
     "metadata": {},
     "output_type": "execute_result"
    }
   ],
   "source": [
    "df\n"
   ]
  },
  {
   "cell_type": "code",
   "execution_count": 34,
   "metadata": {
    "ExecuteTime": {
     "end_time": "2022-03-24T13:48:05.236346Z",
     "start_time": "2022-03-24T13:48:05.205400Z"
    }
   },
   "outputs": [],
   "source": [
    "X_w2v = df['filtered_words']\n",
    "y_w2v = df['sentiment']\n",
    "\n",
    "X_train_w2v, X_test_w2v, y_train_w2v, y_test_w2v = train_test_split(X_w2v, \n",
    "                                                                     y_w2v, \n",
    "                                                                     test_size = 0.3, \n",
    "                                                                     random_state = 42)"
   ]
  },
  {
   "cell_type": "code",
   "execution_count": 35,
   "metadata": {
    "ExecuteTime": {
     "end_time": "2022-03-24T13:48:09.924112Z",
     "start_time": "2022-03-24T13:48:05.238311Z"
    }
   },
   "outputs": [],
   "source": [
    "model = Word2Vec(\n",
    "    sentences=X_train_w2v,\n",
    "    vector_size=2,   # Tamanho do vetor de saída\n",
    "    min_count=1,  # Filtro palavras raras\n",
    "    workers=2,  # Multicore\n",
    "    window=5, # Janela de palavras, nesse caso 5 palavras\n",
    "    sg=1,  # 1 para skip-grams, 0 para o CBOW\n",
    ")"
   ]
  },
  {
   "cell_type": "code",
   "execution_count": 36,
   "metadata": {
    "ExecuteTime": {
     "end_time": "2022-03-24T14:01:39.033530Z",
     "start_time": "2022-03-24T13:48:09.926027Z"
    }
   },
   "outputs": [],
   "source": [
    "X_train_w2v_m = []\n",
    "X_train_w2v_s = []\n",
    "X_train_w2v_sn = []\n",
    "\n",
    "for phrase in X_train:\n",
    "    vecs = []\n",
    "    for word in phrase:\n",
    "        if word in model.wv.index_to_key:\n",
    "            vecs.append(model.wv.get_vector(word))\n",
    "    if vecs:\n",
    "        soma = np.sum(vecs, axis=0)\n",
    "        media = soma / len(vecs)\n",
    "        soma_normalizada = soma / np.linalg.norm(soma)\n",
    "\n",
    "        X_train_w2v_m.append(media)\n",
    "        X_train_w2v_s.append(soma)\n",
    "        X_train_w2v_sn.append(soma_normalizada)\n",
    "    else:\n",
    "\n",
    "        X_train_w2v_m.append(np.zeros(model.vector_size))\n",
    "        X_train_w2v_s.append(np.zeros(model.vector_size))\n",
    "        X_train_w2v_sn.append(np.zeros(model.vector_size))\n",
    "\n",
    "X_train_w2v_m = np.array(X_train_w2v_m)\n",
    "X_train_w2v_s = np.array(X_train_w2v_s)\n",
    "X_train_w2v_sn = np.array(X_train_w2v_sn)"
   ]
  },
  {
   "cell_type": "code",
   "execution_count": 37,
   "metadata": {
    "ExecuteTime": {
     "end_time": "2022-03-24T14:01:39.049489Z",
     "start_time": "2022-03-24T14:01:39.034531Z"
    }
   },
   "outputs": [
    {
     "data": {
      "text/plain": [
       "(8, 2)"
      ]
     },
     "execution_count": 37,
     "metadata": {},
     "output_type": "execute_result"
    }
   ],
   "source": [
    "np.asarray(vecs).shape"
   ]
  },
  {
   "cell_type": "code",
   "execution_count": 38,
   "metadata": {
    "ExecuteTime": {
     "end_time": "2022-03-24T14:07:24.299909Z",
     "start_time": "2022-03-24T14:01:39.051485Z"
    }
   },
   "outputs": [],
   "source": [
    "X_test_w2v_m = []\n",
    "X_test_w2v_s = []\n",
    "X_test_w2v_sn = []\n",
    "\n",
    "for phrase in X_test:\n",
    "    vecs = []\n",
    "    for word in phrase:\n",
    "        if word in model.wv.index_to_key:\n",
    "            vecs.append(model.wv.get_vector(word))\n",
    "            \n",
    "    if vecs:\n",
    "        soma = np.sum(vecs, axis=0)\n",
    "        media = soma/len(vecs)\n",
    "        soma_normalizada = soma / np.linalg.norm(soma)\n",
    "        \n",
    "        X_test_w2v_m.append(media)\n",
    "        X_test_w2v_s.append(soma)\n",
    "        X_test_w2v_sn.append(soma_normalizada)\n",
    "        \n",
    "    else:\n",
    "        X_test_w2v_m.append(np.zeros(model.vector_size))\n",
    "        X_test_w2v_s.append(np.zeros(model.vector_size))\n",
    "        X_test_w2v_sn.append(np.zeros(model.vector_size))\n",
    "    \n",
    "    \n",
    "X_test_w2v_m = np.array(X_test_w2v_m)\n",
    "X_test_w2v_s = np.array(X_test_w2v_s)\n",
    "X_test_w2v_sn = np.array(X_test_w2v_sn)"
   ]
  },
  {
   "cell_type": "code",
   "execution_count": 39,
   "metadata": {
    "ExecuteTime": {
     "end_time": "2022-03-24T14:07:24.315894Z",
     "start_time": "2022-03-24T14:07:24.300923Z"
    }
   },
   "outputs": [
    {
     "data": {
      "text/plain": [
       "(28493, 2)"
      ]
     },
     "execution_count": 39,
     "metadata": {},
     "output_type": "execute_result"
    }
   ],
   "source": [
    "X_test_w2v_m.shape"
   ]
  },
  {
   "cell_type": "markdown",
   "metadata": {},
   "source": [
    "##### usando a media"
   ]
  },
  {
   "cell_type": "code",
   "execution_count": 40,
   "metadata": {
    "ExecuteTime": {
     "end_time": "2022-03-24T14:07:42.725145Z",
     "start_time": "2022-03-24T14:07:24.316891Z"
    }
   },
   "outputs": [],
   "source": [
    "response_w2v_m, s1_w2v_m, cm_w2v_m = baseline(X_train_w2v_m,\n",
    "                                              X_test_w2v_m,\n",
    "                                              y_train_w2v,\n",
    "                                              y_test_w2v,\n",
    "                                              list_model)"
   ]
  },
  {
   "cell_type": "code",
   "execution_count": 41,
   "metadata": {
    "ExecuteTime": {
     "end_time": "2022-03-24T14:07:42.740005Z",
     "start_time": "2022-03-24T14:07:42.727040Z"
    }
   },
   "outputs": [
    {
     "data": {
      "text/html": [
       "<div>\n",
       "<style scoped>\n",
       "    .dataframe tbody tr th:only-of-type {\n",
       "        vertical-align: middle;\n",
       "    }\n",
       "\n",
       "    .dataframe tbody tr th {\n",
       "        vertical-align: top;\n",
       "    }\n",
       "\n",
       "    .dataframe thead th {\n",
       "        text-align: right;\n",
       "    }\n",
       "</style>\n",
       "<table border=\"1\" class=\"dataframe\">\n",
       "  <thead>\n",
       "    <tr style=\"text-align: right;\">\n",
       "      <th></th>\n",
       "      <th></th>\n",
       "      <th>precision</th>\n",
       "      <th>recall</th>\n",
       "      <th>f1-score</th>\n",
       "      <th>support</th>\n",
       "    </tr>\n",
       "    <tr>\n",
       "      <th>model_name</th>\n",
       "      <th>label</th>\n",
       "      <th></th>\n",
       "      <th></th>\n",
       "      <th></th>\n",
       "      <th></th>\n",
       "    </tr>\n",
       "  </thead>\n",
       "  <tbody>\n",
       "    <tr>\n",
       "      <th rowspan=\"3\" valign=\"top\">Logistic Regression</th>\n",
       "      <th>0</th>\n",
       "      <td>0.360242</td>\n",
       "      <td>0.476761</td>\n",
       "      <td>0.410391</td>\n",
       "      <td>9510</td>\n",
       "    </tr>\n",
       "    <tr>\n",
       "      <th>1</th>\n",
       "      <td>0.346117</td>\n",
       "      <td>0.225864</td>\n",
       "      <td>0.273349</td>\n",
       "      <td>9550</td>\n",
       "    </tr>\n",
       "    <tr>\n",
       "      <th>2</th>\n",
       "      <td>0.333850</td>\n",
       "      <td>0.342415</td>\n",
       "      <td>0.338078</td>\n",
       "      <td>9433</td>\n",
       "    </tr>\n",
       "    <tr>\n",
       "      <th rowspan=\"3\" valign=\"top\">Decision Tree</th>\n",
       "      <th>0</th>\n",
       "      <td>0.415679</td>\n",
       "      <td>0.409253</td>\n",
       "      <td>0.412441</td>\n",
       "      <td>9510</td>\n",
       "    </tr>\n",
       "    <tr>\n",
       "      <th>1</th>\n",
       "      <td>0.389876</td>\n",
       "      <td>0.392775</td>\n",
       "      <td>0.391320</td>\n",
       "      <td>9550</td>\n",
       "    </tr>\n",
       "    <tr>\n",
       "      <th>2</th>\n",
       "      <td>0.448838</td>\n",
       "      <td>0.452454</td>\n",
       "      <td>0.450639</td>\n",
       "      <td>9433</td>\n",
       "    </tr>\n",
       "    <tr>\n",
       "      <th rowspan=\"3\" valign=\"top\">Random Forest</th>\n",
       "      <th>0</th>\n",
       "      <td>0.425473</td>\n",
       "      <td>0.406414</td>\n",
       "      <td>0.415726</td>\n",
       "      <td>9510</td>\n",
       "    </tr>\n",
       "    <tr>\n",
       "      <th>1</th>\n",
       "      <td>0.398205</td>\n",
       "      <td>0.376230</td>\n",
       "      <td>0.386906</td>\n",
       "      <td>9550</td>\n",
       "    </tr>\n",
       "    <tr>\n",
       "      <th>2</th>\n",
       "      <td>0.461583</td>\n",
       "      <td>0.508216</td>\n",
       "      <td>0.483778</td>\n",
       "      <td>9433</td>\n",
       "    </tr>\n",
       "    <tr>\n",
       "      <th rowspan=\"3\" valign=\"top\">AdaBoost</th>\n",
       "      <th>0</th>\n",
       "      <td>0.453580</td>\n",
       "      <td>0.377077</td>\n",
       "      <td>0.411805</td>\n",
       "      <td>9510</td>\n",
       "    </tr>\n",
       "    <tr>\n",
       "      <th>1</th>\n",
       "      <td>0.426955</td>\n",
       "      <td>0.134346</td>\n",
       "      <td>0.204381</td>\n",
       "      <td>9550</td>\n",
       "    </tr>\n",
       "    <tr>\n",
       "      <th>2</th>\n",
       "      <td>0.428677</td>\n",
       "      <td>0.799003</td>\n",
       "      <td>0.557986</td>\n",
       "      <td>9433</td>\n",
       "    </tr>\n",
       "  </tbody>\n",
       "</table>\n",
       "</div>"
      ],
      "text/plain": [
       "                           precision    recall  f1-score  support\n",
       "model_name          label                                        \n",
       "Logistic Regression 0       0.360242  0.476761  0.410391     9510\n",
       "                    1       0.346117  0.225864  0.273349     9550\n",
       "                    2       0.333850  0.342415  0.338078     9433\n",
       "Decision Tree       0       0.415679  0.409253  0.412441     9510\n",
       "                    1       0.389876  0.392775  0.391320     9550\n",
       "                    2       0.448838  0.452454  0.450639     9433\n",
       "Random Forest       0       0.425473  0.406414  0.415726     9510\n",
       "                    1       0.398205  0.376230  0.386906     9550\n",
       "                    2       0.461583  0.508216  0.483778     9433\n",
       "AdaBoost            0       0.453580  0.377077  0.411805     9510\n",
       "                    1       0.426955  0.134346  0.204381     9550\n",
       "                    2       0.428677  0.799003  0.557986     9433"
      ]
     },
     "execution_count": 41,
     "metadata": {},
     "output_type": "execute_result"
    }
   ],
   "source": [
    "s1_w2v_m"
   ]
  },
  {
   "cell_type": "code",
   "execution_count": 42,
   "metadata": {
    "ExecuteTime": {
     "end_time": "2022-03-24T14:07:43.180050Z",
     "start_time": "2022-03-24T14:07:42.742027Z"
    }
   },
   "outputs": [
    {
     "data": {
      "image/png": "[encoded data removed]",
      "text/plain": [
       "<Figure size 432x288 with 1 Axes>"
      ]
     },
     "metadata": {
      "needs_background": "light"
     },
     "output_type": "display_data"
    },
    {
     "data": {
      "image/png": "[encoded data removed]",
      "text/plain": [
       "<Figure size 432x288 with 1 Axes>"
      ]
     },
     "metadata": {
      "needs_background": "light"
     },
     "output_type": "display_data"
    },
    {
     "data": {
      "image/png": "[encoded data removed]",
      "text/plain": [
       "<Figure size 432x288 with 1 Axes>"
      ]
     },
     "metadata": {
      "needs_background": "light"
     },
     "output_type": "display_data"
    },
    {
     "data": {
      "image/png": "[encoded data removed]",
      "text/plain": [
       "<Figure size 432x288 with 1 Axes>"
      ]
     },
     "metadata": {
      "needs_background": "light"
     },
     "output_type": "display_data"
    }
   ],
   "source": [
    "for key, value in cm_w2v_m.items():\n",
    "\n",
    "    plotting.plot_confusion_matrix(conf_mat=value, fontcolor_threshold=1)\n",
    "    plt.title(key)\n",
    "    plt.show()"
   ]
  },
  {
   "cell_type": "markdown",
   "metadata": {},
   "source": [
    "##### Usando soma"
   ]
  },
  {
   "cell_type": "code",
   "execution_count": 43,
   "metadata": {
    "ExecuteTime": {
     "end_time": "2022-03-24T14:08:02.538599Z",
     "start_time": "2022-03-24T14:07:43.182982Z"
    }
   },
   "outputs": [
    {
     "name": "stderr",
     "output_type": "stream",
     "text": [
      "C:\\Users\\jotap\\anaconda3\\envs\\DataScienceDegree\\lib\\site-packages\\scipy\\optimize\\linesearch.py:327: LineSearchWarning: The line search algorithm did not converge\n",
      "  warn('The line search algorithm did not converge', LineSearchWarning)\n",
      "C:\\Users\\jotap\\anaconda3\\envs\\DataScienceDegree\\lib\\site-packages\\sklearn\\utils\\optimize.py:203: UserWarning: Line Search failed\n",
      "  warnings.warn(\"Line Search failed\")\n"
     ]
    }
   ],
   "source": [
    "response_w2v_s, s1_w2v_s, cm_w2v_s = baseline(X_train_w2v_s,\n",
    "                                              X_test_w2v_s,\n",
    "                                              y_train_w2v,\n",
    "                                              y_test_w2v,\n",
    "                                              list_model)"
   ]
  },
  {
   "cell_type": "code",
   "execution_count": 44,
   "metadata": {
    "ExecuteTime": {
     "end_time": "2022-03-24T14:08:02.554597Z",
     "start_time": "2022-03-24T14:08:02.539602Z"
    }
   },
   "outputs": [
    {
     "data": {
      "text/html": [
       "<div>\n",
       "<style scoped>\n",
       "    .dataframe tbody tr th:only-of-type {\n",
       "        vertical-align: middle;\n",
       "    }\n",
       "\n",
       "    .dataframe tbody tr th {\n",
       "        vertical-align: top;\n",
       "    }\n",
       "\n",
       "    .dataframe thead th {\n",
       "        text-align: right;\n",
       "    }\n",
       "</style>\n",
       "<table border=\"1\" class=\"dataframe\">\n",
       "  <thead>\n",
       "    <tr style=\"text-align: right;\">\n",
       "      <th></th>\n",
       "      <th></th>\n",
       "      <th>precision</th>\n",
       "      <th>recall</th>\n",
       "      <th>f1-score</th>\n",
       "      <th>support</th>\n",
       "    </tr>\n",
       "    <tr>\n",
       "      <th>model_name</th>\n",
       "      <th>label</th>\n",
       "      <th></th>\n",
       "      <th></th>\n",
       "      <th></th>\n",
       "      <th></th>\n",
       "    </tr>\n",
       "  </thead>\n",
       "  <tbody>\n",
       "    <tr>\n",
       "      <th rowspan=\"3\" valign=\"top\">Logistic Regression</th>\n",
       "      <th>0</th>\n",
       "      <td>0.479760</td>\n",
       "      <td>0.680442</td>\n",
       "      <td>0.562745</td>\n",
       "      <td>9510</td>\n",
       "    </tr>\n",
       "    <tr>\n",
       "      <th>1</th>\n",
       "      <td>0.260252</td>\n",
       "      <td>0.136230</td>\n",
       "      <td>0.178844</td>\n",
       "      <td>9550</td>\n",
       "    </tr>\n",
       "    <tr>\n",
       "      <th>2</th>\n",
       "      <td>0.550370</td>\n",
       "      <td>0.583802</td>\n",
       "      <td>0.566593</td>\n",
       "      <td>9433</td>\n",
       "    </tr>\n",
       "    <tr>\n",
       "      <th rowspan=\"3\" valign=\"top\">Decision Tree</th>\n",
       "      <th>0</th>\n",
       "      <td>0.448182</td>\n",
       "      <td>0.448370</td>\n",
       "      <td>0.448276</td>\n",
       "      <td>9510</td>\n",
       "    </tr>\n",
       "    <tr>\n",
       "      <th>1</th>\n",
       "      <td>0.415578</td>\n",
       "      <td>0.409529</td>\n",
       "      <td>0.412531</td>\n",
       "      <td>9550</td>\n",
       "    </tr>\n",
       "    <tr>\n",
       "      <th>2</th>\n",
       "      <td>0.555707</td>\n",
       "      <td>0.563659</td>\n",
       "      <td>0.559655</td>\n",
       "      <td>9433</td>\n",
       "    </tr>\n",
       "    <tr>\n",
       "      <th rowspan=\"3\" valign=\"top\">Random Forest</th>\n",
       "      <th>0</th>\n",
       "      <td>0.479964</td>\n",
       "      <td>0.452156</td>\n",
       "      <td>0.465645</td>\n",
       "      <td>9510</td>\n",
       "    </tr>\n",
       "    <tr>\n",
       "      <th>1</th>\n",
       "      <td>0.432165</td>\n",
       "      <td>0.379581</td>\n",
       "      <td>0.404170</td>\n",
       "      <td>9550</td>\n",
       "    </tr>\n",
       "    <tr>\n",
       "      <th>2</th>\n",
       "      <td>0.569621</td>\n",
       "      <td>0.673063</td>\n",
       "      <td>0.617037</td>\n",
       "      <td>9433</td>\n",
       "    </tr>\n",
       "    <tr>\n",
       "      <th rowspan=\"3\" valign=\"top\">AdaBoost</th>\n",
       "      <th>0</th>\n",
       "      <td>0.504964</td>\n",
       "      <td>0.620400</td>\n",
       "      <td>0.556761</td>\n",
       "      <td>9510</td>\n",
       "    </tr>\n",
       "    <tr>\n",
       "      <th>1</th>\n",
       "      <td>0.541667</td>\n",
       "      <td>0.023141</td>\n",
       "      <td>0.044386</td>\n",
       "      <td>9550</td>\n",
       "    </tr>\n",
       "    <tr>\n",
       "      <th>2</th>\n",
       "      <td>0.523017</td>\n",
       "      <td>0.909361</td>\n",
       "      <td>0.664086</td>\n",
       "      <td>9433</td>\n",
       "    </tr>\n",
       "  </tbody>\n",
       "</table>\n",
       "</div>"
      ],
      "text/plain": [
       "                           precision    recall  f1-score  support\n",
       "model_name          label                                        \n",
       "Logistic Regression 0       0.479760  0.680442  0.562745     9510\n",
       "                    1       0.260252  0.136230  0.178844     9550\n",
       "                    2       0.550370  0.583802  0.566593     9433\n",
       "Decision Tree       0       0.448182  0.448370  0.448276     9510\n",
       "                    1       0.415578  0.409529  0.412531     9550\n",
       "                    2       0.555707  0.563659  0.559655     9433\n",
       "Random Forest       0       0.479964  0.452156  0.465645     9510\n",
       "                    1       0.432165  0.379581  0.404170     9550\n",
       "                    2       0.569621  0.673063  0.617037     9433\n",
       "AdaBoost            0       0.504964  0.620400  0.556761     9510\n",
       "                    1       0.541667  0.023141  0.044386     9550\n",
       "                    2       0.523017  0.909361  0.664086     9433"
      ]
     },
     "execution_count": 44,
     "metadata": {},
     "output_type": "execute_result"
    }
   ],
   "source": [
    "s1_w2v_s"
   ]
  },
  {
   "cell_type": "code",
   "execution_count": 45,
   "metadata": {
    "ExecuteTime": {
     "end_time": "2022-03-24T14:08:02.965221Z",
     "start_time": "2022-03-24T14:08:02.556559Z"
    }
   },
   "outputs": [
    {
     "data": {
      "image/png": "[encoded data removed]",
      "text/plain": [
       "<Figure size 432x288 with 1 Axes>"
      ]
     },
     "metadata": {
      "needs_background": "light"
     },
     "output_type": "display_data"
    },
    {
     "data": {
      "image/png": "[encoded data removed]",
      "text/plain": [
       "<Figure size 432x288 with 1 Axes>"
      ]
     },
     "metadata": {
      "needs_background": "light"
     },
     "output_type": "display_data"
    },
    {
     "data": {
      "image/png": "[encoded data removed]",
      "text/plain": [
       "<Figure size 432x288 with 1 Axes>"
      ]
     },
     "metadata": {
      "needs_background": "light"
     },
     "output_type": "display_data"
    },
    {
     "data": {
      "image/png": "[encoded data removed]",
      "text/plain": [
       "<Figure size 432x288 with 1 Axes>"
      ]
     },
     "metadata": {
      "needs_background": "light"
     },
     "output_type": "display_data"
    }
   ],
   "source": [
    "for key, value in cm_w2v_s.items():\n",
    "\n",
    "    plotting.plot_confusion_matrix(conf_mat=value, fontcolor_threshold=1)\n",
    "    plt.title(key)\n",
    "    plt.show()"
   ]
  },
  {
   "cell_type": "markdown",
   "metadata": {
    "ExecuteTime": {
     "end_time": "2022-03-18T15:57:52.989569Z",
     "start_time": "2022-03-18T15:57:52.975600Z"
    }
   },
   "source": [
    "##### Usando soma normalizada"
   ]
  },
  {
   "cell_type": "code",
   "execution_count": 46,
   "metadata": {
    "ExecuteTime": {
     "end_time": "2022-03-24T14:08:25.104965Z",
     "start_time": "2022-03-24T14:08:02.966219Z"
    }
   },
   "outputs": [],
   "source": [
    "response_w2v_sn, s1_w2v_sn, cm_w2v_sn = baseline(X_train_w2v_sn,\n",
    "                                                 X_test_w2v_sn,\n",
    "                                                 y_train_w2v,\n",
    "                                                 y_test_w2v,\n",
    "                                                 list_model)"
   ]
  },
  {
   "cell_type": "code",
   "execution_count": 47,
   "metadata": {
    "ExecuteTime": {
     "end_time": "2022-03-24T14:08:25.119935Z",
     "start_time": "2022-03-24T14:08:25.105844Z"
    }
   },
   "outputs": [
    {
     "data": {
      "text/html": [
       "<div>\n",
       "<style scoped>\n",
       "    .dataframe tbody tr th:only-of-type {\n",
       "        vertical-align: middle;\n",
       "    }\n",
       "\n",
       "    .dataframe tbody tr th {\n",
       "        vertical-align: top;\n",
       "    }\n",
       "\n",
       "    .dataframe thead th {\n",
       "        text-align: right;\n",
       "    }\n",
       "</style>\n",
       "<table border=\"1\" class=\"dataframe\">\n",
       "  <thead>\n",
       "    <tr style=\"text-align: right;\">\n",
       "      <th></th>\n",
       "      <th></th>\n",
       "      <th>precision</th>\n",
       "      <th>recall</th>\n",
       "      <th>f1-score</th>\n",
       "      <th>support</th>\n",
       "    </tr>\n",
       "    <tr>\n",
       "      <th>model_name</th>\n",
       "      <th>label</th>\n",
       "      <th></th>\n",
       "      <th></th>\n",
       "      <th></th>\n",
       "      <th></th>\n",
       "    </tr>\n",
       "  </thead>\n",
       "  <tbody>\n",
       "    <tr>\n",
       "      <th rowspan=\"3\" valign=\"top\">Logistic Regression</th>\n",
       "      <th>0</th>\n",
       "      <td>0.383636</td>\n",
       "      <td>0.408728</td>\n",
       "      <td>0.395785</td>\n",
       "      <td>9510</td>\n",
       "    </tr>\n",
       "    <tr>\n",
       "      <th>1</th>\n",
       "      <td>0.450218</td>\n",
       "      <td>0.118848</td>\n",
       "      <td>0.188054</td>\n",
       "      <td>9550</td>\n",
       "    </tr>\n",
       "    <tr>\n",
       "      <th>2</th>\n",
       "      <td>0.388952</td>\n",
       "      <td>0.653133</td>\n",
       "      <td>0.487556</td>\n",
       "      <td>9433</td>\n",
       "    </tr>\n",
       "    <tr>\n",
       "      <th rowspan=\"3\" valign=\"top\">Decision Tree</th>\n",
       "      <th>0</th>\n",
       "      <td>0.402229</td>\n",
       "      <td>0.409884</td>\n",
       "      <td>0.406021</td>\n",
       "      <td>9510</td>\n",
       "    </tr>\n",
       "    <tr>\n",
       "      <th>1</th>\n",
       "      <td>0.391437</td>\n",
       "      <td>0.390576</td>\n",
       "      <td>0.391006</td>\n",
       "      <td>9550</td>\n",
       "    </tr>\n",
       "    <tr>\n",
       "      <th>2</th>\n",
       "      <td>0.432977</td>\n",
       "      <td>0.425633</td>\n",
       "      <td>0.429274</td>\n",
       "      <td>9433</td>\n",
       "    </tr>\n",
       "    <tr>\n",
       "      <th rowspan=\"3\" valign=\"top\">Random Forest</th>\n",
       "      <th>0</th>\n",
       "      <td>0.404528</td>\n",
       "      <td>0.398318</td>\n",
       "      <td>0.401399</td>\n",
       "      <td>9510</td>\n",
       "    </tr>\n",
       "    <tr>\n",
       "      <th>1</th>\n",
       "      <td>0.391842</td>\n",
       "      <td>0.391309</td>\n",
       "      <td>0.391575</td>\n",
       "      <td>9550</td>\n",
       "    </tr>\n",
       "    <tr>\n",
       "      <th>2</th>\n",
       "      <td>0.433278</td>\n",
       "      <td>0.440581</td>\n",
       "      <td>0.436899</td>\n",
       "      <td>9433</td>\n",
       "    </tr>\n",
       "    <tr>\n",
       "      <th rowspan=\"3\" valign=\"top\">AdaBoost</th>\n",
       "      <th>0</th>\n",
       "      <td>0.461668</td>\n",
       "      <td>0.231125</td>\n",
       "      <td>0.308037</td>\n",
       "      <td>9510</td>\n",
       "    </tr>\n",
       "    <tr>\n",
       "      <th>1</th>\n",
       "      <td>0.410692</td>\n",
       "      <td>0.172147</td>\n",
       "      <td>0.242603</td>\n",
       "      <td>9550</td>\n",
       "    </tr>\n",
       "    <tr>\n",
       "      <th>2</th>\n",
       "      <td>0.395104</td>\n",
       "      <td>0.826354</td>\n",
       "      <td>0.534600</td>\n",
       "      <td>9433</td>\n",
       "    </tr>\n",
       "  </tbody>\n",
       "</table>\n",
       "</div>"
      ],
      "text/plain": [
       "                           precision    recall  f1-score  support\n",
       "model_name          label                                        \n",
       "Logistic Regression 0       0.383636  0.408728  0.395785     9510\n",
       "                    1       0.450218  0.118848  0.188054     9550\n",
       "                    2       0.388952  0.653133  0.487556     9433\n",
       "Decision Tree       0       0.402229  0.409884  0.406021     9510\n",
       "                    1       0.391437  0.390576  0.391006     9550\n",
       "                    2       0.432977  0.425633  0.429274     9433\n",
       "Random Forest       0       0.404528  0.398318  0.401399     9510\n",
       "                    1       0.391842  0.391309  0.391575     9550\n",
       "                    2       0.433278  0.440581  0.436899     9433\n",
       "AdaBoost            0       0.461668  0.231125  0.308037     9510\n",
       "                    1       0.410692  0.172147  0.242603     9550\n",
       "                    2       0.395104  0.826354  0.534600     9433"
      ]
     },
     "execution_count": 47,
     "metadata": {},
     "output_type": "execute_result"
    }
   ],
   "source": [
    "s1_w2v_sn"
   ]
  },
  {
   "cell_type": "code",
   "execution_count": 48,
   "metadata": {
    "ExecuteTime": {
     "end_time": "2022-03-24T14:08:25.548639Z",
     "start_time": "2022-03-24T14:08:25.121800Z"
    }
   },
   "outputs": [
    {
     "data": {
      "image/png": "[encoded data removed]",
      "text/plain": [
       "<Figure size 432x288 with 1 Axes>"
      ]
     },
     "metadata": {
      "needs_background": "light"
     },
     "output_type": "display_data"
    },
    {
     "data": {
      "image/png": "[encoded data removed]",
      "text/plain": [
       "<Figure size 432x288 with 1 Axes>"
      ]
     },
     "metadata": {
      "needs_background": "light"
     },
     "output_type": "display_data"
    },
    {
     "data": {
      "image/png": "[encoded data removed]",
      "text/plain": [
       "<Figure size 432x288 with 1 Axes>"
      ]
     },
     "metadata": {
      "needs_background": "light"
     },
     "output_type": "display_data"
    },
    {
     "data": {
      "image/png": "[encoded data removed]",
      "text/plain": [
       "<Figure size 432x288 with 1 Axes>"
      ]
     },
     "metadata": {
      "needs_background": "light"
     },
     "output_type": "display_data"
    }
   ],
   "source": [
    "for key, value in cm_w2v_sn.items():\n",
    "\n",
    "    plotting.plot_confusion_matrix(conf_mat=value, fontcolor_threshold=1)\n",
    "    plt.title(key)\n",
    "    plt.show()"
   ]
  },
  {
   "cell_type": "markdown",
   "metadata": {},
   "source": [
    "## Otimizacao do modelo"
   ]
  },
  {
   "cell_type": "markdown",
   "metadata": {},
   "source": [
    "### Count Vectorizer - logistic regression"
   ]
  },
  {
   "cell_type": "markdown",
   "metadata": {},
   "source": [
    "#### cross-validation"
   ]
  },
  {
   "cell_type": "code",
   "execution_count": 49,
   "metadata": {
    "ExecuteTime": {
     "end_time": "2022-03-24T14:08:25.563848Z",
     "start_time": "2022-03-24T14:08:25.549636Z"
    }
   },
   "outputs": [],
   "source": [
    "model = LogisticRegression(max_iter=200, solver='newton-cg')"
   ]
  },
  {
   "cell_type": "code",
   "execution_count": 50,
   "metadata": {
    "ExecuteTime": {
     "end_time": "2022-03-24T14:08:53.123961Z",
     "start_time": "2022-03-24T14:08:25.565843Z"
    },
    "scrolled": true
   },
   "outputs": [
    {
     "data": {
      "text/html": [
       "<div>\n",
       "<style scoped>\n",
       "    .dataframe tbody tr th:only-of-type {\n",
       "        vertical-align: middle;\n",
       "    }\n",
       "\n",
       "    .dataframe tbody tr th {\n",
       "        vertical-align: top;\n",
       "    }\n",
       "\n",
       "    .dataframe thead th {\n",
       "        text-align: right;\n",
       "    }\n",
       "</style>\n",
       "<table border=\"1\" class=\"dataframe\">\n",
       "  <thead>\n",
       "    <tr style=\"text-align: right;\">\n",
       "      <th></th>\n",
       "      <th></th>\n",
       "      <th>precision</th>\n",
       "      <th>recall</th>\n",
       "      <th>f1-score</th>\n",
       "      <th>support</th>\n",
       "    </tr>\n",
       "    <tr>\n",
       "      <th>Fold</th>\n",
       "      <th>label</th>\n",
       "      <th></th>\n",
       "      <th></th>\n",
       "      <th></th>\n",
       "      <th></th>\n",
       "    </tr>\n",
       "  </thead>\n",
       "  <tbody>\n",
       "    <tr>\n",
       "      <th rowspan=\"3\" valign=\"top\">Fold 0</th>\n",
       "      <th>0</th>\n",
       "      <td>0.724036</td>\n",
       "      <td>0.719793</td>\n",
       "      <td>0.721908</td>\n",
       "      <td>4436</td>\n",
       "    </tr>\n",
       "    <tr>\n",
       "      <th>1</th>\n",
       "      <td>0.686593</td>\n",
       "      <td>0.706148</td>\n",
       "      <td>0.696234</td>\n",
       "      <td>4424</td>\n",
       "    </tr>\n",
       "    <tr>\n",
       "      <th>2</th>\n",
       "      <td>0.946507</td>\n",
       "      <td>0.925175</td>\n",
       "      <td>0.935719</td>\n",
       "      <td>4437</td>\n",
       "    </tr>\n",
       "    <tr>\n",
       "      <th rowspan=\"3\" valign=\"top\">Fold 1</th>\n",
       "      <th>0</th>\n",
       "      <td>0.720763</td>\n",
       "      <td>0.723687</td>\n",
       "      <td>0.722222</td>\n",
       "      <td>4437</td>\n",
       "    </tr>\n",
       "    <tr>\n",
       "      <th>1</th>\n",
       "      <td>0.695465</td>\n",
       "      <td>0.693264</td>\n",
       "      <td>0.694363</td>\n",
       "      <td>4424</td>\n",
       "    </tr>\n",
       "    <tr>\n",
       "      <th>2</th>\n",
       "      <td>0.937951</td>\n",
       "      <td>0.937106</td>\n",
       "      <td>0.937528</td>\n",
       "      <td>4436</td>\n",
       "    </tr>\n",
       "    <tr>\n",
       "      <th rowspan=\"3\" valign=\"top\">Fold 2</th>\n",
       "      <th>0</th>\n",
       "      <td>0.713397</td>\n",
       "      <td>0.723687</td>\n",
       "      <td>0.718505</td>\n",
       "      <td>4437</td>\n",
       "    </tr>\n",
       "    <tr>\n",
       "      <th>1</th>\n",
       "      <td>0.680942</td>\n",
       "      <td>0.686483</td>\n",
       "      <td>0.683701</td>\n",
       "      <td>4424</td>\n",
       "    </tr>\n",
       "    <tr>\n",
       "      <th>2</th>\n",
       "      <td>0.940729</td>\n",
       "      <td>0.919522</td>\n",
       "      <td>0.930005</td>\n",
       "      <td>4436</td>\n",
       "    </tr>\n",
       "    <tr>\n",
       "      <th rowspan=\"3\" valign=\"top\">Fold 3</th>\n",
       "      <th>0</th>\n",
       "      <td>0.726280</td>\n",
       "      <td>0.719567</td>\n",
       "      <td>0.722908</td>\n",
       "      <td>4436</td>\n",
       "    </tr>\n",
       "    <tr>\n",
       "      <th>1</th>\n",
       "      <td>0.688943</td>\n",
       "      <td>0.708409</td>\n",
       "      <td>0.698540</td>\n",
       "      <td>4424</td>\n",
       "    </tr>\n",
       "    <tr>\n",
       "      <th>2</th>\n",
       "      <td>0.948070</td>\n",
       "      <td>0.930117</td>\n",
       "      <td>0.939008</td>\n",
       "      <td>4436</td>\n",
       "    </tr>\n",
       "    <tr>\n",
       "      <th rowspan=\"3\" valign=\"top\">Fold 4</th>\n",
       "      <th>0</th>\n",
       "      <td>0.722584</td>\n",
       "      <td>0.726330</td>\n",
       "      <td>0.724452</td>\n",
       "      <td>4436</td>\n",
       "    </tr>\n",
       "    <tr>\n",
       "      <th>1</th>\n",
       "      <td>0.694010</td>\n",
       "      <td>0.701854</td>\n",
       "      <td>0.697910</td>\n",
       "      <td>4424</td>\n",
       "    </tr>\n",
       "    <tr>\n",
       "      <th>2</th>\n",
       "      <td>0.947055</td>\n",
       "      <td>0.931470</td>\n",
       "      <td>0.939198</td>\n",
       "      <td>4436</td>\n",
       "    </tr>\n",
       "  </tbody>\n",
       "</table>\n",
       "</div>"
      ],
      "text/plain": [
       "              precision    recall  f1-score  support\n",
       "Fold   label                                        \n",
       "Fold 0 0       0.724036  0.719793  0.721908     4436\n",
       "       1       0.686593  0.706148  0.696234     4424\n",
       "       2       0.946507  0.925175  0.935719     4437\n",
       "Fold 1 0       0.720763  0.723687  0.722222     4437\n",
       "       1       0.695465  0.693264  0.694363     4424\n",
       "       2       0.937951  0.937106  0.937528     4436\n",
       "Fold 2 0       0.713397  0.723687  0.718505     4437\n",
       "       1       0.680942  0.686483  0.683701     4424\n",
       "       2       0.940729  0.919522  0.930005     4436\n",
       "Fold 3 0       0.726280  0.719567  0.722908     4436\n",
       "       1       0.688943  0.708409  0.698540     4424\n",
       "       2       0.948070  0.930117  0.939008     4436\n",
       "Fold 4 0       0.722584  0.726330  0.724452     4436\n",
       "       1       0.694010  0.701854  0.697910     4424\n",
       "       2       0.947055  0.931470  0.939198     4436"
      ]
     },
     "execution_count": 50,
     "metadata": {},
     "output_type": "execute_result"
    }
   ],
   "source": [
    "response_crossval, s1_crossval, cm_crossval = cross_val(5, model, X_train_cv, y_train, 0.4)\n",
    "s1_crossval"
   ]
  },
  {
   "cell_type": "markdown",
   "metadata": {},
   "source": [
    "#### Otimização"
   ]
  },
  {
   "cell_type": "code",
   "execution_count": 51,
   "metadata": {
    "ExecuteTime": {
     "end_time": "2022-03-24T14:36:06.224811Z",
     "start_time": "2022-03-24T14:08:53.125924Z"
    },
    "scrolled": true
   },
   "outputs": [
    {
     "name": "stderr",
     "output_type": "stream",
     "text": [
      "\u001b[32m[I 2022-03-24 11:08:53,127]\u001b[0m A new study created in memory with name: no-name-486d7802-4273-4dc0-bb43-5dc731b074a6\u001b[0m\n"
     ]
    },
    {
     "name": "stdout",
     "output_type": "stream",
     "text": [
      "LogisticRegression(C=3.3943973532830913, max_iter=393.58857429342595,\n",
      "                   multi_class='multinomial', n_jobs=-1, random_state=42,\n",
      "                   solver='newton-cg', tol=0.003278046543498586,\n",
      "                   warm_start=True)\n"
     ]
    },
    {
     "name": "stderr",
     "output_type": "stream",
     "text": [
      "\u001b[32m[I 2022-03-24 11:09:06,834]\u001b[0m Trial 0 finished with value: 0.7783453987124325 and parameters: {'tol': 0.003278046543498586, 'C': 3.3943973532830913, 'max_iter': 393.58857429342595, 'warm_start': True}. Best is trial 0 with value: 0.7783453987124325.\u001b[0m\n"
     ]
    },
    {
     "name": "stdout",
     "output_type": "stream",
     "text": [
      "LogisticRegression(C=2.9814772414293893, max_iter=199.77597511717798,\n",
      "                   multi_class='multinomial', n_jobs=-1, random_state=42,\n",
      "                   solver='newton-cg', tol=0.00025909076079446466,\n",
      "                   warm_start=True)\n"
     ]
    },
    {
     "name": "stderr",
     "output_type": "stream",
     "text": [
      "\u001b[32m[I 2022-03-24 11:09:19,911]\u001b[0m Trial 1 finished with value: 0.7789141574869648 and parameters: {'tol': 0.00025909076079446466, 'C': 2.9814772414293893, 'max_iter': 199.77597511717798, 'warm_start': True}. Best is trial 1 with value: 0.7789141574869648.\u001b[0m\n"
     ]
    },
    {
     "name": "stdout",
     "output_type": "stream",
     "text": [
      "LogisticRegression(C=1.2571902861287056, max_iter=389.0433605629889,\n",
      "                   multi_class='multinomial', n_jobs=-1, random_state=42,\n",
      "                   solver='newton-cg', tol=0.0065297457028841484,\n",
      "                   warm_start=True)\n"
     ]
    },
    {
     "name": "stderr",
     "output_type": "stream",
     "text": [
      "\u001b[32m[I 2022-03-24 11:09:27,306]\u001b[0m Trial 2 finished with value: 0.7842580095149734 and parameters: {'tol': 0.0065297457028841484, 'C': 1.2571902861287056, 'max_iter': 389.0433605629889, 'warm_start': True}. Best is trial 2 with value: 0.7842580095149734.\u001b[0m\n"
     ]
    },
    {
     "name": "stdout",
     "output_type": "stream",
     "text": [
      "LogisticRegression(C=1.1651907987496766, max_iter=381.7321753423638,\n",
      "                   multi_class='multinomial', n_jobs=-1, random_state=42,\n",
      "                   solver='newton-cg', tol=0.00032547308440226096,\n",
      "                   warm_start=True)\n"
     ]
    },
    {
     "name": "stderr",
     "output_type": "stream",
     "text": [
      "\u001b[32m[I 2022-03-24 11:09:36,483]\u001b[0m Trial 3 finished with value: 0.7843844271178215 and parameters: {'tol': 0.00032547308440226096, 'C': 1.1651907987496766, 'max_iter': 381.7321753423638, 'warm_start': True}. Best is trial 3 with value: 0.7843844271178215.\u001b[0m\n"
     ]
    },
    {
     "name": "stdout",
     "output_type": "stream",
     "text": [
      "LogisticRegression(C=1.9903518974525656, max_iter=321.142619429882,\n",
      "                   multi_class='multinomial', n_jobs=-1, random_state=42,\n",
      "                   solver='newton-cg', tol=0.0024422237300481073)\n"
     ]
    },
    {
     "name": "stderr",
     "output_type": "stream",
     "text": [
      "\u001b[32m[I 2022-03-24 11:09:46,367]\u001b[0m Trial 4 finished with value: 0.781521365518851 and parameters: {'tol': 0.0024422237300481073, 'C': 1.9903518974525656, 'max_iter': 321.142619429882, 'warm_start': False}. Best is trial 3 with value: 0.7843844271178215.\u001b[0m\n"
     ]
    },
    {
     "name": "stdout",
     "output_type": "stream",
     "text": [
      "LogisticRegression(C=3.094782957492364, max_iter=121.60904998098023,\n",
      "                   multi_class='multinomial', n_jobs=-1, random_state=42,\n",
      "                   solver='newton-cg', tol=0.0005432752624601452)\n"
     ]
    },
    {
     "name": "stderr",
     "output_type": "stream",
     "text": [
      "\u001b[32m[I 2022-03-24 11:09:59,918]\u001b[0m Trial 5 finished with value: 0.7787834020014845 and parameters: {'tol': 0.0005432752624601452, 'C': 3.094782957492364, 'max_iter': 121.60904998098023, 'warm_start': False}. Best is trial 3 with value: 0.7843844271178215.\u001b[0m\n"
     ]
    },
    {
     "name": "stdout",
     "output_type": "stream",
     "text": [
      "LogisticRegression(C=1.112037033067126, max_iter=265.2176811645634,\n",
      "                   multi_class='multinomial', n_jobs=-1, random_state=42,\n",
      "                   solver='newton-cg', tol=0.0068290170126804614)\n"
     ]
    },
    {
     "name": "stderr",
     "output_type": "stream",
     "text": [
      "\u001b[32m[I 2022-03-24 11:10:06,929]\u001b[0m Trial 6 finished with value: 0.7847840967620433 and parameters: {'tol': 0.0068290170126804614, 'C': 1.112037033067126, 'max_iter': 265.2176811645634, 'warm_start': False}. Best is trial 6 with value: 0.7847840967620433.\u001b[0m\n"
     ]
    },
    {
     "name": "stdout",
     "output_type": "stream",
     "text": [
      "LogisticRegression(C=1.6390465582164175, max_iter=254.21453815842904,\n",
      "                   multi_class='multinomial', n_jobs=-1, random_state=42,\n",
      "                   solver='newton-cg', tol=0.004552135035338376)\n"
     ]
    },
    {
     "name": "stderr",
     "output_type": "stream",
     "text": [
      "\u001b[32m[I 2022-03-24 11:10:15,691]\u001b[0m Trial 7 finished with value: 0.7829477867225604 and parameters: {'tol': 0.004552135035338376, 'C': 1.6390465582164175, 'max_iter': 254.21453815842904, 'warm_start': False}. Best is trial 6 with value: 0.7847840967620433.\u001b[0m\n"
     ]
    },
    {
     "name": "stdout",
     "output_type": "stream",
     "text": [
      "LogisticRegression(C=1.8068820492486024, max_iter=340.735500976406,\n",
      "                   multi_class='multinomial', n_jobs=-1, random_state=42,\n",
      "                   solver='newton-cg', tol=0.0050861200878104225,\n",
      "                   warm_start=True)\n"
     ]
    },
    {
     "name": "stderr",
     "output_type": "stream",
     "text": [
      "\u001b[32m[I 2022-03-24 11:10:25,048]\u001b[0m Trial 8 finished with value: 0.7821898223448077 and parameters: {'tol': 0.0050861200878104225, 'C': 1.8068820492486024, 'max_iter': 340.735500976406, 'warm_start': True}. Best is trial 6 with value: 0.7847840967620433.\u001b[0m\n"
     ]
    },
    {
     "name": "stdout",
     "output_type": "stream",
     "text": [
      "LogisticRegression(C=3.1114582098062327, max_iter=393.0191496157929,\n",
      "                   multi_class='multinomial', n_jobs=-1, random_state=42,\n",
      "                   solver='newton-cg', tol=0.00048150996174016144)\n"
     ]
    },
    {
     "name": "stderr",
     "output_type": "stream",
     "text": [
      "\u001b[32m[I 2022-03-24 11:10:38,245]\u001b[0m Trial 9 finished with value: 0.7787783149772165 and parameters: {'tol': 0.00048150996174016144, 'C': 3.1114582098062327, 'max_iter': 393.0191496157929, 'warm_start': False}. Best is trial 6 with value: 0.7847840967620433.\u001b[0m\n"
     ]
    },
    {
     "name": "stdout",
     "output_type": "stream",
     "text": [
      "LogisticRegression(C=2.498826794437603, max_iter=495.2548698161127,\n",
      "                   multi_class='multinomial', n_jobs=-1, random_state=42,\n",
      "                   solver='newton-cg', tol=0.001447821265408034)\n"
     ]
    },
    {
     "name": "stderr",
     "output_type": "stream",
     "text": [
      "\u001b[32m[I 2022-03-24 11:10:49,948]\u001b[0m Trial 10 finished with value: 0.7802553148174276 and parameters: {'tol': 0.001447821265408034, 'C': 2.498826794437603, 'max_iter': 495.2548698161127, 'warm_start': False}. Best is trial 6 with value: 0.7847840967620433.\u001b[0m\n"
     ]
    },
    {
     "name": "stdout",
     "output_type": "stream",
     "text": [
      "LogisticRegression(C=1.3036481310610333, max_iter=227.81006460946247,\n",
      "                   multi_class='multinomial', n_jobs=-1, random_state=42,\n",
      "                   solver='newton-cg', tol=0.00010447436292877073,\n",
      "                   warm_start=True)\n"
     ]
    },
    {
     "name": "stderr",
     "output_type": "stream",
     "text": [
      "\u001b[32m[I 2022-03-24 11:10:59,766]\u001b[0m Trial 11 finished with value: 0.7840002695146607 and parameters: {'tol': 0.00010447436292877073, 'C': 1.3036481310610333, 'max_iter': 227.81006460946247, 'warm_start': True}. Best is trial 6 with value: 0.7847840967620433.\u001b[0m\n"
     ]
    },
    {
     "name": "stdout",
     "output_type": "stream",
     "text": [
      "LogisticRegression(C=1.0327584118655695, max_iter=494.64831551709983,\n",
      "                   multi_class='multinomial', n_jobs=-1, random_state=42,\n",
      "                   solver='newton-cg', tol=0.0010119337506165295,\n",
      "                   warm_start=True)\n"
     ]
    },
    {
     "name": "stderr",
     "output_type": "stream",
     "text": [
      "\u001b[32m[I 2022-03-24 11:11:07,928]\u001b[0m Trial 12 finished with value: 0.7848896167765403 and parameters: {'tol': 0.0010119337506165295, 'C': 1.0327584118655695, 'max_iter': 494.64831551709983, 'warm_start': True}. Best is trial 12 with value: 0.7848896167765403.\u001b[0m\n"
     ]
    },
    {
     "name": "stdout",
     "output_type": "stream",
     "text": [
      "LogisticRegression(C=1.0359182020668296, max_iter=478.27906162502717,\n",
      "                   multi_class='multinomial', n_jobs=-1, random_state=42,\n",
      "                   solver='newton-cg', tol=0.009532416756879047)\n"
     ]
    },
    {
     "name": "stderr",
     "output_type": "stream",
     "text": [
      "\u001b[32m[I 2022-03-24 11:11:14,845]\u001b[0m Trial 13 finished with value: 0.7848876275608075 and parameters: {'tol': 0.009532416756879047, 'C': 1.0359182020668296, 'max_iter': 478.27906162502717, 'warm_start': False}. Best is trial 12 with value: 0.7848896167765403.\u001b[0m\n"
     ]
    },
    {
     "name": "stdout",
     "output_type": "stream",
     "text": [
      "LogisticRegression(C=2.357298563820007, max_iter=485.599027526188,\n",
      "                   multi_class='multinomial', n_jobs=-1, random_state=42,\n",
      "                   solver='newton-cg', tol=0.0012815196117773992)\n"
     ]
    },
    {
     "name": "stderr",
     "output_type": "stream",
     "text": [
      "\u001b[32m[I 2022-03-24 11:11:26,243]\u001b[0m Trial 14 finished with value: 0.780696523835276 and parameters: {'tol': 0.0012815196117773992, 'C': 2.357298563820007, 'max_iter': 485.599027526188, 'warm_start': False}. Best is trial 12 with value: 0.7848896167765403.\u001b[0m\n"
     ]
    },
    {
     "name": "stdout",
     "output_type": "stream",
     "text": [
      "LogisticRegression(C=1.5438246372959703, max_iter=451.9561402842462,\n",
      "                   multi_class='multinomial', n_jobs=-1, random_state=42,\n",
      "                   solver='newton-cg', tol=0.00219841907360408,\n",
      "                   warm_start=True)\n"
     ]
    },
    {
     "name": "stderr",
     "output_type": "stream",
     "text": [
      "\u001b[32m[I 2022-03-24 11:11:35,124]\u001b[0m Trial 15 finished with value: 0.7832705800174147 and parameters: {'tol': 0.00219841907360408, 'C': 1.5438246372959703, 'max_iter': 451.9561402842462, 'warm_start': True}. Best is trial 12 with value: 0.7848896167765403.\u001b[0m\n"
     ]
    },
    {
     "name": "stdout",
     "output_type": "stream",
     "text": [
      "LogisticRegression(C=1.0438109660102601, max_iter=445.76906564474245,\n",
      "                   multi_class='multinomial', n_jobs=-1, random_state=42,\n",
      "                   solver='newton-cg', tol=0.009263280079921327,\n",
      "                   warm_start=True)\n"
     ]
    },
    {
     "name": "stderr",
     "output_type": "stream",
     "text": [
      "\u001b[32m[I 2022-03-24 11:11:42,030]\u001b[0m Trial 16 finished with value: 0.7848325097725655 and parameters: {'tol': 0.009263280079921327, 'C': 1.0438109660102601, 'max_iter': 445.76906564474245, 'warm_start': True}. Best is trial 12 with value: 0.7848896167765403.\u001b[0m\n"
     ]
    },
    {
     "name": "stdout",
     "output_type": "stream",
     "text": [
      "LogisticRegression(C=2.0399975018303, max_iter=442.0205016451105,\n",
      "                   multi_class='multinomial', n_jobs=-1, random_state=42,\n",
      "                   solver='newton-cg', tol=0.000832568648173744)\n"
     ]
    },
    {
     "name": "stderr",
     "output_type": "stream",
     "text": [
      "\u001b[32m[I 2022-03-24 11:11:53,268]\u001b[0m Trial 17 finished with value: 0.7813662065226405 and parameters: {'tol': 0.000832568648173744, 'C': 2.0399975018303, 'max_iter': 442.0205016451105, 'warm_start': False}. Best is trial 12 with value: 0.7848896167765403.\u001b[0m\n"
     ]
    },
    {
     "name": "stdout",
     "output_type": "stream",
     "text": [
      "LogisticRegression(C=2.652263310583538, max_iter=499.30017634794893,\n",
      "                   multi_class='multinomial', n_jobs=-1, random_state=42,\n",
      "                   solver='newton-cg', tol=0.00013352243278860645)\n"
     ]
    },
    {
     "name": "stderr",
     "output_type": "stream",
     "text": [
      "\u001b[32m[I 2022-03-24 11:12:06,737]\u001b[0m Trial 18 finished with value: 0.7798040961239552 and parameters: {'tol': 0.00013352243278860645, 'C': 2.652263310583538, 'max_iter': 499.30017634794893, 'warm_start': False}. Best is trial 12 with value: 0.7848896167765403.\u001b[0m\n"
     ]
    },
    {
     "name": "stdout",
     "output_type": "stream",
     "text": [
      "LogisticRegression(C=1.5215821788404043, max_iter=430.7726842230889,\n",
      "                   multi_class='multinomial', n_jobs=-1, random_state=42,\n",
      "                   solver='newton-cg', tol=0.0008383081181102836,\n",
      "                   warm_start=True)\n"
     ]
    },
    {
     "name": "stderr",
     "output_type": "stream",
     "text": [
      "\u001b[32m[I 2022-03-24 11:12:16,642]\u001b[0m Trial 19 finished with value: 0.7833183205464682 and parameters: {'tol': 0.0008383081181102836, 'C': 1.5215821788404043, 'max_iter': 430.7726842230889, 'warm_start': True}. Best is trial 12 with value: 0.7848896167765403.\u001b[0m\n"
     ]
    },
    {
     "name": "stdout",
     "output_type": "stream",
     "text": [
      "LogisticRegression(C=1.40549797548041, max_iter=351.5076447636425,\n",
      "                   multi_class='multinomial', n_jobs=-1, random_state=42,\n",
      "                   solver='newton-cg', tol=0.00021401918932792118)\n"
     ]
    },
    {
     "name": "stderr",
     "output_type": "stream",
     "text": [
      "\u001b[32m[I 2022-03-24 11:12:26,588]\u001b[0m Trial 20 finished with value: 0.7833960788442733 and parameters: {'tol': 0.00021401918932792118, 'C': 1.40549797548041, 'max_iter': 351.5076447636425, 'warm_start': False}. Best is trial 12 with value: 0.7848896167765403.\u001b[0m\n"
     ]
    },
    {
     "name": "stdout",
     "output_type": "stream",
     "text": [
      "LogisticRegression(C=1.0271168567015247, max_iter=461.3203964963912,\n",
      "                   multi_class='multinomial', n_jobs=-1, random_state=42,\n",
      "                   solver='newton-cg', tol=0.009230415640762366,\n",
      "                   warm_start=True)\n"
     ]
    },
    {
     "name": "stderr",
     "output_type": "stream",
     "text": [
      "\u001b[32m[I 2022-03-24 11:12:33,476]\u001b[0m Trial 21 finished with value: 0.7848603191694556 and parameters: {'tol': 0.009230415640762366, 'C': 1.0271168567015247, 'max_iter': 461.3203964963912, 'warm_start': True}. Best is trial 12 with value: 0.7848896167765403.\u001b[0m\n"
     ]
    },
    {
     "name": "stdout",
     "output_type": "stream",
     "text": [
      "LogisticRegression(C=1.1061199260899899, max_iter=467.3764588252164,\n",
      "                   multi_class='multinomial', n_jobs=-1, random_state=42,\n",
      "                   solver='newton-cg', tol=0.008120891364776605,\n",
      "                   warm_start=True)\n"
     ]
    },
    {
     "name": "stderr",
     "output_type": "stream",
     "text": [
      "\u001b[32m[I 2022-03-24 11:12:40,518]\u001b[0m Trial 22 finished with value: 0.7846841338327282 and parameters: {'tol': 0.008120891364776605, 'C': 1.1061199260899899, 'max_iter': 467.3764588252164, 'warm_start': True}. Best is trial 12 with value: 0.7848896167765403.\u001b[0m\n"
     ]
    },
    {
     "name": "stdout",
     "output_type": "stream",
     "text": [
      "LogisticRegression(C=1.004871752481313, max_iter=409.0415067766826,\n",
      "                   multi_class='multinomial', n_jobs=-1, random_state=42,\n",
      "                   solver='newton-cg', tol=0.003902568515926179,\n",
      "                   warm_start=True)\n"
     ]
    },
    {
     "name": "stderr",
     "output_type": "stream",
     "text": [
      "\u001b[32m[I 2022-03-24 11:12:47,572]\u001b[0m Trial 23 finished with value: 0.7849678479181211 and parameters: {'tol': 0.003902568515926179, 'C': 1.004871752481313, 'max_iter': 409.0415067766826, 'warm_start': True}. Best is trial 23 with value: 0.7849678479181211.\u001b[0m\n"
     ]
    },
    {
     "name": "stdout",
     "output_type": "stream",
     "text": [
      "LogisticRegression(C=1.791982936787588, max_iter=427.08250526794654,\n",
      "                   multi_class='multinomial', n_jobs=-1, random_state=42,\n",
      "                   solver='newton-cg', tol=0.003226896764184513,\n",
      "                   warm_start=True)\n"
     ]
    },
    {
     "name": "stderr",
     "output_type": "stream",
     "text": [
      "\u001b[32m[I 2022-03-24 11:12:57,162]\u001b[0m Trial 24 finished with value: 0.7822869520115284 and parameters: {'tol': 0.003226896764184513, 'C': 1.791982936787588, 'max_iter': 427.08250526794654, 'warm_start': True}. Best is trial 23 with value: 0.7849678479181211.\u001b[0m\n"
     ]
    },
    {
     "name": "stdout",
     "output_type": "stream",
     "text": [
      "LogisticRegression(C=1.3073237686997148, max_iter=422.0643291443166,\n",
      "                   multi_class='multinomial', n_jobs=-1, random_state=42,\n",
      "                   solver='newton-cg', tol=0.00183602810932045,\n",
      "                   warm_start=True)\n"
     ]
    },
    {
     "name": "stderr",
     "output_type": "stream",
     "text": [
      "\u001b[32m[I 2022-03-24 11:13:05,908]\u001b[0m Trial 25 finished with value: 0.7840035306753106 and parameters: {'tol': 0.00183602810932045, 'C': 1.3073237686997148, 'max_iter': 422.0643291443166, 'warm_start': True}. Best is trial 23 with value: 0.7849678479181211.\u001b[0m\n"
     ]
    },
    {
     "name": "stdout",
     "output_type": "stream",
     "text": [
      "LogisticRegression(C=1.4481700358258314, max_iter=360.2175728648392,\n",
      "                   multi_class='multinomial', n_jobs=-1, random_state=42,\n",
      "                   solver='newton-cg', tol=0.0046191275390876745,\n",
      "                   warm_start=True)\n"
     ]
    },
    {
     "name": "stderr",
     "output_type": "stream",
     "text": [
      "\u001b[32m[I 2022-03-24 11:13:14,135]\u001b[0m Trial 26 finished with value: 0.7835184685375861 and parameters: {'tol': 0.0046191275390876745, 'C': 1.4481700358258314, 'max_iter': 360.2175728648392, 'warm_start': True}. Best is trial 23 with value: 0.7849678479181211.\u001b[0m\n"
     ]
    },
    {
     "name": "stdout",
     "output_type": "stream",
     "text": [
      "LogisticRegression(C=1.0241757720970825, max_iter=476.97746749045825,\n",
      "                   multi_class='multinomial', n_jobs=-1, random_state=42,\n",
      "                   solver='newton-cg', tol=0.0032640186969901713,\n",
      "                   warm_start=True)\n"
     ]
    },
    {
     "name": "stderr",
     "output_type": "stream",
     "text": [
      "\u001b[32m[I 2022-03-24 11:13:21,540]\u001b[0m Trial 27 finished with value: 0.7848696051457644 and parameters: {'tol': 0.0032640186969901713, 'C': 1.0241757720970825, 'max_iter': 476.97746749045825, 'warm_start': True}. Best is trial 23 with value: 0.7849678479181211.\u001b[0m\n"
     ]
    },
    {
     "name": "stdout",
     "output_type": "stream",
     "text": [
      "LogisticRegression(C=1.7613348287145776, max_iter=294.36172524523073,\n",
      "                   multi_class='multinomial', n_jobs=-1, random_state=42,\n",
      "                   solver='newton-cg', tol=0.005274916884039906)\n"
     ]
    },
    {
     "name": "stderr",
     "output_type": "stream",
     "text": [
      "\u001b[32m[I 2022-03-24 11:13:30,482]\u001b[0m Trial 28 finished with value: 0.7823244994593714 and parameters: {'tol': 0.005274916884039906, 'C': 1.7613348287145776, 'max_iter': 294.36172524523073, 'warm_start': False}. Best is trial 23 with value: 0.7849678479181211.\u001b[0m\n"
     ]
    },
    {
     "name": "stdout",
     "output_type": "stream",
     "text": [
      "LogisticRegression(C=1.311515552587422, max_iter=399.1029550398756,\n",
      "                   multi_class='multinomial', n_jobs=-1, random_state=42,\n",
      "                   solver='newton-cg', tol=0.0027376988511654786,\n",
      "                   warm_start=True)\n"
     ]
    },
    {
     "name": "stderr",
     "output_type": "stream",
     "text": [
      "\u001b[32m[I 2022-03-24 11:13:38,786]\u001b[0m Trial 29 finished with value: 0.78394820790943 and parameters: {'tol': 0.0027376988511654786, 'C': 1.311515552587422, 'max_iter': 399.1029550398756, 'warm_start': True}. Best is trial 23 with value: 0.7849678479181211.\u001b[0m\n"
     ]
    },
    {
     "name": "stdout",
     "output_type": "stream",
     "text": [
      "LogisticRegression(C=3.453467035433277, max_iter=165.7060241154318,\n",
      "                   multi_class='multinomial', n_jobs=-1, random_state=42,\n",
      "                   solver='newton-cg', tol=0.0005443062020899413,\n",
      "                   warm_start=True)\n"
     ]
    },
    {
     "name": "stderr",
     "output_type": "stream",
     "text": [
      "\u001b[32m[I 2022-03-24 11:13:52,324]\u001b[0m Trial 30 finished with value: 0.7783155847498278 and parameters: {'tol': 0.0005443062020899413, 'C': 3.453467035433277, 'max_iter': 165.7060241154318, 'warm_start': True}. Best is trial 23 with value: 0.7849678479181211.\u001b[0m\n"
     ]
    },
    {
     "name": "stdout",
     "output_type": "stream",
     "text": [
      "LogisticRegression(C=1.0399571681709474, max_iter=472.6610176121173,\n",
      "                   multi_class='multinomial', n_jobs=-1, random_state=42,\n",
      "                   solver='newton-cg', tol=0.004023021626958092,\n",
      "                   warm_start=True)\n"
     ]
    },
    {
     "name": "stderr",
     "output_type": "stream",
     "text": [
      "\u001b[32m[I 2022-03-24 11:13:59,357]\u001b[0m Trial 31 finished with value: 0.7848798995975178 and parameters: {'tol': 0.004023021626958092, 'C': 1.0399571681709474, 'max_iter': 472.6610176121173, 'warm_start': True}. Best is trial 23 with value: 0.7849678479181211.\u001b[0m\n"
     ]
    },
    {
     "name": "stdout",
     "output_type": "stream",
     "text": [
      "LogisticRegression(C=1.2581865601438, max_iter=408.585364023407,\n",
      "                   multi_class='multinomial', n_jobs=-1, random_state=42,\n",
      "                   solver='newton-cg', tol=0.0017759987367844314,\n",
      "                   warm_start=True)\n"
     ]
    },
    {
     "name": "stderr",
     "output_type": "stream",
     "text": [
      "\u001b[32m[I 2022-03-24 11:14:07,815]\u001b[0m Trial 32 finished with value: 0.7842733476918079 and parameters: {'tol': 0.0017759987367844314, 'C': 1.2581865601438, 'max_iter': 408.585364023407, 'warm_start': True}. Best is trial 23 with value: 0.7849678479181211.\u001b[0m\n"
     ]
    },
    {
     "name": "stdout",
     "output_type": "stream",
     "text": [
      "LogisticRegression(C=1.1840869023914342, max_iter=469.3240478438963,\n",
      "                   multi_class='multinomial', n_jobs=-1, random_state=42,\n",
      "                   solver='newton-cg', tol=0.003945396792534867,\n",
      "                   warm_start=True)\n"
     ]
    },
    {
     "name": "stderr",
     "output_type": "stream",
     "text": [
      "\u001b[32m[I 2022-03-24 11:14:15,839]\u001b[0m Trial 33 finished with value: 0.7844314939647681 and parameters: {'tol': 0.003945396792534867, 'C': 1.1840869023914342, 'max_iter': 469.3240478438963, 'warm_start': True}. Best is trial 23 with value: 0.7849678479181211.\u001b[0m\n"
     ]
    },
    {
     "name": "stdout",
     "output_type": "stream",
     "text": [
      "LogisticRegression(C=1.6410503513429062, max_iter=497.92023655429216,\n",
      "                   multi_class='multinomial', n_jobs=-1, random_state=42,\n",
      "                   solver='newton-cg', tol=0.006253814150492719,\n",
      "                   warm_start=True)\n"
     ]
    },
    {
     "name": "stderr",
     "output_type": "stream",
     "text": [
      "\u001b[32m[I 2022-03-24 11:14:24,819]\u001b[0m Trial 34 finished with value: 0.7829323739541453 and parameters: {'tol': 0.006253814150492719, 'C': 1.6410503513429062, 'max_iter': 497.92023655429216, 'warm_start': True}. Best is trial 23 with value: 0.7849678479181211.\u001b[0m\n"
     ]
    },
    {
     "name": "stdout",
     "output_type": "stream",
     "text": [
      "LogisticRegression(C=1.0022483746711222, max_iter=374.82107422970284,\n",
      "                   multi_class='multinomial', n_jobs=-1, random_state=42,\n",
      "                   solver='newton-cg', tol=0.0070085414590037275,\n",
      "                   warm_start=True)\n"
     ]
    },
    {
     "name": "stderr",
     "output_type": "stream",
     "text": [
      "\u001b[32m[I 2022-03-24 11:14:31,573]\u001b[0m Trial 35 finished with value: 0.7849470777422998 and parameters: {'tol': 0.0070085414590037275, 'C': 1.0022483746711222, 'max_iter': 374.82107422970284, 'warm_start': True}. Best is trial 23 with value: 0.7849678479181211.\u001b[0m\n"
     ]
    },
    {
     "name": "stdout",
     "output_type": "stream",
     "text": [
      "LogisticRegression(C=1.388390719816909, max_iter=370.2014536983829,\n",
      "                   multi_class='multinomial', n_jobs=-1, random_state=42,\n",
      "                   solver='newton-cg', tol=0.007162149986137509,\n",
      "                   warm_start=True)\n"
     ]
    },
    {
     "name": "stderr",
     "output_type": "stream",
     "text": [
      "\u001b[32m[I 2022-03-24 11:14:39,842]\u001b[0m Trial 36 finished with value: 0.7835625577954173 and parameters: {'tol': 0.007162149986137509, 'C': 1.388390719816909, 'max_iter': 370.2014536983829, 'warm_start': True}. Best is trial 23 with value: 0.7849678479181211.\u001b[0m\n"
     ]
    },
    {
     "name": "stdout",
     "output_type": "stream",
     "text": [
      "LogisticRegression(C=1.2088564172253182, max_iter=303.3972953699245,\n",
      "                   multi_class='multinomial', n_jobs=-1, random_state=42,\n",
      "                   solver='newton-cg', tol=0.005828312083571497,\n",
      "                   warm_start=True)\n"
     ]
    },
    {
     "name": "stderr",
     "output_type": "stream",
     "text": [
      "\u001b[32m[I 2022-03-24 11:14:47,094]\u001b[0m Trial 37 finished with value: 0.7843144265963605 and parameters: {'tol': 0.005828312083571497, 'C': 1.2088564172253182, 'max_iter': 303.3972953699245, 'warm_start': True}. Best is trial 23 with value: 0.7849678479181211.\u001b[0m\n"
     ]
    },
    {
     "name": "stdout",
     "output_type": "stream",
     "text": [
      "LogisticRegression(C=2.0577324088107196, max_iter=378.3597606774156,\n",
      "                   multi_class='multinomial', n_jobs=-1, random_state=42,\n",
      "                   solver='newton-cg', tol=0.0075833913217373235)\n"
     ]
    },
    {
     "name": "stderr",
     "output_type": "stream",
     "text": [
      "\u001b[32m[I 2022-03-24 11:14:57,052]\u001b[0m Trial 38 finished with value: 0.7813374682471863 and parameters: {'tol': 0.0075833913217373235, 'C': 2.0577324088107196, 'max_iter': 378.3597606774156, 'warm_start': False}. Best is trial 23 with value: 0.7849678479181211.\u001b[0m\n"
     ]
    },
    {
     "name": "stdout",
     "output_type": "stream",
     "text": [
      "LogisticRegression(C=1.1734354826058888, max_iter=332.8011615194725,\n",
      "                   multi_class='multinomial', n_jobs=-1, random_state=42,\n",
      "                   solver='newton-cg', tol=0.00970801949396429,\n",
      "                   warm_start=True)\n"
     ]
    },
    {
     "name": "stderr",
     "output_type": "stream",
     "text": [
      "\u001b[32m[I 2022-03-24 11:15:04,866]\u001b[0m Trial 39 finished with value: 0.7843900690474636 and parameters: {'tol': 0.00970801949396429, 'C': 1.1734354826058888, 'max_iter': 332.8011615194725, 'warm_start': True}. Best is trial 23 with value: 0.7849678479181211.\u001b[0m\n"
     ]
    },
    {
     "name": "stdout",
     "output_type": "stream",
     "text": [
      "LogisticRegression(C=2.726610594138706, max_iter=419.2605315766929,\n",
      "                   multi_class='multinomial', n_jobs=-1, random_state=42,\n",
      "                   solver='newton-cg', tol=0.00040799979054147775)\n"
     ]
    },
    {
     "name": "stderr",
     "output_type": "stream",
     "text": [
      "\u001b[32m[I 2022-03-24 11:15:18,163]\u001b[0m Trial 40 finished with value: 0.7795581881861748 and parameters: {'tol': 0.00040799979054147775, 'C': 2.726610594138706, 'max_iter': 419.2605315766929, 'warm_start': False}. Best is trial 23 with value: 0.7849678479181211.\u001b[0m\n"
     ]
    },
    {
     "name": "stdout",
     "output_type": "stream",
     "text": [
      "LogisticRegression(C=1.1254621463297547, max_iter=457.38235351739314,\n",
      "                   multi_class='multinomial', n_jobs=-1, random_state=42,\n",
      "                   solver='newton-cg', tol=0.0037161171729166325,\n",
      "                   warm_start=True)\n"
     ]
    },
    {
     "name": "stderr",
     "output_type": "stream",
     "text": [
      "\u001b[32m[I 2022-03-24 11:15:26,272]\u001b[0m Trial 41 finished with value: 0.7846852785626091 and parameters: {'tol': 0.0037161171729166325, 'C': 1.1254621463297547, 'max_iter': 457.38235351739314, 'warm_start': True}. Best is trial 23 with value: 0.7849678479181211.\u001b[0m\n"
     ]
    },
    {
     "name": "stdout",
     "output_type": "stream",
     "text": [
      "LogisticRegression(C=1.023597584230491, max_iter=478.88994777684627,\n",
      "                   multi_class='multinomial', n_jobs=-1, random_state=42,\n",
      "                   solver='newton-cg', tol=0.0026597788364174885,\n",
      "                   warm_start=True)\n"
     ]
    },
    {
     "name": "stderr",
     "output_type": "stream",
     "text": [
      "\u001b[32m[I 2022-03-24 11:15:33,658]\u001b[0m Trial 42 finished with value: 0.7848840747693507 and parameters: {'tol': 0.0026597788364174885, 'C': 1.023597584230491, 'max_iter': 478.88994777684627, 'warm_start': True}. Best is trial 23 with value: 0.7849678479181211.\u001b[0m\n"
     ]
    },
    {
     "name": "stdout",
     "output_type": "stream",
     "text": [
      "LogisticRegression(C=1.2126138289873234, max_iter=406.008644663294,\n",
      "                   multi_class='multinomial', n_jobs=-1, random_state=42,\n",
      "                   solver='newton-cg', tol=0.0011274780578720213,\n",
      "                   warm_start=True)\n"
     ]
    },
    {
     "name": "stderr",
     "output_type": "stream",
     "text": [
      "\u001b[32m[I 2022-03-24 11:15:42,396]\u001b[0m Trial 43 finished with value: 0.7842770734177267 and parameters: {'tol': 0.0011274780578720213, 'C': 1.2126138289873234, 'max_iter': 406.008644663294, 'warm_start': True}. Best is trial 23 with value: 0.7849678479181211.\u001b[0m\n"
     ]
    },
    {
     "name": "stdout",
     "output_type": "stream",
     "text": [
      "LogisticRegression(C=1.3700517064772106, max_iter=390.56716549335533,\n",
      "                   multi_class='multinomial', n_jobs=-1, random_state=42,\n",
      "                   solver='newton-cg', tol=0.002260276691980954,\n",
      "                   warm_start=True)\n"
     ]
    },
    {
     "name": "stderr",
     "output_type": "stream",
     "text": [
      "\u001b[32m[I 2022-03-24 11:15:50,941]\u001b[0m Trial 44 finished with value: 0.7835981812579618 and parameters: {'tol': 0.002260276691980954, 'C': 1.3700517064772106, 'max_iter': 390.56716549335533, 'warm_start': True}. Best is trial 23 with value: 0.7849678479181211.\u001b[0m\n"
     ]
    },
    {
     "name": "stdout",
     "output_type": "stream",
     "text": [
      "LogisticRegression(C=1.0099595992056243, max_iter=438.61854703074977,\n",
      "                   multi_class='multinomial', n_jobs=-1, random_state=42,\n",
      "                   solver='newton-cg', tol=0.005080000420126686,\n",
      "                   warm_start=True)\n"
     ]
    },
    {
     "name": "stderr",
     "output_type": "stream",
     "text": [
      "\u001b[32m[I 2022-03-24 11:15:58,179]\u001b[0m Trial 45 finished with value: 0.7849630160543505 and parameters: {'tol': 0.005080000420126686, 'C': 1.0099595992056243, 'max_iter': 438.61854703074977, 'warm_start': True}. Best is trial 23 with value: 0.7849678479181211.\u001b[0m\n"
     ]
    },
    {
     "name": "stdout",
     "output_type": "stream",
     "text": [
      "LogisticRegression(C=1.5853059471282749, max_iter=439.9650315148007,\n",
      "                   multi_class='multinomial', n_jobs=-1, random_state=42,\n",
      "                   solver='newton-cg', tol=0.005882808831384594)\n"
     ]
    },
    {
     "name": "stderr",
     "output_type": "stream",
     "text": [
      "\u001b[32m[I 2022-03-24 11:16:06,696]\u001b[0m Trial 46 finished with value: 0.7832466894885259 and parameters: {'tol': 0.005882808831384594, 'C': 1.5853059471282749, 'max_iter': 439.9650315148007, 'warm_start': False}. Best is trial 23 with value: 0.7849678479181211.\u001b[0m\n"
     ]
    },
    {
     "name": "stdout",
     "output_type": "stream",
     "text": [
      "LogisticRegression(C=1.002084713962284, max_iter=106.53430143766883,\n",
      "                   multi_class='multinomial', n_jobs=-1, random_state=42,\n",
      "                   solver='newton-cg', tol=0.004863219548647665,\n",
      "                   warm_start=True)\n"
     ]
    },
    {
     "name": "stderr",
     "output_type": "stream",
     "text": [
      "\u001b[32m[I 2022-03-24 11:16:13,806]\u001b[0m Trial 47 finished with value: 0.7849470777422998 and parameters: {'tol': 0.004863219548647665, 'C': 1.002084713962284, 'max_iter': 106.53430143766883, 'warm_start': True}. Best is trial 23 with value: 0.7849678479181211.\u001b[0m\n"
     ]
    },
    {
     "name": "stdout",
     "output_type": "stream",
     "text": [
      "LogisticRegression(C=3.3074038157807304, max_iter=157.84388541820138,\n",
      "                   multi_class='multinomial', n_jobs=-1, random_state=42,\n",
      "                   solver='newton-cg', tol=0.004840509248837607,\n",
      "                   warm_start=True)\n"
     ]
    },
    {
     "name": "stderr",
     "output_type": "stream",
     "text": [
      "\u001b[32m[I 2022-03-24 11:16:25,155]\u001b[0m Trial 48 finished with value: 0.7784231179406653 and parameters: {'tol': 0.004840509248837607, 'C': 3.3074038157807304, 'max_iter': 157.84388541820138, 'warm_start': True}. Best is trial 23 with value: 0.7849678479181211.\u001b[0m\n"
     ]
    },
    {
     "name": "stdout",
     "output_type": "stream",
     "text": [
      "LogisticRegression(C=1.1452810226180135, max_iter=221.60099021511286,\n",
      "                   multi_class='multinomial', n_jobs=-1, random_state=42,\n",
      "                   solver='newton-cg', tol=0.0015985950610295095,\n",
      "                   warm_start=True)\n"
     ]
    },
    {
     "name": "stderr",
     "output_type": "stream",
     "text": [
      "\u001b[32m[I 2022-03-24 11:16:33,786]\u001b[0m Trial 49 finished with value: 0.7845822216500837 and parameters: {'tol': 0.0015985950610295095, 'C': 1.1452810226180135, 'max_iter': 221.60099021511286, 'warm_start': True}. Best is trial 23 with value: 0.7849678479181211.\u001b[0m\n"
     ]
    },
    {
     "name": "stdout",
     "output_type": "stream",
     "text": [
      "LogisticRegression(C=1.4669833078958567, max_iter=265.3942005220821,\n",
      "                   multi_class='multinomial', n_jobs=-1, random_state=42,\n",
      "                   solver='newton-cg', tol=0.0002592966345647735,\n",
      "                   warm_start=True)\n"
     ]
    },
    {
     "name": "stderr",
     "output_type": "stream",
     "text": [
      "\u001b[32m[I 2022-03-24 11:16:43,927]\u001b[0m Trial 50 finished with value: 0.7834241677632069 and parameters: {'tol': 0.0002592966345647735, 'C': 1.4669833078958567, 'max_iter': 265.3942005220821, 'warm_start': True}. Best is trial 23 with value: 0.7849678479181211.\u001b[0m\n"
     ]
    },
    {
     "name": "stdout",
     "output_type": "stream",
     "text": [
      "LogisticRegression(C=1.0027826497295442, max_iter=104.83596621924752,\n",
      "                   multi_class='multinomial', n_jobs=-1, random_state=42,\n",
      "                   solver='newton-cg', tol=0.00769368080469309,\n",
      "                   warm_start=True)\n"
     ]
    },
    {
     "name": "stderr",
     "output_type": "stream",
     "text": [
      "\u001b[32m[I 2022-03-24 11:16:50,954]\u001b[0m Trial 51 finished with value: 0.7849470777422998 and parameters: {'tol': 0.00769368080469309, 'C': 1.0027826497295442, 'max_iter': 104.83596621924752, 'warm_start': True}. Best is trial 23 with value: 0.7849678479181211.\u001b[0m\n"
     ]
    },
    {
     "name": "stdout",
     "output_type": "stream",
     "text": [
      "LogisticRegression(C=1.2776337186234203, max_iter=142.88997870398157,\n",
      "                   multi_class='multinomial', n_jobs=-1, random_state=42,\n",
      "                   solver='newton-cg', tol=0.0068924358703294965,\n",
      "                   warm_start=True)\n"
     ]
    },
    {
     "name": "stderr",
     "output_type": "stream",
     "text": [
      "\u001b[32m[I 2022-03-24 11:16:58,542]\u001b[0m Trial 52 finished with value: 0.7842113669911321 and parameters: {'tol': 0.0068924358703294965, 'C': 1.2776337186234203, 'max_iter': 142.88997870398157, 'warm_start': True}. Best is trial 23 with value: 0.7849678479181211.\u001b[0m\n"
     ]
    },
    {
     "name": "stdout",
     "output_type": "stream",
     "text": [
      "LogisticRegression(C=1.006969238238275, max_iter=112.54274241195654,\n",
      "                   multi_class='multinomial', n_jobs=-1, random_state=42,\n",
      "                   solver='newton-cg', tol=0.004369025276407184,\n",
      "                   warm_start=True)\n"
     ]
    },
    {
     "name": "stderr",
     "output_type": "stream",
     "text": [
      "\u001b[32m[I 2022-03-24 11:17:06,241]\u001b[0m Trial 53 finished with value: 0.7849587180917477 and parameters: {'tol': 0.004369025276407184, 'C': 1.006969238238275, 'max_iter': 112.54274241195654, 'warm_start': True}. Best is trial 23 with value: 0.7849678479181211.\u001b[0m\n"
     ]
    },
    {
     "name": "stdout",
     "output_type": "stream",
     "text": [
      "LogisticRegression(C=1.122719928196566, max_iter=106.71236677922771,\n",
      "                   multi_class='multinomial', n_jobs=-1, random_state=42,\n",
      "                   solver='newton-cg', tol=0.005338152051118912,\n",
      "                   warm_start=True)\n"
     ]
    },
    {
     "name": "stderr",
     "output_type": "stream",
     "text": [
      "\u001b[32m[I 2022-03-24 11:17:13,376]\u001b[0m Trial 54 finished with value: 0.7847292873436661 and parameters: {'tol': 0.005338152051118912, 'C': 1.122719928196566, 'max_iter': 106.71236677922771, 'warm_start': True}. Best is trial 23 with value: 0.7849678479181211.\u001b[0m\n"
     ]
    },
    {
     "name": "stdout",
     "output_type": "stream",
     "text": [
      "LogisticRegression(C=1.0010775895427049, max_iter=127.26620647266404,\n",
      "                   multi_class='multinomial', n_jobs=-1, random_state=42,\n",
      "                   solver='newton-cg', tol=0.004393897703563241,\n",
      "                   warm_start=True)\n"
     ]
    },
    {
     "name": "stderr",
     "output_type": "stream",
     "text": [
      "\u001b[32m[I 2022-03-24 11:17:20,588]\u001b[0m Trial 55 finished with value: 0.7849462080945353 and parameters: {'tol': 0.004393897703563241, 'C': 1.0010775895427049, 'max_iter': 127.26620647266404, 'warm_start': True}. Best is trial 23 with value: 0.7849678479181211.\u001b[0m\n"
     ]
    },
    {
     "name": "stdout",
     "output_type": "stream",
     "text": [
      "LogisticRegression(C=1.1124432777596094, max_iter=105.43141818970795,\n",
      "                   multi_class='multinomial', n_jobs=-1, random_state=42,\n",
      "                   solver='newton-cg', tol=0.008075819214708227,\n",
      "                   warm_start=True)\n"
     ]
    },
    {
     "name": "stderr",
     "output_type": "stream",
     "text": [
      "\u001b[32m[I 2022-03-24 11:17:28,038]\u001b[0m Trial 56 finished with value: 0.7847844827686917 and parameters: {'tol': 0.008075819214708227, 'C': 1.1124432777596094, 'max_iter': 105.43141818970795, 'warm_start': True}. Best is trial 23 with value: 0.7849678479181211.\u001b[0m\n"
     ]
    },
    {
     "name": "stdout",
     "output_type": "stream",
     "text": [
      "LogisticRegression(C=1.2619505693991444, max_iter=187.2475580930618,\n",
      "                   multi_class='multinomial', n_jobs=-1, random_state=42,\n",
      "                   solver='newton-cg', tol=0.0030661547815538674,\n",
      "                   warm_start=True)\n"
     ]
    },
    {
     "name": "stderr",
     "output_type": "stream",
     "text": [
      "\u001b[32m[I 2022-03-24 11:17:36,083]\u001b[0m Trial 57 finished with value: 0.7842624518595898 and parameters: {'tol': 0.0030661547815538674, 'C': 1.2619505693991444, 'max_iter': 187.2475580930618, 'warm_start': True}. Best is trial 23 with value: 0.7849678479181211.\u001b[0m\n"
     ]
    },
    {
     "name": "stdout",
     "output_type": "stream",
     "text": [
      "LogisticRegression(C=2.159822749991458, max_iter=135.25900645726668,\n",
      "                   multi_class='multinomial', n_jobs=-1, random_state=42,\n",
      "                   solver='newton-cg', tol=0.003585448248306271,\n",
      "                   warm_start=True)\n"
     ]
    },
    {
     "name": "stderr",
     "output_type": "stream",
     "text": [
      "\u001b[32m[I 2022-03-24 11:17:47,076]\u001b[0m Trial 58 finished with value: 0.7810755664467641 and parameters: {'tol': 0.003585448248306271, 'C': 2.159822749991458, 'max_iter': 135.25900645726668, 'warm_start': True}. Best is trial 23 with value: 0.7849678479181211.\u001b[0m\n"
     ]
    },
    {
     "name": "stdout",
     "output_type": "stream",
     "text": [
      "LogisticRegression(C=1.9188607163846014, max_iter=151.89804439798775,\n",
      "                   multi_class='multinomial', n_jobs=-1, random_state=42,\n",
      "                   solver='newton-cg', tol=0.006350789872214038,\n",
      "                   warm_start=True)\n"
     ]
    },
    {
     "name": "stderr",
     "output_type": "stream",
     "text": [
      "\u001b[32m[I 2022-03-24 11:17:56,065]\u001b[0m Trial 59 finished with value: 0.781781367732713 and parameters: {'tol': 0.006350789872214038, 'C': 1.9188607163846014, 'max_iter': 151.89804439798775, 'warm_start': True}. Best is trial 23 with value: 0.7849678479181211.\u001b[0m\n"
     ]
    },
    {
     "name": "stdout",
     "output_type": "stream",
     "text": [
      "LogisticRegression(C=1.3715901759214426, max_iter=124.0003285869994,\n",
      "                   multi_class='multinomial', n_jobs=-1, random_state=42,\n",
      "                   solver='newton-cg', tol=0.008074241456080296,\n",
      "                   warm_start=True)\n"
     ]
    },
    {
     "name": "stderr",
     "output_type": "stream",
     "text": [
      "\u001b[32m[I 2022-03-24 11:18:04,033]\u001b[0m Trial 60 finished with value: 0.783587612582684 and parameters: {'tol': 0.008074241456080296, 'C': 1.3715901759214426, 'max_iter': 124.0003285869994, 'warm_start': True}. Best is trial 23 with value: 0.7849678479181211.\u001b[0m\n"
     ]
    },
    {
     "name": "stdout",
     "output_type": "stream",
     "text": [
      "LogisticRegression(C=1.0224262077285666, max_iter=119.87240586874486,\n",
      "                   multi_class='multinomial', n_jobs=-1, random_state=42,\n",
      "                   solver='newton-cg', tol=0.0043909399665408525,\n",
      "                   warm_start=True)\n"
     ]
    },
    {
     "name": "stderr",
     "output_type": "stream",
     "text": [
      "\u001b[32m[I 2022-03-24 11:18:11,590]\u001b[0m Trial 61 finished with value: 0.7849023983650762 and parameters: {'tol': 0.0043909399665408525, 'C': 1.0224262077285666, 'max_iter': 119.87240586874486, 'warm_start': True}. Best is trial 23 with value: 0.7849678479181211.\u001b[0m\n"
     ]
    },
    {
     "name": "stdout",
     "output_type": "stream",
     "text": [
      "LogisticRegression(C=1.0000277432213343, max_iter=100.59390263582986,\n",
      "                   multi_class='multinomial', n_jobs=-1, random_state=42,\n",
      "                   solver='newton-cg', tol=0.00429619220921027,\n",
      "                   warm_start=True)\n"
     ]
    },
    {
     "name": "stderr",
     "output_type": "stream",
     "text": [
      "\u001b[32m[I 2022-03-24 11:18:18,862]\u001b[0m Trial 62 finished with value: 0.7849750984092239 and parameters: {'tol': 0.00429619220921027, 'C': 1.0000277432213343, 'max_iter': 100.59390263582986, 'warm_start': True}. Best is trial 62 with value: 0.7849750984092239.\u001b[0m\n"
     ]
    },
    {
     "name": "stdout",
     "output_type": "stream",
     "text": [
      "LogisticRegression(C=1.1131949563815002, max_iter=105.75094070804515,\n",
      "                   multi_class='multinomial', n_jobs=-1, random_state=42,\n",
      "                   solver='newton-cg', tol=0.005801388851176845,\n",
      "                   warm_start=True)\n"
     ]
    },
    {
     "name": "stderr",
     "output_type": "stream",
     "text": [
      "\u001b[32m[I 2022-03-24 11:18:26,184]\u001b[0m Trial 63 finished with value: 0.7847844827686917 and parameters: {'tol': 0.005801388851176845, 'C': 1.1131949563815002, 'max_iter': 105.75094070804515, 'warm_start': True}. Best is trial 62 with value: 0.7849750984092239.\u001b[0m\n"
     ]
    },
    {
     "name": "stdout",
     "output_type": "stream",
     "text": [
      "LogisticRegression(C=1.221599992178981, max_iter=120.7425115291993,\n",
      "                   multi_class='multinomial', n_jobs=-1, random_state=42,\n",
      "                   solver='newton-cg', tol=0.0029866607089757036,\n",
      "                   warm_start=True)\n"
     ]
    },
    {
     "name": "stderr",
     "output_type": "stream",
     "text": [
      "\u001b[32m[I 2022-03-24 11:18:33,573]\u001b[0m Trial 64 finished with value: 0.7842469422296894 and parameters: {'tol': 0.0029866607089757036, 'C': 1.221599992178981, 'max_iter': 120.7425115291993, 'warm_start': True}. Best is trial 62 with value: 0.7849750984092239.\u001b[0m\n"
     ]
    },
    {
     "name": "stdout",
     "output_type": "stream",
     "text": [
      "LogisticRegression(C=1.0937833853492762, max_iter=171.9495251499254,\n",
      "                   multi_class='multinomial', n_jobs=-1, random_state=42,\n",
      "                   solver='newton-cg', tol=0.0049463606067334034,\n",
      "                   warm_start=True)\n"
     ]
    },
    {
     "name": "stderr",
     "output_type": "stream",
     "text": [
      "\u001b[32m[I 2022-03-24 11:18:40,905]\u001b[0m Trial 65 finished with value: 0.7847534286788348 and parameters: {'tol': 0.0049463606067334034, 'C': 1.0937833853492762, 'max_iter': 171.9495251499254, 'warm_start': True}. Best is trial 62 with value: 0.7849750984092239.\u001b[0m\n"
     ]
    },
    {
     "name": "stdout",
     "output_type": "stream",
     "text": [
      "LogisticRegression(C=1.3082273883257847, max_iter=100.56949259540305,\n",
      "                   multi_class='multinomial', n_jobs=-1, random_state=42,\n",
      "                   solver='newton-cg', tol=0.001991045531790135,\n",
      "                   warm_start=True)\n"
     ]
    },
    {
     "name": "stderr",
     "output_type": "stream",
     "text": [
      "\u001b[32m[I 2022-03-24 11:18:49,638]\u001b[0m Trial 66 finished with value: 0.7840035306753106 and parameters: {'tol': 0.001991045531790135, 'C': 1.3082273883257847, 'max_iter': 100.56949259540305, 'warm_start': True}. Best is trial 62 with value: 0.7849750984092239.\u001b[0m\n"
     ]
    },
    {
     "name": "stdout",
     "output_type": "stream",
     "text": [
      "LogisticRegression(C=1.184564818885733, max_iter=139.14349075298068,\n",
      "                   multi_class='multinomial', n_jobs=-1, random_state=42,\n",
      "                   solver='newton-cg', tol=0.003493412168419352,\n",
      "                   warm_start=True)\n"
     ]
    },
    {
     "name": "stderr",
     "output_type": "stream",
     "text": [
      "\u001b[32m[I 2022-03-24 11:18:57,327]\u001b[0m Trial 67 finished with value: 0.7844200433415373 and parameters: {'tol': 0.003493412168419352, 'C': 1.184564818885733, 'max_iter': 139.14349075298068, 'warm_start': True}. Best is trial 62 with value: 0.7849750984092239.\u001b[0m\n"
     ]
    },
    {
     "name": "stdout",
     "output_type": "stream",
     "text": [
      "LogisticRegression(C=1.0025537419413302, max_iter=149.49976495768638,\n",
      "                   multi_class='multinomial', n_jobs=-1, random_state=42,\n",
      "                   solver='newton-cg', tol=0.0024564118494405634,\n",
      "                   warm_start=True)\n"
     ]
    },
    {
     "name": "stderr",
     "output_type": "stream",
     "text": [
      "\u001b[32m[I 2022-03-24 11:19:04,790]\u001b[0m Trial 68 finished with value: 0.7849470777422998 and parameters: {'tol': 0.0024564118494405634, 'C': 1.0025537419413302, 'max_iter': 149.49976495768638, 'warm_start': True}. Best is trial 62 with value: 0.7849750984092239.\u001b[0m\n"
     ]
    },
    {
     "name": "stdout",
     "output_type": "stream",
     "text": [
      "LogisticRegression(C=1.0828684388705105, max_iter=182.4100827480076,\n",
      "                   multi_class='multinomial', n_jobs=-1, random_state=42,\n",
      "                   solver='newton-cg', tol=0.0025715135752547532,\n",
      "                   warm_start=True)\n"
     ]
    },
    {
     "name": "stderr",
     "output_type": "stream",
     "text": [
      "\u001b[32m[I 2022-03-24 11:19:12,920]\u001b[0m Trial 69 finished with value: 0.7846955791461666 and parameters: {'tol': 0.0025715135752547532, 'C': 1.0828684388705105, 'max_iter': 182.4100827480076, 'warm_start': True}. Best is trial 62 with value: 0.7849750984092239.\u001b[0m\n"
     ]
    },
    {
     "name": "stdout",
     "output_type": "stream",
     "text": [
      "LogisticRegression(C=2.9000167613424344, max_iter=153.02295297645122,\n",
      "                   multi_class='multinomial', n_jobs=-1, random_state=42,\n",
      "                   solver='newton-cg', tol=0.003996442052287703,\n",
      "                   warm_start=True)\n"
     ]
    },
    {
     "name": "stderr",
     "output_type": "stream",
     "text": [
      "\u001b[32m[I 2022-03-24 11:19:23,847]\u001b[0m Trial 70 finished with value: 0.7791264918465092 and parameters: {'tol': 0.003996442052287703, 'C': 2.9000167613424344, 'max_iter': 153.02295297645122, 'warm_start': True}. Best is trial 62 with value: 0.7849750984092239.\u001b[0m\n"
     ]
    },
    {
     "name": "stdout",
     "output_type": "stream",
     "text": [
      "LogisticRegression(C=1.0003518689700548, max_iter=113.59292015736585,\n",
      "                   multi_class='multinomial', n_jobs=-1, random_state=42,\n",
      "                   solver='newton-cg', tol=0.006941065949751301,\n",
      "                   warm_start=True)\n"
     ]
    },
    {
     "name": "stderr",
     "output_type": "stream",
     "text": [
      "\u001b[32m[I 2022-03-24 11:19:30,714]\u001b[0m Trial 71 finished with value: 0.7849750984092239 and parameters: {'tol': 0.006941065949751301, 'C': 1.0003518689700548, 'max_iter': 113.59292015736585, 'warm_start': True}. Best is trial 62 with value: 0.7849750984092239.\u001b[0m\n"
     ]
    },
    {
     "name": "stdout",
     "output_type": "stream",
     "text": [
      "LogisticRegression(C=1.0791302782444443, max_iter=115.14720590245636,\n",
      "                   multi_class='multinomial', n_jobs=-1, random_state=42,\n",
      "                   solver='newton-cg', tol=0.0054148585346156745,\n",
      "                   warm_start=True)\n"
     ]
    },
    {
     "name": "stderr",
     "output_type": "stream",
     "text": [
      "\u001b[32m[I 2022-03-24 11:19:38,063]\u001b[0m Trial 72 finished with value: 0.78465272272144 and parameters: {'tol': 0.0054148585346156745, 'C': 1.0791302782444443, 'max_iter': 115.14720590245636, 'warm_start': True}. Best is trial 62 with value: 0.7849750984092239.\u001b[0m\n"
     ]
    },
    {
     "name": "stdout",
     "output_type": "stream",
     "text": [
      "LogisticRegression(C=1.1728877395656077, max_iter=139.68795197311977,\n",
      "                   multi_class='multinomial', n_jobs=-1, random_state=42,\n",
      "                   solver='newton-cg', tol=0.00434166444078553,\n",
      "                   warm_start=True)\n"
     ]
    },
    {
     "name": "stderr",
     "output_type": "stream",
     "text": [
      "\u001b[32m[I 2022-03-24 11:19:45,445]\u001b[0m Trial 73 finished with value: 0.784405415638079 and parameters: {'tol': 0.00434166444078553, 'C': 1.1728877395656077, 'max_iter': 139.68795197311977, 'warm_start': True}. Best is trial 62 with value: 0.7849750984092239.\u001b[0m\n"
     ]
    },
    {
     "name": "stdout",
     "output_type": "stream",
     "text": [
      "LogisticRegression(C=1.3361028910101134, max_iter=130.93310810339432,\n",
      "                   multi_class='multinomial', n_jobs=-1, random_state=42,\n",
      "                   solver='newton-cg', tol=0.006453198447106417,\n",
      "                   warm_start=True)\n"
     ]
    },
    {
     "name": "stderr",
     "output_type": "stream",
     "text": [
      "\u001b[32m[I 2022-03-24 11:19:53,851]\u001b[0m Trial 74 finished with value: 0.7837566009248084 and parameters: {'tol': 0.006453198447106417, 'C': 1.3361028910101134, 'max_iter': 130.93310810339432, 'warm_start': True}. Best is trial 62 with value: 0.7849750984092239.\u001b[0m\n"
     ]
    },
    {
     "name": "stdout",
     "output_type": "stream",
     "text": [
      "LogisticRegression(C=2.4452540606004245, max_iter=115.88829634218555,\n",
      "                   multi_class='multinomial', n_jobs=-1, random_state=42,\n",
      "                   solver='newton-cg', tol=0.008217770878101854,\n",
      "                   warm_start=True)\n"
     ]
    },
    {
     "name": "stderr",
     "output_type": "stream",
     "text": [
      "\u001b[32m[I 2022-03-24 11:20:03,899]\u001b[0m Trial 75 finished with value: 0.780312743776568 and parameters: {'tol': 0.008217770878101854, 'C': 2.4452540606004245, 'max_iter': 115.88829634218555, 'warm_start': True}. Best is trial 62 with value: 0.7849750984092239.\u001b[0m\n"
     ]
    },
    {
     "name": "stdout",
     "output_type": "stream",
     "text": [
      "LogisticRegression(C=1.2489359854876103, max_iter=201.21962139844115,\n",
      "                   multi_class='multinomial', n_jobs=-1, random_state=42,\n",
      "                   solver='newton-cg', tol=0.0029033549751861514,\n",
      "                   warm_start=True)\n"
     ]
    },
    {
     "name": "stderr",
     "output_type": "stream",
     "text": [
      "\u001b[32m[I 2022-03-24 11:20:11,516]\u001b[0m Trial 76 finished with value: 0.7842639191671055 and parameters: {'tol': 0.0029033549751861514, 'C': 1.2489359854876103, 'max_iter': 201.21962139844115, 'warm_start': True}. Best is trial 62 with value: 0.7849750984092239.\u001b[0m\n"
     ]
    },
    {
     "name": "stdout",
     "output_type": "stream",
     "text": [
      "LogisticRegression(C=1.4702901037237037, max_iter=315.15736995425465,\n",
      "                   multi_class='multinomial', n_jobs=-1, random_state=42,\n",
      "                   solver='newton-cg', tol=0.008878593903261433,\n",
      "                   warm_start=True)\n"
     ]
    },
    {
     "name": "stderr",
     "output_type": "stream",
     "text": [
      "\u001b[32m[I 2022-03-24 11:20:19,272]\u001b[0m Trial 77 finished with value: 0.7834265861775274 and parameters: {'tol': 0.008878593903261433, 'C': 1.4702901037237037, 'max_iter': 315.15736995425465, 'warm_start': True}. Best is trial 62 with value: 0.7849750984092239.\u001b[0m\n"
     ]
    },
    {
     "name": "stdout",
     "output_type": "stream",
     "text": [
      "LogisticRegression(C=1.0749335377799407, max_iter=414.1647153020259,\n",
      "                   multi_class='multinomial', n_jobs=-1, random_state=42,\n",
      "                   solver='newton-cg', tol=0.007443488989443145,\n",
      "                   warm_start=True)\n"
     ]
    },
    {
     "name": "stderr",
     "output_type": "stream",
     "text": [
      "\u001b[32m[I 2022-03-24 11:20:26,377]\u001b[0m Trial 78 finished with value: 0.7846579828090204 and parameters: {'tol': 0.007443488989443145, 'C': 1.0749335377799407, 'max_iter': 414.1647153020259, 'warm_start': True}. Best is trial 62 with value: 0.7849750984092239.\u001b[0m\n"
     ]
    },
    {
     "name": "stdout",
     "output_type": "stream",
     "text": [
      "LogisticRegression(C=1.0043991987437046, max_iter=356.0540473106793,\n",
      "                   multi_class='multinomial', n_jobs=-1, random_state=42,\n",
      "                   solver='newton-cg', tol=0.002333545121819195,\n",
      "                   warm_start=True)\n"
     ]
    },
    {
     "name": "stderr",
     "output_type": "stream",
     "text": [
      "\u001b[32m[I 2022-03-24 11:20:34,099]\u001b[0m Trial 79 finished with value: 0.7849536144055083 and parameters: {'tol': 0.002333545121819195, 'C': 1.0043991987437046, 'max_iter': 356.0540473106793, 'warm_start': True}. Best is trial 62 with value: 0.7849750984092239.\u001b[0m\n"
     ]
    },
    {
     "name": "stdout",
     "output_type": "stream",
     "text": [
      "LogisticRegression(C=1.1638115637003736, max_iter=351.2630603081815,\n",
      "                   multi_class='multinomial', n_jobs=-1, random_state=42,\n",
      "                   solver='newton-cg', tol=0.0022953841602288217,\n",
      "                   warm_start=True)\n"
     ]
    },
    {
     "name": "stderr",
     "output_type": "stream",
     "text": [
      "\u001b[32m[I 2022-03-24 11:20:42,295]\u001b[0m Trial 80 finished with value: 0.7843963562034277 and parameters: {'tol': 0.0022953841602288217, 'C': 1.1638115637003736, 'max_iter': 351.2630603081815, 'warm_start': True}. Best is trial 62 with value: 0.7849750984092239.\u001b[0m\n"
     ]
    },
    {
     "name": "stdout",
     "output_type": "stream",
     "text": [
      "LogisticRegression(C=1.0066456713214813, max_iter=377.95280391031514,\n",
      "                   multi_class='multinomial', n_jobs=-1, random_state=42,\n",
      "                   solver='newton-cg', tol=0.0033960180326035997,\n",
      "                   warm_start=True)\n"
     ]
    },
    {
     "name": "stderr",
     "output_type": "stream",
     "text": [
      "\u001b[32m[I 2022-03-24 11:20:49,703]\u001b[0m Trial 81 finished with value: 0.7849587180917477 and parameters: {'tol': 0.0033960180326035997, 'C': 1.0066456713214813, 'max_iter': 377.95280391031514, 'warm_start': True}. Best is trial 62 with value: 0.7849750984092239.\u001b[0m\n"
     ]
    },
    {
     "name": "stdout",
     "output_type": "stream",
     "text": [
      "LogisticRegression(C=1.0809362328754668, max_iter=378.72947456377545,\n",
      "                   multi_class='multinomial', n_jobs=-1, random_state=42,\n",
      "                   solver='newton-cg', tol=0.003572803843080559,\n",
      "                   warm_start=True)\n"
     ]
    },
    {
     "name": "stderr",
     "output_type": "stream",
     "text": [
      "\u001b[32m[I 2022-03-24 11:20:57,470]\u001b[0m Trial 82 finished with value: 0.7846631527044365 and parameters: {'tol': 0.003572803843080559, 'C': 1.0809362328754668, 'max_iter': 378.72947456377545, 'warm_start': True}. Best is trial 62 with value: 0.7849750984092239.\u001b[0m\n"
     ]
    },
    {
     "name": "stdout",
     "output_type": "stream",
     "text": [
      "LogisticRegression(C=1.216474992684669, max_iter=438.5645544977973,\n",
      "                   multi_class='multinomial', n_jobs=-1, random_state=42,\n",
      "                   solver='newton-cg', tol=0.004887716958071954,\n",
      "                   warm_start=True)\n"
     ]
    },
    {
     "name": "stderr",
     "output_type": "stream",
     "text": [
      "\u001b[32m[I 2022-03-24 11:21:05,338]\u001b[0m Trial 83 finished with value: 0.7842706229582764 and parameters: {'tol': 0.004887716958071954, 'C': 1.216474992684669, 'max_iter': 438.5645544977973, 'warm_start': True}. Best is trial 62 with value: 0.7849750984092239.\u001b[0m\n"
     ]
    },
    {
     "name": "stdout",
     "output_type": "stream",
     "text": [
      "LogisticRegression(C=1.0671146221600556, max_iter=400.99939485215435,\n",
      "                   multi_class='multinomial', n_jobs=-1, random_state=42,\n",
      "                   solver='newton-cg', tol=0.007049222026091275,\n",
      "                   warm_start=True)\n"
     ]
    },
    {
     "name": "stderr",
     "output_type": "stream",
     "text": [
      "\u001b[32m[I 2022-03-24 11:21:12,475]\u001b[0m Trial 84 finished with value: 0.7847004651067679 and parameters: {'tol': 0.007049222026091275, 'C': 1.0671146221600556, 'max_iter': 400.99939485215435, 'warm_start': True}. Best is trial 62 with value: 0.7849750984092239.\u001b[0m\n"
     ]
    },
    {
     "name": "stdout",
     "output_type": "stream",
     "text": [
      "LogisticRegression(C=1.1510278849309046, max_iter=342.4663316553308,\n",
      "                   multi_class='multinomial', n_jobs=-1, random_state=42,\n",
      "                   solver='newton-cg', tol=0.0013715585712257819)\n"
     ]
    },
    {
     "name": "stderr",
     "output_type": "stream",
     "text": [
      "\u001b[32m[I 2022-03-24 11:21:20,402]\u001b[0m Trial 85 finished with value: 0.7845474034312071 and parameters: {'tol': 0.0013715585712257819, 'C': 1.1510278849309046, 'max_iter': 342.4663316553308, 'warm_start': False}. Best is trial 62 with value: 0.7849750984092239.\u001b[0m\n"
     ]
    },
    {
     "name": "stdout",
     "output_type": "stream",
     "text": [
      "LogisticRegression(C=1.0584207793517613, max_iter=366.63168213585976,\n",
      "                   multi_class='multinomial', n_jobs=-1, random_state=42,\n",
      "                   solver='newton-cg', tol=0.003993341560958808,\n",
      "                   warm_start=True)\n"
     ]
    },
    {
     "name": "stderr",
     "output_type": "stream",
     "text": [
      "\u001b[32m[I 2022-03-24 11:21:27,787]\u001b[0m Trial 86 finished with value: 0.7847864353191742 and parameters: {'tol': 0.003993341560958808, 'C': 1.0584207793517613, 'max_iter': 366.63168213585976, 'warm_start': True}. Best is trial 62 with value: 0.7849750984092239.\u001b[0m\n"
     ]
    },
    {
     "name": "stdout",
     "output_type": "stream",
     "text": [
      "LogisticRegression(C=1.0055927001125875, max_iter=392.5672952480578,\n",
      "                   multi_class='multinomial', n_jobs=-1, random_state=42,\n",
      "                   solver='newton-cg', tol=0.003227393069208278,\n",
      "                   warm_start=True)\n"
     ]
    },
    {
     "name": "stderr",
     "output_type": "stream",
     "text": [
      "\u001b[32m[I 2022-03-24 11:21:34,879]\u001b[0m Trial 87 finished with value: 0.784937640637841 and parameters: {'tol': 0.003227393069208278, 'C': 1.0055927001125875, 'max_iter': 392.5672952480578, 'warm_start': True}. Best is trial 62 with value: 0.7849750984092239.\u001b[0m\n"
     ]
    },
    {
     "name": "stdout",
     "output_type": "stream",
     "text": [
      "LogisticRegression(C=1.265267715139628, max_iter=271.7220092472846,\n",
      "                   multi_class='multinomial', n_jobs=-1, random_state=42,\n",
      "                   solver='newton-cg', tol=0.0007626742999459398,\n",
      "                   warm_start=True)\n"
     ]
    },
    {
     "name": "stderr",
     "output_type": "stream",
     "text": [
      "\u001b[32m[I 2022-03-24 11:21:43,700]\u001b[0m Trial 88 finished with value: 0.7842945633868112 and parameters: {'tol': 0.0007626742999459398, 'C': 1.265267715139628, 'max_iter': 271.7220092472846, 'warm_start': True}. Best is trial 62 with value: 0.7849750984092239.\u001b[0m\n"
     ]
    },
    {
     "name": "stdout",
     "output_type": "stream",
     "text": [
      "LogisticRegression(C=1.153142609620613, max_iter=331.48856203242093,\n",
      "                   multi_class='multinomial', n_jobs=-1, random_state=42,\n",
      "                   solver='newton-cg', tol=0.002568647140250979,\n",
      "                   warm_start=True)\n"
     ]
    },
    {
     "name": "stderr",
     "output_type": "stream",
     "text": [
      "\u001b[32m[I 2022-03-24 11:21:51,741]\u001b[0m Trial 89 finished with value: 0.784481999301839 and parameters: {'tol': 0.002568647140250979, 'C': 1.153142609620613, 'max_iter': 331.48856203242093, 'warm_start': True}. Best is trial 62 with value: 0.7849750984092239.\u001b[0m\n"
     ]
    },
    {
     "name": "stdout",
     "output_type": "stream",
     "text": [
      "LogisticRegression(C=1.4152772698548883, max_iter=360.032510654177,\n",
      "                   multi_class='multinomial', n_jobs=-1, random_state=42,\n",
      "                   solver='newton-cg', tol=0.0052935905089176285,\n",
      "                   warm_start=True)\n"
     ]
    },
    {
     "name": "stderr",
     "output_type": "stream",
     "text": [
      "\u001b[32m[I 2022-03-24 11:21:59,784]\u001b[0m Trial 90 finished with value: 0.7833753875654221 and parameters: {'tol': 0.0052935905089176285, 'C': 1.4152772698548883, 'max_iter': 360.032510654177, 'warm_start': True}. Best is trial 62 with value: 0.7849750984092239.\u001b[0m\n"
     ]
    },
    {
     "name": "stdout",
     "output_type": "stream",
     "text": [
      "LogisticRegression(C=1.0077037638375397, max_iter=113.4393724031221,\n",
      "                   multi_class='multinomial', n_jobs=-1, random_state=42,\n",
      "                   solver='newton-cg', tol=0.001889473133550664,\n",
      "                   warm_start=True)\n"
     ]
    },
    {
     "name": "stderr",
     "output_type": "stream",
     "text": [
      "\u001b[32m[I 2022-03-24 11:22:07,488]\u001b[0m Trial 91 finished with value: 0.7849588477852985 and parameters: {'tol': 0.001889473133550664, 'C': 1.0077037638375397, 'max_iter': 113.4393724031221, 'warm_start': True}. Best is trial 62 with value: 0.7849750984092239.\u001b[0m\n"
     ]
    },
    {
     "name": "stdout",
     "output_type": "stream",
     "text": [
      "LogisticRegression(C=1.1211176755555323, max_iter=383.83743547606514,\n",
      "                   multi_class='multinomial', n_jobs=-1, random_state=42,\n",
      "                   solver='newton-cg', tol=0.0017377240254180504,\n",
      "                   warm_start=True)\n"
     ]
    },
    {
     "name": "stderr",
     "output_type": "stream",
     "text": [
      "\u001b[32m[I 2022-03-24 11:22:15,535]\u001b[0m Trial 92 finished with value: 0.7847304573297649 and parameters: {'tol': 0.0017377240254180504, 'C': 1.1211176755555323, 'max_iter': 383.83743547606514, 'warm_start': True}. Best is trial 62 with value: 0.7849750984092239.\u001b[0m\n"
     ]
    },
    {
     "name": "stdout",
     "output_type": "stream",
     "text": [
      "LogisticRegression(C=1.0041581437387752, max_iter=113.35977019753055,\n",
      "                   multi_class='multinomial', n_jobs=-1, random_state=42,\n",
      "                   solver='newton-cg', tol=0.002124638998377944,\n",
      "                   warm_start=True)\n"
     ]
    },
    {
     "name": "stderr",
     "output_type": "stream",
     "text": [
      "\u001b[32m[I 2022-03-24 11:22:23,228]\u001b[0m Trial 93 finished with value: 0.7849393834341003 and parameters: {'tol': 0.002124638998377944, 'C': 1.0041581437387752, 'max_iter': 113.35977019753055, 'warm_start': True}. Best is trial 62 with value: 0.7849750984092239.\u001b[0m\n"
     ]
    },
    {
     "name": "stdout",
     "output_type": "stream",
     "text": [
      "LogisticRegression(C=1.0648264288509925, max_iter=433.026508932644,\n",
      "                   multi_class='multinomial', n_jobs=-1, random_state=42,\n",
      "                   solver='newton-cg', tol=0.0015600546628987656,\n",
      "                   warm_start=True)\n"
     ]
    },
    {
     "name": "stderr",
     "output_type": "stream",
     "text": [
      "\u001b[32m[I 2022-03-24 11:22:31,623]\u001b[0m Trial 94 finished with value: 0.7847260464868068 and parameters: {'tol': 0.0015600546628987656, 'C': 1.0648264288509925, 'max_iter': 433.026508932644, 'warm_start': True}. Best is trial 62 with value: 0.7849750984092239.\u001b[0m\n"
     ]
    },
    {
     "name": "stdout",
     "output_type": "stream",
     "text": [
      "LogisticRegression(C=1.2165222408565133, max_iter=447.53529147550773,\n",
      "                   multi_class='multinomial', n_jobs=-1, random_state=42,\n",
      "                   solver='newton-cg', tol=0.005878144576021896,\n",
      "                   warm_start=True)\n"
     ]
    },
    {
     "name": "stderr",
     "output_type": "stream",
     "text": [
      "\u001b[32m[I 2022-03-24 11:22:39,253]\u001b[0m Trial 95 finished with value: 0.7842706229582764 and parameters: {'tol': 0.005878144576021896, 'C': 1.2165222408565133, 'max_iter': 447.53529147550773, 'warm_start': True}. Best is trial 62 with value: 0.7849750984092239.\u001b[0m\n"
     ]
    },
    {
     "name": "stdout",
     "output_type": "stream",
     "text": [
      "LogisticRegression(C=1.1380352454137486, max_iter=129.35693079297056,\n",
      "                   multi_class='multinomial', n_jobs=-1, random_state=42,\n",
      "                   solver='newton-cg', tol=0.004274641088250999,\n",
      "                   warm_start=True)\n"
     ]
    },
    {
     "name": "stderr",
     "output_type": "stream",
     "text": [
      "\u001b[32m[I 2022-03-24 11:22:46,881]\u001b[0m Trial 96 finished with value: 0.7846092949707677 and parameters: {'tol': 0.004274641088250999, 'C': 1.1380352454137486, 'max_iter': 129.35693079297056, 'warm_start': True}. Best is trial 62 with value: 0.7849750984092239.\u001b[0m\n"
     ]
    },
    {
     "name": "stdout",
     "output_type": "stream",
     "text": [
      "LogisticRegression(C=1.320725709683483, max_iter=414.083883350241,\n",
      "                   multi_class='multinomial', n_jobs=-1, random_state=42,\n",
      "                   solver='newton-cg', tol=0.003646154018410245)\n"
     ]
    },
    {
     "name": "stderr",
     "output_type": "stream",
     "text": [
      "\u001b[32m[I 2022-03-24 11:22:55,310]\u001b[0m Trial 97 finished with value: 0.783926757008361 and parameters: {'tol': 0.003646154018410245, 'C': 1.320725709683483, 'max_iter': 414.083883350241, 'warm_start': False}. Best is trial 62 with value: 0.7849750984092239.\u001b[0m\n"
     ]
    },
    {
     "name": "stdout",
     "output_type": "stream",
     "text": [
      "LogisticRegression(C=1.0492705132645384, max_iter=424.67042019881444,\n",
      "                   multi_class='multinomial', n_jobs=-1, random_state=42,\n",
      "                   solver='newton-cg', tol=0.00650035617404908,\n",
      "                   warm_start=True)\n"
     ]
    },
    {
     "name": "stderr",
     "output_type": "stream",
     "text": [
      "\u001b[32m[I 2022-03-24 11:23:02,211]\u001b[0m Trial 98 finished with value: 0.784802783323725 and parameters: {'tol': 0.00650035617404908, 'C': 1.0492705132645384, 'max_iter': 424.67042019881444, 'warm_start': True}. Best is trial 62 with value: 0.7849750984092239.\u001b[0m\n"
     ]
    },
    {
     "name": "stdout",
     "output_type": "stream",
     "text": [
      "LogisticRegression(C=1.702855047840856, max_iter=373.59965943674996,\n",
      "                   multi_class='multinomial', n_jobs=-1, random_state=42,\n",
      "                   solver='newton-cg', tol=0.0032391981423420453,\n",
      "                   warm_start=True)\n"
     ]
    },
    {
     "name": "stderr",
     "output_type": "stream",
     "text": [
      "\u001b[32m[I 2022-03-24 11:23:11,514]\u001b[0m Trial 99 finished with value: 0.7826732367155234 and parameters: {'tol': 0.0032391981423420453, 'C': 1.702855047840856, 'max_iter': 373.59965943674996, 'warm_start': True}. Best is trial 62 with value: 0.7849750984092239.\u001b[0m\n"
     ]
    },
    {
     "name": "stdout",
     "output_type": "stream",
     "text": [
      "LogisticRegression(C=1.2056003820160428, max_iter=243.69384751777753,\n",
      "                   multi_class='multinomial', n_jobs=-1, random_state=42,\n",
      "                   solver='newton-cg', tol=0.004801973435671963,\n",
      "                   warm_start=True)\n"
     ]
    },
    {
     "name": "stderr",
     "output_type": "stream",
     "text": [
      "\u001b[32m[I 2022-03-24 11:23:19,028]\u001b[0m Trial 100 finished with value: 0.7843144265963605 and parameters: {'tol': 0.004801973435671963, 'C': 1.2056003820160428, 'max_iter': 243.69384751777753, 'warm_start': True}. Best is trial 62 with value: 0.7849750984092239.\u001b[0m\n"
     ]
    },
    {
     "name": "stdout",
     "output_type": "stream",
     "text": [
      "LogisticRegression(C=1.0042268685145186, max_iter=146.42674747501852,\n",
      "                   multi_class='multinomial', n_jobs=-1, random_state=42,\n",
      "                   solver='newton-cg', tol=0.0026875596783136357,\n",
      "                   warm_start=True)\n"
     ]
    },
    {
     "name": "stderr",
     "output_type": "stream",
     "text": [
      "\u001b[32m[I 2022-03-24 11:23:26,610]\u001b[0m Trial 101 finished with value: 0.7849536144055083 and parameters: {'tol': 0.0026875596783136357, 'C': 1.0042268685145186, 'max_iter': 146.42674747501852, 'warm_start': True}. Best is trial 62 with value: 0.7849750984092239.\u001b[0m\n"
     ]
    },
    {
     "name": "stdout",
     "output_type": "stream",
     "text": [
      "LogisticRegression(C=1.0499785331412959, max_iter=146.5072285745249,\n",
      "                   multi_class='multinomial', n_jobs=-1, random_state=42,\n",
      "                   solver='newton-cg', tol=0.0029197754155651312,\n",
      "                   warm_start=True)\n"
     ]
    },
    {
     "name": "stderr",
     "output_type": "stream",
     "text": [
      "\u001b[32m[I 2022-03-24 11:23:34,094]\u001b[0m Trial 102 finished with value: 0.7847885507687039 and parameters: {'tol': 0.0029197754155651312, 'C': 1.0499785331412959, 'max_iter': 146.5072285745249, 'warm_start': True}. Best is trial 62 with value: 0.7849750984092239.\u001b[0m\n"
     ]
    },
    {
     "name": "stdout",
     "output_type": "stream",
     "text": [
      "LogisticRegression(C=1.1172481571277955, max_iter=159.79084003361424,\n",
      "                   multi_class='multinomial', n_jobs=-1, random_state=42,\n",
      "                   solver='newton-cg', tol=0.0024522121059372386,\n",
      "                   warm_start=True)\n"
     ]
    },
    {
     "name": "stderr",
     "output_type": "stream",
     "text": [
      "\u001b[32m[I 2022-03-24 11:23:41,967]\u001b[0m Trial 103 finished with value: 0.784757949776529 and parameters: {'tol': 0.0024522121059372386, 'C': 1.1172481571277955, 'max_iter': 159.79084003361424, 'warm_start': True}. Best is trial 62 with value: 0.7849750984092239.\u001b[0m\n"
     ]
    },
    {
     "name": "stdout",
     "output_type": "stream",
     "text": [
      "LogisticRegression(C=1.0075275959958665, max_iter=100.31758361607483,\n",
      "                   multi_class='multinomial', n_jobs=-1, random_state=42,\n",
      "                   solver='newton-cg', tol=0.0019508610518414631,\n",
      "                   warm_start=True)\n"
     ]
    },
    {
     "name": "stderr",
     "output_type": "stream",
     "text": [
      "\u001b[32m[I 2022-03-24 11:23:49,716]\u001b[0m Trial 104 finished with value: 0.7849588477852985 and parameters: {'tol': 0.0019508610518414631, 'C': 1.0075275959958665, 'max_iter': 100.31758361607483, 'warm_start': True}. Best is trial 62 with value: 0.7849750984092239.\u001b[0m\n"
     ]
    },
    {
     "name": "stdout",
     "output_type": "stream",
     "text": [
      "LogisticRegression(C=1.0975171875670986, max_iter=100.21623273674577,\n",
      "                   multi_class='multinomial', n_jobs=-1, random_state=42,\n",
      "                   solver='newton-cg', tol=0.0019049751090153394,\n",
      "                   warm_start=True)\n"
     ]
    },
    {
     "name": "stderr",
     "output_type": "stream",
     "text": [
      "\u001b[32m[I 2022-03-24 11:23:57,734]\u001b[0m Trial 105 finished with value: 0.784685645435149 and parameters: {'tol': 0.0019049751090153394, 'C': 1.0975171875670986, 'max_iter': 100.21623273674577, 'warm_start': True}. Best is trial 62 with value: 0.7849750984092239.\u001b[0m\n"
     ]
    },
    {
     "name": "stdout",
     "output_type": "stream",
     "text": [
      "LogisticRegression(C=1.1688853764169416, max_iter=112.59867895111365,\n",
      "                   multi_class='multinomial', n_jobs=-1, random_state=42,\n",
      "                   solver='newton-cg', tol=0.0011418311942431633,\n",
      "                   warm_start=True)\n"
     ]
    },
    {
     "name": "stderr",
     "output_type": "stream",
     "text": [
      "\u001b[32m[I 2022-03-24 11:24:06,334]\u001b[0m Trial 106 finished with value: 0.7843713384460662 and parameters: {'tol': 0.0011418311942431633, 'C': 1.1688853764169416, 'max_iter': 112.59867895111365, 'warm_start': True}. Best is trial 62 with value: 0.7849750984092239.\u001b[0m\n"
     ]
    },
    {
     "name": "stdout",
     "output_type": "stream",
     "text": [
      "LogisticRegression(C=1.0000706181326244, max_iter=130.67439829657312,\n",
      "                   multi_class='multinomial', n_jobs=-1, random_state=42,\n",
      "                   solver='newton-cg', tol=0.00280637549925988,\n",
      "                   warm_start=True)\n"
     ]
    },
    {
     "name": "stderr",
     "output_type": "stream",
     "text": [
      "\u001b[32m[I 2022-03-24 11:24:13,735]\u001b[0m Trial 107 finished with value: 0.7849750984092239 and parameters: {'tol': 0.00280637549925988, 'C': 1.0000706181326244, 'max_iter': 130.67439829657312, 'warm_start': True}. Best is trial 62 with value: 0.7849750984092239.\u001b[0m\n"
     ]
    },
    {
     "name": "stdout",
     "output_type": "stream",
     "text": [
      "LogisticRegression(C=1.0521540036216503, max_iter=124.66987391609209,\n",
      "                   multi_class='multinomial', n_jobs=-1, random_state=42,\n",
      "                   solver='newton-cg', tol=0.002826409863706432,\n",
      "                   warm_start=True)\n"
     ]
    },
    {
     "name": "stderr",
     "output_type": "stream",
     "text": [
      "\u001b[32m[I 2022-03-24 11:24:21,331]\u001b[0m Trial 108 finished with value: 0.7847721017259864 and parameters: {'tol': 0.002826409863706432, 'C': 1.0521540036216503, 'max_iter': 124.66987391609209, 'warm_start': True}. Best is trial 62 with value: 0.7849750984092239.\u001b[0m\n"
     ]
    },
    {
     "name": "stdout",
     "output_type": "stream",
     "text": [
      "LogisticRegression(C=1.244959113593643, max_iter=132.242930949813,\n",
      "                   multi_class='multinomial', n_jobs=-1, random_state=42,\n",
      "                   solver='newton-cg', tol=0.002159463165679832,\n",
      "                   warm_start=True)\n"
     ]
    },
    {
     "name": "stderr",
     "output_type": "stream",
     "text": [
      "\u001b[32m[I 2022-03-24 11:24:29,456]\u001b[0m Trial 109 finished with value: 0.7842198677863952 and parameters: {'tol': 0.002159463165679832, 'C': 1.244959113593643, 'max_iter': 132.242930949813, 'warm_start': True}. Best is trial 62 with value: 0.7849750984092239.\u001b[0m\n"
     ]
    },
    {
     "name": "stdout",
     "output_type": "stream",
     "text": [
      "LogisticRegression(C=1.1194210069766395, max_iter=170.51205306200737,\n",
      "                   multi_class='multinomial', n_jobs=-1, random_state=42,\n",
      "                   solver='newton-cg', tol=0.003423598909169423,\n",
      "                   warm_start=True)\n"
     ]
    },
    {
     "name": "stderr",
     "output_type": "stream",
     "text": [
      "\u001b[32m[I 2022-03-24 11:24:37,114]\u001b[0m Trial 110 finished with value: 0.7847558631209457 and parameters: {'tol': 0.003423598909169423, 'C': 1.1194210069766395, 'max_iter': 170.51205306200737, 'warm_start': True}. Best is trial 62 with value: 0.7849750984092239.\u001b[0m\n"
     ]
    },
    {
     "name": "stdout",
     "output_type": "stream",
     "text": [
      "LogisticRegression(C=1.0034801207730066, max_iter=285.0050677302137,\n",
      "                   multi_class='multinomial', n_jobs=-1, random_state=42,\n",
      "                   solver='newton-cg', tol=0.003924275465518969,\n",
      "                   warm_start=True)\n"
     ]
    },
    {
     "name": "stderr",
     "output_type": "stream",
     "text": [
      "\u001b[32m[I 2022-03-24 11:24:44,301]\u001b[0m Trial 111 finished with value: 0.7849549254783592 and parameters: {'tol': 0.003924275465518969, 'C': 1.0034801207730066, 'max_iter': 285.0050677302137, 'warm_start': True}. Best is trial 62 with value: 0.7849750984092239.\u001b[0m\n"
     ]
    },
    {
     "name": "stdout",
     "output_type": "stream",
     "text": [
      "LogisticRegression(C=1.049419877387707, max_iter=110.71455245105146,\n",
      "                   multi_class='multinomial', n_jobs=-1, random_state=42,\n",
      "                   solver='newton-cg', tol=0.002021093167874087,\n",
      "                   warm_start=True)\n"
     ]
    },
    {
     "name": "stderr",
     "output_type": "stream",
     "text": [
      "\u001b[32m[I 2022-03-24 11:24:52,280]\u001b[0m Trial 112 finished with value: 0.784802783323725 and parameters: {'tol': 0.002021093167874087, 'C': 1.049419877387707, 'max_iter': 110.71455245105146, 'warm_start': True}. Best is trial 62 with value: 0.7849750984092239.\u001b[0m\n"
     ]
    },
    {
     "name": "stdout",
     "output_type": "stream",
     "text": [
      "LogisticRegression(C=1.0001594120678383, max_iter=284.6992353248129,\n",
      "                   multi_class='multinomial', n_jobs=-1, random_state=42,\n",
      "                   solver='newton-cg', tol=0.003900920792827897,\n",
      "                   warm_start=True)\n"
     ]
    },
    {
     "name": "stderr",
     "output_type": "stream",
     "text": [
      "\u001b[32m[I 2022-03-24 11:24:59,296]\u001b[0m Trial 113 finished with value: 0.7849750984092239 and parameters: {'tol': 0.003900920792827897, 'C': 1.0001594120678383, 'max_iter': 284.6992353248129, 'warm_start': True}. Best is trial 62 with value: 0.7849750984092239.\u001b[0m\n"
     ]
    },
    {
     "name": "stdout",
     "output_type": "stream",
     "text": [
      "LogisticRegression(C=1.0921576814042853, max_iter=290.03328712929135,\n",
      "                   multi_class='multinomial', n_jobs=-1, random_state=42,\n",
      "                   solver='newton-cg', tol=0.003794030966645657,\n",
      "                   warm_start=True)\n"
     ]
    },
    {
     "name": "stderr",
     "output_type": "stream",
     "text": [
      "\u001b[32m[I 2022-03-24 11:25:06,871]\u001b[0m Trial 114 finished with value: 0.7847425781197932 and parameters: {'tol': 0.003794030966645657, 'C': 1.0921576814042853, 'max_iter': 290.03328712929135, 'warm_start': True}. Best is trial 62 with value: 0.7849750984092239.\u001b[0m\n"
     ]
    },
    {
     "name": "stdout",
     "output_type": "stream",
     "text": [
      "LogisticRegression(C=1.1788989597568666, max_iter=283.316468192841,\n",
      "                   multi_class='multinomial', n_jobs=-1, random_state=42,\n",
      "                   solver='newton-cg', tol=0.00409076735378707,\n",
      "                   warm_start=True)\n"
     ]
    },
    {
     "name": "stderr",
     "output_type": "stream",
     "text": [
      "\u001b[32m[I 2022-03-24 11:25:14,161]\u001b[0m Trial 115 finished with value: 0.7843571101490168 and parameters: {'tol': 0.00409076735378707, 'C': 1.1788989597568666, 'max_iter': 283.316468192841, 'warm_start': True}. Best is trial 62 with value: 0.7849750984092239.\u001b[0m\n"
     ]
    },
    {
     "name": "stdout",
     "output_type": "stream",
     "text": [
      "LogisticRegression(C=2.284307777982765, max_iter=247.42786754548916,\n",
      "                   multi_class='multinomial', n_jobs=-1, random_state=42,\n",
      "                   solver='newton-cg', tol=0.004565688402557176)\n"
     ]
    },
    {
     "name": "stderr",
     "output_type": "stream",
     "text": [
      "\u001b[32m[I 2022-03-24 11:25:24,693]\u001b[0m Trial 116 finished with value: 0.7809317755355384 and parameters: {'tol': 0.004565688402557176, 'C': 2.284307777982765, 'max_iter': 247.42786754548916, 'warm_start': False}. Best is trial 62 with value: 0.7849750984092239.\u001b[0m\n"
     ]
    },
    {
     "name": "stdout",
     "output_type": "stream",
     "text": [
      "LogisticRegression(C=1.044559469800309, max_iter=300.939629686275,\n",
      "                   multi_class='multinomial', n_jobs=-1, random_state=42,\n",
      "                   solver='newton-cg', tol=0.003196720367277782,\n",
      "                   warm_start=True)\n"
     ]
    },
    {
     "name": "stderr",
     "output_type": "stream",
     "text": [
      "\u001b[32m[I 2022-03-24 11:25:32,135]\u001b[0m Trial 117 finished with value: 0.7848315170906155 and parameters: {'tol': 0.003196720367277782, 'C': 1.044559469800309, 'max_iter': 300.939629686275, 'warm_start': True}. Best is trial 62 with value: 0.7849750984092239.\u001b[0m\n"
     ]
    },
    {
     "name": "stdout",
     "output_type": "stream",
     "text": [
      "LogisticRegression(C=1.138486571824561, max_iter=120.41528292753503,\n",
      "                   multi_class='multinomial', n_jobs=-1, random_state=42,\n",
      "                   solver='newton-cg', tol=0.002736125831149339,\n",
      "                   warm_start=True)\n"
     ]
    },
    {
     "name": "stderr",
     "output_type": "stream",
     "text": [
      "\u001b[32m[I 2022-03-24 11:25:39,963]\u001b[0m Trial 118 finished with value: 0.7846092949707677 and parameters: {'tol': 0.002736125831149339, 'C': 1.138486571824561, 'max_iter': 120.41528292753503, 'warm_start': True}. Best is trial 62 with value: 0.7849750984092239.\u001b[0m\n"
     ]
    },
    {
     "name": "stdout",
     "output_type": "stream",
     "text": [
      "LogisticRegression(C=1.280174099922329, max_iter=217.29705094879478,\n",
      "                   multi_class='multinomial', n_jobs=-1, random_state=42,\n",
      "                   solver='newton-cg', tol=0.005570618596535216,\n",
      "                   warm_start=True)\n"
     ]
    },
    {
     "name": "stderr",
     "output_type": "stream",
     "text": [
      "\u001b[32m[I 2022-03-24 11:25:48,274]\u001b[0m Trial 119 finished with value: 0.7841980624559942 and parameters: {'tol': 0.005570618596535216, 'C': 1.280174099922329, 'max_iter': 217.29705094879478, 'warm_start': True}. Best is trial 62 with value: 0.7849750984092239.\u001b[0m\n"
     ]
    },
    {
     "name": "stdout",
     "output_type": "stream",
     "text": [
      "LogisticRegression(C=2.6407650999745256, max_iter=308.3876531465183,\n",
      "                   multi_class='multinomial', n_jobs=-1, random_state=42,\n",
      "                   solver='newton-cg', tol=0.003785601581577042,\n",
      "                   warm_start=True)\n"
     ]
    },
    {
     "name": "stderr",
     "output_type": "stream",
     "text": [
      "\u001b[32m[I 2022-03-24 11:25:58,957]\u001b[0m Trial 120 finished with value: 0.7797751862459699 and parameters: {'tol': 0.003785601581577042, 'C': 2.6407650999745256, 'max_iter': 308.3876531465183, 'warm_start': True}. Best is trial 62 with value: 0.7849750984092239.\u001b[0m\n"
     ]
    },
    {
     "name": "stdout",
     "output_type": "stream",
     "text": [
      "LogisticRegression(C=1.0250112467533947, max_iter=134.99218449055851,\n",
      "                   multi_class='multinomial', n_jobs=-1, random_state=42,\n",
      "                   solver='newton-cg', tol=0.0016862760867616864,\n",
      "                   warm_start=True)\n"
     ]
    },
    {
     "name": "stderr",
     "output_type": "stream",
     "text": [
      "\u001b[32m[I 2022-03-24 11:26:06,849]\u001b[0m Trial 121 finished with value: 0.7848741255238632 and parameters: {'tol': 0.0016862760867616864, 'C': 1.0250112467533947, 'max_iter': 134.99218449055851, 'warm_start': True}. Best is trial 62 with value: 0.7849750984092239.\u001b[0m\n"
     ]
    },
    {
     "name": "stdout",
     "output_type": "stream",
     "text": [
      "LogisticRegression(C=1.0066757583281172, max_iter=100.74163860234565,\n",
      "                   multi_class='multinomial', n_jobs=-1, random_state=42,\n",
      "                   solver='newton-cg', tol=0.0022946612256790127,\n",
      "                   warm_start=True)\n"
     ]
    },
    {
     "name": "stderr",
     "output_type": "stream",
     "text": [
      "\u001b[32m[I 2022-03-24 11:26:14,472]\u001b[0m Trial 122 finished with value: 0.7849587180917477 and parameters: {'tol': 0.0022946612256790127, 'C': 1.0066757583281172, 'max_iter': 100.74163860234565, 'warm_start': True}. Best is trial 62 with value: 0.7849750984092239.\u001b[0m\n"
     ]
    },
    {
     "name": "stdout",
     "output_type": "stream",
     "text": [
      "LogisticRegression(C=1.086469210594373, max_iter=101.20148603084598,\n",
      "                   multi_class='multinomial', n_jobs=-1, random_state=42,\n",
      "                   solver='newton-cg', tol=0.0034282909804088345,\n",
      "                   warm_start=True)\n"
     ]
    },
    {
     "name": "stderr",
     "output_type": "stream",
     "text": [
      "\u001b[32m[I 2022-03-24 11:26:22,326]\u001b[0m Trial 123 finished with value: 0.7847601664995599 and parameters: {'tol': 0.0034282909804088345, 'C': 1.086469210594373, 'max_iter': 101.20148603084598, 'warm_start': True}. Best is trial 62 with value: 0.7849750984092239.\u001b[0m\n"
     ]
    },
    {
     "name": "stdout",
     "output_type": "stream",
     "text": [
      "LogisticRegression(C=1.0069983499026876, max_iter=111.95448113555517,\n",
      "                   multi_class='multinomial', n_jobs=-1, random_state=42,\n",
      "                   solver='newton-cg', tol=0.0030206601079173275,\n",
      "                   warm_start=True)\n"
     ]
    },
    {
     "name": "stderr",
     "output_type": "stream",
     "text": [
      "\u001b[32m[I 2022-03-24 11:26:29,611]\u001b[0m Trial 124 finished with value: 0.7849587180917477 and parameters: {'tol': 0.0030206601079173275, 'C': 1.0069983499026876, 'max_iter': 111.95448113555517, 'warm_start': True}. Best is trial 62 with value: 0.7849750984092239.\u001b[0m\n"
     ]
    },
    {
     "name": "stdout",
     "output_type": "stream",
     "text": [
      "LogisticRegression(C=1.1876063362268743, max_iter=111.40091076955039,\n",
      "                   multi_class='multinomial', n_jobs=-1, random_state=42,\n",
      "                   solver='newton-cg', tol=0.0044899374925274635,\n",
      "                   warm_start=True)\n"
     ]
    },
    {
     "name": "stderr",
     "output_type": "stream",
     "text": [
      "\u001b[32m[I 2022-03-24 11:26:37,238]\u001b[0m Trial 125 finished with value: 0.7843903956921687 and parameters: {'tol': 0.0044899374925274635, 'C': 1.1876063362268743, 'max_iter': 111.40091076955039, 'warm_start': True}. Best is trial 62 with value: 0.7849750984092239.\u001b[0m\n"
     ]
    },
    {
     "name": "stdout",
     "output_type": "stream",
     "text": [
      "LogisticRegression(C=1.0003248590769058, max_iter=120.41792603831581,\n",
      "                   multi_class='multinomial', n_jobs=-1, random_state=42,\n",
      "                   solver='newton-cg', tol=0.0041293992105936785,\n",
      "                   warm_start=True)\n"
     ]
    },
    {
     "name": "stderr",
     "output_type": "stream",
     "text": [
      "\u001b[32m[I 2022-03-24 11:26:44,212]\u001b[0m Trial 126 finished with value: 0.7849750984092239 and parameters: {'tol': 0.0041293992105936785, 'C': 1.0003248590769058, 'max_iter': 120.41792603831581, 'warm_start': True}. Best is trial 62 with value: 0.7849750984092239.\u001b[0m\n"
     ]
    },
    {
     "name": "stdout",
     "output_type": "stream",
     "text": [
      "LogisticRegression(C=1.0962073894293458, max_iter=117.58086168254452,\n",
      "                   multi_class='multinomial', n_jobs=-1, random_state=42,\n",
      "                   solver='newton-cg', tol=0.0014330936253612201,\n",
      "                   warm_start=True)\n"
     ]
    },
    {
     "name": "stderr",
     "output_type": "stream",
     "text": [
      "\u001b[32m[I 2022-03-24 11:26:52,350]\u001b[0m Trial 127 finished with value: 0.7847120734484319 and parameters: {'tol': 0.0014330936253612201, 'C': 1.0962073894293458, 'max_iter': 117.58086168254452, 'warm_start': True}. Best is trial 62 with value: 0.7849750984092239.\u001b[0m\n"
     ]
    },
    {
     "name": "stdout",
     "output_type": "stream",
     "text": [
      "LogisticRegression(C=1.1379669820444234, max_iter=125.80624197507393,\n",
      "                   multi_class='multinomial', n_jobs=-1, random_state=42,\n",
      "                   solver='newton-cg', tol=0.004253960168652168,\n",
      "                   warm_start=True)\n"
     ]
    },
    {
     "name": "stderr",
     "output_type": "stream",
     "text": [
      "\u001b[32m[I 2022-03-24 11:26:59,879]\u001b[0m Trial 128 finished with value: 0.7846092949707677 and parameters: {'tol': 0.004253960168652168, 'C': 1.1379669820444234, 'max_iter': 125.80624197507393, 'warm_start': True}. Best is trial 62 with value: 0.7849750984092239.\u001b[0m\n"
     ]
    },
    {
     "name": "stdout",
     "output_type": "stream",
     "text": [
      "LogisticRegression(C=1.0612907713344624, max_iter=108.88498700936299,\n",
      "                   multi_class='multinomial', n_jobs=-1, random_state=42,\n",
      "                   solver='newton-cg', tol=0.005314864618906755,\n",
      "                   warm_start=True)\n"
     ]
    },
    {
     "name": "stderr",
     "output_type": "stream",
     "text": [
      "\u001b[32m[I 2022-03-24 11:27:07,122]\u001b[0m Trial 129 finished with value: 0.7847386042851685 and parameters: {'tol': 0.005314864618906755, 'C': 1.0612907713344624, 'max_iter': 108.88498700936299, 'warm_start': True}. Best is trial 62 with value: 0.7849750984092239.\u001b[0m\n"
     ]
    },
    {
     "name": "stdout",
     "output_type": "stream",
     "text": [
      "LogisticRegression(C=1.227096998766314, max_iter=458.494708495645,\n",
      "                   multi_class='multinomial', n_jobs=-1, random_state=42,\n",
      "                   solver='newton-cg', tol=0.0029917253645240995,\n",
      "                   warm_start=True)\n"
     ]
    },
    {
     "name": "stderr",
     "output_type": "stream",
     "text": [
      "\u001b[32m[I 2022-03-24 11:27:15,042]\u001b[0m Trial 130 finished with value: 0.7842183899319357 and parameters: {'tol': 0.0029917253645240995, 'C': 1.227096998766314, 'max_iter': 458.494708495645, 'warm_start': True}. Best is trial 62 with value: 0.7849750984092239.\u001b[0m\n"
     ]
    },
    {
     "name": "stdout",
     "output_type": "stream",
     "text": [
      "LogisticRegression(C=1.0049599974582306, max_iter=118.36491076291519,\n",
      "                   multi_class='multinomial', n_jobs=-1, random_state=42,\n",
      "                   solver='newton-cg', tol=0.003216358166324999,\n",
      "                   warm_start=True)\n"
     ]
    },
    {
     "name": "stderr",
     "output_type": "stream",
     "text": [
      "\u001b[32m[I 2022-03-24 11:27:22,139]\u001b[0m Trial 131 finished with value: 0.7849678479181211 and parameters: {'tol': 0.003216358166324999, 'C': 1.0049599974582306, 'max_iter': 118.36491076291519, 'warm_start': True}. Best is trial 62 with value: 0.7849750984092239.\u001b[0m\n"
     ]
    },
    {
     "name": "stdout",
     "output_type": "stream",
     "text": [
      "LogisticRegression(C=1.0541765892346997, max_iter=120.72206438979327,\n",
      "                   multi_class='multinomial', n_jobs=-1, random_state=42,\n",
      "                   solver='newton-cg', tol=0.00016348660134580707,\n",
      "                   warm_start=True)\n"
     ]
    },
    {
     "name": "stderr",
     "output_type": "stream",
     "text": [
      "\u001b[32m[I 2022-03-24 11:27:31,211]\u001b[0m Trial 132 finished with value: 0.7847684231175606 and parameters: {'tol': 0.00016348660134580707, 'C': 1.0541765892346997, 'max_iter': 120.72206438979327, 'warm_start': True}. Best is trial 62 with value: 0.7849750984092239.\u001b[0m\n"
     ]
    },
    {
     "name": "stdout",
     "output_type": "stream",
     "text": [
      "LogisticRegression(C=1.1009579294251775, max_iter=101.08634005684628,\n",
      "                   multi_class='multinomial', n_jobs=-1, random_state=42,\n",
      "                   solver='newton-cg', tol=0.0031583078500069814,\n",
      "                   warm_start=True)\n"
     ]
    },
    {
     "name": "stderr",
     "output_type": "stream",
     "text": [
      "\u001b[32m[I 2022-03-24 11:27:38,902]\u001b[0m Trial 133 finished with value: 0.784651784902731 and parameters: {'tol': 0.0031583078500069814, 'C': 1.1009579294251775, 'max_iter': 101.08634005684628, 'warm_start': True}. Best is trial 62 with value: 0.7849750984092239.\u001b[0m\n"
     ]
    },
    {
     "name": "stdout",
     "output_type": "stream",
     "text": [
      "LogisticRegression(C=1.003018197964595, max_iter=138.6936897689295,\n",
      "                   multi_class='multinomial', n_jobs=-1, random_state=42,\n",
      "                   solver='newton-cg', tol=0.0023929828626126897,\n",
      "                   warm_start=True)\n"
     ]
    },
    {
     "name": "stderr",
     "output_type": "stream",
     "text": [
      "\u001b[32m[I 2022-03-24 11:27:46,503]\u001b[0m Trial 134 finished with value: 0.784965798054389 and parameters: {'tol': 0.0023929828626126897, 'C': 1.003018197964595, 'max_iter': 138.6936897689295, 'warm_start': True}. Best is trial 62 with value: 0.7849750984092239.\u001b[0m\n"
     ]
    },
    {
     "name": "stdout",
     "output_type": "stream",
     "text": [
      "LogisticRegression(C=1.1421495057801072, max_iter=133.0026799680256,\n",
      "                   multi_class='multinomial', n_jobs=-1, random_state=42,\n",
      "                   solver='newton-cg', tol=0.0023909765435033065,\n",
      "                   warm_start=True)\n"
     ]
    },
    {
     "name": "stderr",
     "output_type": "stream",
     "text": [
      "\u001b[32m[I 2022-03-24 11:27:54,700]\u001b[0m Trial 135 finished with value: 0.7845936416441361 and parameters: {'tol': 0.0023909765435033065, 'C': 1.1421495057801072, 'max_iter': 133.0026799680256, 'warm_start': True}. Best is trial 62 with value: 0.7849750984092239.\u001b[0m\n"
     ]
    },
    {
     "name": "stdout",
     "output_type": "stream",
     "text": [
      "LogisticRegression(C=1.8955945989536411, max_iter=142.26542458089224,\n",
      "                   multi_class='multinomial', n_jobs=-1, random_state=42,\n",
      "                   solver='newton-cg', tol=0.0034672142402515462,\n",
      "                   warm_start=True)\n"
     ]
    },
    {
     "name": "stderr",
     "output_type": "stream",
     "text": [
      "\u001b[32m[I 2022-03-24 11:28:04,622]\u001b[0m Trial 136 finished with value: 0.7818613478666088 and parameters: {'tol': 0.0034672142402515462, 'C': 1.8955945989536411, 'max_iter': 142.26542458089224, 'warm_start': True}. Best is trial 62 with value: 0.7849750984092239.\u001b[0m\n"
     ]
    },
    {
     "name": "stdout",
     "output_type": "stream",
     "text": [
      "LogisticRegression(C=3.1586950464788544, max_iter=126.49287011344445,\n",
      "                   multi_class='multinomial', n_jobs=-1, random_state=42,\n",
      "                   solver='newton-cg', tol=0.002128065118594957)\n"
     ]
    },
    {
     "name": "stderr",
     "output_type": "stream",
     "text": [
      "\u001b[32m[I 2022-03-24 11:28:16,031]\u001b[0m Trial 137 finished with value: 0.778563728896849 and parameters: {'tol': 0.002128065118594957, 'C': 3.1586950464788544, 'max_iter': 126.49287011344445, 'warm_start': False}. Best is trial 62 with value: 0.7849750984092239.\u001b[0m\n"
     ]
    },
    {
     "name": "stdout",
     "output_type": "stream",
     "text": [
      "LogisticRegression(C=1.0538436746058761, max_iter=114.6017424654054,\n",
      "                   multi_class='multinomial', n_jobs=-1, random_state=42,\n",
      "                   solver='newton-cg', tol=0.004873592374755127,\n",
      "                   warm_start=True)\n"
     ]
    },
    {
     "name": "stderr",
     "output_type": "stream",
     "text": [
      "\u001b[32m[I 2022-03-24 11:28:23,376]\u001b[0m Trial 138 finished with value: 0.7847684231175606 and parameters: {'tol': 0.004873592374755127, 'C': 1.0538436746058761, 'max_iter': 114.6017424654054, 'warm_start': True}. Best is trial 62 with value: 0.7849750984092239.\u001b[0m\n"
     ]
    },
    {
     "name": "stdout",
     "output_type": "stream",
     "text": [
      "LogisticRegression(C=1.0002985166527372, max_iter=137.11853666912924,\n",
      "                   multi_class='multinomial', n_jobs=-1, random_state=42,\n",
      "                   solver='newton-cg', tol=0.0026782410772077697,\n",
      "                   warm_start=True)\n"
     ]
    },
    {
     "name": "stderr",
     "output_type": "stream",
     "text": [
      "\u001b[32m[I 2022-03-24 11:28:30,814]\u001b[0m Trial 139 finished with value: 0.7849750984092239 and parameters: {'tol': 0.0026782410772077697, 'C': 1.0002985166527372, 'max_iter': 137.11853666912924, 'warm_start': True}. Best is trial 62 with value: 0.7849750984092239.\u001b[0m\n"
     ]
    },
    {
     "name": "stdout",
     "output_type": "stream",
     "text": [
      "LogisticRegression(C=1.1743586056664521, max_iter=138.1257948032271,\n",
      "                   multi_class='multinomial', n_jobs=-1, random_state=42,\n",
      "                   solver='newton-cg', tol=0.002593609485370017,\n",
      "                   warm_start=True)\n"
     ]
    },
    {
     "name": "stderr",
     "output_type": "stream",
     "text": [
      "\u001b[32m[I 2022-03-24 11:28:39,023]\u001b[0m Trial 140 finished with value: 0.7844050119437288 and parameters: {'tol': 0.002593609485370017, 'C': 1.1743586056664521, 'max_iter': 138.1257948032271, 'warm_start': True}. Best is trial 62 with value: 0.7849750984092239.\u001b[0m\n"
     ]
    },
    {
     "name": "stdout",
     "output_type": "stream",
     "text": [
      "LogisticRegression(C=1.0073232740343256, max_iter=118.30042430762376,\n",
      "                   multi_class='multinomial', n_jobs=-1, random_state=42,\n",
      "                   solver='newton-cg', tol=0.002897802153924503,\n",
      "                   warm_start=True)\n"
     ]
    },
    {
     "name": "stderr",
     "output_type": "stream",
     "text": [
      "\u001b[32m[I 2022-03-24 11:28:46,494]\u001b[0m Trial 141 finished with value: 0.7849588477852985 and parameters: {'tol': 0.002897802153924503, 'C': 1.0073232740343256, 'max_iter': 118.30042430762376, 'warm_start': True}. Best is trial 62 with value: 0.7849750984092239.\u001b[0m\n"
     ]
    },
    {
     "name": "stdout",
     "output_type": "stream",
     "text": [
      "LogisticRegression(C=1.0021399422218427, max_iter=488.77231659747343,\n",
      "                   multi_class='multinomial', n_jobs=-1, random_state=42,\n",
      "                   solver='newton-cg', tol=0.0018137525184289283,\n",
      "                   warm_start=True)\n"
     ]
    },
    {
     "name": "stderr",
     "output_type": "stream",
     "text": [
      "\u001b[32m[I 2022-03-24 11:28:54,182]\u001b[0m Trial 142 finished with value: 0.7849470777422998 and parameters: {'tol': 0.0018137525184289283, 'C': 1.0021399422218427, 'max_iter': 488.77231659747343, 'warm_start': True}. Best is trial 62 with value: 0.7849750984092239.\u001b[0m\n"
     ]
    },
    {
     "name": "stdout",
     "output_type": "stream",
     "text": [
      "LogisticRegression(C=1.087836481914095, max_iter=121.52223173526188,\n",
      "                   multi_class='multinomial', n_jobs=-1, random_state=42,\n",
      "                   solver='newton-cg', tol=0.002305593074565625,\n",
      "                   warm_start=True)\n"
     ]
    },
    {
     "name": "stderr",
     "output_type": "stream",
     "text": [
      "\u001b[32m[I 2022-03-24 11:29:01,832]\u001b[0m Trial 143 finished with value: 0.7847459578104321 and parameters: {'tol': 0.002305593074565625, 'C': 1.087836481914095, 'max_iter': 121.52223173526188, 'warm_start': True}. Best is trial 62 with value: 0.7849750984092239.\u001b[0m\n"
     ]
    },
    {
     "name": "stdout",
     "output_type": "stream",
     "text": [
      "LogisticRegression(C=1.0628503362105288, max_iter=161.7835911808614,\n",
      "                   multi_class='multinomial', n_jobs=-1, random_state=42,\n",
      "                   solver='newton-cg', tol=0.0029796034535542267,\n",
      "                   warm_start=True)\n"
     ]
    },
    {
     "name": "stderr",
     "output_type": "stream",
     "text": [
      "\u001b[32m[I 2022-03-24 11:29:09,687]\u001b[0m Trial 144 finished with value: 0.7847232727301339 and parameters: {'tol': 0.0029796034535542267, 'C': 1.0628503362105288, 'max_iter': 161.7835911808614, 'warm_start': True}. Best is trial 62 with value: 0.7849750984092239.\u001b[0m\n"
     ]
    },
    {
     "name": "stdout",
     "output_type": "stream",
     "text": [
      "LogisticRegression(C=1.1244751051184474, max_iter=131.0357175752467,\n",
      "                   multi_class='multinomial', n_jobs=-1, random_state=42,\n",
      "                   solver='newton-cg', tol=0.002707534234109278,\n",
      "                   warm_start=True)\n"
     ]
    },
    {
     "name": "stderr",
     "output_type": "stream",
     "text": [
      "\u001b[32m[I 2022-03-24 11:29:17,582]\u001b[0m Trial 145 finished with value: 0.7846996985863672 and parameters: {'tol': 0.002707534234109278, 'C': 1.1244751051184474, 'max_iter': 131.0357175752467, 'warm_start': True}. Best is trial 62 with value: 0.7849750984092239.\u001b[0m\n"
     ]
    },
    {
     "name": "stdout",
     "output_type": "stream",
     "text": [
      "LogisticRegression(C=1.0000665178110804, max_iter=149.96267749546251,\n",
      "                   multi_class='multinomial', n_jobs=-1, random_state=42,\n",
      "                   solver='newton-cg', tol=0.003677264414949166,\n",
      "                   warm_start=True)\n"
     ]
    },
    {
     "name": "stderr",
     "output_type": "stream",
     "text": [
      "\u001b[32m[I 2022-03-24 11:29:24,880]\u001b[0m Trial 146 finished with value: 0.7849750984092239 and parameters: {'tol': 0.003677264414949166, 'C': 1.0000665178110804, 'max_iter': 149.96267749546251, 'warm_start': True}. Best is trial 62 with value: 0.7849750984092239.\u001b[0m\n"
     ]
    },
    {
     "name": "stdout",
     "output_type": "stream",
     "text": [
      "LogisticRegression(C=1.0813424166654955, max_iter=154.08231079971705,\n",
      "                   multi_class='multinomial', n_jobs=-1, random_state=42,\n",
      "                   solver='newton-cg', tol=0.003790591593173188,\n",
      "                   warm_start=True)\n"
     ]
    },
    {
     "name": "stderr",
     "output_type": "stream",
     "text": [
      "\u001b[32m[I 2022-03-24 11:29:32,397]\u001b[0m Trial 147 finished with value: 0.7846631527044365 and parameters: {'tol': 0.003790591593173188, 'C': 1.0813424166654955, 'max_iter': 154.08231079971705, 'warm_start': True}. Best is trial 62 with value: 0.7849750984092239.\u001b[0m\n"
     ]
    },
    {
     "name": "stdout",
     "output_type": "stream",
     "text": [
      "LogisticRegression(C=1.0595047954908912, max_iter=141.9028754458839,\n",
      "                   multi_class='multinomial', n_jobs=-1, random_state=42,\n",
      "                   solver='newton-cg', tol=0.004030585670534064,\n",
      "                   warm_start=True)\n"
     ]
    },
    {
     "name": "stderr",
     "output_type": "stream",
     "text": [
      "\u001b[32m[I 2022-03-24 11:29:39,681]\u001b[0m Trial 148 finished with value: 0.7847670785035114 and parameters: {'tol': 0.004030585670534064, 'C': 1.0595047954908912, 'max_iter': 141.9028754458839, 'warm_start': True}. Best is trial 62 with value: 0.7849750984092239.\u001b[0m\n"
     ]
    },
    {
     "name": "stdout",
     "output_type": "stream",
     "text": [
      "LogisticRegression(C=1.1945697554774197, max_iter=149.3954916260435,\n",
      "                   multi_class='multinomial', n_jobs=-1, random_state=42,\n",
      "                   solver='newton-cg', tol=0.0035533904675363577,\n",
      "                   warm_start=True)\n"
     ]
    },
    {
     "name": "stderr",
     "output_type": "stream",
     "text": [
      "\u001b[32m[I 2022-03-24 11:29:47,361]\u001b[0m Trial 149 finished with value: 0.784409466299263 and parameters: {'tol': 0.0035533904675363577, 'C': 1.1945697554774197, 'max_iter': 149.3954916260435, 'warm_start': True}. Best is trial 62 with value: 0.7849750984092239.\u001b[0m\n"
     ]
    },
    {
     "name": "stdout",
     "output_type": "stream",
     "text": [
      "LogisticRegression(C=1.1374112456778904, max_iter=107.93465500072736,\n",
      "                   multi_class='multinomial', n_jobs=-1, random_state=42,\n",
      "                   solver='newton-cg', tol=0.003091680199363654,\n",
      "                   warm_start=True)\n"
     ]
    },
    {
     "name": "stderr",
     "output_type": "stream",
     "text": [
      "\u001b[32m[I 2022-03-24 11:29:55,056]\u001b[0m Trial 150 finished with value: 0.7846350024092223 and parameters: {'tol': 0.003091680199363654, 'C': 1.1374112456778904, 'max_iter': 107.93465500072736, 'warm_start': True}. Best is trial 62 with value: 0.7849750984092239.\u001b[0m\n"
     ]
    },
    {
     "name": "stdout",
     "output_type": "stream",
     "text": [
      "LogisticRegression(C=1.0074236263177911, max_iter=118.41277740478569,\n",
      "                   multi_class='multinomial', n_jobs=-1, random_state=42,\n",
      "                   solver='newton-cg', tol=0.004405612111987713,\n",
      "                   warm_start=True)\n"
     ]
    },
    {
     "name": "stderr",
     "output_type": "stream",
     "text": [
      "\u001b[32m[I 2022-03-24 11:30:02,102]\u001b[0m Trial 151 finished with value: 0.7849588477852985 and parameters: {'tol': 0.004405612111987713, 'C': 1.0074236263177911, 'max_iter': 118.41277740478569, 'warm_start': True}. Best is trial 62 with value: 0.7849750984092239.\u001b[0m\n"
     ]
    },
    {
     "name": "stdout",
     "output_type": "stream",
     "text": [
      "LogisticRegression(C=1.0505560858797784, max_iter=126.07482815250356,\n",
      "                   multi_class='multinomial', n_jobs=-1, random_state=42,\n",
      "                   solver='newton-cg', tol=0.0045996016931852506,\n",
      "                   warm_start=True)\n"
     ]
    },
    {
     "name": "stderr",
     "output_type": "stream",
     "text": [
      "\u001b[32m[I 2022-03-24 11:30:09,410]\u001b[0m Trial 152 finished with value: 0.7847885507687039 and parameters: {'tol': 0.0045996016931852506, 'C': 1.0505560858797784, 'max_iter': 126.07482815250356, 'warm_start': True}. Best is trial 62 with value: 0.7849750984092239.\u001b[0m\n"
     ]
    },
    {
     "name": "stdout",
     "output_type": "stream",
     "text": [
      "LogisticRegression(C=1.0022326776173323, max_iter=135.45854173507817,\n",
      "                   multi_class='multinomial', n_jobs=-1, random_state=42,\n",
      "                   solver='newton-cg', tol=0.0033020164472253345,\n",
      "                   warm_start=True)\n"
     ]
    },
    {
     "name": "stderr",
     "output_type": "stream",
     "text": [
      "\u001b[32m[I 2022-03-24 11:30:16,728]\u001b[0m Trial 153 finished with value: 0.7849470777422998 and parameters: {'tol': 0.0033020164472253345, 'C': 1.0022326776173323, 'max_iter': 135.45854173507817, 'warm_start': True}. Best is trial 62 with value: 0.7849750984092239.\u001b[0m\n"
     ]
    },
    {
     "name": "stdout",
     "output_type": "stream",
     "text": [
      "LogisticRegression(C=1.1002127281464578, max_iter=119.37291196625327,\n",
      "                   multi_class='multinomial', n_jobs=-1, random_state=42,\n",
      "                   solver='newton-cg', tol=0.002423963634432664,\n",
      "                   warm_start=True)\n"
     ]
    },
    {
     "name": "stderr",
     "output_type": "stream",
     "text": [
      "\u001b[32m[I 2022-03-24 11:30:24,432]\u001b[0m Trial 154 finished with value: 0.7846671433903747 and parameters: {'tol': 0.002423963634432664, 'C': 1.1002127281464578, 'max_iter': 119.37291196625327, 'warm_start': True}. Best is trial 62 with value: 0.7849750984092239.\u001b[0m\n"
     ]
    },
    {
     "name": "stdout",
     "output_type": "stream",
     "text": [
      "LogisticRegression(C=1.0012436930091353, max_iter=115.8946346136747,\n",
      "                   multi_class='multinomial', n_jobs=-1, random_state=42,\n",
      "                   solver='newton-cg', tol=0.0042894818907103435,\n",
      "                   warm_start=True)\n"
     ]
    },
    {
     "name": "stderr",
     "output_type": "stream",
     "text": [
      "\u001b[32m[I 2022-03-24 11:30:31,519]\u001b[0m Trial 155 finished with value: 0.7849315356980406 and parameters: {'tol': 0.0042894818907103435, 'C': 1.0012436930091353, 'max_iter': 115.8946346136747, 'warm_start': True}. Best is trial 62 with value: 0.7849750984092239.\u001b[0m\n"
     ]
    },
    {
     "name": "stdout",
     "output_type": "stream",
     "text": [
      "LogisticRegression(C=1.0503728253190079, max_iter=125.73852227151522,\n",
      "                   multi_class='multinomial', n_jobs=-1, random_state=42,\n",
      "                   solver='newton-cg', tol=0.0028262519244069313,\n",
      "                   warm_start=True)\n"
     ]
    },
    {
     "name": "stderr",
     "output_type": "stream",
     "text": [
      "\u001b[32m[I 2022-03-24 11:30:39,088]\u001b[0m Trial 156 finished with value: 0.7847885507687039 and parameters: {'tol': 0.0028262519244069313, 'C': 1.0503728253190079, 'max_iter': 125.73852227151522, 'warm_start': True}. Best is trial 62 with value: 0.7849750984092239.\u001b[0m\n"
     ]
    },
    {
     "name": "stdout",
     "output_type": "stream",
     "text": [
      "LogisticRegression(C=1.1177529709813159, max_iter=105.55558691795565,\n",
      "                   multi_class='multinomial', n_jobs=-1, random_state=42,\n",
      "                   solver='newton-cg', tol=0.0021238935989286137,\n",
      "                   warm_start=True)\n"
     ]
    },
    {
     "name": "stderr",
     "output_type": "stream",
     "text": [
      "\u001b[32m[I 2022-03-24 11:30:47,216]\u001b[0m Trial 157 finished with value: 0.7847723633007659 and parameters: {'tol': 0.0021238935989286137, 'C': 1.1177529709813159, 'max_iter': 105.55558691795565, 'warm_start': True}. Best is trial 62 with value: 0.7849750984092239.\u001b[0m\n"
     ]
    },
    {
     "name": "stdout",
     "output_type": "stream",
     "text": [
      "LogisticRegression(C=1.0007188674088963, max_iter=101.4505692481737,\n",
      "                   multi_class='multinomial', n_jobs=-1, random_state=42,\n",
      "                   solver='newton-cg', tol=0.0020133575824656798,\n",
      "                   warm_start=True)\n"
     ]
    },
    {
     "name": "stderr",
     "output_type": "stream",
     "text": [
      "\u001b[32m[I 2022-03-24 11:30:54,431]\u001b[0m Trial 158 finished with value: 0.7849462080945353 and parameters: {'tol': 0.0020133575824656798, 'C': 1.0007188674088963, 'max_iter': 101.4505692481737, 'warm_start': True}. Best is trial 62 with value: 0.7849750984092239.\u001b[0m\n"
     ]
    },
    {
     "name": "stdout",
     "output_type": "stream",
     "text": [
      "LogisticRegression(C=1.1588236028216696, max_iter=142.58393354730097,\n",
      "                   multi_class='multinomial', n_jobs=-1, random_state=42,\n",
      "                   solver='newton-cg', tol=0.003741177271580384,\n",
      "                   warm_start=True)\n"
     ]
    },
    {
     "name": "stderr",
     "output_type": "stream",
     "text": [
      "\u001b[32m[I 2022-03-24 11:31:01,964]\u001b[0m Trial 159 finished with value: 0.7844108094056709 and parameters: {'tol': 0.003741177271580384, 'C': 1.1588236028216696, 'max_iter': 142.58393354730097, 'warm_start': True}. Best is trial 62 with value: 0.7849750984092239.\u001b[0m\n"
     ]
    },
    {
     "name": "stdout",
     "output_type": "stream",
     "text": [
      "LogisticRegression(C=1.0507985696756816, max_iter=135.09101724790213,\n",
      "                   multi_class='multinomial', n_jobs=-1, random_state=42,\n",
      "                   solver='newton-cg', tol=0.005986939370376192)\n"
     ]
    },
    {
     "name": "stderr",
     "output_type": "stream",
     "text": [
      "\u001b[32m[I 2022-03-24 11:31:08,913]\u001b[0m Trial 160 finished with value: 0.7847885507687039 and parameters: {'tol': 0.005986939370376192, 'C': 1.0507985696756816, 'max_iter': 135.09101724790213, 'warm_start': False}. Best is trial 62 with value: 0.7849750984092239.\u001b[0m\n"
     ]
    },
    {
     "name": "stdout",
     "output_type": "stream",
     "text": [
      "LogisticRegression(C=1.0433352789801726, max_iter=120.46879115751629,\n",
      "                   multi_class='multinomial', n_jobs=-1, random_state=42,\n",
      "                   solver='newton-cg', tol=0.003316697926272684,\n",
      "                   warm_start=True)\n"
     ]
    },
    {
     "name": "stderr",
     "output_type": "stream",
     "text": [
      "\u001b[32m[I 2022-03-24 11:31:15,986]\u001b[0m Trial 161 finished with value: 0.7848325097725655 and parameters: {'tol': 0.003316697926272684, 'C': 1.0433352789801726, 'max_iter': 120.46879115751629, 'warm_start': True}. Best is trial 62 with value: 0.7849750984092239.\u001b[0m\n"
     ]
    },
    {
     "name": "stdout",
     "output_type": "stream",
     "text": [
      "LogisticRegression(C=1.094567611163947, max_iter=109.29411636736017,\n",
      "                   multi_class='multinomial', n_jobs=-1, random_state=42,\n",
      "                   solver='newton-cg', tol=0.0028280556363997145,\n",
      "                   warm_start=True)\n"
     ]
    },
    {
     "name": "stderr",
     "output_type": "stream",
     "text": [
      "\u001b[32m[I 2022-03-24 11:31:23,561]\u001b[0m Trial 162 finished with value: 0.7847093372536196 and parameters: {'tol': 0.0028280556363997145, 'C': 1.094567611163947, 'max_iter': 109.29411636736017, 'warm_start': True}. Best is trial 62 with value: 0.7849750984092239.\u001b[0m\n"
     ]
    },
    {
     "name": "stdout",
     "output_type": "stream",
     "text": [
      "LogisticRegression(C=1.00370354536908, max_iter=112.68309115839804,\n",
      "                   multi_class='multinomial', n_jobs=-1, random_state=42,\n",
      "                   solver='newton-cg', tol=0.005026223109981468,\n",
      "                   warm_start=True)\n"
     ]
    },
    {
     "name": "stderr",
     "output_type": "stream",
     "text": [
      "\u001b[32m[I 2022-03-24 11:31:30,650]\u001b[0m Trial 163 finished with value: 0.7849549254783592 and parameters: {'tol': 0.005026223109981468, 'C': 1.00370354536908, 'max_iter': 112.68309115839804, 'warm_start': True}. Best is trial 62 with value: 0.7849750984092239.\u001b[0m\n"
     ]
    },
    {
     "name": "stdout",
     "output_type": "stream",
     "text": [
      "LogisticRegression(C=1.0967400547784123, max_iter=408.95897984108376,\n",
      "                   multi_class='multinomial', n_jobs=-1, random_state=42,\n",
      "                   solver='newton-cg', tol=0.004152427303668143,\n",
      "                   warm_start=True)\n"
     ]
    },
    {
     "name": "stderr",
     "output_type": "stream",
     "text": [
      "\u001b[32m[I 2022-03-24 11:31:38,126]\u001b[0m Trial 164 finished with value: 0.7847120734484319 and parameters: {'tol': 0.004152427303668143, 'C': 1.0967400547784123, 'max_iter': 408.95897984108376, 'warm_start': True}. Best is trial 62 with value: 0.7849750984092239.\u001b[0m\n"
     ]
    },
    {
     "name": "stdout",
     "output_type": "stream",
     "text": [
      "LogisticRegression(C=1.0441417888022733, max_iter=127.93073184574291,\n",
      "                   multi_class='multinomial', n_jobs=-1, random_state=42,\n",
      "                   solver='newton-cg', tol=0.0046206598016345635,\n",
      "                   warm_start=True)\n"
     ]
    },
    {
     "name": "stderr",
     "output_type": "stream",
     "text": [
      "\u001b[32m[I 2022-03-24 11:31:45,743]\u001b[0m Trial 165 finished with value: 0.7848469238730459 and parameters: {'tol': 0.0046206598016345635, 'C': 1.0441417888022733, 'max_iter': 127.93073184574291, 'warm_start': True}. Best is trial 62 with value: 0.7849750984092239.\u001b[0m\n"
     ]
    },
    {
     "name": "stdout",
     "output_type": "stream",
     "text": [
      "LogisticRegression(C=1.1452156728613647, max_iter=105.77851699117424,\n",
      "                   multi_class='multinomial', n_jobs=-1, random_state=42,\n",
      "                   solver='newton-cg', tol=0.0016040619436482875,\n",
      "                   warm_start=True)\n"
     ]
    },
    {
     "name": "stderr",
     "output_type": "stream",
     "text": [
      "\u001b[32m[I 2022-03-24 11:31:53,939]\u001b[0m Trial 166 finished with value: 0.7845822216500837 and parameters: {'tol': 0.0016040619436482875, 'C': 1.1452156728613647, 'max_iter': 105.77851699117424, 'warm_start': True}. Best is trial 62 with value: 0.7849750984092239.\u001b[0m\n"
     ]
    },
    {
     "name": "stdout",
     "output_type": "stream",
     "text": [
      "LogisticRegression(C=1.0039202357918398, max_iter=432.4620692978093,\n",
      "                   multi_class='multinomial', n_jobs=-1, random_state=42,\n",
      "                   solver='newton-cg', tol=0.003689879535203207,\n",
      "                   warm_start=True)\n"
     ]
    },
    {
     "name": "stderr",
     "output_type": "stream",
     "text": [
      "\u001b[32m[I 2022-03-24 11:32:01,304]\u001b[0m Trial 167 finished with value: 0.7849549254783592 and parameters: {'tol': 0.003689879535203207, 'C': 1.0039202357918398, 'max_iter': 432.4620692978093, 'warm_start': True}. Best is trial 62 with value: 0.7849750984092239.\u001b[0m\n"
     ]
    },
    {
     "name": "stdout",
     "output_type": "stream",
     "text": [
      "LogisticRegression(C=1.072292896184406, max_iter=116.07060342949313,\n",
      "                   multi_class='multinomial', n_jobs=-1, random_state=42,\n",
      "                   solver='newton-cg', tol=0.002574881045496388,\n",
      "                   warm_start=True)\n"
     ]
    },
    {
     "name": "stderr",
     "output_type": "stream",
     "text": [
      "\u001b[32m[I 2022-03-24 11:32:08,976]\u001b[0m Trial 168 finished with value: 0.7846784598855918 and parameters: {'tol': 0.002574881045496388, 'C': 1.072292896184406, 'max_iter': 116.07060342949313, 'warm_start': True}. Best is trial 62 with value: 0.7849750984092239.\u001b[0m\n"
     ]
    },
    {
     "name": "stdout",
     "output_type": "stream",
     "text": [
      "LogisticRegression(C=1.2196057574084314, max_iter=130.38013111233317,\n",
      "                   multi_class='multinomial', n_jobs=-1, random_state=42,\n",
      "                   solver='newton-cg', tol=0.0007197748078680924,\n",
      "                   warm_start=True)\n"
     ]
    },
    {
     "name": "stderr",
     "output_type": "stream",
     "text": [
      "\u001b[32m[I 2022-03-24 11:32:17,966]\u001b[0m Trial 169 finished with value: 0.784250447440942 and parameters: {'tol': 0.0007197748078680924, 'C': 1.2196057574084314, 'max_iter': 130.38013111233317, 'warm_start': True}. Best is trial 62 with value: 0.7849750984092239.\u001b[0m\n"
     ]
    },
    {
     "name": "stdout",
     "output_type": "stream",
     "text": [
      "LogisticRegression(C=1.1168112109949984, max_iter=149.83836203839596,\n",
      "                   multi_class='multinomial', n_jobs=-1, random_state=42,\n",
      "                   solver='newton-cg', tol=0.005229193548198475,\n",
      "                   warm_start=True)\n"
     ]
    },
    {
     "name": "stderr",
     "output_type": "stream",
     "text": [
      "\u001b[32m[I 2022-03-24 11:32:25,383]\u001b[0m Trial 170 finished with value: 0.784757949776529 and parameters: {'tol': 0.005229193548198475, 'C': 1.1168112109949984, 'max_iter': 149.83836203839596, 'warm_start': True}. Best is trial 62 with value: 0.7849750984092239.\u001b[0m\n"
     ]
    },
    {
     "name": "stdout",
     "output_type": "stream",
     "text": [
      "LogisticRegression(C=1.0364005943438712, max_iter=112.80862882540042,\n",
      "                   multi_class='multinomial', n_jobs=-1, random_state=42,\n",
      "                   solver='newton-cg', tol=0.0030304243856962253,\n",
      "                   warm_start=True)\n"
     ]
    },
    {
     "name": "stderr",
     "output_type": "stream",
     "text": [
      "\u001b[32m[I 2022-03-24 11:32:32,886]\u001b[0m Trial 171 finished with value: 0.7848876275608075 and parameters: {'tol': 0.0030304243856962253, 'C': 1.0364005943438712, 'max_iter': 112.80862882540042, 'warm_start': True}. Best is trial 62 with value: 0.7849750984092239.\u001b[0m\n"
     ]
    },
    {
     "name": "stdout",
     "output_type": "stream",
     "text": [
      "LogisticRegression(C=1.001186760304246, max_iter=102.2468290763992,\n",
      "                   multi_class='multinomial', n_jobs=-1, random_state=42,\n",
      "                   solver='newton-cg', tol=0.004043577039312985,\n",
      "                   warm_start=True)\n"
     ]
    },
    {
     "name": "stderr",
     "output_type": "stream",
     "text": [
      "\u001b[32m[I 2022-03-24 11:32:40,052]\u001b[0m Trial 172 finished with value: 0.7849462080945353 and parameters: {'tol': 0.004043577039312985, 'C': 1.001186760304246, 'max_iter': 102.2468290763992, 'warm_start': True}. Best is trial 62 with value: 0.7849750984092239.\u001b[0m\n"
     ]
    },
    {
     "name": "stdout",
     "output_type": "stream",
     "text": [
      "LogisticRegression(C=1.0546417559105403, max_iter=118.05624788131044,\n",
      "                   multi_class='multinomial', n_jobs=-1, random_state=42,\n",
      "                   solver='newton-cg', tol=0.0024629364767965924,\n",
      "                   warm_start=True)\n"
     ]
    },
    {
     "name": "stderr",
     "output_type": "stream",
     "text": [
      "\u001b[32m[I 2022-03-24 11:32:47,552]\u001b[0m Trial 173 finished with value: 0.7847870741158568 and parameters: {'tol': 0.0024629364767965924, 'C': 1.0546417559105403, 'max_iter': 118.05624788131044, 'warm_start': True}. Best is trial 62 with value: 0.7849750984092239.\u001b[0m\n"
     ]
    },
    {
     "name": "stdout",
     "output_type": "stream",
     "text": [
      "LogisticRegression(C=1.092151877645688, max_iter=449.80313798985816,\n",
      "                   multi_class='multinomial', n_jobs=-1, random_state=42,\n",
      "                   solver='newton-cg', tol=0.0034274697379285094,\n",
      "                   warm_start=True)\n"
     ]
    },
    {
     "name": "stderr",
     "output_type": "stream",
     "text": [
      "\u001b[32m[I 2022-03-24 11:32:55,073]\u001b[0m Trial 174 finished with value: 0.7847425781197932 and parameters: {'tol': 0.0034274697379285094, 'C': 1.092151877645688, 'max_iter': 449.80313798985816, 'warm_start': True}. Best is trial 62 with value: 0.7849750984092239.\u001b[0m\n"
     ]
    },
    {
     "name": "stdout",
     "output_type": "stream",
     "text": [
      "LogisticRegression(C=1.0410870606101887, max_iter=110.47784805376749,\n",
      "                   multi_class='multinomial', n_jobs=-1, random_state=42,\n",
      "                   solver='newton-cg', tol=0.0022618527954550538,\n",
      "                   warm_start=True)\n"
     ]
    },
    {
     "name": "stderr",
     "output_type": "stream",
     "text": [
      "\u001b[32m[I 2022-03-24 11:33:03,197]\u001b[0m Trial 175 finished with value: 0.7848336424951728 and parameters: {'tol': 0.0022618527954550538, 'C': 1.0410870606101887, 'max_iter': 110.47784805376749, 'warm_start': True}. Best is trial 62 with value: 0.7849750984092239.\u001b[0m\n"
     ]
    },
    {
     "name": "stdout",
     "output_type": "stream",
     "text": [
      "LogisticRegression(C=1.0002131311225362, max_iter=101.15677417161241,\n",
      "                   multi_class='multinomial', n_jobs=-1, random_state=42,\n",
      "                   solver='newton-cg', tol=0.003153523184219974,\n",
      "                   warm_start=True)\n"
     ]
    },
    {
     "name": "stderr",
     "output_type": "stream",
     "text": [
      "\u001b[32m[I 2022-03-24 11:33:10,585]\u001b[0m Trial 176 finished with value: 0.7849750984092239 and parameters: {'tol': 0.003153523184219974, 'C': 1.0002131311225362, 'max_iter': 101.15677417161241, 'warm_start': True}. Best is trial 62 with value: 0.7849750984092239.\u001b[0m\n"
     ]
    },
    {
     "name": "stdout",
     "output_type": "stream",
     "text": [
      "LogisticRegression(C=1.125349509308265, max_iter=125.57677578623422,\n",
      "                   multi_class='multinomial', n_jobs=-1, random_state=42,\n",
      "                   solver='newton-cg', tol=0.003124507919230341,\n",
      "                   warm_start=True)\n"
     ]
    },
    {
     "name": "stderr",
     "output_type": "stream",
     "text": [
      "\u001b[32m[I 2022-03-24 11:33:18,294]\u001b[0m Trial 177 finished with value: 0.7846852785626091 and parameters: {'tol': 0.003124507919230341, 'C': 1.125349509308265, 'max_iter': 125.57677578623422, 'warm_start': True}. Best is trial 62 with value: 0.7849750984092239.\u001b[0m\n"
     ]
    },
    {
     "name": "stdout",
     "output_type": "stream",
     "text": [
      "LogisticRegression(C=1.0453543107014798, max_iter=119.18224132250486,\n",
      "                   multi_class='multinomial', n_jobs=-1, random_state=42,\n",
      "                   solver='newton-cg', tol=0.0018687800687551095,\n",
      "                   warm_start=True)\n"
     ]
    },
    {
     "name": "stderr",
     "output_type": "stream",
     "text": [
      "\u001b[32m[I 2022-03-24 11:33:26,153]\u001b[0m Trial 178 finished with value: 0.7848359767305009 and parameters: {'tol': 0.0018687800687551095, 'C': 1.0453543107014798, 'max_iter': 119.18224132250486, 'warm_start': True}. Best is trial 62 with value: 0.7849750984092239.\u001b[0m\n"
     ]
    },
    {
     "name": "stdout",
     "output_type": "stream",
     "text": [
      "LogisticRegression(C=1.1677211580337652, max_iter=100.56205412520684,\n",
      "                   multi_class='multinomial', n_jobs=-1, random_state=42,\n",
      "                   solver='newton-cg', tol=0.004312461274414693,\n",
      "                   warm_start=True)\n"
     ]
    },
    {
     "name": "stderr",
     "output_type": "stream",
     "text": [
      "\u001b[32m[I 2022-03-24 11:33:33,839]\u001b[0m Trial 179 finished with value: 0.7843569158920581 and parameters: {'tol': 0.004312461274414693, 'C': 1.1677211580337652, 'max_iter': 100.56205412520684, 'warm_start': True}. Best is trial 62 with value: 0.7849750984092239.\u001b[0m\n"
     ]
    },
    {
     "name": "stdout",
     "output_type": "stream",
     "text": [
      "LogisticRegression(C=1.0952372385992708, max_iter=326.0970127493466,\n",
      "                   multi_class='multinomial', n_jobs=-1, random_state=42,\n",
      "                   solver='newton-cg', tol=0.003729841547114804,\n",
      "                   warm_start=True)\n"
     ]
    },
    {
     "name": "stderr",
     "output_type": "stream",
     "text": [
      "\u001b[32m[I 2022-03-24 11:33:41,644]\u001b[0m Trial 180 finished with value: 0.7847082636543031 and parameters: {'tol': 0.003729841547114804, 'C': 1.0952372385992708, 'max_iter': 326.0970127493466, 'warm_start': True}. Best is trial 62 with value: 0.7849750984092239.\u001b[0m\n"
     ]
    },
    {
     "name": "stdout",
     "output_type": "stream",
     "text": [
      "LogisticRegression(C=1.0070068698121841, max_iter=110.38242748553598,\n",
      "                   multi_class='multinomial', n_jobs=-1, random_state=42,\n",
      "                   solver='newton-cg', tol=0.0032902769308835525,\n",
      "                   warm_start=True)\n"
     ]
    },
    {
     "name": "stderr",
     "output_type": "stream",
     "text": [
      "\u001b[32m[I 2022-03-24 11:33:49,101]\u001b[0m Trial 181 finished with value: 0.7849587180917477 and parameters: {'tol': 0.0032902769308835525, 'C': 1.0070068698121841, 'max_iter': 110.38242748553598, 'warm_start': True}. Best is trial 62 with value: 0.7849750984092239.\u001b[0m\n"
     ]
    },
    {
     "name": "stdout",
     "output_type": "stream",
     "text": [
      "LogisticRegression(C=1.0108618724890497, max_iter=100.461589560319,\n",
      "                   multi_class='multinomial', n_jobs=-1, random_state=42,\n",
      "                   solver='newton-cg', tol=0.002698389989549661,\n",
      "                   warm_start=True)\n"
     ]
    },
    {
     "name": "stderr",
     "output_type": "stream",
     "text": [
      "\u001b[32m[I 2022-03-24 11:33:56,524]\u001b[0m Trial 182 finished with value: 0.7849630160543505 and parameters: {'tol': 0.002698389989549661, 'C': 1.0108618724890497, 'max_iter': 100.461589560319, 'warm_start': True}. Best is trial 62 with value: 0.7849750984092239.\u001b[0m\n"
     ]
    },
    {
     "name": "stdout",
     "output_type": "stream",
     "text": [
      "LogisticRegression(C=1.00228350993937, max_iter=200.37346061315546,\n",
      "                   multi_class='multinomial', n_jobs=-1, random_state=42,\n",
      "                   solver='newton-cg', tol=0.0026826689515220474,\n",
      "                   warm_start=True)\n"
     ]
    },
    {
     "name": "stderr",
     "output_type": "stream",
     "text": [
      "\u001b[32m[I 2022-03-24 11:34:03,822]\u001b[0m Trial 183 finished with value: 0.7849470777422998 and parameters: {'tol': 0.0026826689515220474, 'C': 1.00228350993937, 'max_iter': 200.37346061315546, 'warm_start': True}. Best is trial 62 with value: 0.7849750984092239.\u001b[0m\n"
     ]
    },
    {
     "name": "stdout",
     "output_type": "stream",
     "text": [
      "LogisticRegression(C=1.0717206435805062, max_iter=100.14661552424494,\n",
      "                   multi_class='multinomial', n_jobs=-1, random_state=42,\n",
      "                   solver='newton-cg', tol=0.0022564333398716004,\n",
      "                   warm_start=True)\n"
     ]
    },
    {
     "name": "stderr",
     "output_type": "stream",
     "text": [
      "\u001b[32m[I 2022-03-24 11:34:11,525]\u001b[0m Trial 184 finished with value: 0.7846784598855918 and parameters: {'tol': 0.0022564333398716004, 'C': 1.0717206435805062, 'max_iter': 100.14661552424494, 'warm_start': True}. Best is trial 62 with value: 0.7849750984092239.\u001b[0m\n"
     ]
    },
    {
     "name": "stdout",
     "output_type": "stream",
     "text": [
      "LogisticRegression(C=1.0008358999233782, max_iter=109.89443879890452,\n",
      "                   multi_class='multinomial', n_jobs=-1, random_state=42,\n",
      "                   solver='newton-cg', tol=0.003408927405161608,\n",
      "                   warm_start=True)\n"
     ]
    },
    {
     "name": "stderr",
     "output_type": "stream",
     "text": [
      "\u001b[32m[I 2022-03-24 11:34:18,965]\u001b[0m Trial 185 finished with value: 0.7849462080945353 and parameters: {'tol': 0.003408927405161608, 'C': 1.0008358999233782, 'max_iter': 109.89443879890452, 'warm_start': True}. Best is trial 62 with value: 0.7849750984092239.\u001b[0m\n"
     ]
    },
    {
     "name": "stdout",
     "output_type": "stream",
     "text": [
      "LogisticRegression(C=1.0669451484244397, max_iter=136.65350519728779,\n",
      "                   multi_class='multinomial', n_jobs=-1, random_state=42,\n",
      "                   solver='newton-cg', tol=0.002789482200943612,\n",
      "                   warm_start=True)\n"
     ]
    },
    {
     "name": "stderr",
     "output_type": "stream",
     "text": [
      "\u001b[32m[I 2022-03-24 11:34:26,464]\u001b[0m Trial 186 finished with value: 0.7847158635387687 and parameters: {'tol': 0.002789482200943612, 'C': 1.0669451484244397, 'max_iter': 136.65350519728779, 'warm_start': True}. Best is trial 62 with value: 0.7849750984092239.\u001b[0m\n"
     ]
    },
    {
     "name": "stdout",
     "output_type": "stream",
     "text": [
      "LogisticRegression(C=1.1227932911678928, max_iter=120.1121149219834,\n",
      "                   multi_class='multinomial', n_jobs=-1, random_state=42,\n",
      "                   solver='newton-cg', tol=0.004695228138345327,\n",
      "                   warm_start=True)\n"
     ]
    },
    {
     "name": "stderr",
     "output_type": "stream",
     "text": [
      "\u001b[32m[I 2022-03-24 11:34:33,822]\u001b[0m Trial 187 finished with value: 0.7847305436826473 and parameters: {'tol': 0.004695228138345327, 'C': 1.1227932911678928, 'max_iter': 120.1121149219834, 'warm_start': True}. Best is trial 62 with value: 0.7849750984092239.\u001b[0m\n"
     ]
    },
    {
     "name": "stdout",
     "output_type": "stream",
     "text": [
      "LogisticRegression(C=1.0522395646100111, max_iter=185.6470141358865,\n",
      "                   multi_class='multinomial', n_jobs=-1, random_state=42,\n",
      "                   solver='newton-cg', tol=0.002970381793046541,\n",
      "                   warm_start=True)\n"
     ]
    },
    {
     "name": "stderr",
     "output_type": "stream",
     "text": [
      "\u001b[32m[I 2022-03-24 11:34:41,530]\u001b[0m Trial 188 finished with value: 0.7847721017259864 and parameters: {'tol': 0.002970381793046541, 'C': 1.0522395646100111, 'max_iter': 185.6470141358865, 'warm_start': True}. Best is trial 62 with value: 0.7849750984092239.\u001b[0m\n"
     ]
    },
    {
     "name": "stdout",
     "output_type": "stream",
     "text": [
      "LogisticRegression(C=1.001259852922566, max_iter=469.1472182023392,\n",
      "                   multi_class='multinomial', n_jobs=-1, random_state=42,\n",
      "                   solver='newton-cg', tol=0.0036323821120291117)\n"
     ]
    },
    {
     "name": "stderr",
     "output_type": "stream",
     "text": [
      "\u001b[32m[I 2022-03-24 11:34:48,757]\u001b[0m Trial 189 finished with value: 0.7849462080945353 and parameters: {'tol': 0.0036323821120291117, 'C': 1.001259852922566, 'max_iter': 469.1472182023392, 'warm_start': False}. Best is trial 62 with value: 0.7849750984092239.\u001b[0m\n"
     ]
    },
    {
     "name": "stdout",
     "output_type": "stream",
     "text": [
      "LogisticRegression(C=1.1594924891191962, max_iter=110.64726758126277,\n",
      "                   multi_class='multinomial', n_jobs=-1, random_state=42,\n",
      "                   solver='newton-cg', tol=0.0025602269902314455,\n",
      "                   warm_start=True)\n"
     ]
    },
    {
     "name": "stderr",
     "output_type": "stream",
     "text": [
      "\u001b[32m[I 2022-03-24 11:34:56,309]\u001b[0m Trial 190 finished with value: 0.7843963154105846 and parameters: {'tol': 0.0025602269902314455, 'C': 1.1594924891191962, 'max_iter': 110.64726758126277, 'warm_start': True}. Best is trial 62 with value: 0.7849750984092239.\u001b[0m\n"
     ]
    },
    {
     "name": "stdout",
     "output_type": "stream",
     "text": [
      "LogisticRegression(C=1.0416822571816795, max_iter=398.434687891254,\n",
      "                   multi_class='multinomial', n_jobs=-1, random_state=42,\n",
      "                   solver='newton-cg', tol=0.0030576672617163305,\n",
      "                   warm_start=True)\n"
     ]
    },
    {
     "name": "stderr",
     "output_type": "stream",
     "text": [
      "\u001b[32m[I 2022-03-24 11:35:03,585]\u001b[0m Trial 191 finished with value: 0.7848325097725655 and parameters: {'tol': 0.0030576672617163305, 'C': 1.0416822571816795, 'max_iter': 398.434687891254, 'warm_start': True}. Best is trial 62 with value: 0.7849750984092239.\u001b[0m\n"
     ]
    },
    {
     "name": "stdout",
     "output_type": "stream",
     "text": [
      "LogisticRegression(C=2.155461420390711, max_iter=108.58434992052402,\n",
      "                   multi_class='multinomial', n_jobs=-1, random_state=42,\n",
      "                   solver='newton-cg', tol=0.003356514515980231,\n",
      "                   warm_start=True)\n"
     ]
    },
    {
     "name": "stderr",
     "output_type": "stream",
     "text": [
      "\u001b[32m[I 2022-03-24 11:35:13,541]\u001b[0m Trial 192 finished with value: 0.7810312649590865 and parameters: {'tol': 0.003356514515980231, 'C': 2.155461420390711, 'max_iter': 108.58434992052402, 'warm_start': True}. Best is trial 62 with value: 0.7849750984092239.\u001b[0m\n"
     ]
    },
    {
     "name": "stdout",
     "output_type": "stream",
     "text": [
      "LogisticRegression(C=1.0850692252104053, max_iter=232.02036631400023,\n",
      "                   multi_class='multinomial', n_jobs=-1, random_state=42,\n",
      "                   solver='newton-cg', tol=0.004009432721548679,\n",
      "                   warm_start=True)\n"
     ]
    },
    {
     "name": "stderr",
     "output_type": "stream",
     "text": [
      "\u001b[32m[I 2022-03-24 11:35:20,854]\u001b[0m Trial 193 finished with value: 0.7847599095637661 and parameters: {'tol': 0.004009432721548679, 'C': 1.0850692252104053, 'max_iter': 232.02036631400023, 'warm_start': True}. Best is trial 62 with value: 0.7849750984092239.\u001b[0m\n"
     ]
    },
    {
     "name": "stdout",
     "output_type": "stream",
     "text": [
      "LogisticRegression(C=1.0411655626154, max_iter=100.29386787917635,\n",
      "                   multi_class='multinomial', n_jobs=-1, random_state=42,\n",
      "                   solver='newton-cg', tol=0.0027833783686561334,\n",
      "                   warm_start=True)\n"
     ]
    },
    {
     "name": "stderr",
     "output_type": "stream",
     "text": [
      "\u001b[32m[I 2022-03-24 11:35:28,562]\u001b[0m Trial 194 finished with value: 0.7848336424951728 and parameters: {'tol': 0.0027833783686561334, 'C': 1.0411655626154, 'max_iter': 100.29386787917635, 'warm_start': True}. Best is trial 62 with value: 0.7849750984092239.\u001b[0m\n"
     ]
    },
    {
     "name": "stdout",
     "output_type": "stream",
     "text": [
      "LogisticRegression(C=1.0037945914202782, max_iter=125.46175932823712,\n",
      "                   multi_class='multinomial', n_jobs=-1, random_state=42,\n",
      "                   solver='newton-cg', tol=0.0019397107769447528,\n",
      "                   warm_start=True)\n"
     ]
    },
    {
     "name": "stderr",
     "output_type": "stream",
     "text": [
      "\u001b[32m[I 2022-03-24 11:35:35,983]\u001b[0m Trial 195 finished with value: 0.7849549254783592 and parameters: {'tol': 0.0019397107769447528, 'C': 1.0037945914202782, 'max_iter': 125.46175932823712, 'warm_start': True}. Best is trial 62 with value: 0.7849750984092239.\u001b[0m\n"
     ]
    },
    {
     "name": "stdout",
     "output_type": "stream",
     "text": [
      "LogisticRegression(C=1.0974461814748513, max_iter=115.85908772419131,\n",
      "                   multi_class='multinomial', n_jobs=-1, random_state=42,\n",
      "                   solver='newton-cg', tol=0.003915527438894595,\n",
      "                   warm_start=True)\n"
     ]
    },
    {
     "name": "stderr",
     "output_type": "stream",
     "text": [
      "\u001b[32m[I 2022-03-24 11:35:43,561]\u001b[0m Trial 196 finished with value: 0.784685645435149 and parameters: {'tol': 0.003915527438894595, 'C': 1.0974461814748513, 'max_iter': 115.85908772419131, 'warm_start': True}. Best is trial 62 with value: 0.7849750984092239.\u001b[0m\n"
     ]
    },
    {
     "name": "stdout",
     "output_type": "stream",
     "text": [
      "LogisticRegression(C=1.0560750807165735, max_iter=122.56375002812544,\n",
      "                   multi_class='multinomial', n_jobs=-1, random_state=42,\n",
      "                   solver='newton-cg', tol=0.0023817260670450035,\n",
      "                   warm_start=True)\n"
     ]
    },
    {
     "name": "stderr",
     "output_type": "stream",
     "text": [
      "\u001b[32m[I 2022-03-24 11:35:51,094]\u001b[0m Trial 197 finished with value: 0.7848017383421728 and parameters: {'tol': 0.0023817260670450035, 'C': 1.0560750807165735, 'max_iter': 122.56375002812544, 'warm_start': True}. Best is trial 62 with value: 0.7849750984092239.\u001b[0m\n"
     ]
    },
    {
     "name": "stdout",
     "output_type": "stream",
     "text": [
      "LogisticRegression(C=1.0065823941819079, max_iter=105.30188211806548,\n",
      "                   multi_class='multinomial', n_jobs=-1, random_state=42,\n",
      "                   solver='newton-cg', tol=0.003247525176201643,\n",
      "                   warm_start=True)\n"
     ]
    },
    {
     "name": "stderr",
     "output_type": "stream",
     "text": [
      "\u001b[32m[I 2022-03-24 11:35:58,520]\u001b[0m Trial 198 finished with value: 0.7849587180917477 and parameters: {'tol': 0.003247525176201643, 'C': 1.0065823941819079, 'max_iter': 105.30188211806548, 'warm_start': True}. Best is trial 62 with value: 0.7849750984092239.\u001b[0m\n"
     ]
    },
    {
     "name": "stdout",
     "output_type": "stream",
     "text": [
      "LogisticRegression(C=1.1096027428814232, max_iter=131.65142658263767,\n",
      "                   multi_class='multinomial', n_jobs=-1, random_state=42,\n",
      "                   solver='newton-cg', tol=0.004509060594038748,\n",
      "                   warm_start=True)\n"
     ]
    },
    {
     "name": "stderr",
     "output_type": "stream",
     "text": [
      "\u001b[32m[I 2022-03-24 11:36:06,209]\u001b[0m Trial 199 finished with value: 0.7847450066958818 and parameters: {'tol': 0.004509060594038748, 'C': 1.1096027428814232, 'max_iter': 131.65142658263767, 'warm_start': True}. Best is trial 62 with value: 0.7849750984092239.\u001b[0m\n"
     ]
    }
   ],
   "source": [
    "metric_to_optimze = 'precision'  # accuracy, precision, recall, f1\n",
    "study_lr_cv = optuna.create_study(direction='maximize')\n",
    "study_lr_cv.optimize(objective_LR_cv, n_trials=200)"
   ]
  },
  {
   "cell_type": "code",
   "execution_count": 52,
   "metadata": {
    "ExecuteTime": {
     "end_time": "2022-03-24T14:36:12.051558Z",
     "start_time": "2022-03-24T14:36:06.226775Z"
    },
    "scrolled": true
   },
   "outputs": [
    {
     "name": "stdout",
     "output_type": "stream",
     "text": [
      "              precision    recall  f1-score   support\n",
      "\n",
      "           0       0.72      0.72      0.72      9510\n",
      "           1       0.69      0.70      0.70      9550\n",
      "           2       0.94      0.93      0.94      9433\n",
      "\n",
      "    accuracy                           0.78     28493\n",
      "   macro avg       0.79      0.78      0.79     28493\n",
      "weighted avg       0.79      0.78      0.78     28493\n",
      "\n"
     ]
    }
   ],
   "source": [
    "model = LogisticRegression(**study_lr_cv.best_params,\n",
    "                           random_state=42,\n",
    "                           n_jobs=-1,\n",
    "                           solver='newton-cg',\n",
    "                           multi_class='multinomial')\n",
    "model.fit(X_train_cv, y_train)\n",
    "y_pred_cv_best = model.predict(X_test_cv)\n",
    "\n",
    "print(metrics.classification_report(y_test, y_pred_cv_best))"
   ]
  },
  {
   "cell_type": "code",
   "execution_count": 53,
   "metadata": {
    "ExecuteTime": {
     "end_time": "2022-03-24T14:36:12.067412Z",
     "start_time": "2022-03-24T14:36:12.054440Z"
    }
   },
   "outputs": [
    {
     "data": {
      "text/plain": [
       "{'tol': 0.00429619220921027,\n",
       " 'C': 1.0000277432213343,\n",
       " 'max_iter': 100.59390263582986,\n",
       " 'warm_start': True}"
      ]
     },
     "execution_count": 53,
     "metadata": {},
     "output_type": "execute_result"
    }
   ],
   "source": [
    "study_lr_cv.best_params"
   ]
  },
  {
   "cell_type": "code",
   "execution_count": 54,
   "metadata": {
    "ExecuteTime": {
     "end_time": "2022-03-24T14:36:12.194035Z",
     "start_time": "2022-03-24T14:36:12.069375Z"
    }
   },
   "outputs": [
    {
     "data": {
      "image/png": "[encoded data removed]",
      "text/plain": [
       "<Figure size 432x288 with 1 Axes>"
      ]
     },
     "metadata": {
      "needs_background": "light"
     },
     "output_type": "display_data"
    }
   ],
   "source": [
    "from mlxtend.plotting import plot_confusion_matrix\n",
    "from sklearn.metrics import confusion_matrix\n",
    "cm = confusion_matrix(y_test, y_pred_cv_best)\n",
    "\n",
    "plot_confusion_matrix(conf_mat=cm)\n",
    "plt.show()"
   ]
  },
  {
   "cell_type": "markdown",
   "metadata": {},
   "source": [
    "### TF IDF - logistic regression"
   ]
  },
  {
   "cell_type": "markdown",
   "metadata": {},
   "source": [
    "#### cross-validation"
   ]
  },
  {
   "cell_type": "code",
   "execution_count": 55,
   "metadata": {
    "ExecuteTime": {
     "end_time": "2022-03-24T14:36:21.846208Z",
     "start_time": "2022-03-24T14:36:12.195033Z"
    }
   },
   "outputs": [
    {
     "data": {
      "text/html": [
       "<div>\n",
       "<style scoped>\n",
       "    .dataframe tbody tr th:only-of-type {\n",
       "        vertical-align: middle;\n",
       "    }\n",
       "\n",
       "    .dataframe tbody tr th {\n",
       "        vertical-align: top;\n",
       "    }\n",
       "\n",
       "    .dataframe thead th {\n",
       "        text-align: right;\n",
       "    }\n",
       "</style>\n",
       "<table border=\"1\" class=\"dataframe\">\n",
       "  <thead>\n",
       "    <tr style=\"text-align: right;\">\n",
       "      <th></th>\n",
       "      <th></th>\n",
       "      <th>precision</th>\n",
       "      <th>recall</th>\n",
       "      <th>f1-score</th>\n",
       "      <th>support</th>\n",
       "    </tr>\n",
       "    <tr>\n",
       "      <th>Fold</th>\n",
       "      <th>label</th>\n",
       "      <th></th>\n",
       "      <th></th>\n",
       "      <th></th>\n",
       "      <th></th>\n",
       "    </tr>\n",
       "  </thead>\n",
       "  <tbody>\n",
       "    <tr>\n",
       "      <th rowspan=\"3\" valign=\"top\">Fold 0</th>\n",
       "      <th>0</th>\n",
       "      <td>0.751451</td>\n",
       "      <td>0.700631</td>\n",
       "      <td>0.725152</td>\n",
       "      <td>4436</td>\n",
       "    </tr>\n",
       "    <tr>\n",
       "      <th>1</th>\n",
       "      <td>0.691469</td>\n",
       "      <td>0.731013</td>\n",
       "      <td>0.710691</td>\n",
       "      <td>4424</td>\n",
       "    </tr>\n",
       "    <tr>\n",
       "      <th>2</th>\n",
       "      <td>0.925290</td>\n",
       "      <td>0.935091</td>\n",
       "      <td>0.930165</td>\n",
       "      <td>4437</td>\n",
       "    </tr>\n",
       "    <tr>\n",
       "      <th rowspan=\"3\" valign=\"top\">Fold 1</th>\n",
       "      <th>0</th>\n",
       "      <td>0.750239</td>\n",
       "      <td>0.706108</td>\n",
       "      <td>0.727505</td>\n",
       "      <td>4437</td>\n",
       "    </tr>\n",
       "    <tr>\n",
       "      <th>1</th>\n",
       "      <td>0.698213</td>\n",
       "      <td>0.715416</td>\n",
       "      <td>0.706710</td>\n",
       "      <td>4424</td>\n",
       "    </tr>\n",
       "    <tr>\n",
       "      <th>2</th>\n",
       "      <td>0.917611</td>\n",
       "      <td>0.949053</td>\n",
       "      <td>0.933067</td>\n",
       "      <td>4436</td>\n",
       "    </tr>\n",
       "    <tr>\n",
       "      <th rowspan=\"3\" valign=\"top\">Fold 2</th>\n",
       "      <th>0</th>\n",
       "      <td>0.741576</td>\n",
       "      <td>0.704305</td>\n",
       "      <td>0.722460</td>\n",
       "      <td>4437</td>\n",
       "    </tr>\n",
       "    <tr>\n",
       "      <th>1</th>\n",
       "      <td>0.686995</td>\n",
       "      <td>0.710443</td>\n",
       "      <td>0.698522</td>\n",
       "      <td>4424</td>\n",
       "    </tr>\n",
       "    <tr>\n",
       "      <th>2</th>\n",
       "      <td>0.921029</td>\n",
       "      <td>0.935978</td>\n",
       "      <td>0.928444</td>\n",
       "      <td>4436</td>\n",
       "    </tr>\n",
       "    <tr>\n",
       "      <th rowspan=\"3\" valign=\"top\">Fold 3</th>\n",
       "      <th>0</th>\n",
       "      <td>0.750426</td>\n",
       "      <td>0.694770</td>\n",
       "      <td>0.721526</td>\n",
       "      <td>4436</td>\n",
       "    </tr>\n",
       "    <tr>\n",
       "      <th>1</th>\n",
       "      <td>0.687127</td>\n",
       "      <td>0.728752</td>\n",
       "      <td>0.707328</td>\n",
       "      <td>4424</td>\n",
       "    </tr>\n",
       "    <tr>\n",
       "      <th>2</th>\n",
       "      <td>0.928397</td>\n",
       "      <td>0.941163</td>\n",
       "      <td>0.934736</td>\n",
       "      <td>4436</td>\n",
       "    </tr>\n",
       "    <tr>\n",
       "      <th rowspan=\"3\" valign=\"top\">Fold 4</th>\n",
       "      <th>0</th>\n",
       "      <td>0.746055</td>\n",
       "      <td>0.703336</td>\n",
       "      <td>0.724066</td>\n",
       "      <td>4436</td>\n",
       "    </tr>\n",
       "    <tr>\n",
       "      <th>1</th>\n",
       "      <td>0.694989</td>\n",
       "      <td>0.721067</td>\n",
       "      <td>0.707788</td>\n",
       "      <td>4424</td>\n",
       "    </tr>\n",
       "    <tr>\n",
       "      <th>2</th>\n",
       "      <td>0.926614</td>\n",
       "      <td>0.944995</td>\n",
       "      <td>0.935714</td>\n",
       "      <td>4436</td>\n",
       "    </tr>\n",
       "  </tbody>\n",
       "</table>\n",
       "</div>"
      ],
      "text/plain": [
       "              precision    recall  f1-score  support\n",
       "Fold   label                                        \n",
       "Fold 0 0       0.751451  0.700631  0.725152     4436\n",
       "       1       0.691469  0.731013  0.710691     4424\n",
       "       2       0.925290  0.935091  0.930165     4437\n",
       "Fold 1 0       0.750239  0.706108  0.727505     4437\n",
       "       1       0.698213  0.715416  0.706710     4424\n",
       "       2       0.917611  0.949053  0.933067     4436\n",
       "Fold 2 0       0.741576  0.704305  0.722460     4437\n",
       "       1       0.686995  0.710443  0.698522     4424\n",
       "       2       0.921029  0.935978  0.928444     4436\n",
       "Fold 3 0       0.750426  0.694770  0.721526     4436\n",
       "       1       0.687127  0.728752  0.707328     4424\n",
       "       2       0.928397  0.941163  0.934736     4436\n",
       "Fold 4 0       0.746055  0.703336  0.724066     4436\n",
       "       1       0.694989  0.721067  0.707788     4424\n",
       "       2       0.926614  0.944995  0.935714     4436"
      ]
     },
     "execution_count": 55,
     "metadata": {},
     "output_type": "execute_result"
    }
   ],
   "source": [
    "response_crossval, s1_crossval, cm_crossval = cross_val(5, model, X_train_tfidf, y_train, 0.4)\n",
    "s1_crossval"
   ]
  },
  {
   "cell_type": "markdown",
   "metadata": {},
   "source": [
    "#### Otimização"
   ]
  },
  {
   "cell_type": "code",
   "execution_count": 56,
   "metadata": {
    "ExecuteTime": {
     "end_time": "2022-03-24T14:50:50.677521Z",
     "start_time": "2022-03-24T14:36:21.849205Z"
    },
    "scrolled": true
   },
   "outputs": [
    {
     "name": "stderr",
     "output_type": "stream",
     "text": [
      "\u001b[32m[I 2022-03-24 11:36:21,850]\u001b[0m A new study created in memory with name: no-name-2c00c8d4-f1e7-4539-b3d0-a397dc7695f3\u001b[0m\n"
     ]
    },
    {
     "name": "stdout",
     "output_type": "stream",
     "text": [
      "LogisticRegression(C=2.9005077453691523, max_iter=300.7438862373682,\n",
      "                   multi_class='multinomial', n_jobs=-1, random_state=42,\n",
      "                   solver='newton-cg', tol=0.0001481041618426176)\n"
     ]
    },
    {
     "name": "stderr",
     "output_type": "stream",
     "text": [
      "\u001b[32m[I 2022-03-24 11:36:27,274]\u001b[0m Trial 0 finished with value: 0.7854776773413401 and parameters: {'tol': 0.0001481041618426176, 'C': 2.9005077453691523, 'max_iter': 300.7438862373682, 'warm_start': False}. Best is trial 0 with value: 0.7854776773413401.\u001b[0m\n"
     ]
    },
    {
     "name": "stdout",
     "output_type": "stream",
     "text": [
      "LogisticRegression(C=1.433393675120575, max_iter=132.8102619171769,\n",
      "                   multi_class='multinomial', n_jobs=-1, random_state=42,\n",
      "                   solver='newton-cg', tol=0.00027676423566542845)\n"
     ]
    },
    {
     "name": "stderr",
     "output_type": "stream",
     "text": [
      "\u001b[32m[I 2022-03-24 11:36:31,795]\u001b[0m Trial 1 finished with value: 0.7876711883643507 and parameters: {'tol': 0.00027676423566542845, 'C': 1.433393675120575, 'max_iter': 132.8102619171769, 'warm_start': False}. Best is trial 1 with value: 0.7876711883643507.\u001b[0m\n"
     ]
    },
    {
     "name": "stdout",
     "output_type": "stream",
     "text": [
      "LogisticRegression(C=2.3430717427458183, max_iter=250.6382631638692,\n",
      "                   multi_class='multinomial', n_jobs=-1, random_state=42,\n",
      "                   solver='newton-cg', tol=0.000223835122304003)\n"
     ]
    },
    {
     "name": "stderr",
     "output_type": "stream",
     "text": [
      "\u001b[32m[I 2022-03-24 11:36:36,999]\u001b[0m Trial 2 finished with value: 0.7866961754741416 and parameters: {'tol': 0.000223835122304003, 'C': 2.3430717427458183, 'max_iter': 250.6382631638692, 'warm_start': False}. Best is trial 1 with value: 0.7876711883643507.\u001b[0m\n"
     ]
    },
    {
     "name": "stdout",
     "output_type": "stream",
     "text": [
      "LogisticRegression(C=1.4503089191597436, max_iter=347.0237805391935,\n",
      "                   multi_class='multinomial', n_jobs=-1, random_state=42,\n",
      "                   solver='newton-cg', tol=0.00101628606572264)\n"
     ]
    },
    {
     "name": "stderr",
     "output_type": "stream",
     "text": [
      "\u001b[32m[I 2022-03-24 11:36:41,041]\u001b[0m Trial 3 finished with value: 0.7877779309654016 and parameters: {'tol': 0.00101628606572264, 'C': 1.4503089191597436, 'max_iter': 347.0237805391935, 'warm_start': False}. Best is trial 3 with value: 0.7877779309654016.\u001b[0m\n"
     ]
    },
    {
     "name": "stdout",
     "output_type": "stream",
     "text": [
      "LogisticRegression(C=1.7636221473728588, max_iter=217.532322253027,\n",
      "                   multi_class='multinomial', n_jobs=-1, random_state=42,\n",
      "                   solver='newton-cg', tol=0.0004071233723319944)\n"
     ]
    },
    {
     "name": "stderr",
     "output_type": "stream",
     "text": [
      "\u001b[32m[I 2022-03-24 11:36:45,363]\u001b[0m Trial 4 finished with value: 0.7873921409160948 and parameters: {'tol': 0.0004071233723319944, 'C': 1.7636221473728588, 'max_iter': 217.532322253027, 'warm_start': False}. Best is trial 3 with value: 0.7877779309654016.\u001b[0m\n"
     ]
    },
    {
     "name": "stdout",
     "output_type": "stream",
     "text": [
      "LogisticRegression(C=1.0652322334847248, max_iter=152.2703996485199,\n",
      "                   multi_class='multinomial', n_jobs=-1, random_state=42,\n",
      "                   solver='newton-cg', tol=0.008042546945758752,\n",
      "                   warm_start=True)\n"
     ]
    },
    {
     "name": "stderr",
     "output_type": "stream",
     "text": [
      "\u001b[32m[I 2022-03-24 11:36:48,611]\u001b[0m Trial 5 finished with value: 0.787593949182866 and parameters: {'tol': 0.008042546945758752, 'C': 1.0652322334847248, 'max_iter': 152.2703996485199, 'warm_start': True}. Best is trial 3 with value: 0.7877779309654016.\u001b[0m\n"
     ]
    },
    {
     "name": "stdout",
     "output_type": "stream",
     "text": [
      "LogisticRegression(C=1.5561442952644724, max_iter=250.68025038650325,\n",
      "                   multi_class='multinomial', n_jobs=-1, random_state=42,\n",
      "                   solver='newton-cg', tol=0.0009469009812596762)\n"
     ]
    },
    {
     "name": "stderr",
     "output_type": "stream",
     "text": [
      "\u001b[32m[I 2022-03-24 11:36:52,637]\u001b[0m Trial 6 finished with value: 0.7877191560192397 and parameters: {'tol': 0.0009469009812596762, 'C': 1.5561442952644724, 'max_iter': 250.68025038650325, 'warm_start': False}. Best is trial 3 with value: 0.7877779309654016.\u001b[0m\n"
     ]
    },
    {
     "name": "stdout",
     "output_type": "stream",
     "text": [
      "LogisticRegression(C=2.0386069950212398, max_iter=414.520582135965,\n",
      "                   multi_class='multinomial', n_jobs=-1, random_state=42,\n",
      "                   solver='newton-cg', tol=0.005497227931605011,\n",
      "                   warm_start=True)\n"
     ]
    },
    {
     "name": "stderr",
     "output_type": "stream",
     "text": [
      "\u001b[32m[I 2022-03-24 11:36:56,629]\u001b[0m Trial 7 finished with value: 0.7870704240148113 and parameters: {'tol': 0.005497227931605011, 'C': 2.0386069950212398, 'max_iter': 414.520582135965, 'warm_start': True}. Best is trial 3 with value: 0.7877779309654016.\u001b[0m\n"
     ]
    },
    {
     "name": "stdout",
     "output_type": "stream",
     "text": [
      "LogisticRegression(C=2.8103553602239493, max_iter=159.15149581891149,\n",
      "                   multi_class='multinomial', n_jobs=-1, random_state=42,\n",
      "                   solver='newton-cg', tol=0.0007367860752218393,\n",
      "                   warm_start=True)\n"
     ]
    },
    {
     "name": "stderr",
     "output_type": "stream",
     "text": [
      "\u001b[32m[I 2022-03-24 11:37:01,870]\u001b[0m Trial 8 finished with value: 0.7856665291466455 and parameters: {'tol': 0.0007367860752218393, 'C': 2.8103553602239493, 'max_iter': 159.15149581891149, 'warm_start': True}. Best is trial 3 with value: 0.7877779309654016.\u001b[0m\n"
     ]
    },
    {
     "name": "stdout",
     "output_type": "stream",
     "text": [
      "LogisticRegression(C=3.1786399150472606, max_iter=359.1980537255984,\n",
      "                   multi_class='multinomial', n_jobs=-1, random_state=42,\n",
      "                   solver='newton-cg', tol=0.0001334666136952208,\n",
      "                   warm_start=True)\n"
     ]
    },
    {
     "name": "stderr",
     "output_type": "stream",
     "text": [
      "\u001b[32m[I 2022-03-24 11:37:07,520]\u001b[0m Trial 9 finished with value: 0.7852252667129844 and parameters: {'tol': 0.0001334666136952208, 'C': 3.1786399150472606, 'max_iter': 359.1980537255984, 'warm_start': True}. Best is trial 3 with value: 0.7877779309654016.\u001b[0m\n"
     ]
    },
    {
     "name": "stdout",
     "output_type": "stream",
     "text": [
      "LogisticRegression(C=1.1142543061132093, max_iter=493.98863096090713,\n",
      "                   multi_class='multinomial', n_jobs=-1, random_state=42,\n",
      "                   solver='newton-cg', tol=0.002559314745984646)\n"
     ]
    },
    {
     "name": "stderr",
     "output_type": "stream",
     "text": [
      "\u001b[32m[I 2022-03-24 11:37:11,128]\u001b[0m Trial 10 finished with value: 0.7878316353331233 and parameters: {'tol': 0.002559314745984646, 'C': 1.1142543061132093, 'max_iter': 493.98863096090713, 'warm_start': False}. Best is trial 10 with value: 0.7878316353331233.\u001b[0m\n"
     ]
    },
    {
     "name": "stdout",
     "output_type": "stream",
     "text": [
      "LogisticRegression(C=1.006768784456824, max_iter=479.97199286159935,\n",
      "                   multi_class='multinomial', n_jobs=-1, random_state=42,\n",
      "                   solver='newton-cg', tol=0.003826317407963089)\n"
     ]
    },
    {
     "name": "stderr",
     "output_type": "stream",
     "text": [
      "\u001b[32m[I 2022-03-24 11:37:14,685]\u001b[0m Trial 11 finished with value: 0.7878907352191649 and parameters: {'tol': 0.003826317407963089, 'C': 1.006768784456824, 'max_iter': 479.97199286159935, 'warm_start': False}. Best is trial 11 with value: 0.7878907352191649.\u001b[0m\n"
     ]
    },
    {
     "name": "stdout",
     "output_type": "stream",
     "text": [
      "LogisticRegression(C=1.0638955984148497, max_iter=490.76682742579254,\n",
      "                   multi_class='multinomial', n_jobs=-1, random_state=42,\n",
      "                   solver='newton-cg', tol=0.0029533152730060104)\n"
     ]
    },
    {
     "name": "stderr",
     "output_type": "stream",
     "text": [
      "\u001b[32m[I 2022-03-24 11:37:18,225]\u001b[0m Trial 12 finished with value: 0.7875662907132059 and parameters: {'tol': 0.0029533152730060104, 'C': 1.0638955984148497, 'max_iter': 490.76682742579254, 'warm_start': False}. Best is trial 11 with value: 0.7878907352191649.\u001b[0m\n"
     ]
    },
    {
     "name": "stdout",
     "output_type": "stream",
     "text": [
      "LogisticRegression(C=1.0172358271742497, max_iter=499.6170809825261,\n",
      "                   multi_class='multinomial', n_jobs=-1, random_state=42,\n",
      "                   solver='newton-cg', tol=0.002364267211230059)\n"
     ]
    },
    {
     "name": "stderr",
     "output_type": "stream",
     "text": [
      "\u001b[32m[I 2022-03-24 11:37:22,000]\u001b[0m Trial 13 finished with value: 0.7878273073156937 and parameters: {'tol': 0.002364267211230059, 'C': 1.0172358271742497, 'max_iter': 499.6170809825261, 'warm_start': False}. Best is trial 11 with value: 0.7878907352191649.\u001b[0m\n"
     ]
    },
    {
     "name": "stdout",
     "output_type": "stream",
     "text": [
      "LogisticRegression(C=2.40275430927863, max_iter=431.522537646615,\n",
      "                   multi_class='multinomial', n_jobs=-1, random_state=42,\n",
      "                   solver='newton-cg', tol=0.0025297074474843907)\n"
     ]
    },
    {
     "name": "stderr",
     "output_type": "stream",
     "text": [
      "\u001b[32m[I 2022-03-24 11:37:26,328]\u001b[0m Trial 14 finished with value: 0.7864518852648175 and parameters: {'tol': 0.0025297074474843907, 'C': 2.40275430927863, 'max_iter': 431.522537646615, 'warm_start': False}. Best is trial 11 with value: 0.7878907352191649.\u001b[0m\n"
     ]
    },
    {
     "name": "stdout",
     "output_type": "stream",
     "text": [
      "LogisticRegression(C=1.9182653785059705, max_iter=432.2708342526352,\n",
      "                   multi_class='multinomial', n_jobs=-1, random_state=42,\n",
      "                   solver='newton-cg', tol=0.00439495372072836)\n"
     ]
    },
    {
     "name": "stderr",
     "output_type": "stream",
     "text": [
      "\u001b[32m[I 2022-03-24 11:37:30,256]\u001b[0m Trial 15 finished with value: 0.7873096764237084 and parameters: {'tol': 0.00439495372072836, 'C': 1.9182653785059705, 'max_iter': 432.2708342526352, 'warm_start': False}. Best is trial 11 with value: 0.7878907352191649.\u001b[0m\n"
     ]
    },
    {
     "name": "stdout",
     "output_type": "stream",
     "text": [
      "LogisticRegression(C=1.3200823436187408, max_iter=460.44182597941904,\n",
      "                   multi_class='multinomial', n_jobs=-1, random_state=42,\n",
      "                   solver='newton-cg', tol=0.0016952445851276692)\n"
     ]
    },
    {
     "name": "stderr",
     "output_type": "stream",
     "text": [
      "\u001b[32m[I 2022-03-24 11:37:34,179]\u001b[0m Trial 16 finished with value: 0.7878371124341572 and parameters: {'tol': 0.0016952445851276692, 'C': 1.3200823436187408, 'max_iter': 460.44182597941904, 'warm_start': False}. Best is trial 11 with value: 0.7878907352191649.\u001b[0m\n"
     ]
    },
    {
     "name": "stdout",
     "output_type": "stream",
     "text": [
      "LogisticRegression(C=1.3237885127252873, max_iter=382.25905739029076,\n",
      "                   multi_class='multinomial', n_jobs=-1, random_state=42,\n",
      "                   solver='newton-cg', tol=0.0013452158966844165)\n"
     ]
    },
    {
     "name": "stderr",
     "output_type": "stream",
     "text": [
      "\u001b[32m[I 2022-03-24 11:37:38,499]\u001b[0m Trial 17 finished with value: 0.7878182404588087 and parameters: {'tol': 0.0013452158966844165, 'C': 1.3237885127252873, 'max_iter': 382.25905739029076, 'warm_start': False}. Best is trial 11 with value: 0.7878907352191649.\u001b[0m\n"
     ]
    },
    {
     "name": "stdout",
     "output_type": "stream",
     "text": [
      "LogisticRegression(C=1.6932806833283904, max_iter=455.03763444349704,\n",
      "                   multi_class='multinomial', n_jobs=-1, random_state=42,\n",
      "                   solver='newton-cg', tol=0.008866939747138612,\n",
      "                   warm_start=True)\n"
     ]
    },
    {
     "name": "stderr",
     "output_type": "stream",
     "text": [
      "\u001b[32m[I 2022-03-24 11:37:42,004]\u001b[0m Trial 18 finished with value: 0.7873591665254827 and parameters: {'tol': 0.008866939747138612, 'C': 1.6932806833283904, 'max_iter': 455.03763444349704, 'warm_start': True}. Best is trial 11 with value: 0.7878907352191649.\u001b[0m\n"
     ]
    },
    {
     "name": "stdout",
     "output_type": "stream",
     "text": [
      "LogisticRegression(C=2.094405061070491, max_iter=309.5193773812387,\n",
      "                   multi_class='multinomial', n_jobs=-1, random_state=42,\n",
      "                   solver='newton-cg', tol=0.0014814601831046328)\n"
     ]
    },
    {
     "name": "stderr",
     "output_type": "stream",
     "text": [
      "\u001b[32m[I 2022-03-24 11:37:46,280]\u001b[0m Trial 19 finished with value: 0.7869462921376538 and parameters: {'tol': 0.0014814601831046328, 'C': 2.094405061070491, 'max_iter': 309.5193773812387, 'warm_start': False}. Best is trial 11 with value: 0.7878907352191649.\u001b[0m\n"
     ]
    },
    {
     "name": "stdout",
     "output_type": "stream",
     "text": [
      "LogisticRegression(C=1.2829407550197105, max_iter=395.24794952943955,\n",
      "                   multi_class='multinomial', n_jobs=-1, random_state=42,\n",
      "                   solver='newton-cg', tol=0.0006038938672535349)\n"
     ]
    },
    {
     "name": "stderr",
     "output_type": "stream",
     "text": [
      "\u001b[32m[I 2022-03-24 11:37:50,900]\u001b[0m Trial 20 finished with value: 0.7877373953003458 and parameters: {'tol': 0.0006038938672535349, 'C': 1.2829407550197105, 'max_iter': 395.24794952943955, 'warm_start': False}. Best is trial 11 with value: 0.7878907352191649.\u001b[0m\n"
     ]
    },
    {
     "name": "stdout",
     "output_type": "stream",
     "text": [
      "LogisticRegression(C=1.2111525350895107, max_iter=469.07143363057287,\n",
      "                   multi_class='multinomial', n_jobs=-1, random_state=42,\n",
      "                   solver='newton-cg', tol=0.003955634383877717)\n"
     ]
    },
    {
     "name": "stderr",
     "output_type": "stream",
     "text": [
      "\u001b[32m[I 2022-03-24 11:37:54,592]\u001b[0m Trial 21 finished with value: 0.787839718833063 and parameters: {'tol': 0.003955634383877717, 'C': 1.2111525350895107, 'max_iter': 469.07143363057287, 'warm_start': False}. Best is trial 11 with value: 0.7878907352191649.\u001b[0m\n"
     ]
    },
    {
     "name": "stdout",
     "output_type": "stream",
     "text": [
      "LogisticRegression(C=1.2404709474592799, max_iter=458.51191257490865,\n",
      "                   multi_class='multinomial', n_jobs=-1, random_state=42,\n",
      "                   solver='newton-cg', tol=0.004539424175392089)\n"
     ]
    },
    {
     "name": "stderr",
     "output_type": "stream",
     "text": [
      "\u001b[32m[I 2022-03-24 11:37:58,324]\u001b[0m Trial 22 finished with value: 0.7877994222247413 and parameters: {'tol': 0.004539424175392089, 'C': 1.2404709474592799, 'max_iter': 458.51191257490865, 'warm_start': False}. Best is trial 11 with value: 0.7878907352191649.\u001b[0m\n"
     ]
    },
    {
     "name": "stdout",
     "output_type": "stream",
     "text": [
      "LogisticRegression(C=1.6684934246123935, max_iter=464.4712950569358,\n",
      "                   multi_class='multinomial', n_jobs=-1, random_state=42,\n",
      "                   solver='newton-cg', tol=0.0016782562415893708)\n"
     ]
    },
    {
     "name": "stderr",
     "output_type": "stream",
     "text": [
      "\u001b[32m[I 2022-03-24 11:38:02,253]\u001b[0m Trial 23 finished with value: 0.7874373871638449 and parameters: {'tol': 0.0016782562415893708, 'C': 1.6684934246123935, 'max_iter': 464.4712950569358, 'warm_start': False}. Best is trial 11 with value: 0.7878907352191649.\u001b[0m\n"
     ]
    },
    {
     "name": "stdout",
     "output_type": "stream",
     "text": [
      "LogisticRegression(C=1.3781517714207339, max_iter=358.0357889872048,\n",
      "                   multi_class='multinomial', n_jobs=-1, random_state=42,\n",
      "                   solver='newton-cg', tol=0.0038459179637013504)\n"
     ]
    },
    {
     "name": "stderr",
     "output_type": "stream",
     "text": [
      "\u001b[32m[I 2022-03-24 11:38:06,091]\u001b[0m Trial 24 finished with value: 0.7876251425022509 and parameters: {'tol': 0.0038459179637013504, 'C': 1.3781517714207339, 'max_iter': 358.0357889872048, 'warm_start': False}. Best is trial 11 with value: 0.7878907352191649.\u001b[0m\n"
     ]
    },
    {
     "name": "stdout",
     "output_type": "stream",
     "text": [
      "LogisticRegression(C=1.8551239649206521, max_iter=406.3998576085568,\n",
      "                   multi_class='multinomial', n_jobs=-1, random_state=42,\n",
      "                   solver='newton-cg', tol=0.006856951375751899)\n"
     ]
    },
    {
     "name": "stderr",
     "output_type": "stream",
     "text": [
      "\u001b[32m[I 2022-03-24 11:38:09,817]\u001b[0m Trial 25 finished with value: 0.7874396915623971 and parameters: {'tol': 0.006856951375751899, 'C': 1.8551239649206521, 'max_iter': 406.3998576085568, 'warm_start': False}. Best is trial 11 with value: 0.7878907352191649.\u001b[0m\n"
     ]
    },
    {
     "name": "stdout",
     "output_type": "stream",
     "text": [
      "LogisticRegression(C=1.5583660490350444, max_iter=462.7865895419972,\n",
      "                   multi_class='multinomial', n_jobs=-1, random_state=42,\n",
      "                   solver='newton-cg', tol=0.0033889697273404296,\n",
      "                   warm_start=True)\n"
     ]
    },
    {
     "name": "stderr",
     "output_type": "stream",
     "text": [
      "\u001b[32m[I 2022-03-24 11:38:13,538]\u001b[0m Trial 26 finished with value: 0.7877207160212729 and parameters: {'tol': 0.0033889697273404296, 'C': 1.5583660490350444, 'max_iter': 462.7865895419972, 'warm_start': True}. Best is trial 11 with value: 0.7878907352191649.\u001b[0m\n"
     ]
    },
    {
     "name": "stdout",
     "output_type": "stream",
     "text": [
      "LogisticRegression(C=1.2266405875997641, max_iter=434.4164761458844,\n",
      "                   multi_class='multinomial', n_jobs=-1, random_state=42,\n",
      "                   solver='newton-cg', tol=0.0018495846643289881)\n"
     ]
    },
    {
     "name": "stderr",
     "output_type": "stream",
     "text": [
      "\u001b[32m[I 2022-03-24 11:38:17,590]\u001b[0m Trial 27 finished with value: 0.7878932963380496 and parameters: {'tol': 0.0018495846643289881, 'C': 1.2266405875997641, 'max_iter': 434.4164761458844, 'warm_start': False}. Best is trial 27 with value: 0.7878932963380496.\u001b[0m\n"
     ]
    },
    {
     "name": "stdout",
     "output_type": "stream",
     "text": [
      "LogisticRegression(C=1.1841657518553153, max_iter=433.9264845680416,\n",
      "                   multi_class='multinomial', n_jobs=-1, random_state=42,\n",
      "                   solver='newton-cg', tol=0.006175019618233223)\n"
     ]
    },
    {
     "name": "stderr",
     "output_type": "stream",
     "text": [
      "\u001b[32m[I 2022-03-24 11:38:21,175]\u001b[0m Trial 28 finished with value: 0.7877654226414804 and parameters: {'tol': 0.006175019618233223, 'C': 1.1841657518553153, 'max_iter': 433.9264845680416, 'warm_start': False}. Best is trial 27 with value: 0.7878932963380496.\u001b[0m\n"
     ]
    },
    {
     "name": "stdout",
     "output_type": "stream",
     "text": [
      "LogisticRegression(C=3.024370613937073, max_iter=322.6947892794995,\n",
      "                   multi_class='multinomial', n_jobs=-1, random_state=42,\n",
      "                   solver='newton-cg', tol=0.002285645914635611)\n"
     ]
    },
    {
     "name": "stderr",
     "output_type": "stream",
     "text": [
      "\u001b[32m[I 2022-03-24 11:38:25,723]\u001b[0m Trial 29 finished with value: 0.7854481937778718 and parameters: {'tol': 0.002285645914635611, 'C': 3.024370613937073, 'max_iter': 322.6947892794995, 'warm_start': False}. Best is trial 27 with value: 0.7878932963380496.\u001b[0m\n"
     ]
    },
    {
     "name": "stdout",
     "output_type": "stream",
     "text": [
      "LogisticRegression(C=2.665102311968148, max_iter=390.4209221215176,\n",
      "                   multi_class='multinomial', n_jobs=-1, random_state=42,\n",
      "                   solver='newton-cg', tol=0.005248059335112075)\n"
     ]
    },
    {
     "name": "stderr",
     "output_type": "stream",
     "text": [
      "\u001b[32m[I 2022-03-24 11:38:29,969]\u001b[0m Trial 30 finished with value: 0.7858183454301715 and parameters: {'tol': 0.005248059335112075, 'C': 2.665102311968148, 'max_iter': 390.4209221215176, 'warm_start': False}. Best is trial 27 with value: 0.7878932963380496.\u001b[0m\n"
     ]
    },
    {
     "name": "stdout",
     "output_type": "stream",
     "text": [
      "LogisticRegression(C=1.2404672583779992, max_iter=471.8187219715227,\n",
      "                   multi_class='multinomial', n_jobs=-1, random_state=42,\n",
      "                   solver='newton-cg', tol=0.0018947485600923878)\n"
     ]
    },
    {
     "name": "stderr",
     "output_type": "stream",
     "text": [
      "\u001b[32m[I 2022-03-24 11:38:33,832]\u001b[0m Trial 31 finished with value: 0.7877994222247413 and parameters: {'tol': 0.0018947485600923878, 'C': 1.2404672583779992, 'max_iter': 471.8187219715227, 'warm_start': False}. Best is trial 27 with value: 0.7878932963380496.\u001b[0m\n"
     ]
    },
    {
     "name": "stdout",
     "output_type": "stream",
     "text": [
      "LogisticRegression(C=1.5168921294168207, max_iter=435.0230332397963,\n",
      "                   multi_class='multinomial', n_jobs=-1, random_state=42,\n",
      "                   solver='newton-cg', tol=0.0012074266780220599)\n"
     ]
    },
    {
     "name": "stderr",
     "output_type": "stream",
     "text": [
      "\u001b[32m[I 2022-03-24 11:38:37,898]\u001b[0m Trial 32 finished with value: 0.7879165929299887 and parameters: {'tol': 0.0012074266780220599, 'C': 1.5168921294168207, 'max_iter': 435.0230332397963, 'warm_start': False}. Best is trial 32 with value: 0.7879165929299887.\u001b[0m\n"
     ]
    },
    {
     "name": "stdout",
     "output_type": "stream",
     "text": [
      "LogisticRegression(C=1.504824323478907, max_iter=431.46181506587135,\n",
      "                   multi_class='multinomial', n_jobs=-1, random_state=42,\n",
      "                   solver='newton-cg', tol=0.0005170828982322472)\n"
     ]
    },
    {
     "name": "stderr",
     "output_type": "stream",
     "text": [
      "\u001b[32m[I 2022-03-24 11:38:42,280]\u001b[0m Trial 33 finished with value: 0.7879070578862836 and parameters: {'tol': 0.0005170828982322472, 'C': 1.504824323478907, 'max_iter': 431.46181506587135, 'warm_start': False}. Best is trial 32 with value: 0.7879165929299887.\u001b[0m\n"
     ]
    },
    {
     "name": "stdout",
     "output_type": "stream",
     "text": [
      "LogisticRegression(C=1.5610925758446945, max_iter=425.02660041470654,\n",
      "                   multi_class='multinomial', n_jobs=-1, random_state=42,\n",
      "                   solver='newton-cg', tol=0.0004363529568984889)\n"
     ]
    },
    {
     "name": "stderr",
     "output_type": "stream",
     "text": [
      "\u001b[32m[I 2022-03-24 11:38:46,847]\u001b[0m Trial 34 finished with value: 0.7877203520411804 and parameters: {'tol': 0.0004363529568984889, 'C': 1.5610925758446945, 'max_iter': 425.02660041470654, 'warm_start': False}. Best is trial 32 with value: 0.7879165929299887.\u001b[0m\n"
     ]
    },
    {
     "name": "stdout",
     "output_type": "stream",
     "text": [
      "LogisticRegression(C=1.4550446887793707, max_iter=372.54965793205025,\n",
      "                   multi_class='multinomial', n_jobs=-1, random_state=42,\n",
      "                   solver='newton-cg', tol=0.000182944328478959)\n"
     ]
    },
    {
     "name": "stderr",
     "output_type": "stream",
     "text": [
      "\u001b[32m[I 2022-03-24 11:38:51,642]\u001b[0m Trial 35 finished with value: 0.7877646133487838 and parameters: {'tol': 0.000182944328478959, 'C': 1.4550446887793707, 'max_iter': 372.54965793205025, 'warm_start': False}. Best is trial 32 with value: 0.7879165929299887.\u001b[0m\n"
     ]
    },
    {
     "name": "stdout",
     "output_type": "stream",
     "text": [
      "LogisticRegression(C=2.2232173089167553, max_iter=440.07651537730584,\n",
      "                   multi_class='multinomial', n_jobs=-1, random_state=42,\n",
      "                   solver='newton-cg', tol=0.0010770070579468965)\n"
     ]
    },
    {
     "name": "stderr",
     "output_type": "stream",
     "text": [
      "\u001b[32m[I 2022-03-24 11:38:56,212]\u001b[0m Trial 36 finished with value: 0.7868721421754569 and parameters: {'tol': 0.0010770070579468965, 'C': 2.2232173089167553, 'max_iter': 440.07651537730584, 'warm_start': False}. Best is trial 32 with value: 0.7879165929299887.\u001b[0m\n"
     ]
    },
    {
     "name": "stdout",
     "output_type": "stream",
     "text": [
      "LogisticRegression(C=1.497974331376826, max_iter=332.66916672546944,\n",
      "                   multi_class='multinomial', n_jobs=-1, random_state=42,\n",
      "                   solver='newton-cg', tol=0.0002938933382506393)\n"
     ]
    },
    {
     "name": "stderr",
     "output_type": "stream",
     "text": [
      "\u001b[32m[I 2022-03-24 11:39:00,888]\u001b[0m Trial 37 finished with value: 0.787883745628301 and parameters: {'tol': 0.0002938933382506393, 'C': 1.497974331376826, 'max_iter': 332.66916672546944, 'warm_start': False}. Best is trial 32 with value: 0.7879165929299887.\u001b[0m\n"
     ]
    },
    {
     "name": "stdout",
     "output_type": "stream",
     "text": [
      "LogisticRegression(C=1.009144476180291, max_iter=410.5910450275105,\n",
      "                   multi_class='multinomial', n_jobs=-1, random_state=42,\n",
      "                   solver='newton-cg', tol=0.00048783244471867747,\n",
      "                   warm_start=True)\n"
     ]
    },
    {
     "name": "stderr",
     "output_type": "stream",
     "text": [
      "\u001b[32m[I 2022-03-24 11:39:05,024]\u001b[0m Trial 38 finished with value: 0.7878769403253391 and parameters: {'tol': 0.00048783244471867747, 'C': 1.009144476180291, 'max_iter': 410.5910450275105, 'warm_start': True}. Best is trial 32 with value: 0.7879165929299887.\u001b[0m\n"
     ]
    },
    {
     "name": "stdout",
     "output_type": "stream",
     "text": [
      "LogisticRegression(C=1.9020078314412991, max_iter=229.32978862970822,\n",
      "                   multi_class='multinomial', n_jobs=-1, random_state=42,\n",
      "                   solver='newton-cg', tol=0.0007300137998789681)\n"
     ]
    },
    {
     "name": "stderr",
     "output_type": "stream",
     "text": [
      "\u001b[32m[I 2022-03-24 11:39:09,500]\u001b[0m Trial 39 finished with value: 0.7874265698985033 and parameters: {'tol': 0.0007300137998789681, 'C': 1.9020078314412991, 'max_iter': 229.32978862970822, 'warm_start': False}. Best is trial 32 with value: 0.7879165929299887.\u001b[0m\n"
     ]
    },
    {
     "name": "stdout",
     "output_type": "stream",
     "text": [
      "LogisticRegression(C=3.3642429627442816, max_iter=297.6542957724796,\n",
      "                   multi_class='multinomial', n_jobs=-1, random_state=42,\n",
      "                   solver='newton-cg', tol=0.001157597175851229)\n"
     ]
    },
    {
     "name": "stderr",
     "output_type": "stream",
     "text": [
      "\u001b[32m[I 2022-03-24 11:39:14,513]\u001b[0m Trial 40 finished with value: 0.7848404799619614 and parameters: {'tol': 0.001157597175851229, 'C': 3.3642429627442816, 'max_iter': 297.6542957724796, 'warm_start': False}. Best is trial 32 with value: 0.7879165929299887.\u001b[0m\n"
     ]
    },
    {
     "name": "stdout",
     "output_type": "stream",
     "text": [
      "LogisticRegression(C=1.4312754496378692, max_iter=272.2288360409482,\n",
      "                   multi_class='multinomial', n_jobs=-1, random_state=42,\n",
      "                   solver='newton-cg', tol=0.000323371660227395)\n"
     ]
    },
    {
     "name": "stderr",
     "output_type": "stream",
     "text": [
      "\u001b[32m[I 2022-03-24 11:39:19,023]\u001b[0m Trial 41 finished with value: 0.7877036257493808 and parameters: {'tol': 0.000323371660227395, 'C': 1.4312754496378692, 'max_iter': 272.2288360409482, 'warm_start': False}. Best is trial 32 with value: 0.7879165929299887.\u001b[0m\n"
     ]
    },
    {
     "name": "stdout",
     "output_type": "stream",
     "text": [
      "LogisticRegression(C=1.6343097378729876, max_iter=334.49932538844354,\n",
      "                   multi_class='multinomial', n_jobs=-1, random_state=42,\n",
      "                   solver='newton-cg', tol=0.00010323399870623846)\n"
     ]
    },
    {
     "name": "stderr",
     "output_type": "stream",
     "text": [
      "\u001b[32m[I 2022-03-24 11:39:23,880]\u001b[0m Trial 42 finished with value: 0.7875290949076004 and parameters: {'tol': 0.00010323399870623846, 'C': 1.6343097378729876, 'max_iter': 334.49932538844354, 'warm_start': False}. Best is trial 32 with value: 0.7879165929299887.\u001b[0m\n"
     ]
    },
    {
     "name": "stdout",
     "output_type": "stream",
     "text": [
      "LogisticRegression(C=1.4876191816164066, max_iter=202.87477303435116,\n",
      "                   multi_class='multinomial', n_jobs=-1, random_state=42,\n",
      "                   solver='newton-cg', tol=0.00020795724007449434)\n"
     ]
    },
    {
     "name": "stderr",
     "output_type": "stream",
     "text": [
      "\u001b[32m[I 2022-03-24 11:39:28,545]\u001b[0m Trial 43 finished with value: 0.7878751426276466 and parameters: {'tol': 0.00020795724007449434, 'C': 1.4876191816164066, 'max_iter': 202.87477303435116, 'warm_start': False}. Best is trial 32 with value: 0.7879165929299887.\u001b[0m\n"
     ]
    },
    {
     "name": "stdout",
     "output_type": "stream",
     "text": [
      "LogisticRegression(C=1.7743429638231176, max_iter=479.38372279398493,\n",
      "                   multi_class='multinomial', n_jobs=-1, random_state=42,\n",
      "                   solver='newton-cg', tol=0.0003019189311752969)\n"
     ]
    },
    {
     "name": "stderr",
     "output_type": "stream",
     "text": [
      "\u001b[32m[I 2022-03-24 11:39:33,303]\u001b[0m Trial 44 finished with value: 0.7874221227328597 and parameters: {'tol': 0.0003019189311752969, 'C': 1.7743429638231176, 'max_iter': 479.38372279398493, 'warm_start': False}. Best is trial 32 with value: 0.7879165929299887.\u001b[0m\n"
     ]
    },
    {
     "name": "stdout",
     "output_type": "stream",
     "text": [
      "LogisticRegression(C=1.0814681737658085, max_iter=444.4922844079651,\n",
      "                   multi_class='multinomial', n_jobs=-1, random_state=42,\n",
      "                   solver='newton-cg', tol=0.0009058096069461822,\n",
      "                   warm_start=True)\n"
     ]
    },
    {
     "name": "stderr",
     "output_type": "stream",
     "text": [
      "\u001b[32m[I 2022-03-24 11:39:37,267]\u001b[0m Trial 45 finished with value: 0.7876350378740596 and parameters: {'tol': 0.0009058096069461822, 'C': 1.0814681737658085, 'max_iter': 444.4922844079651, 'warm_start': True}. Best is trial 32 with value: 0.7879165929299887.\u001b[0m\n"
     ]
    },
    {
     "name": "stdout",
     "output_type": "stream",
     "text": [
      "LogisticRegression(C=1.3943908214172036, max_iter=366.7269981427299,\n",
      "                   multi_class='multinomial', n_jobs=-1, random_state=42,\n",
      "                   solver='newton-cg', tol=0.0003662443330602186)\n"
     ]
    },
    {
     "name": "stderr",
     "output_type": "stream",
     "text": [
      "\u001b[32m[I 2022-03-24 11:39:41,910]\u001b[0m Trial 46 finished with value: 0.7877527077666697 and parameters: {'tol': 0.0003662443330602186, 'C': 1.3943908214172036, 'max_iter': 366.7269981427299, 'warm_start': False}. Best is trial 32 with value: 0.7879165929299887.\u001b[0m\n"
     ]
    },
    {
     "name": "stdout",
     "output_type": "stream",
     "text": [
      "LogisticRegression(C=1.1822958271559763, max_iter=340.3372839111175,\n",
      "                   multi_class='multinomial', n_jobs=-1, random_state=42,\n",
      "                   solver='newton-cg', tol=0.00025308598525358576)\n"
     ]
    },
    {
     "name": "stderr",
     "output_type": "stream",
     "text": [
      "\u001b[32m[I 2022-03-24 11:39:46,408]\u001b[0m Trial 47 finished with value: 0.7877701952322167 and parameters: {'tol': 0.00025308598525358576, 'C': 1.1822958271559763, 'max_iter': 340.3372839111175, 'warm_start': False}. Best is trial 32 with value: 0.7879165929299887.\u001b[0m\n"
     ]
    },
    {
     "name": "stdout",
     "output_type": "stream",
     "text": [
      "LogisticRegression(C=1.7725455562265189, max_iter=116.52766789595492,\n",
      "                   multi_class='multinomial', n_jobs=-1, random_state=42,\n",
      "                   solver='newton-cg', tol=0.0005794414211436607)\n"
     ]
    },
    {
     "name": "stderr",
     "output_type": "stream",
     "text": [
      "\u001b[32m[I 2022-03-24 11:39:50,964]\u001b[0m Trial 48 finished with value: 0.7874251163193946 and parameters: {'tol': 0.0005794414211436607, 'C': 1.7725455562265189, 'max_iter': 116.52766789595492, 'warm_start': False}. Best is trial 32 with value: 0.7879165929299887.\u001b[0m\n"
     ]
    },
    {
     "name": "stdout",
     "output_type": "stream",
     "text": [
      "LogisticRegression(C=2.0251853716912835, max_iter=484.4442772663492,\n",
      "                   multi_class='multinomial', n_jobs=-1, random_state=42,\n",
      "                   solver='newton-cg', tol=0.0007460782860563256,\n",
      "                   warm_start=True)\n"
     ]
    },
    {
     "name": "stderr",
     "output_type": "stream",
     "text": [
      "\u001b[32m[I 2022-03-24 11:39:55,512]\u001b[0m Trial 49 finished with value: 0.7870109995371657 and parameters: {'tol': 0.0007460782860563256, 'C': 2.0251853716912835, 'max_iter': 484.4442772663492, 'warm_start': True}. Best is trial 32 with value: 0.7879165929299887.\u001b[0m\n"
     ]
    },
    {
     "name": "stdout",
     "output_type": "stream",
     "text": [
      "LogisticRegression(C=1.1222921791986091, max_iter=412.6507456674349,\n",
      "                   multi_class='multinomial', n_jobs=-1, random_state=42,\n",
      "                   solver='newton-cg', tol=0.002091609639575845)\n"
     ]
    },
    {
     "name": "stderr",
     "output_type": "stream",
     "text": [
      "\u001b[32m[I 2022-03-24 11:39:59,304]\u001b[0m Trial 50 finished with value: 0.7878478642156965 and parameters: {'tol': 0.002091609639575845, 'C': 1.1222921791986091, 'max_iter': 412.6507456674349, 'warm_start': False}. Best is trial 32 with value: 0.7879165929299887.\u001b[0m\n"
     ]
    },
    {
     "name": "stdout",
     "output_type": "stream",
     "text": [
      "LogisticRegression(C=1.0841823309753384, max_iter=405.487902494779,\n",
      "                   multi_class='multinomial', n_jobs=-1, random_state=42,\n",
      "                   solver='newton-cg', tol=0.00046333443375982995,\n",
      "                   warm_start=True)\n"
     ]
    },
    {
     "name": "stderr",
     "output_type": "stream",
     "text": [
      "\u001b[32m[I 2022-03-24 11:40:03,328]\u001b[0m Trial 51 finished with value: 0.7876634531653208 and parameters: {'tol': 0.00046333443375982995, 'C': 1.0841823309753384, 'max_iter': 405.487902494779, 'warm_start': True}. Best is trial 32 with value: 0.7879165929299887.\u001b[0m\n"
     ]
    },
    {
     "name": "stdout",
     "output_type": "stream",
     "text": [
      "LogisticRegression(C=1.000318905415403, max_iter=420.5047916940998,\n",
      "                   multi_class='multinomial', n_jobs=-1, random_state=42,\n",
      "                   solver='newton-cg', tol=0.0006252652207877932,\n",
      "                   warm_start=True)\n"
     ]
    },
    {
     "name": "stderr",
     "output_type": "stream",
     "text": [
      "\u001b[32m[I 2022-03-24 11:40:07,390]\u001b[0m Trial 52 finished with value: 0.7879195317788578 and parameters: {'tol': 0.0006252652207877932, 'C': 1.000318905415403, 'max_iter': 420.5047916940998, 'warm_start': True}. Best is trial 52 with value: 0.7879195317788578.\u001b[0m\n"
     ]
    },
    {
     "name": "stdout",
     "output_type": "stream",
     "text": [
      "LogisticRegression(C=1.3308690072554696, max_iter=445.5699541010601,\n",
      "                   multi_class='multinomial', n_jobs=-1, random_state=42,\n",
      "                   solver='newton-cg', tol=0.0008925037889295441,\n",
      "                   warm_start=True)\n"
     ]
    },
    {
     "name": "stderr",
     "output_type": "stream",
     "text": [
      "\u001b[32m[I 2022-03-24 11:40:11,894]\u001b[0m Trial 53 finished with value: 0.7878589163589907 and parameters: {'tol': 0.0008925037889295441, 'C': 1.3308690072554696, 'max_iter': 445.5699541010601, 'warm_start': True}. Best is trial 52 with value: 0.7879195317788578.\u001b[0m\n"
     ]
    },
    {
     "name": "stdout",
     "output_type": "stream",
     "text": [
      "LogisticRegression(C=1.0065338787373608, max_iter=384.84460298098213,\n",
      "                   multi_class='multinomial', n_jobs=-1, random_state=42,\n",
      "                   solver='newton-cg', tol=0.001304520340033531,\n",
      "                   warm_start=True)\n"
     ]
    },
    {
     "name": "stderr",
     "output_type": "stream",
     "text": [
      "\u001b[32m[I 2022-03-24 11:40:15,533]\u001b[0m Trial 54 finished with value: 0.7878907352191649 and parameters: {'tol': 0.001304520340033531, 'C': 1.0065338787373608, 'max_iter': 384.84460298098213, 'warm_start': True}. Best is trial 52 with value: 0.7879195317788578.\u001b[0m\n"
     ]
    },
    {
     "name": "stdout",
     "output_type": "stream",
     "text": [
      "LogisticRegression(C=1.0017845891069843, max_iter=422.785359128001,\n",
      "                   multi_class='multinomial', n_jobs=-1, random_state=42,\n",
      "                   solver='newton-cg', tol=0.0012991993490786104,\n",
      "                   warm_start=True)\n"
     ]
    },
    {
     "name": "stderr",
     "output_type": "stream",
     "text": [
      "\u001b[32m[I 2022-03-24 11:40:19,514]\u001b[0m Trial 55 finished with value: 0.7878865386442683 and parameters: {'tol': 0.0012991993490786104, 'C': 1.0017845891069843, 'max_iter': 422.785359128001, 'warm_start': True}. Best is trial 52 with value: 0.7879195317788578.\u001b[0m\n"
     ]
    },
    {
     "name": "stdout",
     "output_type": "stream",
     "text": [
      "LogisticRegression(C=1.1372538412004847, max_iter=499.9805184051976,\n",
      "                   multi_class='multinomial', n_jobs=-1, random_state=42,\n",
      "                   solver='newton-cg', tol=0.000604840465154707,\n",
      "                   warm_start=True)\n"
     ]
    },
    {
     "name": "stderr",
     "output_type": "stream",
     "text": [
      "\u001b[32m[I 2022-03-24 11:40:23,678]\u001b[0m Trial 56 finished with value: 0.7878936557507766 and parameters: {'tol': 0.000604840465154707, 'C': 1.1372538412004847, 'max_iter': 499.9805184051976, 'warm_start': True}. Best is trial 52 with value: 0.7879195317788578.\u001b[0m\n"
     ]
    },
    {
     "name": "stdout",
     "output_type": "stream",
     "text": [
      "LogisticRegression(C=1.1676946309585245, max_iter=499.57833039247294,\n",
      "                   multi_class='multinomial', n_jobs=-1, random_state=42,\n",
      "                   solver='newton-cg', tol=0.0005944290097360834,\n",
      "                   warm_start=True)\n"
     ]
    },
    {
     "name": "stderr",
     "output_type": "stream",
     "text": [
      "\u001b[32m[I 2022-03-24 11:40:28,209]\u001b[0m Trial 57 finished with value: 0.7879496580422484 and parameters: {'tol': 0.0005944290097360834, 'C': 1.1676946309585245, 'max_iter': 499.57833039247294, 'warm_start': True}. Best is trial 57 with value: 0.7879496580422484.\u001b[0m\n"
     ]
    },
    {
     "name": "stdout",
     "output_type": "stream",
     "text": [
      "LogisticRegression(C=1.180289893137827, max_iter=492.3472536743632,\n",
      "                   multi_class='multinomial', n_jobs=-1, random_state=42,\n",
      "                   solver='newton-cg', tol=0.0005678389306310863,\n",
      "                   warm_start=True)\n"
     ]
    },
    {
     "name": "stderr",
     "output_type": "stream",
     "text": [
      "\u001b[32m[I 2022-03-24 11:40:32,765]\u001b[0m Trial 58 finished with value: 0.7878033350142959 and parameters: {'tol': 0.0005678389306310863, 'C': 1.180289893137827, 'max_iter': 492.3472536743632, 'warm_start': True}. Best is trial 57 with value: 0.7879496580422484.\u001b[0m\n"
     ]
    },
    {
     "name": "stdout",
     "output_type": "stream",
     "text": [
      "LogisticRegression(C=1.3192406825649252, max_iter=498.4578575417204,\n",
      "                   multi_class='multinomial', n_jobs=-1, random_state=42,\n",
      "                   solver='newton-cg', tol=0.0007364642024970666,\n",
      "                   warm_start=True)\n"
     ]
    },
    {
     "name": "stderr",
     "output_type": "stream",
     "text": [
      "\u001b[32m[I 2022-03-24 11:40:36,721]\u001b[0m Trial 59 finished with value: 0.7878371124341572 and parameters: {'tol': 0.0007364642024970666, 'C': 1.3192406825649252, 'max_iter': 498.4578575417204, 'warm_start': True}. Best is trial 57 with value: 0.7879496580422484.\u001b[0m\n"
     ]
    },
    {
     "name": "stdout",
     "output_type": "stream",
     "text": [
      "LogisticRegression(C=1.1182217623121553, max_iter=475.31703596845875,\n",
      "                   multi_class='multinomial', n_jobs=-1, random_state=42,\n",
      "                   solver='newton-cg', tol=0.0003762096206544568,\n",
      "                   warm_start=True)\n"
     ]
    },
    {
     "name": "stderr",
     "output_type": "stream",
     "text": [
      "\u001b[32m[I 2022-03-24 11:40:41,247]\u001b[0m Trial 60 finished with value: 0.7879051566226698 and parameters: {'tol': 0.0003762096206544568, 'C': 1.1182217623121553, 'max_iter': 475.31703596845875, 'warm_start': True}. Best is trial 57 with value: 0.7879496580422484.\u001b[0m\n"
     ]
    },
    {
     "name": "stdout",
     "output_type": "stream",
     "text": [
      "LogisticRegression(C=1.1583947260892744, max_iter=450.8053963110118,\n",
      "                   multi_class='multinomial', n_jobs=-1, random_state=42,\n",
      "                   solver='newton-cg', tol=0.0005176556801080721,\n",
      "                   warm_start=True)\n"
     ]
    },
    {
     "name": "stderr",
     "output_type": "stream",
     "text": [
      "\u001b[32m[I 2022-03-24 11:40:45,783]\u001b[0m Trial 61 finished with value: 0.7879582068547168 and parameters: {'tol': 0.0005176556801080721, 'C': 1.1583947260892744, 'max_iter': 450.8053963110118, 'warm_start': True}. Best is trial 61 with value: 0.7879582068547168.\u001b[0m\n"
     ]
    },
    {
     "name": "stdout",
     "output_type": "stream",
     "text": [
      "LogisticRegression(C=1.1242667459901765, max_iter=452.31243285834216,\n",
      "                   multi_class='multinomial', n_jobs=-1, random_state=42,\n",
      "                   solver='newton-cg', tol=0.00035838487382823677,\n",
      "                   warm_start=True)\n"
     ]
    },
    {
     "name": "stderr",
     "output_type": "stream",
     "text": [
      "\u001b[32m[I 2022-03-24 11:40:50,422]\u001b[0m Trial 62 finished with value: 0.7878416695261776 and parameters: {'tol': 0.00035838487382823677, 'C': 1.1242667459901765, 'max_iter': 452.31243285834216, 'warm_start': True}. Best is trial 61 with value: 0.7879582068547168.\u001b[0m\n"
     ]
    },
    {
     "name": "stdout",
     "output_type": "stream",
     "text": [
      "LogisticRegression(C=1.130821450925508, max_iter=474.1840126183512,\n",
      "                   multi_class='multinomial', n_jobs=-1, random_state=42,\n",
      "                   solver='newton-cg', tol=0.0005047140535174433,\n",
      "                   warm_start=True)\n"
     ]
    },
    {
     "name": "stderr",
     "output_type": "stream",
     "text": [
      "\u001b[32m[I 2022-03-24 11:40:54,487]\u001b[0m Trial 63 finished with value: 0.7878290018595794 and parameters: {'tol': 0.0005047140535174433, 'C': 1.130821450925508, 'max_iter': 474.1840126183512, 'warm_start': True}. Best is trial 61 with value: 0.7879582068547168.\u001b[0m\n"
     ]
    },
    {
     "name": "stdout",
     "output_type": "stream",
     "text": [
      "LogisticRegression(C=1.2770741184618073, max_iter=484.1641300469156,\n",
      "                   multi_class='multinomial', n_jobs=-1, random_state=42,\n",
      "                   solver='newton-cg', tol=0.0006466972565219825,\n",
      "                   warm_start=True)\n"
     ]
    },
    {
     "name": "stderr",
     "output_type": "stream",
     "text": [
      "\u001b[32m[I 2022-03-24 11:40:58,872]\u001b[0m Trial 64 finished with value: 0.787787670427535 and parameters: {'tol': 0.0006466972565219825, 'C': 1.2770741184618073, 'max_iter': 484.1641300469156, 'warm_start': True}. Best is trial 61 with value: 0.7879582068547168.\u001b[0m\n"
     ]
    },
    {
     "name": "stdout",
     "output_type": "stream",
     "text": [
      "LogisticRegression(C=1.369974020905847, max_iter=499.0986685404374,\n",
      "                   multi_class='multinomial', n_jobs=-1, random_state=42,\n",
      "                   solver='newton-cg', tol=0.00036568688646113214,\n",
      "                   warm_start=True)\n"
     ]
    },
    {
     "name": "stderr",
     "output_type": "stream",
     "text": [
      "\u001b[32m[I 2022-03-24 11:41:03,481]\u001b[0m Trial 65 finished with value: 0.7877015008707811 and parameters: {'tol': 0.00036568688646113214, 'C': 1.369974020905847, 'max_iter': 499.0986685404374, 'warm_start': True}. Best is trial 61 with value: 0.7879582068547168.\u001b[0m\n"
     ]
    },
    {
     "name": "stdout",
     "output_type": "stream",
     "text": [
      "LogisticRegression(C=1.5532507003906364, max_iter=452.9109184985923,\n",
      "                   multi_class='multinomial', n_jobs=-1, random_state=42,\n",
      "                   solver='newton-cg', tol=0.0008190835463919775,\n",
      "                   warm_start=True)\n"
     ]
    },
    {
     "name": "stderr",
     "output_type": "stream",
     "text": [
      "\u001b[32m[I 2022-03-24 11:41:07,767]\u001b[0m Trial 66 finished with value: 0.7877294125594008 and parameters: {'tol': 0.0008190835463919775, 'C': 1.5532507003906364, 'max_iter': 452.9109184985923, 'warm_start': True}. Best is trial 61 with value: 0.7879582068547168.\u001b[0m\n"
     ]
    },
    {
     "name": "stdout",
     "output_type": "stream",
     "text": [
      "LogisticRegression(C=2.6412168460054484, max_iter=466.98829378881067,\n",
      "                   multi_class='multinomial', n_jobs=-1, random_state=42,\n",
      "                   solver='newton-cg', tol=0.0006251992962652442,\n",
      "                   warm_start=True)\n"
     ]
    },
    {
     "name": "stderr",
     "output_type": "stream",
     "text": [
      "\u001b[32m[I 2022-03-24 11:41:12,789]\u001b[0m Trial 67 finished with value: 0.7858626305506854 and parameters: {'tol': 0.0006251992962652442, 'C': 2.6412168460054484, 'max_iter': 466.98829378881067, 'warm_start': True}. Best is trial 61 with value: 0.7879582068547168.\u001b[0m\n"
     ]
    },
    {
     "name": "stdout",
     "output_type": "stream",
     "text": [
      "LogisticRegression(C=1.24985001728899, max_iter=423.89495592781606,\n",
      "                   multi_class='multinomial', n_jobs=-1, random_state=42,\n",
      "                   solver='newton-cg', tol=0.0004245164960785931,\n",
      "                   warm_start=True)\n"
     ]
    },
    {
     "name": "stderr",
     "output_type": "stream",
     "text": [
      "\u001b[32m[I 2022-03-24 11:41:17,230]\u001b[0m Trial 68 finished with value: 0.7877849630740771 and parameters: {'tol': 0.0004245164960785931, 'C': 1.24985001728899, 'max_iter': 423.89495592781606, 'warm_start': True}. Best is trial 61 with value: 0.7879582068547168.\u001b[0m\n"
     ]
    },
    {
     "name": "stdout",
     "output_type": "stream",
     "text": [
      "LogisticRegression(C=1.141570972467321, max_iter=481.65585531731506,\n",
      "                   multi_class='multinomial', n_jobs=-1, random_state=42,\n",
      "                   solver='newton-cg', tol=0.0005381368050191125,\n",
      "                   warm_start=True)\n"
     ]
    },
    {
     "name": "stderr",
     "output_type": "stream",
     "text": [
      "\u001b[32m[I 2022-03-24 11:41:21,367]\u001b[0m Trial 69 finished with value: 0.7879503213306347 and parameters: {'tol': 0.0005381368050191125, 'C': 1.141570972467321, 'max_iter': 481.65585531731506, 'warm_start': True}. Best is trial 61 with value: 0.7879582068547168.\u001b[0m\n"
     ]
    },
    {
     "name": "stdout",
     "output_type": "stream",
     "text": [
      "LogisticRegression(C=1.6240824323140537, max_iter=401.1474539244942,\n",
      "                   multi_class='multinomial', n_jobs=-1, random_state=42,\n",
      "                   solver='newton-cg', tol=0.0005244681822168104,\n",
      "                   warm_start=True)\n"
     ]
    },
    {
     "name": "stderr",
     "output_type": "stream",
     "text": [
      "\u001b[32m[I 2022-03-24 11:41:25,702]\u001b[0m Trial 70 finished with value: 0.7876151353461984 and parameters: {'tol': 0.0005244681822168104, 'C': 1.6240824323140537, 'max_iter': 401.1474539244942, 'warm_start': True}. Best is trial 61 with value: 0.7879582068547168.\u001b[0m\n"
     ]
    },
    {
     "name": "stdout",
     "output_type": "stream",
     "text": [
      "LogisticRegression(C=1.1534223729461262, max_iter=478.2745237965353,\n",
      "                   multi_class='multinomial', n_jobs=-1, random_state=42,\n",
      "                   solver='newton-cg', tol=0.0006672544615356154,\n",
      "                   warm_start=True)\n"
     ]
    },
    {
     "name": "stderr",
     "output_type": "stream",
     "text": [
      "\u001b[32m[I 2022-03-24 11:41:29,957]\u001b[0m Trial 71 finished with value: 0.787989202207074 and parameters: {'tol': 0.0006672544615356154, 'C': 1.1534223729461262, 'max_iter': 478.2745237965353, 'warm_start': True}. Best is trial 71 with value: 0.787989202207074.\u001b[0m\n"
     ]
    },
    {
     "name": "stdout",
     "output_type": "stream",
     "text": [
      "LogisticRegression(C=1.0532760318443979, max_iter=471.8347090312898,\n",
      "                   multi_class='multinomial', n_jobs=-1, random_state=42,\n",
      "                   solver='newton-cg', tol=0.0010201905234876615,\n",
      "                   warm_start=True)\n"
     ]
    },
    {
     "name": "stderr",
     "output_type": "stream",
     "text": [
      "\u001b[32m[I 2022-03-24 11:41:33,759]\u001b[0m Trial 72 finished with value: 0.7876980981907679 and parameters: {'tol': 0.0010201905234876615, 'C': 1.0532760318443979, 'max_iter': 471.8347090312898, 'warm_start': True}. Best is trial 71 with value: 0.787989202207074.\u001b[0m\n"
     ]
    },
    {
     "name": "stdout",
     "output_type": "stream",
     "text": [
      "LogisticRegression(C=1.2195290822797995, max_iter=457.80522955642715,\n",
      "                   multi_class='multinomial', n_jobs=-1, random_state=42,\n",
      "                   solver='newton-cg', tol=0.0004043815079105332,\n",
      "                   warm_start=True)\n"
     ]
    },
    {
     "name": "stderr",
     "output_type": "stream",
     "text": [
      "\u001b[32m[I 2022-03-24 11:41:38,117]\u001b[0m Trial 73 finished with value: 0.7877835349804163 and parameters: {'tol': 0.0004043815079105332, 'C': 1.2195290822797995, 'max_iter': 457.80522955642715, 'warm_start': True}. Best is trial 71 with value: 0.787989202207074.\u001b[0m\n"
     ]
    },
    {
     "name": "stdout",
     "output_type": "stream",
     "text": [
      "LogisticRegression(C=1.3502082054224258, max_iter=482.5729821919898,\n",
      "                   multi_class='multinomial', n_jobs=-1, random_state=42,\n",
      "                   solver='newton-cg', tol=0.0002623026328226446,\n",
      "                   warm_start=True)\n"
     ]
    },
    {
     "name": "stderr",
     "output_type": "stream",
     "text": [
      "\u001b[32m[I 2022-03-24 11:41:42,703]\u001b[0m Trial 74 finished with value: 0.7878175755084592 and parameters: {'tol': 0.0002623026328226446, 'C': 1.3502082054224258, 'max_iter': 482.5729821919898, 'warm_start': True}. Best is trial 71 with value: 0.787989202207074.\u001b[0m\n"
     ]
    },
    {
     "name": "stdout",
     "output_type": "stream",
     "text": [
      "LogisticRegression(C=1.1618901376304904, max_iter=439.25099080903664,\n",
      "                   multi_class='multinomial', n_jobs=-1, random_state=42,\n",
      "                   solver='newton-cg', tol=0.0006723903237145977,\n",
      "                   warm_start=True)\n"
     ]
    },
    {
     "name": "stderr",
     "output_type": "stream",
     "text": [
      "\u001b[32m[I 2022-03-24 11:41:47,080]\u001b[0m Trial 75 finished with value: 0.7879446096457807 and parameters: {'tol': 0.0006723903237145977, 'C': 1.1618901376304904, 'max_iter': 439.25099080903664, 'warm_start': True}. Best is trial 71 with value: 0.787989202207074.\u001b[0m\n"
     ]
    },
    {
     "name": "stdout",
     "output_type": "stream",
     "text": [
      "LogisticRegression(C=1.286822714816874, max_iter=435.66123236803537,\n",
      "                   multi_class='multinomial', n_jobs=-1, random_state=42,\n",
      "                   solver='newton-cg', tol=0.0007067606079009283,\n",
      "                   warm_start=True)\n"
     ]
    },
    {
     "name": "stderr",
     "output_type": "stream",
     "text": [
      "\u001b[32m[I 2022-03-24 11:41:51,349]\u001b[0m Trial 76 finished with value: 0.7877190073335529 and parameters: {'tol': 0.0007067606079009283, 'C': 1.286822714816874, 'max_iter': 435.66123236803537, 'warm_start': True}. Best is trial 71 with value: 0.787989202207074.\u001b[0m\n"
     ]
    },
    {
     "name": "stdout",
     "output_type": "stream",
     "text": [
      "LogisticRegression(C=1.1804520826088207, max_iter=419.72448813760013,\n",
      "                   multi_class='multinomial', n_jobs=-1, random_state=42,\n",
      "                   solver='newton-cg', tol=0.0008785857297782129,\n",
      "                   warm_start=True)\n"
     ]
    },
    {
     "name": "stderr",
     "output_type": "stream",
     "text": [
      "\u001b[32m[I 2022-03-24 11:41:55,821]\u001b[0m Trial 77 finished with value: 0.7878033350142959 and parameters: {'tol': 0.0008785857297782129, 'C': 1.1804520826088207, 'max_iter': 419.72448813760013, 'warm_start': True}. Best is trial 71 with value: 0.787989202207074.\u001b[0m\n"
     ]
    },
    {
     "name": "stdout",
     "output_type": "stream",
     "text": [
      "LogisticRegression(C=1.439114055703061, max_iter=446.1042659778418,\n",
      "                   multi_class='multinomial', n_jobs=-1, random_state=42,\n",
      "                   solver='newton-cg', tol=0.0011333051426882202,\n",
      "                   warm_start=True)\n"
     ]
    },
    {
     "name": "stderr",
     "output_type": "stream",
     "text": [
      "\u001b[32m[I 2022-03-24 11:42:00,008]\u001b[0m Trial 78 finished with value: 0.7876868194645894 and parameters: {'tol': 0.0011333051426882202, 'C': 1.439114055703061, 'max_iter': 446.1042659778418, 'warm_start': True}. Best is trial 71 with value: 0.787989202207074.\u001b[0m\n"
     ]
    },
    {
     "name": "stdout",
     "output_type": "stream",
     "text": [
      "LogisticRegression(C=1.5230116275502217, max_iter=460.1603205419583,\n",
      "                   multi_class='multinomial', n_jobs=-1, random_state=42,\n",
      "                   solver='newton-cg', tol=0.0005248712302471151,\n",
      "                   warm_start=True)\n"
     ]
    },
    {
     "name": "stderr",
     "output_type": "stream",
     "text": [
      "\u001b[32m[I 2022-03-24 11:42:04,216]\u001b[0m Trial 79 finished with value: 0.7878266464976467 and parameters: {'tol': 0.0005248712302471151, 'C': 1.5230116275502217, 'max_iter': 460.1603205419583, 'warm_start': True}. Best is trial 71 with value: 0.787989202207074.\u001b[0m\n"
     ]
    },
    {
     "name": "stdout",
     "output_type": "stream",
     "text": [
      "LogisticRegression(C=1.0720358773876508, max_iter=396.03751383799937,\n",
      "                   multi_class='multinomial', n_jobs=-1, random_state=42,\n",
      "                   solver='newton-cg', tol=0.0006722759171199277,\n",
      "                   warm_start=True)\n"
     ]
    },
    {
     "name": "stderr",
     "output_type": "stream",
     "text": [
      "\u001b[32m[I 2022-03-24 11:42:08,172]\u001b[0m Trial 80 finished with value: 0.7876182188836416 and parameters: {'tol': 0.0006722759171199277, 'C': 1.0720358773876508, 'max_iter': 396.03751383799937, 'warm_start': True}. Best is trial 71 with value: 0.787989202207074.\u001b[0m\n"
     ]
    },
    {
     "name": "stdout",
     "output_type": "stream",
     "text": [
      "LogisticRegression(C=1.1606178108355547, max_iter=484.38645425739435,\n",
      "                   multi_class='multinomial', n_jobs=-1, random_state=42,\n",
      "                   solver='newton-cg', tol=0.0004521095552058224,\n",
      "                   warm_start=True)\n"
     ]
    },
    {
     "name": "stderr",
     "output_type": "stream",
     "text": [
      "\u001b[32m[I 2022-03-24 11:42:12,579]\u001b[0m Trial 81 finished with value: 0.7879301917615965 and parameters: {'tol': 0.0004521095552058224, 'C': 1.1606178108355547, 'max_iter': 484.38645425739435, 'warm_start': True}. Best is trial 71 with value: 0.787989202207074.\u001b[0m\n"
     ]
    },
    {
     "name": "stdout",
     "output_type": "stream",
     "text": [
      "LogisticRegression(C=1.4022013096621362, max_iter=488.5197355603233,\n",
      "                   multi_class='multinomial', n_jobs=-1, random_state=42,\n",
      "                   solver='newton-cg', tol=0.00045890550704551003,\n",
      "                   warm_start=True)\n"
     ]
    },
    {
     "name": "stderr",
     "output_type": "stream",
     "text": [
      "\u001b[32m[I 2022-03-24 11:42:16,911]\u001b[0m Trial 82 finished with value: 0.7877134082738257 and parameters: {'tol': 0.00045890550704551003, 'C': 1.4022013096621362, 'max_iter': 488.5197355603233, 'warm_start': True}. Best is trial 71 with value: 0.787989202207074.\u001b[0m\n"
     ]
    },
    {
     "name": "stdout",
     "output_type": "stream",
     "text": [
      "LogisticRegression(C=1.174565833063455, max_iter=434.54458628616095,\n",
      "                   multi_class='multinomial', n_jobs=-1, random_state=42,\n",
      "                   solver='newton-cg', tol=0.0005888480695636411,\n",
      "                   warm_start=True)\n"
     ]
    },
    {
     "name": "stderr",
     "output_type": "stream",
     "text": [
      "\u001b[32m[I 2022-03-24 11:42:21,197]\u001b[0m Trial 83 finished with value: 0.7879167977730756 and parameters: {'tol': 0.0005888480695636411, 'C': 1.174565833063455, 'max_iter': 434.54458628616095, 'warm_start': True}. Best is trial 71 with value: 0.787989202207074.\u001b[0m\n"
     ]
    },
    {
     "name": "stdout",
     "output_type": "stream",
     "text": [
      "LogisticRegression(C=1.1769844315085611, max_iter=449.4146032400376,\n",
      "                   multi_class='multinomial', n_jobs=-1, random_state=42,\n",
      "                   solver='newton-cg', tol=0.0008034626242376028,\n",
      "                   warm_start=True)\n"
     ]
    },
    {
     "name": "stderr",
     "output_type": "stream",
     "text": [
      "\u001b[32m[I 2022-03-24 11:42:25,196]\u001b[0m Trial 84 finished with value: 0.787884083357109 and parameters: {'tol': 0.0008034626242376028, 'C': 1.1769844315085611, 'max_iter': 449.4146032400376, 'warm_start': True}. Best is trial 71 with value: 0.787989202207074.\u001b[0m\n"
     ]
    },
    {
     "name": "stdout",
     "output_type": "stream",
     "text": [
      "LogisticRegression(C=1.2729297168486213, max_iter=470.1476962742929,\n",
      "                   multi_class='multinomial', n_jobs=-1, random_state=42,\n",
      "                   solver='newton-cg', tol=0.0010098238054206952,\n",
      "                   warm_start=True)\n"
     ]
    },
    {
     "name": "stderr",
     "output_type": "stream",
     "text": [
      "\u001b[32m[I 2022-03-24 11:42:29,412]\u001b[0m Trial 85 finished with value: 0.7877540550161723 and parameters: {'tol': 0.0010098238054206952, 'C': 1.2729297168486213, 'max_iter': 470.1476962742929, 'warm_start': True}. Best is trial 71 with value: 0.787989202207074.\u001b[0m\n"
     ]
    },
    {
     "name": "stdout",
     "output_type": "stream",
     "text": [
      "LogisticRegression(C=1.0557740904746669, max_iter=435.1363505406673,\n",
      "                   multi_class='multinomial', n_jobs=-1, random_state=42,\n",
      "                   solver='newton-cg', tol=0.0005605216793226411,\n",
      "                   warm_start=True)\n"
     ]
    },
    {
     "name": "stderr",
     "output_type": "stream",
     "text": [
      "\u001b[32m[I 2022-03-24 11:42:33,368]\u001b[0m Trial 86 finished with value: 0.7876833296189436 and parameters: {'tol': 0.0005605216793226411, 'C': 1.0557740904746669, 'max_iter': 435.1363505406673, 'warm_start': True}. Best is trial 71 with value: 0.787989202207074.\u001b[0m\n"
     ]
    },
    {
     "name": "stdout",
     "output_type": "stream",
     "text": [
      "LogisticRegression(C=1.2257013461743622, max_iter=488.84728328452593,\n",
      "                   multi_class='multinomial', n_jobs=-1, random_state=42,\n",
      "                   solver='newton-cg', tol=0.0003286464363846752,\n",
      "                   warm_start=True)\n"
     ]
    },
    {
     "name": "stderr",
     "output_type": "stream",
     "text": [
      "\u001b[32m[I 2022-03-24 11:42:37,786]\u001b[0m Trial 87 finished with value: 0.7878972713453022 and parameters: {'tol': 0.0003286464363846752, 'C': 1.2257013461743622, 'max_iter': 488.84728328452593, 'warm_start': True}. Best is trial 71 with value: 0.787989202207074.\u001b[0m\n"
     ]
    },
    {
     "name": "stdout",
     "output_type": "stream",
     "text": [
      "LogisticRegression(C=1.1632600153838917, max_iter=461.3276914996179,\n",
      "                   multi_class='multinomial', n_jobs=-1, random_state=42,\n",
      "                   solver='newton-cg', tol=0.0008135267721066932,\n",
      "                   warm_start=True)\n"
     ]
    },
    {
     "name": "stderr",
     "output_type": "stream",
     "text": [
      "\u001b[32m[I 2022-03-24 11:42:41,927]\u001b[0m Trial 88 finished with value: 0.7879304990080751 and parameters: {'tol': 0.0008135267721066932, 'C': 1.1632600153838917, 'max_iter': 461.3276914996179, 'warm_start': True}. Best is trial 71 with value: 0.787989202207074.\u001b[0m\n"
     ]
    },
    {
     "name": "stdout",
     "output_type": "stream",
     "text": [
      "LogisticRegression(C=1.1573248335648476, max_iter=464.51396436340025,\n",
      "                   multi_class='multinomial', n_jobs=-1, random_state=42,\n",
      "                   solver='newton-cg', tol=0.0008182079956788617,\n",
      "                   warm_start=True)\n"
     ]
    },
    {
     "name": "stderr",
     "output_type": "stream",
     "text": [
      "\u001b[32m[I 2022-03-24 11:42:46,050]\u001b[0m Trial 89 finished with value: 0.787974569696795 and parameters: {'tol': 0.0008182079956788617, 'C': 1.1573248335648476, 'max_iter': 464.51396436340025, 'warm_start': True}. Best is trial 71 with value: 0.787989202207074.\u001b[0m\n"
     ]
    },
    {
     "name": "stdout",
     "output_type": "stream",
     "text": [
      "LogisticRegression(C=1.0570982967880382, max_iter=463.8751191270657,\n",
      "                   multi_class='multinomial', n_jobs=-1, random_state=42,\n",
      "                   solver='newton-cg', tol=0.0007897789667752906,\n",
      "                   warm_start=True)\n"
     ]
    },
    {
     "name": "stderr",
     "output_type": "stream",
     "text": [
      "\u001b[32m[I 2022-03-24 11:42:49,931]\u001b[0m Trial 90 finished with value: 0.7876349148354457 and parameters: {'tol': 0.0007897789667752906, 'C': 1.0570982967880382, 'max_iter': 463.8751191270657, 'warm_start': True}. Best is trial 71 with value: 0.787989202207074.\u001b[0m\n"
     ]
    },
    {
     "name": "stdout",
     "output_type": "stream",
     "text": [
      "LogisticRegression(C=1.161466449738235, max_iter=478.42352153742354,\n",
      "                   multi_class='multinomial', n_jobs=-1, random_state=42,\n",
      "                   solver='newton-cg', tol=0.0006528055079163787,\n",
      "                   warm_start=True)\n"
     ]
    },
    {
     "name": "stderr",
     "output_type": "stream",
     "text": [
      "\u001b[32m[I 2022-03-24 11:42:54,094]\u001b[0m Trial 91 finished with value: 0.7879446096457807 and parameters: {'tol': 0.0006528055079163787, 'C': 1.161466449738235, 'max_iter': 478.42352153742354, 'warm_start': True}. Best is trial 71 with value: 0.787989202207074.\u001b[0m\n"
     ]
    },
    {
     "name": "stdout",
     "output_type": "stream",
     "text": [
      "LogisticRegression(C=1.2949269274146027, max_iter=482.6066239411016,\n",
      "                   multi_class='multinomial', n_jobs=-1, random_state=42,\n",
      "                   solver='newton-cg', tol=0.0006588129200751279,\n",
      "                   warm_start=True)\n"
     ]
    },
    {
     "name": "stderr",
     "output_type": "stream",
     "text": [
      "\u001b[32m[I 2022-03-24 11:42:58,634]\u001b[0m Trial 92 finished with value: 0.7877853696739798 and parameters: {'tol': 0.0006588129200751279, 'C': 1.2949269274146027, 'max_iter': 482.6066239411016, 'warm_start': True}. Best is trial 71 with value: 0.787989202207074.\u001b[0m\n"
     ]
    },
    {
     "name": "stdout",
     "output_type": "stream",
     "text": [
      "LogisticRegression(C=1.1181358540456354, max_iter=168.61414503096046,\n",
      "                   multi_class='multinomial', n_jobs=-1, random_state=42,\n",
      "                   solver='newton-cg', tol=0.0008455336796017732,\n",
      "                   warm_start=True)\n"
     ]
    },
    {
     "name": "stderr",
     "output_type": "stream",
     "text": [
      "\u001b[32m[I 2022-03-24 11:43:02,827]\u001b[0m Trial 93 finished with value: 0.7879051566226698 and parameters: {'tol': 0.0008455336796017732, 'C': 1.1181358540456354, 'max_iter': 168.61414503096046, 'warm_start': True}. Best is trial 71 with value: 0.787989202207074.\u001b[0m\n"
     ]
    },
    {
     "name": "stdout",
     "output_type": "stream",
     "text": [
      "LogisticRegression(C=1.2321073681043093, max_iter=475.98413976978185,\n",
      "                   multi_class='multinomial', n_jobs=-1, random_state=42,\n",
      "                   solver='newton-cg', tol=0.0009829530714916394,\n",
      "                   warm_start=True)\n"
     ]
    },
    {
     "name": "stderr",
     "output_type": "stream",
     "text": [
      "\u001b[32m[I 2022-03-24 11:43:07,247]\u001b[0m Trial 94 finished with value: 0.7878527971498408 and parameters: {'tol': 0.0009829530714916394, 'C': 1.2321073681043093, 'max_iter': 475.98413976978185, 'warm_start': True}. Best is trial 71 with value: 0.787989202207074.\u001b[0m\n"
     ]
    },
    {
     "name": "stdout",
     "output_type": "stream",
     "text": [
      "LogisticRegression(C=1.0371117489905668, max_iter=463.30905875623347,\n",
      "                   multi_class='multinomial', n_jobs=-1, random_state=42,\n",
      "                   solver='newton-cg', tol=0.00042023255374403694,\n",
      "                   warm_start=True)\n"
     ]
    },
    {
     "name": "stderr",
     "output_type": "stream",
     "text": [
      "\u001b[32m[I 2022-03-24 11:43:11,295]\u001b[0m Trial 95 finished with value: 0.7877220026440828 and parameters: {'tol': 0.00042023255374403694, 'C': 1.0371117489905668, 'max_iter': 463.30905875623347, 'warm_start': True}. Best is trial 71 with value: 0.787989202207074.\u001b[0m\n"
     ]
    },
    {
     "name": "stdout",
     "output_type": "stream",
     "text": [
      "LogisticRegression(C=1.3537838332030585, max_iter=490.19906174895914,\n",
      "                   multi_class='multinomial', n_jobs=-1, random_state=42,\n",
      "                   solver='newton-cg', tol=0.0004806389968628037,\n",
      "                   warm_start=True)\n"
     ]
    },
    {
     "name": "stderr",
     "output_type": "stream",
     "text": [
      "\u001b[32m[I 2022-03-24 11:43:16,056]\u001b[0m Trial 96 finished with value: 0.7878061923823496 and parameters: {'tol': 0.0004806389968628037, 'C': 1.3537838332030585, 'max_iter': 490.19906174895914, 'warm_start': True}. Best is trial 71 with value: 0.787989202207074.\u001b[0m\n"
     ]
    },
    {
     "name": "stdout",
     "output_type": "stream",
     "text": [
      "LogisticRegression(C=1.160392544793415, max_iter=454.7977452949335,\n",
      "                   multi_class='multinomial', n_jobs=-1, random_state=42,\n",
      "                   solver='newton-cg', tol=0.0006931165998116072,\n",
      "                   warm_start=True)\n"
     ]
    },
    {
     "name": "stderr",
     "output_type": "stream",
     "text": [
      "\u001b[32m[I 2022-03-24 11:43:20,391]\u001b[0m Trial 97 finished with value: 0.7879160835755629 and parameters: {'tol': 0.0006931165998116072, 'C': 1.160392544793415, 'max_iter': 454.7977452949335, 'warm_start': True}. Best is trial 71 with value: 0.787989202207074.\u001b[0m\n"
     ]
    },
    {
     "name": "stdout",
     "output_type": "stream",
     "text": [
      "LogisticRegression(C=1.0104434395297694, max_iter=478.429399792215,\n",
      "                   multi_class='multinomial', n_jobs=-1, random_state=42,\n",
      "                   solver='newton-cg', tol=0.000552080026876192,\n",
      "                   warm_start=True)\n"
     ]
    },
    {
     "name": "stderr",
     "output_type": "stream",
     "text": [
      "\u001b[32m[I 2022-03-24 11:43:24,576]\u001b[0m Trial 98 finished with value: 0.7878907352191649 and parameters: {'tol': 0.000552080026876192, 'C': 1.0104434395297694, 'max_iter': 478.429399792215, 'warm_start': True}. Best is trial 71 with value: 0.787989202207074.\u001b[0m\n"
     ]
    },
    {
     "name": "stdout",
     "output_type": "stream",
     "text": [
      "LogisticRegression(C=1.105294178852449, max_iter=443.5259835460596,\n",
      "                   multi_class='multinomial', n_jobs=-1, random_state=42,\n",
      "                   solver='newton-cg', tol=0.0007452691996111985,\n",
      "                   warm_start=True)\n"
     ]
    },
    {
     "name": "stderr",
     "output_type": "stream",
     "text": [
      "\u001b[32m[I 2022-03-24 11:43:28,699]\u001b[0m Trial 99 finished with value: 0.7877165703419583 and parameters: {'tol': 0.0007452691996111985, 'C': 1.105294178852449, 'max_iter': 443.5259835460596, 'warm_start': True}. Best is trial 71 with value: 0.787989202207074.\u001b[0m\n"
     ]
    },
    {
     "name": "stdout",
     "output_type": "stream",
     "text": [
      "LogisticRegression(C=1.2168653425327713, max_iter=467.37562995182464,\n",
      "                   multi_class='multinomial', n_jobs=-1, random_state=42,\n",
      "                   solver='newton-cg', tol=0.0009278060359299943,\n",
      "                   warm_start=True)\n"
     ]
    },
    {
     "name": "stderr",
     "output_type": "stream",
     "text": [
      "\u001b[32m[I 2022-03-24 11:43:32,765]\u001b[0m Trial 100 finished with value: 0.7878075744758207 and parameters: {'tol': 0.0009278060359299943, 'C': 1.2168653425327713, 'max_iter': 467.37562995182464, 'warm_start': True}. Best is trial 71 with value: 0.787989202207074.\u001b[0m\n"
     ]
    },
    {
     "name": "stdout",
     "output_type": "stream",
     "text": [
      "LogisticRegression(C=1.1480820233218134, max_iter=441.60938905337287,\n",
      "                   multi_class='multinomial', n_jobs=-1, random_state=42,\n",
      "                   solver='newton-cg', tol=0.0006217048105260568,\n",
      "                   warm_start=True)\n"
     ]
    },
    {
     "name": "stderr",
     "output_type": "stream",
     "text": [
      "\u001b[32m[I 2022-03-24 11:43:37,025]\u001b[0m Trial 101 finished with value: 0.7879144085382347 and parameters: {'tol': 0.0006217048105260568, 'C': 1.1480820233218134, 'max_iter': 441.60938905337287, 'warm_start': True}. Best is trial 71 with value: 0.787989202207074.\u001b[0m\n"
     ]
    },
    {
     "name": "stdout",
     "output_type": "stream",
     "text": [
      "LogisticRegression(C=2.458661563350467, max_iter=429.9023507938926,\n",
      "                   multi_class='multinomial', n_jobs=-1, random_state=42,\n",
      "                   solver='newton-cg', tol=0.000592740254771102,\n",
      "                   warm_start=True)\n"
     ]
    },
    {
     "name": "stderr",
     "output_type": "stream",
     "text": [
      "\u001b[32m[I 2022-03-24 11:43:41,952]\u001b[0m Trial 102 finished with value: 0.7862764665712884 and parameters: {'tol': 0.000592740254771102, 'C': 2.458661563350467, 'max_iter': 429.9023507938926, 'warm_start': True}. Best is trial 71 with value: 0.787989202207074.\u001b[0m\n"
     ]
    },
    {
     "name": "stdout",
     "output_type": "stream",
     "text": [
      "LogisticRegression(C=1.3129267580861486, max_iter=417.0024456888001,\n",
      "                   multi_class='multinomial', n_jobs=-1, random_state=42,\n",
      "                   solver='newton-cg', tol=0.0004704594083361931,\n",
      "                   warm_start=True)\n"
     ]
    },
    {
     "name": "stderr",
     "output_type": "stream",
     "text": [
      "\u001b[32m[I 2022-03-24 11:43:46,700]\u001b[0m Trial 103 finished with value: 0.7877770312467521 and parameters: {'tol': 0.0004704594083361931, 'C': 1.3129267580861486, 'max_iter': 417.0024456888001, 'warm_start': True}. Best is trial 71 with value: 0.787989202207074.\u001b[0m\n"
     ]
    },
    {
     "name": "stdout",
     "output_type": "stream",
     "text": [
      "LogisticRegression(C=1.190062626129411, max_iter=452.9007652406302,\n",
      "                   multi_class='multinomial', n_jobs=-1, random_state=42,\n",
      "                   solver='newton-cg', tol=0.0007832403392382648,\n",
      "                   warm_start=True)\n"
     ]
    },
    {
     "name": "stderr",
     "output_type": "stream",
     "text": [
      "\u001b[32m[I 2022-03-24 11:43:51,204]\u001b[0m Trial 104 finished with value: 0.7878437542579566 and parameters: {'tol': 0.0007832403392382648, 'C': 1.190062626129411, 'max_iter': 452.9007652406302, 'warm_start': True}. Best is trial 71 with value: 0.787989202207074.\u001b[0m\n"
     ]
    },
    {
     "name": "stdout",
     "output_type": "stream",
     "text": [
      "LogisticRegression(C=1.0957639148596683, max_iter=494.6936214784858,\n",
      "                   multi_class='multinomial', n_jobs=-1, random_state=42,\n",
      "                   solver='newton-cg', tol=0.0006702955846079819,\n",
      "                   warm_start=True)\n"
     ]
    },
    {
     "name": "stderr",
     "output_type": "stream",
     "text": [
      "\u001b[32m[I 2022-03-24 11:43:55,259]\u001b[0m Trial 105 finished with value: 0.7876565851205595 and parameters: {'tol': 0.0006702955846079819, 'C': 1.0957639148596683, 'max_iter': 494.6936214784858, 'warm_start': True}. Best is trial 71 with value: 0.787989202207074.\u001b[0m\n"
     ]
    },
    {
     "name": "stdout",
     "output_type": "stream",
     "text": [
      "LogisticRegression(C=1.3948819471513692, max_iter=480.19936382519404,\n",
      "                   multi_class='multinomial', n_jobs=-1, random_state=42,\n",
      "                   solver='newton-cg', tol=0.0005464557943856807,\n",
      "                   warm_start=True)\n"
     ]
    },
    {
     "name": "stderr",
     "output_type": "stream",
     "text": [
      "\u001b[32m[I 2022-03-24 11:43:59,861]\u001b[0m Trial 106 finished with value: 0.7877388609998623 and parameters: {'tol': 0.0005464557943856807, 'C': 1.3948819471513692, 'max_iter': 480.19936382519404, 'warm_start': True}. Best is trial 71 with value: 0.787989202207074.\u001b[0m\n"
     ]
    },
    {
     "name": "stdout",
     "output_type": "stream",
     "text": [
      "LogisticRegression(C=1.2630379547576696, max_iter=459.9025641714612,\n",
      "                   multi_class='multinomial', n_jobs=-1, random_state=42,\n",
      "                   solver='newton-cg', tol=0.0003975419664643298,\n",
      "                   warm_start=True)\n"
     ]
    },
    {
     "name": "stderr",
     "output_type": "stream",
     "text": [
      "\u001b[32m[I 2022-03-24 11:44:04,293]\u001b[0m Trial 107 finished with value: 0.787656194694034 and parameters: {'tol': 0.0003975419664643298, 'C': 1.2630379547576696, 'max_iter': 459.9025641714612, 'warm_start': True}. Best is trial 71 with value: 0.787989202207074.\u001b[0m\n"
     ]
    },
    {
     "name": "stdout",
     "output_type": "stream",
     "text": [
      "LogisticRegression(C=1.1551191211813585, max_iter=469.7937093829084,\n",
      "                   multi_class='multinomial', n_jobs=-1, random_state=42,\n",
      "                   solver='newton-cg', tol=0.0004922720011696177,\n",
      "                   warm_start=True)\n"
     ]
    },
    {
     "name": "stderr",
     "output_type": "stream",
     "text": [
      "\u001b[32m[I 2022-03-24 11:44:08,607]\u001b[0m Trial 108 finished with value: 0.7880069904644874 and parameters: {'tol': 0.0004922720011696177, 'C': 1.1551191211813585, 'max_iter': 469.7937093829084, 'warm_start': True}. Best is trial 108 with value: 0.7880069904644874.\u001b[0m\n"
     ]
    },
    {
     "name": "stdout",
     "output_type": "stream",
     "text": [
      "LogisticRegression(C=1.083796332778596, max_iter=471.26896524952633,\n",
      "                   multi_class='multinomial', n_jobs=-1, random_state=42,\n",
      "                   solver='newton-cg', tol=0.0005163923118492143,\n",
      "                   warm_start=True)\n"
     ]
    },
    {
     "name": "stderr",
     "output_type": "stream",
     "text": [
      "\u001b[32m[I 2022-03-24 11:44:12,762]\u001b[0m Trial 109 finished with value: 0.7876634531653208 and parameters: {'tol': 0.0005163923118492143, 'C': 1.083796332778596, 'max_iter': 471.26896524952633, 'warm_start': True}. Best is trial 108 with value: 0.7880069904644874.\u001b[0m\n"
     ]
    },
    {
     "name": "stdout",
     "output_type": "stream",
     "text": [
      "LogisticRegression(C=1.001463659576384, max_iter=493.0654886006927,\n",
      "                   multi_class='multinomial', n_jobs=-1, random_state=42,\n",
      "                   solver='newton-cg', tol=0.0014469280941282082,\n",
      "                   warm_start=True)\n"
     ]
    },
    {
     "name": "stderr",
     "output_type": "stream",
     "text": [
      "\u001b[32m[I 2022-03-24 11:44:16,442]\u001b[0m Trial 110 finished with value: 0.7878755912890241 and parameters: {'tol': 0.0014469280941282082, 'C': 1.001463659576384, 'max_iter': 493.0654886006927, 'warm_start': True}. Best is trial 108 with value: 0.7880069904644874.\u001b[0m\n"
     ]
    },
    {
     "name": "stdout",
     "output_type": "stream",
     "text": [
      "LogisticRegression(C=1.15309247534454, max_iter=448.65814522929355,\n",
      "                   multi_class='multinomial', n_jobs=-1, random_state=42,\n",
      "                   solver='newton-cg', tol=0.0005912436529886839,\n",
      "                   warm_start=True)\n"
     ]
    },
    {
     "name": "stderr",
     "output_type": "stream",
     "text": [
      "\u001b[32m[I 2022-03-24 11:44:20,578]\u001b[0m Trial 111 finished with value: 0.787989202207074 and parameters: {'tol': 0.0005912436529886839, 'C': 1.15309247534454, 'max_iter': 448.65814522929355, 'warm_start': True}. Best is trial 108 with value: 0.7880069904644874.\u001b[0m\n"
     ]
    },
    {
     "name": "stdout",
     "output_type": "stream",
     "text": [
      "LogisticRegression(C=1.134044092053977, max_iter=486.0991546200845,\n",
      "                   multi_class='multinomial', n_jobs=-1, random_state=42,\n",
      "                   solver='newton-cg', tol=0.00046614860614728904,\n",
      "                   warm_start=True)\n"
     ]
    },
    {
     "name": "stderr",
     "output_type": "stream",
     "text": [
      "\u001b[32m[I 2022-03-24 11:44:24,778]\u001b[0m Trial 112 finished with value: 0.7878432088352786 and parameters: {'tol': 0.00046614860614728904, 'C': 1.134044092053977, 'max_iter': 486.0991546200845, 'warm_start': True}. Best is trial 108 with value: 0.7880069904644874.\u001b[0m\n"
     ]
    },
    {
     "name": "stdout",
     "output_type": "stream",
     "text": [
      "LogisticRegression(C=1.2399098391734509, max_iter=449.46353260874434,\n",
      "                   multi_class='multinomial', n_jobs=-1, random_state=42,\n",
      "                   solver='newton-cg', tol=0.0006995964495280378,\n",
      "                   warm_start=True)\n"
     ]
    },
    {
     "name": "stderr",
     "output_type": "stream",
     "text": [
      "\u001b[32m[I 2022-03-24 11:44:29,229]\u001b[0m Trial 113 finished with value: 0.7877994222247413 and parameters: {'tol': 0.0006995964495280378, 'C': 1.2399098391734509, 'max_iter': 449.46353260874434, 'warm_start': True}. Best is trial 108 with value: 0.7880069904644874.\u001b[0m\n"
     ]
    },
    {
     "name": "stdout",
     "output_type": "stream",
     "text": [
      "LogisticRegression(C=1.3286380884953295, max_iter=462.4382658222561,\n",
      "                   multi_class='multinomial', n_jobs=-1, random_state=42,\n",
      "                   solver='newton-cg', tol=0.0006265345621523257,\n",
      "                   warm_start=True)\n"
     ]
    },
    {
     "name": "stderr",
     "output_type": "stream",
     "text": [
      "\u001b[32m[I 2022-03-24 11:44:33,646]\u001b[0m Trial 114 finished with value: 0.7878684832245462 and parameters: {'tol': 0.0006265345621523257, 'C': 1.3286380884953295, 'max_iter': 462.4382658222561, 'warm_start': True}. Best is trial 108 with value: 0.7880069904644874.\u001b[0m\n"
     ]
    },
    {
     "name": "stdout",
     "output_type": "stream",
     "text": [
      "LogisticRegression(C=1.0674345943277992, max_iter=475.2691463414744,\n",
      "                   multi_class='multinomial', n_jobs=-1, random_state=42,\n",
      "                   solver='newton-cg', tol=0.00042497476175861094,\n",
      "                   warm_start=True)\n"
     ]
    },
    {
     "name": "stderr",
     "output_type": "stream",
     "text": [
      "\u001b[32m[I 2022-03-24 11:44:37,707]\u001b[0m Trial 115 finished with value: 0.7875955250249304 and parameters: {'tol': 0.00042497476175861094, 'C': 1.0674345943277992, 'max_iter': 475.2691463414744, 'warm_start': True}. Best is trial 108 with value: 0.7880069904644874.\u001b[0m\n"
     ]
    },
    {
     "name": "stdout",
     "output_type": "stream",
     "text": [
      "LogisticRegression(C=1.152694341929617, max_iter=468.7859603140461,\n",
      "                   multi_class='multinomial', n_jobs=-1, random_state=42,\n",
      "                   solver='newton-cg', tol=0.00033023022292623567,\n",
      "                   warm_start=True)\n"
     ]
    },
    {
     "name": "stderr",
     "output_type": "stream",
     "text": [
      "\u001b[32m[I 2022-03-24 11:44:42,314]\u001b[0m Trial 116 finished with value: 0.7879710666982325 and parameters: {'tol': 0.00033023022292623567, 'C': 1.152694341929617, 'max_iter': 468.7859603140461, 'warm_start': True}. Best is trial 108 with value: 0.7880069904644874.\u001b[0m\n"
     ]
    },
    {
     "name": "stdout",
     "output_type": "stream",
     "text": [
      "LogisticRegression(C=1.1926033401274356, max_iter=499.27320911772455,\n",
      "                   multi_class='multinomial', n_jobs=-1, random_state=42,\n",
      "                   solver='newton-cg', tol=0.0003382646685060365,\n",
      "                   warm_start=True)\n"
     ]
    },
    {
     "name": "stderr",
     "output_type": "stream",
     "text": [
      "\u001b[32m[I 2022-03-24 11:44:46,818]\u001b[0m Trial 117 finished with value: 0.7878094269340311 and parameters: {'tol': 0.0003382646685060365, 'C': 1.1926033401274356, 'max_iter': 499.27320911772455, 'warm_start': True}. Best is trial 108 with value: 0.7880069904644874.\u001b[0m\n"
     ]
    },
    {
     "name": "stdout",
     "output_type": "stream",
     "text": [
      "LogisticRegression(C=1.4554050081968837, max_iter=481.2175698748302,\n",
      "                   multi_class='multinomial', n_jobs=-1, random_state=42,\n",
      "                   solver='newton-cg', tol=0.00022887290969693727,\n",
      "                   warm_start=True)\n"
     ]
    },
    {
     "name": "stderr",
     "output_type": "stream",
     "text": [
      "\u001b[32m[I 2022-03-24 11:44:51,618]\u001b[0m Trial 118 finished with value: 0.7877646133487838 and parameters: {'tol': 0.00022887290969693727, 'C': 1.4554050081968837, 'max_iter': 481.2175698748302, 'warm_start': True}. Best is trial 108 with value: 0.7880069904644874.\u001b[0m\n"
     ]
    },
    {
     "name": "stdout",
     "output_type": "stream",
     "text": [
      "LogisticRegression(C=1.1551904143709395, max_iter=468.0954922865797,\n",
      "                   multi_class='multinomial', n_jobs=-1, random_state=42,\n",
      "                   solver='newton-cg', tol=0.0002972755163834127,\n",
      "                   warm_start=True)\n"
     ]
    },
    {
     "name": "stderr",
     "output_type": "stream",
     "text": [
      "\u001b[32m[I 2022-03-24 11:44:56,214]\u001b[0m Trial 119 finished with value: 0.7880069904644874 and parameters: {'tol': 0.0002972755163834127, 'C': 1.1551904143709395, 'max_iter': 468.0954922865797, 'warm_start': True}. Best is trial 108 with value: 0.7880069904644874.\u001b[0m\n"
     ]
    },
    {
     "name": "stdout",
     "output_type": "stream",
     "text": [
      "LogisticRegression(C=3.133654314921226, max_iter=267.38164044703746,\n",
      "                   multi_class='multinomial', n_jobs=-1, random_state=42,\n",
      "                   solver='newton-cg', tol=0.00030182346489793325,\n",
      "                   warm_start=True)\n"
     ]
    },
    {
     "name": "stderr",
     "output_type": "stream",
     "text": [
      "\u001b[32m[I 2022-03-24 11:45:01,417]\u001b[0m Trial 120 finished with value: 0.7853684467531808 and parameters: {'tol': 0.00030182346489793325, 'C': 3.133654314921226, 'max_iter': 267.38164044703746, 'warm_start': True}. Best is trial 108 with value: 0.7880069904644874.\u001b[0m\n"
     ]
    },
    {
     "name": "stdout",
     "output_type": "stream",
     "text": [
      "LogisticRegression(C=3.4894005988911654, max_iter=467.02773450525217,\n",
      "                   multi_class='multinomial', n_jobs=-1, random_state=42,\n",
      "                   solver='newton-cg', tol=0.00017673478243933962,\n",
      "                   warm_start=True)\n"
     ]
    },
    {
     "name": "stderr",
     "output_type": "stream",
     "text": [
      "\u001b[32m[I 2022-03-24 11:45:07,217]\u001b[0m Trial 121 finished with value: 0.7844903583605325 and parameters: {'tol': 0.00017673478243933962, 'C': 3.4894005988911654, 'max_iter': 467.02773450525217, 'warm_start': True}. Best is trial 108 with value: 0.7880069904644874.\u001b[0m\n"
     ]
    },
    {
     "name": "stdout",
     "output_type": "stream",
     "text": [
      "LogisticRegression(C=1.2635246384664545, max_iter=454.4176148000822,\n",
      "                   multi_class='multinomial', n_jobs=-1, random_state=42,\n",
      "                   solver='newton-cg', tol=0.0003878715073542795,\n",
      "                   warm_start=True)\n"
     ]
    },
    {
     "name": "stderr",
     "output_type": "stream",
     "text": [
      "\u001b[32m[I 2022-03-24 11:45:11,658]\u001b[0m Trial 122 finished with value: 0.787656194694034 and parameters: {'tol': 0.0003878715073542795, 'C': 1.2635246384664545, 'max_iter': 454.4176148000822, 'warm_start': True}. Best is trial 108 with value: 0.7880069904644874.\u001b[0m\n"
     ]
    },
    {
     "name": "stdout",
     "output_type": "stream",
     "text": [
      "LogisticRegression(C=1.1501099848802552, max_iter=488.8597602089021,\n",
      "                   multi_class='multinomial', n_jobs=-1, random_state=42,\n",
      "                   solver='newton-cg', tol=0.0004403548522819717,\n",
      "                   warm_start=True)\n"
     ]
    },
    {
     "name": "stderr",
     "output_type": "stream",
     "text": [
      "\u001b[32m[I 2022-03-24 11:45:16,035]\u001b[0m Trial 123 finished with value: 0.7879144085382347 and parameters: {'tol': 0.0004403548522819717, 'C': 1.1501099848802552, 'max_iter': 488.8597602089021, 'warm_start': True}. Best is trial 108 with value: 0.7880069904644874.\u001b[0m\n"
     ]
    },
    {
     "name": "stdout",
     "output_type": "stream",
     "text": [
      "LogisticRegression(C=1.2078441745692317, max_iter=471.44108141151645,\n",
      "                   multi_class='multinomial', n_jobs=-1, random_state=42,\n",
      "                   solver='newton-cg', tol=0.00023701960049938675,\n",
      "                   warm_start=True)\n"
     ]
    },
    {
     "name": "stderr",
     "output_type": "stream",
     "text": [
      "\u001b[32m[I 2022-03-24 11:45:20,653]\u001b[0m Trial 124 finished with value: 0.7878431926281838 and parameters: {'tol': 0.00023701960049938675, 'C': 1.2078441745692317, 'max_iter': 471.44108141151645, 'warm_start': True}. Best is trial 108 with value: 0.7880069904644874.\u001b[0m\n"
     ]
    },
    {
     "name": "stdout",
     "output_type": "stream",
     "text": [
      "LogisticRegression(C=1.1080805967205056, max_iter=444.07123018258125,\n",
      "                   multi_class='multinomial', n_jobs=-1, random_state=42,\n",
      "                   solver='newton-cg', tol=0.0005290136438439904,\n",
      "                   warm_start=True)\n"
     ]
    },
    {
     "name": "stderr",
     "output_type": "stream",
     "text": [
      "\u001b[32m[I 2022-03-24 11:45:24,854]\u001b[0m Trial 125 finished with value: 0.787784731294127 and parameters: {'tol': 0.0005290136438439904, 'C': 1.1080805967205056, 'max_iter': 444.07123018258125, 'warm_start': True}. Best is trial 108 with value: 0.7880069904644874.\u001b[0m\n"
     ]
    },
    {
     "name": "stdout",
     "output_type": "stream",
     "text": [
      "LogisticRegression(C=1.2942585097635062, max_iter=456.78143358798144,\n",
      "                   multi_class='multinomial', n_jobs=-1, random_state=42,\n",
      "                   solver='newton-cg', tol=0.0008539453047229095,\n",
      "                   warm_start=True)\n"
     ]
    },
    {
     "name": "stderr",
     "output_type": "stream",
     "text": [
      "\u001b[32m[I 2022-03-24 11:45:29,192]\u001b[0m Trial 126 finished with value: 0.787752940250345 and parameters: {'tol': 0.0008539453047229095, 'C': 1.2942585097635062, 'max_iter': 456.78143358798144, 'warm_start': True}. Best is trial 108 with value: 0.7880069904644874.\u001b[0m\n"
     ]
    },
    {
     "name": "stdout",
     "output_type": "stream",
     "text": [
      "LogisticRegression(C=1.154417959152468, max_iter=477.9962919326682,\n",
      "                   multi_class='multinomial', n_jobs=-1, random_state=42,\n",
      "                   solver='newton-cg', tol=0.0002926177332544172,\n",
      "                   warm_start=True)\n"
     ]
    },
    {
     "name": "stderr",
     "output_type": "stream",
     "text": [
      "\u001b[32m[I 2022-03-24 11:45:33,632]\u001b[0m Trial 127 finished with value: 0.7880069904644874 and parameters: {'tol': 0.0002926177332544172, 'C': 1.154417959152468, 'max_iter': 477.9962919326682, 'warm_start': True}. Best is trial 108 with value: 0.7880069904644874.\u001b[0m\n"
     ]
    },
    {
     "name": "stdout",
     "output_type": "stream",
     "text": [
      "LogisticRegression(C=1.066404888989061, max_iter=476.3613710716814,\n",
      "                   multi_class='multinomial', n_jobs=-1, random_state=42,\n",
      "                   solver='newton-cg', tol=0.00019470187053773953,\n",
      "                   warm_start=True)\n"
     ]
    },
    {
     "name": "stderr",
     "output_type": "stream",
     "text": [
      "\u001b[32m[I 2022-03-24 11:45:37,818]\u001b[0m Trial 128 finished with value: 0.7875631929789384 and parameters: {'tol': 0.00019470187053773953, 'C': 1.066404888989061, 'max_iter': 476.3613710716814, 'warm_start': True}. Best is trial 108 with value: 0.7880069904644874.\u001b[0m\n"
     ]
    },
    {
     "name": "stdout",
     "output_type": "stream",
     "text": [
      "LogisticRegression(C=1.3586047786211062, max_iter=464.5541972904848,\n",
      "                   multi_class='multinomial', n_jobs=-1, random_state=42,\n",
      "                   solver='newton-cg', tol=0.00015905709799448153,\n",
      "                   warm_start=True)\n"
     ]
    },
    {
     "name": "stderr",
     "output_type": "stream",
     "text": [
      "\u001b[32m[I 2022-03-24 11:45:42,489]\u001b[0m Trial 129 finished with value: 0.7877874668416954 and parameters: {'tol': 0.00015905709799448153, 'C': 1.3586047786211062, 'max_iter': 464.5541972904848, 'warm_start': True}. Best is trial 108 with value: 0.7880069904644874.\u001b[0m\n"
     ]
    },
    {
     "name": "stdout",
     "output_type": "stream",
     "text": [
      "LogisticRegression(C=1.2324691246094712, max_iter=441.36927084473444,\n",
      "                   multi_class='multinomial', n_jobs=-1, random_state=42,\n",
      "                   solver='newton-cg', tol=0.0002941368620664573,\n",
      "                   warm_start=True)\n"
     ]
    },
    {
     "name": "stderr",
     "output_type": "stream",
     "text": [
      "\u001b[32m[I 2022-03-24 11:45:46,870]\u001b[0m Trial 130 finished with value: 0.7878416237410955 and parameters: {'tol': 0.0002941368620664573, 'C': 1.2324691246094712, 'max_iter': 441.36927084473444, 'warm_start': True}. Best is trial 108 with value: 0.7880069904644874.\u001b[0m\n"
     ]
    },
    {
     "name": "stdout",
     "output_type": "stream",
     "text": [
      "LogisticRegression(C=1.1465894728531507, max_iter=485.36838751991576,\n",
      "                   multi_class='multinomial', n_jobs=-1, random_state=42,\n",
      "                   solver='newton-cg', tol=0.00026565436251754814,\n",
      "                   warm_start=True)\n"
     ]
    },
    {
     "name": "stderr",
     "output_type": "stream",
     "text": [
      "\u001b[32m[I 2022-03-24 11:45:51,415]\u001b[0m Trial 131 finished with value: 0.7879471277649566 and parameters: {'tol': 0.00026565436251754814, 'C': 1.1465894728531507, 'max_iter': 485.36838751991576, 'warm_start': True}. Best is trial 108 with value: 0.7880069904644874.\u001b[0m\n"
     ]
    },
    {
     "name": "stdout",
     "output_type": "stream",
     "text": [
      "LogisticRegression(C=1.136923508047996, max_iter=492.25848270760133,\n",
      "                   multi_class='multinomial', n_jobs=-1, random_state=42,\n",
      "                   solver='newton-cg', tol=0.00025472287725116817,\n",
      "                   warm_start=True)\n"
     ]
    },
    {
     "name": "stderr",
     "output_type": "stream",
     "text": [
      "\u001b[32m[I 2022-03-24 11:45:55,882]\u001b[0m Trial 132 finished with value: 0.7878936557507766 and parameters: {'tol': 0.00025472287725116817, 'C': 1.136923508047996, 'max_iter': 492.25848270760133, 'warm_start': True}. Best is trial 108 with value: 0.7880069904644874.\u001b[0m\n"
     ]
    },
    {
     "name": "stdout",
     "output_type": "stream",
     "text": [
      "LogisticRegression(C=1.0512678223930416, max_iter=469.228740290658,\n",
      "                   multi_class='multinomial', n_jobs=-1, random_state=42,\n",
      "                   solver='newton-cg', tol=0.0002708034625839475,\n",
      "                   warm_start=True)\n"
     ]
    },
    {
     "name": "stderr",
     "output_type": "stream",
     "text": [
      "\u001b[32m[I 2022-03-24 11:45:59,979]\u001b[0m Trial 133 finished with value: 0.7877029050352379 and parameters: {'tol': 0.0002708034625839475, 'C': 1.0512678223930416, 'max_iter': 469.228740290658, 'warm_start': True}. Best is trial 108 with value: 0.7880069904644874.\u001b[0m\n"
     ]
    },
    {
     "name": "stdout",
     "output_type": "stream",
     "text": [
      "LogisticRegression(C=1.1879876742160513, max_iter=480.9799088133076,\n",
      "                   multi_class='multinomial', n_jobs=-1, random_state=42,\n",
      "                   solver='newton-cg', tol=0.00027609840136273126,\n",
      "                   warm_start=True)\n"
     ]
    },
    {
     "name": "stderr",
     "output_type": "stream",
     "text": [
      "\u001b[32m[I 2022-03-24 11:46:04,495]\u001b[0m Trial 134 finished with value: 0.7878221308135156 and parameters: {'tol': 0.00027609840136273126, 'C': 1.1879876742160513, 'max_iter': 480.9799088133076, 'warm_start': True}. Best is trial 108 with value: 0.7880069904644874.\u001b[0m\n"
     ]
    },
    {
     "name": "stdout",
     "output_type": "stream",
     "text": [
      "LogisticRegression(C=1.2771209167414066, max_iter=499.9709053933203,\n",
      "                   multi_class='multinomial', n_jobs=-1, random_state=42,\n",
      "                   solver='newton-cg', tol=0.000346075194407901,\n",
      "                   warm_start=True)\n"
     ]
    },
    {
     "name": "stderr",
     "output_type": "stream",
     "text": [
      "\u001b[32m[I 2022-03-24 11:46:09,127]\u001b[0m Trial 135 finished with value: 0.7877734915053104 and parameters: {'tol': 0.000346075194407901, 'C': 1.2771209167414066, 'max_iter': 499.9709053933203, 'warm_start': True}. Best is trial 108 with value: 0.7880069904644874.\u001b[0m\n"
     ]
    },
    {
     "name": "stdout",
     "output_type": "stream",
     "text": [
      "LogisticRegression(C=1.1015081014952568, max_iter=459.60918231948,\n",
      "                   multi_class='multinomial', n_jobs=-1, random_state=42,\n",
      "                   solver='newton-cg', tol=0.00021474809946156432,\n",
      "                   warm_start=True)\n"
     ]
    },
    {
     "name": "stderr",
     "output_type": "stream",
     "text": [
      "\u001b[32m[I 2022-03-24 11:46:13,603]\u001b[0m Trial 136 finished with value: 0.7877254583315242 and parameters: {'tol': 0.00021474809946156432, 'C': 1.1015081014952568, 'max_iter': 459.60918231948, 'warm_start': True}. Best is trial 108 with value: 0.7880069904644874.\u001b[0m\n"
     ]
    },
    {
     "name": "stdout",
     "output_type": "stream",
     "text": [
      "LogisticRegression(C=1.1556594200059997, max_iter=451.28327790111604,\n",
      "                   multi_class='multinomial', n_jobs=-1, random_state=42,\n",
      "                   solver='newton-cg', tol=0.0003091181549406004,\n",
      "                   warm_start=True)\n"
     ]
    },
    {
     "name": "stderr",
     "output_type": "stream",
     "text": [
      "\u001b[32m[I 2022-03-24 11:46:17,958]\u001b[0m Trial 137 finished with value: 0.7879927052056366 and parameters: {'tol': 0.0003091181549406004, 'C': 1.1556594200059997, 'max_iter': 451.28327790111604, 'warm_start': True}. Best is trial 108 with value: 0.7880069904644874.\u001b[0m\n"
     ]
    },
    {
     "name": "stdout",
     "output_type": "stream",
     "text": [
      "LogisticRegression(C=1.2360616815466352, max_iter=449.7014551177249,\n",
      "                   multi_class='multinomial', n_jobs=-1, random_state=42,\n",
      "                   solver='newton-cg', tol=0.00030810599911279627,\n",
      "                   warm_start=True)\n"
     ]
    },
    {
     "name": "stderr",
     "output_type": "stream",
     "text": [
      "\u001b[32m[I 2022-03-24 11:46:22,321]\u001b[0m Trial 138 finished with value: 0.7878070993759969 and parameters: {'tol': 0.00030810599911279627, 'C': 1.2360616815466352, 'max_iter': 449.7014551177249, 'warm_start': True}. Best is trial 108 with value: 0.7880069904644874.\u001b[0m\n"
     ]
    },
    {
     "name": "stdout",
     "output_type": "stream",
     "text": [
      "LogisticRegression(C=1.3295222239647582, max_iter=475.43251051919026,\n",
      "                   multi_class='multinomial', n_jobs=-1, random_state=42,\n",
      "                   solver='newton-cg', tol=0.0003240560716364896,\n",
      "                   warm_start=True)\n"
     ]
    },
    {
     "name": "stderr",
     "output_type": "stream",
     "text": [
      "\u001b[32m[I 2022-03-24 11:46:26,739]\u001b[0m Trial 139 finished with value: 0.7878684832245462 and parameters: {'tol': 0.0003240560716364896, 'C': 1.3295222239647582, 'max_iter': 475.43251051919026, 'warm_start': True}. Best is trial 108 with value: 0.7880069904644874.\u001b[0m\n"
     ]
    },
    {
     "name": "stdout",
     "output_type": "stream",
     "text": [
      "LogisticRegression(C=2.10776231104534, max_iter=427.98109000547294,\n",
      "                   multi_class='multinomial', n_jobs=-1, random_state=42,\n",
      "                   solver='newton-cg', tol=0.0003709344274580165,\n",
      "                   warm_start=True)\n"
     ]
    },
    {
     "name": "stderr",
     "output_type": "stream",
     "text": [
      "\u001b[32m[I 2022-03-24 11:46:31,629]\u001b[0m Trial 140 finished with value: 0.7870568769930457 and parameters: {'tol': 0.0003709344274580165, 'C': 2.10776231104534, 'max_iter': 427.98109000547294, 'warm_start': True}. Best is trial 108 with value: 0.7880069904644874.\u001b[0m\n"
     ]
    },
    {
     "name": "stdout",
     "output_type": "stream",
     "text": [
      "LogisticRegression(C=1.1691692381703216, max_iter=464.75534467218966,\n",
      "                   multi_class='multinomial', n_jobs=-1, random_state=42,\n",
      "                   solver='newton-cg', tol=0.0002336317812358356,\n",
      "                   warm_start=True)\n"
     ]
    },
    {
     "name": "stderr",
     "output_type": "stream",
     "text": [
      "\u001b[32m[I 2022-03-24 11:46:36,295]\u001b[0m Trial 141 finished with value: 0.7879492020272765 and parameters: {'tol': 0.0002336317812358356, 'C': 1.1691692381703216, 'max_iter': 464.75534467218966, 'warm_start': True}. Best is trial 108 with value: 0.7880069904644874.\u001b[0m\n"
     ]
    },
    {
     "name": "stdout",
     "output_type": "stream",
     "text": [
      "LogisticRegression(C=1.1286089924034435, max_iter=485.3745377272921,\n",
      "                   multi_class='multinomial', n_jobs=-1, random_state=42,\n",
      "                   solver='newton-cg', tol=0.00023870851005054514,\n",
      "                   warm_start=True)\n"
     ]
    },
    {
     "name": "stderr",
     "output_type": "stream",
     "text": [
      "\u001b[32m[I 2022-03-24 11:46:40,549]\u001b[0m Trial 142 finished with value: 0.787818692888216 and parameters: {'tol': 0.00023870851005054514, 'C': 1.1286089924034435, 'max_iter': 485.3745377272921, 'warm_start': True}. Best is trial 108 with value: 0.7880069904644874.\u001b[0m\n"
     ]
    },
    {
     "name": "stdout",
     "output_type": "stream",
     "text": [
      "LogisticRegression(C=1.048942065395462, max_iter=469.02034494365347,\n",
      "                   multi_class='multinomial', n_jobs=-1, random_state=42,\n",
      "                   solver='newton-cg', tol=0.00021612215350678033,\n",
      "                   warm_start=True)\n"
     ]
    },
    {
     "name": "stderr",
     "output_type": "stream",
     "text": [
      "\u001b[32m[I 2022-03-24 11:46:44,905]\u001b[0m Trial 143 finished with value: 0.7876832151481354 and parameters: {'tol': 0.00021612215350678033, 'C': 1.048942065395462, 'max_iter': 469.02034494365347, 'warm_start': True}. Best is trial 108 with value: 0.7880069904644874.\u001b[0m\n"
     ]
    },
    {
     "name": "stdout",
     "output_type": "stream",
     "text": [
      "LogisticRegression(C=1.2035954451299409, max_iter=452.5989132374343,\n",
      "                   multi_class='multinomial', n_jobs=-1, random_state=42,\n",
      "                   solver='newton-cg', tol=0.00026622737470060936,\n",
      "                   warm_start=True)\n"
     ]
    },
    {
     "name": "stderr",
     "output_type": "stream",
     "text": [
      "\u001b[32m[I 2022-03-24 11:46:49,373]\u001b[0m Trial 144 finished with value: 0.7878372237453022 and parameters: {'tol': 0.00026622737470060936, 'C': 1.2035954451299409, 'max_iter': 452.5989132374343, 'warm_start': True}. Best is trial 108 with value: 0.7880069904644874.\u001b[0m\n"
     ]
    },
    {
     "name": "stdout",
     "output_type": "stream",
     "text": [
      "LogisticRegression(C=1.0926497183746835, max_iter=491.19509226493875,\n",
      "                   multi_class='multinomial', n_jobs=-1, random_state=42,\n",
      "                   solver='newton-cg', tol=0.00019121257961035113,\n",
      "                   warm_start=True)\n"
     ]
    },
    {
     "name": "stderr",
     "output_type": "stream",
     "text": [
      "\u001b[32m[I 2022-03-24 11:46:53,949]\u001b[0m Trial 145 finished with value: 0.7876874602634437 and parameters: {'tol': 0.00019121257961035113, 'C': 1.0926497183746835, 'max_iter': 491.19509226493875, 'warm_start': True}. Best is trial 108 with value: 0.7880069904644874.\u001b[0m\n"
     ]
    },
    {
     "name": "stdout",
     "output_type": "stream",
     "text": [
      "LogisticRegression(C=1.1615215271651538, max_iter=477.250958573315,\n",
      "                   multi_class='multinomial', n_jobs=-1, random_state=42,\n",
      "                   solver='newton-cg', tol=0.0002934703551860219,\n",
      "                   warm_start=True)\n"
     ]
    },
    {
     "name": "stderr",
     "output_type": "stream",
     "text": [
      "\u001b[32m[I 2022-03-24 11:46:58,329]\u001b[0m Trial 146 finished with value: 0.7879446096457807 and parameters: {'tol': 0.0002934703551860219, 'C': 1.1615215271651538, 'max_iter': 477.250958573315, 'warm_start': True}. Best is trial 108 with value: 0.7880069904644874.\u001b[0m\n"
     ]
    },
    {
     "name": "stdout",
     "output_type": "stream",
     "text": [
      "LogisticRegression(C=1.2747398912519066, max_iter=475.05100081500615,\n",
      "                   multi_class='multinomial', n_jobs=-1, random_state=42,\n",
      "                   solver='newton-cg', tol=0.00028356095114859335,\n",
      "                   warm_start=True)\n"
     ]
    },
    {
     "name": "stderr",
     "output_type": "stream",
     "text": [
      "\u001b[32m[I 2022-03-24 11:47:02,822]\u001b[0m Trial 147 finished with value: 0.7877955436912708 and parameters: {'tol': 0.00028356095114859335, 'C': 1.2747398912519066, 'max_iter': 475.05100081500615, 'warm_start': True}. Best is trial 108 with value: 0.7880069904644874.\u001b[0m\n"
     ]
    },
    {
     "name": "stdout",
     "output_type": "stream",
     "text": [
      "LogisticRegression(C=1.2020375675323107, max_iter=307.27834910665206,\n",
      "                   multi_class='multinomial', n_jobs=-1, random_state=42,\n",
      "                   solver='newton-cg', tol=0.00013092961057085302,\n",
      "                   warm_start=True)\n"
     ]
    },
    {
     "name": "stderr",
     "output_type": "stream",
     "text": [
      "\u001b[32m[I 2022-03-24 11:47:07,583]\u001b[0m Trial 148 finished with value: 0.7878356538605936 and parameters: {'tol': 0.00013092961057085302, 'C': 1.2020375675323107, 'max_iter': 307.27834910665206, 'warm_start': True}. Best is trial 108 with value: 0.7880069904644874.\u001b[0m\n"
     ]
    },
    {
     "name": "stdout",
     "output_type": "stream",
     "text": [
      "LogisticRegression(C=2.8253228885305313, max_iter=440.59169867159704,\n",
      "                   multi_class='multinomial', n_jobs=-1, random_state=42,\n",
      "                   solver='newton-cg', tol=0.0002458036482325682,\n",
      "                   warm_start=True)\n"
     ]
    },
    {
     "name": "stderr",
     "output_type": "stream",
     "text": [
      "\u001b[32m[I 2022-03-24 11:47:12,892]\u001b[0m Trial 149 finished with value: 0.7856056894061062 and parameters: {'tol': 0.0002458036482325682, 'C': 2.8253228885305313, 'max_iter': 440.59169867159704, 'warm_start': True}. Best is trial 108 with value: 0.7880069904644874.\u001b[0m\n"
     ]
    },
    {
     "name": "stdout",
     "output_type": "stream",
     "text": [
      "LogisticRegression(C=1.1069988463194078, max_iter=464.03276207844624,\n",
      "                   multi_class='multinomial', n_jobs=-1, random_state=42,\n",
      "                   solver='newton-cg', tol=0.00049908356573304,\n",
      "                   warm_start=True)\n"
     ]
    },
    {
     "name": "stderr",
     "output_type": "stream",
     "text": [
      "\u001b[32m[I 2022-03-24 11:47:17,015]\u001b[0m Trial 150 finished with value: 0.7877425690931892 and parameters: {'tol': 0.00049908356573304, 'C': 1.1069988463194078, 'max_iter': 464.03276207844624, 'warm_start': True}. Best is trial 108 with value: 0.7880069904644874.\u001b[0m\n"
     ]
    },
    {
     "name": "stdout",
     "output_type": "stream",
     "text": [
      "LogisticRegression(C=1.1534504239219343, max_iter=479.7700674388847,\n",
      "                   multi_class='multinomial', n_jobs=-1, random_state=42,\n",
      "                   solver='newton-cg', tol=0.00033712322040206237,\n",
      "                   warm_start=True)\n"
     ]
    },
    {
     "name": "stderr",
     "output_type": "stream",
     "text": [
      "\u001b[32m[I 2022-03-24 11:47:21,587]\u001b[0m Trial 151 finished with value: 0.787989202207074 and parameters: {'tol': 0.00033712322040206237, 'C': 1.1534504239219343, 'max_iter': 479.7700674388847, 'warm_start': True}. Best is trial 108 with value: 0.7880069904644874.\u001b[0m\n"
     ]
    },
    {
     "name": "stdout",
     "output_type": "stream",
     "text": [
      "LogisticRegression(C=1.1570677173394794, max_iter=481.2494257560246,\n",
      "                   multi_class='multinomial', n_jobs=-1, random_state=42,\n",
      "                   solver='newton-cg', tol=0.0003214220812899442,\n",
      "                   warm_start=True)\n"
     ]
    },
    {
     "name": "stderr",
     "output_type": "stream",
     "text": [
      "\u001b[32m[I 2022-03-24 11:47:26,148]\u001b[0m Trial 152 finished with value: 0.787974569696795 and parameters: {'tol': 0.0003214220812899442, 'C': 1.1570677173394794, 'max_iter': 481.2494257560246, 'warm_start': True}. Best is trial 108 with value: 0.7880069904644874.\u001b[0m\n"
     ]
    },
    {
     "name": "stdout",
     "output_type": "stream",
     "text": [
      "LogisticRegression(C=1.0348338336547964, max_iter=486.6006983343277,\n",
      "                   multi_class='multinomial', n_jobs=-1, random_state=42,\n",
      "                   solver='newton-cg', tol=0.000329115083539064,\n",
      "                   warm_start=True)\n"
     ]
    },
    {
     "name": "stderr",
     "output_type": "stream",
     "text": [
      "\u001b[32m[I 2022-03-24 11:47:30,400]\u001b[0m Trial 153 finished with value: 0.7877946591464412 and parameters: {'tol': 0.000329115083539064, 'C': 1.0348338336547964, 'max_iter': 486.6006983343277, 'warm_start': True}. Best is trial 108 with value: 0.7880069904644874.\u001b[0m\n"
     ]
    },
    {
     "name": "stdout",
     "output_type": "stream",
     "text": [
      "LogisticRegression(C=1.2422569464716726, max_iter=481.6374201811811,\n",
      "                   multi_class='multinomial', n_jobs=-1, random_state=42,\n",
      "                   solver='newton-cg', tol=0.0003504151171019561,\n",
      "                   warm_start=True)\n"
     ]
    },
    {
     "name": "stderr",
     "output_type": "stream",
     "text": [
      "\u001b[32m[I 2022-03-24 11:47:34,965]\u001b[0m Trial 154 finished with value: 0.7877718417700256 and parameters: {'tol': 0.0003504151171019561, 'C': 1.2422569464716726, 'max_iter': 481.6374201811811, 'warm_start': True}. Best is trial 108 with value: 0.7880069904644874.\u001b[0m\n"
     ]
    },
    {
     "name": "stdout",
     "output_type": "stream",
     "text": [
      "LogisticRegression(C=1.1484332488927753, max_iter=457.3390486629609,\n",
      "                   multi_class='multinomial', n_jobs=-1, random_state=42,\n",
      "                   solver='newton-cg', tol=0.00037368932581460074,\n",
      "                   warm_start=True)\n"
     ]
    },
    {
     "name": "stderr",
     "output_type": "stream",
     "text": [
      "\u001b[32m[I 2022-03-24 11:47:39,306]\u001b[0m Trial 155 finished with value: 0.7879144085382347 and parameters: {'tol': 0.00037368932581460074, 'C': 1.1484332488927753, 'max_iter': 457.3390486629609, 'warm_start': True}. Best is trial 108 with value: 0.7880069904644874.\u001b[0m\n"
     ]
    },
    {
     "name": "stdout",
     "output_type": "stream",
     "text": [
      "LogisticRegression(C=1.0934595571353154, max_iter=493.63322630131296,\n",
      "                   multi_class='multinomial', n_jobs=-1, random_state=42,\n",
      "                   solver='newton-cg', tol=0.00032270037508181027,\n",
      "                   warm_start=True)\n"
     ]
    },
    {
     "name": "stderr",
     "output_type": "stream",
     "text": [
      "\u001b[32m[I 2022-03-24 11:47:43,898]\u001b[0m Trial 156 finished with value: 0.7876731733066327 and parameters: {'tol': 0.00032270037508181027, 'C': 1.0934595571353154, 'max_iter': 493.63322630131296, 'warm_start': True}. Best is trial 108 with value: 0.7880069904644874.\u001b[0m\n"
     ]
    },
    {
     "name": "stdout",
     "output_type": "stream",
     "text": [
      "LogisticRegression(C=1.2051538292456236, max_iter=468.15491752604584,\n",
      "                   multi_class='multinomial', n_jobs=-1, random_state=42,\n",
      "                   solver='newton-cg', tol=0.0002685672719308876,\n",
      "                   warm_start=True)\n"
     ]
    },
    {
     "name": "stderr",
     "output_type": "stream",
     "text": [
      "\u001b[32m[I 2022-03-24 11:47:48,291]\u001b[0m Trial 157 finished with value: 0.7878801192463172 and parameters: {'tol': 0.0002685672719308876, 'C': 1.2051538292456236, 'max_iter': 468.15491752604584, 'warm_start': True}. Best is trial 108 with value: 0.7880069904644874.\u001b[0m\n"
     ]
    },
    {
     "name": "stdout",
     "output_type": "stream",
     "text": [
      "LogisticRegression(C=1.2850008182680996, max_iter=474.7478276372117,\n",
      "                   multi_class='multinomial', n_jobs=-1, random_state=42,\n",
      "                   solver='newton-cg', tol=0.00029384372507652195,\n",
      "                   warm_start=True)\n"
     ]
    },
    {
     "name": "stderr",
     "output_type": "stream",
     "text": [
      "\u001b[32m[I 2022-03-24 11:47:53,013]\u001b[0m Trial 158 finished with value: 0.7877176182543127 and parameters: {'tol': 0.00029384372507652195, 'C': 1.2850008182680996, 'max_iter': 474.7478276372117, 'warm_start': True}. Best is trial 108 with value: 0.7880069904644874.\u001b[0m\n"
     ]
    },
    {
     "name": "stdout",
     "output_type": "stream",
     "text": [
      "LogisticRegression(C=1.14672744053685, max_iter=484.88785342573215,\n",
      "                   multi_class='multinomial', n_jobs=-1, random_state=42,\n",
      "                   solver='newton-cg', tol=0.0004000509518884878,\n",
      "                   warm_start=True)\n"
     ]
    },
    {
     "name": "stderr",
     "output_type": "stream",
     "text": [
      "\u001b[32m[I 2022-03-24 11:47:57,250]\u001b[0m Trial 159 finished with value: 0.7879308705957453 and parameters: {'tol': 0.0004000509518884878, 'C': 1.14672744053685, 'max_iter': 484.88785342573215, 'warm_start': True}. Best is trial 108 with value: 0.7880069904644874.\u001b[0m\n"
     ]
    },
    {
     "name": "stdout",
     "output_type": "stream",
     "text": [
      "LogisticRegression(C=1.0438351548574532, max_iter=204.04318177871227,\n",
      "                   multi_class='multinomial', n_jobs=-1, random_state=42,\n",
      "                   solver='newton-cg', tol=0.0005771307026882796,\n",
      "                   warm_start=True)\n"
     ]
    },
    {
     "name": "stderr",
     "output_type": "stream",
     "text": [
      "\u001b[32m[I 2022-03-24 11:48:01,351]\u001b[0m Trial 160 finished with value: 0.787655104057025 and parameters: {'tol': 0.0005771307026882796, 'C': 1.0438351548574532, 'max_iter': 204.04318177871227, 'warm_start': True}. Best is trial 108 with value: 0.7880069904644874.\u001b[0m\n"
     ]
    },
    {
     "name": "stdout",
     "output_type": "stream",
     "text": [
      "LogisticRegression(C=1.172907972188553, max_iter=449.3829660256508,\n",
      "                   multi_class='multinomial', n_jobs=-1, random_state=42,\n",
      "                   solver='newton-cg', tol=0.0006748075598062084,\n",
      "                   warm_start=True)\n"
     ]
    },
    {
     "name": "stderr",
     "output_type": "stream",
     "text": [
      "\u001b[32m[I 2022-03-24 11:48:05,516]\u001b[0m Trial 161 finished with value: 0.7878999805002275 and parameters: {'tol': 0.0006748075598062084, 'C': 1.172907972188553, 'max_iter': 449.3829660256508, 'warm_start': True}. Best is trial 108 with value: 0.7880069904644874.\u001b[0m\n"
     ]
    },
    {
     "name": "stdout",
     "output_type": "stream",
     "text": [
      "LogisticRegression(C=1.160129432670061, max_iter=478.33351666412307,\n",
      "                   multi_class='multinomial', n_jobs=-1, random_state=42,\n",
      "                   solver='newton-cg', tol=0.00023084827206568625,\n",
      "                   warm_start=True)\n"
     ]
    },
    {
     "name": "stderr",
     "output_type": "stream",
     "text": [
      "\u001b[32m[I 2022-03-24 11:48:09,970]\u001b[0m Trial 162 finished with value: 0.7879160835755629 and parameters: {'tol': 0.00023084827206568625, 'C': 1.160129432670061, 'max_iter': 478.33351666412307, 'warm_start': True}. Best is trial 108 with value: 0.7880069904644874.\u001b[0m\n"
     ]
    },
    {
     "name": "stdout",
     "output_type": "stream",
     "text": [
      "LogisticRegression(C=1.0021855900302972, max_iter=460.3858522567727,\n",
      "                   multi_class='multinomial', n_jobs=-1, random_state=42,\n",
      "                   solver='newton-cg', tol=0.00031514094936947506,\n",
      "                   warm_start=True)\n"
     ]
    },
    {
     "name": "stderr",
     "output_type": "stream",
     "text": [
      "\u001b[32m[I 2022-03-24 11:48:13,934]\u001b[0m Trial 163 finished with value: 0.7878865386442683 and parameters: {'tol': 0.00031514094936947506, 'C': 1.0021855900302972, 'max_iter': 460.3858522567727, 'warm_start': True}. Best is trial 108 with value: 0.7880069904644874.\u001b[0m\n"
     ]
    },
    {
     "name": "stdout",
     "output_type": "stream",
     "text": [
      "LogisticRegression(C=1.2294790048951396, max_iter=469.6477923062394,\n",
      "                   multi_class='multinomial', n_jobs=-1, random_state=42,\n",
      "                   solver='newton-cg', tol=0.0002887924893586636,\n",
      "                   warm_start=True)\n"
     ]
    },
    {
     "name": "stderr",
     "output_type": "stream",
     "text": [
      "\u001b[32m[I 2022-03-24 11:48:18,322]\u001b[0m Trial 164 finished with value: 0.7878682609147498 and parameters: {'tol': 0.0002887924893586636, 'C': 1.2294790048951396, 'max_iter': 469.6477923062394, 'warm_start': True}. Best is trial 108 with value: 0.7880069904644874.\u001b[0m\n"
     ]
    },
    {
     "name": "stdout",
     "output_type": "stream",
     "text": [
      "LogisticRegression(C=1.1025646806031995, max_iter=499.59922323143434,\n",
      "                   multi_class='multinomial', n_jobs=-1, random_state=42,\n",
      "                   solver='newton-cg', tol=0.0007350138500652205,\n",
      "                   warm_start=True)\n"
     ]
    },
    {
     "name": "stderr",
     "output_type": "stream",
     "text": [
      "\u001b[32m[I 2022-03-24 11:48:22,414]\u001b[0m Trial 165 finished with value: 0.7877288048839148 and parameters: {'tol': 0.0007350138500652205, 'C': 1.1025646806031995, 'max_iter': 499.59922323143434, 'warm_start': True}. Best is trial 108 with value: 0.7880069904644874.\u001b[0m\n"
     ]
    },
    {
     "name": "stdout",
     "output_type": "stream",
     "text": [
      "LogisticRegression(C=1.185520117515427, max_iter=487.5226406895732,\n",
      "                   multi_class='multinomial', n_jobs=-1, random_state=42,\n",
      "                   solver='newton-cg', tol=0.00020437265576769273,\n",
      "                   warm_start=True)\n"
     ]
    },
    {
     "name": "stderr",
     "output_type": "stream",
     "text": [
      "\u001b[32m[I 2022-03-24 11:48:26,883]\u001b[0m Trial 166 finished with value: 0.7878098893979961 and parameters: {'tol': 0.00020437265576769273, 'C': 1.185520117515427, 'max_iter': 487.5226406895732, 'warm_start': True}. Best is trial 108 with value: 0.7880069904644874.\u001b[0m\n"
     ]
    },
    {
     "name": "stdout",
     "output_type": "stream",
     "text": [
      "LogisticRegression(C=1.0799877522403958, max_iter=478.52592967799467,\n",
      "                   multi_class='multinomial', n_jobs=-1, random_state=42,\n",
      "                   solver='newton-cg', tol=0.00042039285336582485,\n",
      "                   warm_start=True)\n"
     ]
    },
    {
     "name": "stderr",
     "output_type": "stream",
     "text": [
      "\u001b[32m[I 2022-03-24 11:48:30,955]\u001b[0m Trial 167 finished with value: 0.7876292698533149 and parameters: {'tol': 0.00042039285336582485, 'C': 1.0799877522403958, 'max_iter': 478.52592967799467, 'warm_start': True}. Best is trial 108 with value: 0.7880069904644874.\u001b[0m\n"
     ]
    },
    {
     "name": "stdout",
     "output_type": "stream",
     "text": [
      "LogisticRegression(C=1.2593027446784495, max_iter=464.61937415369107,\n",
      "                   multi_class='multinomial', n_jobs=-1, random_state=42,\n",
      "                   solver='newton-cg', tol=0.0006010049921397492,\n",
      "                   warm_start=True)\n"
     ]
    },
    {
     "name": "stderr",
     "output_type": "stream",
     "text": [
      "\u001b[32m[I 2022-03-24 11:48:35,281]\u001b[0m Trial 168 finished with value: 0.7876736241668871 and parameters: {'tol': 0.0006010049921397492, 'C': 1.2593027446784495, 'max_iter': 464.61937415369107, 'warm_start': True}. Best is trial 108 with value: 0.7880069904644874.\u001b[0m\n"
     ]
    },
    {
     "name": "stdout",
     "output_type": "stream",
     "text": [
      "LogisticRegression(C=1.3174928675538207, max_iter=455.5926293071814,\n",
      "                   multi_class='multinomial', n_jobs=-1, random_state=42,\n",
      "                   solver='newton-cg', tol=0.0002574914215773846,\n",
      "                   warm_start=True)\n"
     ]
    },
    {
     "name": "stderr",
     "output_type": "stream",
     "text": [
      "\u001b[32m[I 2022-03-24 11:48:40,012]\u001b[0m Trial 169 finished with value: 0.7877958994122701 and parameters: {'tol': 0.0002574914215773846, 'C': 1.3174928675538207, 'max_iter': 455.5926293071814, 'warm_start': True}. Best is trial 108 with value: 0.7880069904644874.\u001b[0m\n"
     ]
    },
    {
     "name": "stdout",
     "output_type": "stream",
     "text": [
      "LogisticRegression(C=1.1298929174806238, max_iter=445.82704549980326,\n",
      "                   multi_class='multinomial', n_jobs=-1, random_state=42,\n",
      "                   solver='newton-cg', tol=0.00034310141639335844,\n",
      "                   warm_start=True)\n"
     ]
    },
    {
     "name": "stderr",
     "output_type": "stream",
     "text": [
      "\u001b[32m[I 2022-03-24 11:48:44,417]\u001b[0m Trial 170 finished with value: 0.7877929938461089 and parameters: {'tol': 0.00034310141639335844, 'C': 1.1298929174806238, 'max_iter': 445.82704549980326, 'warm_start': True}. Best is trial 108 with value: 0.7880069904644874.\u001b[0m\n"
     ]
    },
    {
     "name": "stdout",
     "output_type": "stream",
     "text": [
      "LogisticRegression(C=1.1613110437834175, max_iter=472.3729459565923,\n",
      "                   multi_class='multinomial', n_jobs=-1, random_state=42,\n",
      "                   solver='newton-cg', tol=0.0004885873683817095,\n",
      "                   warm_start=True)\n"
     ]
    },
    {
     "name": "stderr",
     "output_type": "stream",
     "text": [
      "\u001b[32m[I 2022-03-24 11:48:48,765]\u001b[0m Trial 171 finished with value: 0.7879280413370073 and parameters: {'tol': 0.0004885873683817095, 'C': 1.1613110437834175, 'max_iter': 472.3729459565923, 'warm_start': True}. Best is trial 108 with value: 0.7880069904644874.\u001b[0m\n"
     ]
    },
    {
     "name": "stdout",
     "output_type": "stream",
     "text": [
      "LogisticRegression(C=1.2106905040430112, max_iter=480.10820345992937,\n",
      "                   multi_class='multinomial', n_jobs=-1, random_state=42,\n",
      "                   solver='newton-cg', tol=0.0005500120550421587,\n",
      "                   warm_start=True)\n"
     ]
    },
    {
     "name": "stderr",
     "output_type": "stream",
     "text": [
      "\u001b[32m[I 2022-03-24 11:48:53,089]\u001b[0m Trial 172 finished with value: 0.787839718833063 and parameters: {'tol': 0.0005500120550421587, 'C': 1.2106905040430112, 'max_iter': 480.10820345992937, 'warm_start': True}. Best is trial 108 with value: 0.7880069904644874.\u001b[0m\n"
     ]
    },
    {
     "name": "stdout",
     "output_type": "stream",
     "text": [
      "LogisticRegression(C=1.1303399928832625, max_iter=492.608336676772,\n",
      "                   multi_class='multinomial', n_jobs=-1, random_state=42,\n",
      "                   solver='newton-cg', tol=0.000632686704107828,\n",
      "                   warm_start=True)\n"
     ]
    },
    {
     "name": "stderr",
     "output_type": "stream",
     "text": [
      "\u001b[32m[I 2022-03-24 11:48:57,284]\u001b[0m Trial 173 finished with value: 0.7878290018595794 and parameters: {'tol': 0.000632686704107828, 'C': 1.1303399928832625, 'max_iter': 492.608336676772, 'warm_start': True}. Best is trial 108 with value: 0.7880069904644874.\u001b[0m\n"
     ]
    },
    {
     "name": "stdout",
     "output_type": "stream",
     "text": [
      "LogisticRegression(C=1.0460082162233144, max_iter=466.79578249670624,\n",
      "                   multi_class='multinomial', n_jobs=-1, random_state=42,\n",
      "                   solver='newton-cg', tol=0.0007583566524839908,\n",
      "                   warm_start=True)\n"
     ]
    },
    {
     "name": "stderr",
     "output_type": "stream",
     "text": [
      "\u001b[32m[I 2022-03-24 11:49:01,273]\u001b[0m Trial 174 finished with value: 0.787655104057025 and parameters: {'tol': 0.0007583566524839908, 'C': 1.0460082162233144, 'max_iter': 466.79578249670624, 'warm_start': True}. Best is trial 108 with value: 0.7880069904644874.\u001b[0m\n"
     ]
    },
    {
     "name": "stdout",
     "output_type": "stream",
     "text": [
      "LogisticRegression(C=1.1756320587577378, max_iter=484.95121489834446,\n",
      "                   multi_class='multinomial', n_jobs=-1, random_state=42,\n",
      "                   solver='newton-cg', tol=0.0002922550710580891,\n",
      "                   warm_start=True)\n"
     ]
    },
    {
     "name": "stderr",
     "output_type": "stream",
     "text": [
      "\u001b[32m[I 2022-03-24 11:49:05,749]\u001b[0m Trial 175 finished with value: 0.7879141569747967 and parameters: {'tol': 0.0002922550710580891, 'C': 1.1756320587577378, 'max_iter': 484.95121489834446, 'warm_start': True}. Best is trial 108 with value: 0.7880069904644874.\u001b[0m\n"
     ]
    },
    {
     "name": "stdout",
     "output_type": "stream",
     "text": [
      "LogisticRegression(C=1.2572907895955994, max_iter=457.31764379932883,\n",
      "                   multi_class='multinomial', n_jobs=-1, random_state=42,\n",
      "                   solver='newton-cg', tol=0.0003726216094333825,\n",
      "                   warm_start=True)\n"
     ]
    },
    {
     "name": "stderr",
     "output_type": "stream",
     "text": [
      "\u001b[32m[I 2022-03-24 11:49:10,321]\u001b[0m Trial 176 finished with value: 0.7876388856414721 and parameters: {'tol': 0.0003726216094333825, 'C': 1.2572907895955994, 'max_iter': 457.31764379932883, 'warm_start': True}. Best is trial 108 with value: 0.7880069904644874.\u001b[0m\n"
     ]
    },
    {
     "name": "stdout",
     "output_type": "stream",
     "text": [
      "LogisticRegression(C=1.0752011078398644, max_iter=473.56698708038107,\n",
      "                   multi_class='multinomial', n_jobs=-1, random_state=42,\n",
      "                   solver='newton-cg', tol=0.0002415649625890297,\n",
      "                   warm_start=True)\n"
     ]
    },
    {
     "name": "stderr",
     "output_type": "stream",
     "text": [
      "\u001b[32m[I 2022-03-24 11:49:14,591]\u001b[0m Trial 177 finished with value: 0.7876159664477154 and parameters: {'tol': 0.0002415649625890297, 'C': 1.0752011078398644, 'max_iter': 473.56698708038107, 'warm_start': True}. Best is trial 108 with value: 0.7880069904644874.\u001b[0m\n"
     ]
    },
    {
     "name": "stdout",
     "output_type": "stream",
     "text": [
      "LogisticRegression(C=2.291949630404214, max_iter=435.8257325697502,\n",
      "                   multi_class='multinomial', n_jobs=-1, random_state=42,\n",
      "                   solver='newton-cg', tol=0.0006409133526351859,\n",
      "                   warm_start=True)\n"
     ]
    },
    {
     "name": "stderr",
     "output_type": "stream",
     "text": [
      "\u001b[32m[I 2022-03-24 11:49:19,360]\u001b[0m Trial 178 finished with value: 0.7868330877976052 and parameters: {'tol': 0.0006409133526351859, 'C': 2.291949630404214, 'max_iter': 435.8257325697502, 'warm_start': True}. Best is trial 108 with value: 0.7880069904644874.\u001b[0m\n"
     ]
    },
    {
     "name": "stdout",
     "output_type": "stream",
     "text": [
      "LogisticRegression(C=1.3847849740125484, max_iter=494.6034947682748,\n",
      "                   multi_class='multinomial', n_jobs=-1, random_state=42,\n",
      "                   solver='newton-cg', tol=0.0004493587282106084,\n",
      "                   warm_start=True)\n"
     ]
    },
    {
     "name": "stderr",
     "output_type": "stream",
     "text": [
      "\u001b[32m[I 2022-03-24 11:49:23,702]\u001b[0m Trial 179 finished with value: 0.7876485674346752 and parameters: {'tol': 0.0004493587282106084, 'C': 1.3847849740125484, 'max_iter': 494.6034947682748, 'warm_start': True}. Best is trial 108 with value: 0.7880069904644874.\u001b[0m\n"
     ]
    },
    {
     "name": "stdout",
     "output_type": "stream",
     "text": [
      "LogisticRegression(C=1.2141013368749434, max_iter=463.8881086358923,\n",
      "                   multi_class='multinomial', n_jobs=-1, random_state=42,\n",
      "                   solver='newton-cg', tol=0.0005279695956833204,\n",
      "                   warm_start=True)\n"
     ]
    },
    {
     "name": "stderr",
     "output_type": "stream",
     "text": [
      "\u001b[32m[I 2022-03-24 11:49:27,969]\u001b[0m Trial 180 finished with value: 0.7878238193540763 and parameters: {'tol': 0.0005279695956833204, 'C': 1.2141013368749434, 'max_iter': 463.8881086358923, 'warm_start': True}. Best is trial 108 with value: 0.7880069904644874.\u001b[0m\n"
     ]
    },
    {
     "name": "stdout",
     "output_type": "stream",
     "text": [
      "LogisticRegression(C=1.1381775985794884, max_iter=483.48718569674986,\n",
      "                   multi_class='multinomial', n_jobs=-1, random_state=42,\n",
      "                   solver='newton-cg', tol=0.0004020987992944648,\n",
      "                   warm_start=True)\n"
     ]
    },
    {
     "name": "stderr",
     "output_type": "stream",
     "text": [
      "\u001b[32m[I 2022-03-24 11:49:32,180]\u001b[0m Trial 181 finished with value: 0.7879296804579389 and parameters: {'tol': 0.0004020987992944648, 'C': 1.1381775985794884, 'max_iter': 483.48718569674986, 'warm_start': True}. Best is trial 108 with value: 0.7880069904644874.\u001b[0m\n"
     ]
    },
    {
     "name": "stdout",
     "output_type": "stream",
     "text": [
      "LogisticRegression(C=1.153723144821877, max_iter=484.73441057018,\n",
      "                   multi_class='multinomial', n_jobs=-1, random_state=42,\n",
      "                   solver='newton-cg', tol=0.00031102365136240337,\n",
      "                   warm_start=True)\n"
     ]
    },
    {
     "name": "stderr",
     "output_type": "stream",
     "text": [
      "\u001b[32m[I 2022-03-24 11:49:36,562]\u001b[0m Trial 182 finished with value: 0.7880069904644874 and parameters: {'tol': 0.00031102365136240337, 'C': 1.153723144821877, 'max_iter': 484.73441057018, 'warm_start': True}. Best is trial 108 with value: 0.7880069904644874.\u001b[0m\n"
     ]
    },
    {
     "name": "stdout",
     "output_type": "stream",
     "text": [
      "LogisticRegression(C=1.1056634328325092, max_iter=475.64776875371894,\n",
      "                   multi_class='multinomial', n_jobs=-1, random_state=42,\n",
      "                   solver='newton-cg', tol=0.000314995961833613,\n",
      "                   warm_start=True)\n"
     ]
    },
    {
     "name": "stderr",
     "output_type": "stream",
     "text": [
      "\u001b[32m[I 2022-03-24 11:49:40,783]\u001b[0m Trial 183 finished with value: 0.7877165703419583 and parameters: {'tol': 0.000314995961833613, 'C': 1.1056634328325092, 'max_iter': 475.64776875371894, 'warm_start': True}. Best is trial 108 with value: 0.7880069904644874.\u001b[0m\n"
     ]
    },
    {
     "name": "stdout",
     "output_type": "stream",
     "text": [
      "LogisticRegression(C=1.1929245880569403, max_iter=488.12531634465364,\n",
      "                   multi_class='multinomial', n_jobs=-1, random_state=42,\n",
      "                   solver='newton-cg', tol=0.0002718578098644864,\n",
      "                   warm_start=True)\n"
     ]
    },
    {
     "name": "stderr",
     "output_type": "stream",
     "text": [
      "\u001b[32m[I 2022-03-24 11:49:45,378]\u001b[0m Trial 184 finished with value: 0.7878094269340311 and parameters: {'tol': 0.0002718578098644864, 'C': 1.1929245880569403, 'max_iter': 488.12531634465364, 'warm_start': True}. Best is trial 108 with value: 0.7880069904644874.\u001b[0m\n"
     ]
    },
    {
     "name": "stdout",
     "output_type": "stream",
     "text": [
      "LogisticRegression(C=1.307960220088498, max_iter=470.4457326411354,\n",
      "                   multi_class='multinomial', n_jobs=-1, random_state=42,\n",
      "                   solver='newton-cg', tol=0.0003491837936194602,\n",
      "                   warm_start=True)\n"
     ]
    },
    {
     "name": "stderr",
     "output_type": "stream",
     "text": [
      "\u001b[32m[I 2022-03-24 11:49:50,229]\u001b[0m Trial 185 finished with value: 0.7877651712566003 and parameters: {'tol': 0.0003491837936194602, 'C': 1.307960220088498, 'max_iter': 470.4457326411354, 'warm_start': True}. Best is trial 108 with value: 0.7880069904644874.\u001b[0m\n"
     ]
    },
    {
     "name": "stdout",
     "output_type": "stream",
     "text": [
      "LogisticRegression(C=1.1517478359614652, max_iter=453.58405499277677,\n",
      "                   multi_class='multinomial', n_jobs=-1, random_state=42,\n",
      "                   solver='newton-cg', tol=0.0007120820842574891,\n",
      "                   warm_start=True)\n"
     ]
    },
    {
     "name": "stderr",
     "output_type": "stream",
     "text": [
      "\u001b[32m[I 2022-03-24 11:49:54,342]\u001b[0m Trial 186 finished with value: 0.7879550184844166 and parameters: {'tol': 0.0007120820842574891, 'C': 1.1517478359614652, 'max_iter': 453.58405499277677, 'warm_start': True}. Best is trial 108 with value: 0.7880069904644874.\u001b[0m\n"
     ]
    },
    {
     "name": "stdout",
     "output_type": "stream",
     "text": [
      "LogisticRegression(C=1.0908373418859927, max_iter=452.28913200333375,\n",
      "                   multi_class='multinomial', n_jobs=-1, random_state=42,\n",
      "                   solver='newton-cg', tol=0.00030382713683963923,\n",
      "                   warm_start=True)\n"
     ]
    },
    {
     "name": "stderr",
     "output_type": "stream",
     "text": [
      "\u001b[32m[I 2022-03-24 11:49:58,624]\u001b[0m Trial 187 finished with value: 0.7876730789324938 and parameters: {'tol': 0.00030382713683963923, 'C': 1.0908373418859927, 'max_iter': 452.28913200333375, 'warm_start': True}. Best is trial 108 with value: 0.7880069904644874.\u001b[0m\n"
     ]
    },
    {
     "name": "stdout",
     "output_type": "stream",
     "text": [
      "LogisticRegression(C=1.2261072065601033, max_iter=460.2931643671267,\n",
      "                   multi_class='multinomial', n_jobs=-1, random_state=42,\n",
      "                   solver='newton-cg', tol=0.0006866843665333972,\n",
      "                   warm_start=True)\n"
     ]
    },
    {
     "name": "stderr",
     "output_type": "stream",
     "text": [
      "\u001b[32m[I 2022-03-24 11:50:02,707]\u001b[0m Trial 188 finished with value: 0.7879135162235578 and parameters: {'tol': 0.0006866843665333972, 'C': 1.2261072065601033, 'max_iter': 460.2931643671267, 'warm_start': True}. Best is trial 108 with value: 0.7880069904644874.\u001b[0m\n"
     ]
    },
    {
     "name": "stdout",
     "output_type": "stream",
     "text": [
      "LogisticRegression(C=1.1460812332211492, max_iter=499.3776675007523,\n",
      "                   multi_class='multinomial', n_jobs=-1, random_state=42,\n",
      "                   solver='newton-cg', tol=0.0002535008983544336,\n",
      "                   warm_start=True)\n"
     ]
    },
    {
     "name": "stderr",
     "output_type": "stream",
     "text": [
      "\u001b[32m[I 2022-03-24 11:50:07,119]\u001b[0m Trial 189 finished with value: 0.7879471277649566 and parameters: {'tol': 0.0002535008983544336, 'C': 1.1460812332211492, 'max_iter': 499.3776675007523, 'warm_start': True}. Best is trial 108 with value: 0.7880069904644874.\u001b[0m\n"
     ]
    },
    {
     "name": "stdout",
     "output_type": "stream",
     "text": [
      "LogisticRegression(C=2.571181063153576, max_iter=497.15881262599163,\n",
      "                   multi_class='multinomial', n_jobs=-1, random_state=42,\n",
      "                   solver='newton-cg', tol=0.0002503807657562396,\n",
      "                   warm_start=True)\n"
     ]
    },
    {
     "name": "stderr",
     "output_type": "stream",
     "text": [
      "\u001b[32m[I 2022-03-24 11:50:12,294]\u001b[0m Trial 190 finished with value: 0.7859773001348238 and parameters: {'tol': 0.0002503807657562396, 'C': 2.571181063153576, 'max_iter': 497.15881262599163, 'warm_start': True}. Best is trial 108 with value: 0.7880069904644874.\u001b[0m\n"
     ]
    },
    {
     "name": "stdout",
     "output_type": "stream",
     "text": [
      "LogisticRegression(C=1.1485445229745401, max_iter=492.204131265504,\n",
      "                   multi_class='multinomial', n_jobs=-1, random_state=42,\n",
      "                   solver='newton-cg', tol=0.0005865852013127585,\n",
      "                   warm_start=True)\n"
     ]
    },
    {
     "name": "stderr",
     "output_type": "stream",
     "text": [
      "\u001b[32m[I 2022-03-24 11:50:16,438]\u001b[0m Trial 191 finished with value: 0.7879144085382347 and parameters: {'tol': 0.0005865852013127585, 'C': 1.1485445229745401, 'max_iter': 492.204131265504, 'warm_start': True}. Best is trial 108 with value: 0.7880069904644874.\u001b[0m\n"
     ]
    },
    {
     "name": "stdout",
     "output_type": "stream",
     "text": [
      "LogisticRegression(C=1.1757858644341044, max_iter=479.813186548925,\n",
      "                   multi_class='multinomial', n_jobs=-1, random_state=42,\n",
      "                   solver='newton-cg', tol=0.0002767944321658241,\n",
      "                   warm_start=True)\n"
     ]
    },
    {
     "name": "stderr",
     "output_type": "stream",
     "text": [
      "\u001b[32m[I 2022-03-24 11:50:20,857]\u001b[0m Trial 192 finished with value: 0.7879141569747967 and parameters: {'tol': 0.0002767944321658241, 'C': 1.1757858644341044, 'max_iter': 479.813186548925, 'warm_start': True}. Best is trial 108 with value: 0.7880069904644874.\u001b[0m\n"
     ]
    },
    {
     "name": "stdout",
     "output_type": "stream",
     "text": [
      "LogisticRegression(C=1.0651989013108731, max_iter=487.0505634046685,\n",
      "                   multi_class='multinomial', n_jobs=-1, random_state=42,\n",
      "                   solver='newton-cg', tol=0.00022883668372341868,\n",
      "                   warm_start=True)\n"
     ]
    },
    {
     "name": "stderr",
     "output_type": "stream",
     "text": [
      "\u001b[32m[I 2022-03-24 11:50:25,108]\u001b[0m Trial 193 finished with value: 0.7875796939497836 and parameters: {'tol': 0.00022883668372341868, 'C': 1.0651989013108731, 'max_iter': 487.0505634046685, 'warm_start': True}. Best is trial 108 with value: 0.7880069904644874.\u001b[0m\n"
     ]
    },
    {
     "name": "stdout",
     "output_type": "stream",
     "text": [
      "LogisticRegression(C=1.129637139088136, max_iter=355.69377478657645,\n",
      "                   multi_class='multinomial', n_jobs=-1, random_state=42,\n",
      "                   solver='newton-cg', tol=0.00032630461703092833,\n",
      "                   warm_start=True)\n"
     ]
    },
    {
     "name": "stderr",
     "output_type": "stream",
     "text": [
      "\u001b[32m[I 2022-03-24 11:50:29,453]\u001b[0m Trial 194 finished with value: 0.7878061550207165 and parameters: {'tol': 0.00032630461703092833, 'C': 1.129637139088136, 'max_iter': 355.69377478657645, 'warm_start': True}. Best is trial 108 with value: 0.7880069904644874.\u001b[0m\n"
     ]
    },
    {
     "name": "stdout",
     "output_type": "stream",
     "text": [
      "LogisticRegression(C=1.2545510678287735, max_iter=498.992823596097,\n",
      "                   multi_class='multinomial', n_jobs=-1, random_state=42,\n",
      "                   solver='newton-cg', tol=0.0002196248999146529,\n",
      "                   warm_start=True)\n"
     ]
    },
    {
     "name": "stderr",
     "output_type": "stream",
     "text": [
      "\u001b[32m[I 2022-03-24 11:50:33,834]\u001b[0m Trial 195 finished with value: 0.7876606750449902 and parameters: {'tol': 0.0002196248999146529, 'C': 1.2545510678287735, 'max_iter': 498.992823596097, 'warm_start': True}. Best is trial 108 with value: 0.7880069904644874.\u001b[0m\n"
     ]
    },
    {
     "name": "stdout",
     "output_type": "stream",
     "text": [
      "LogisticRegression(C=1.0413564293685922, max_iter=444.55903432573,\n",
      "                   multi_class='multinomial', n_jobs=-1, random_state=42,\n",
      "                   solver='newton-cg', tol=0.00026459683368911733,\n",
      "                   warm_start=True)\n"
     ]
    },
    {
     "name": "stderr",
     "output_type": "stream",
     "text": [
      "\u001b[32m[I 2022-03-24 11:50:37,927]\u001b[0m Trial 196 finished with value: 0.7876491880968867 and parameters: {'tol': 0.00026459683368911733, 'C': 1.0413564293685922, 'max_iter': 444.55903432573, 'warm_start': True}. Best is trial 108 with value: 0.7880069904644874.\u001b[0m\n"
     ]
    },
    {
     "name": "stdout",
     "output_type": "stream",
     "text": [
      "LogisticRegression(C=1.2014120895461893, max_iter=468.0743974692324,\n",
      "                   multi_class='multinomial', n_jobs=-1, random_state=42,\n",
      "                   solver='newton-cg', tol=0.0002977583182906384,\n",
      "                   warm_start=True)\n"
     ]
    },
    {
     "name": "stderr",
     "output_type": "stream",
     "text": [
      "\u001b[32m[I 2022-03-24 11:50:42,402]\u001b[0m Trial 197 finished with value: 0.7878498248482319 and parameters: {'tol': 0.0002977583182906384, 'C': 1.2014120895461893, 'max_iter': 468.0743974692324, 'warm_start': True}. Best is trial 108 with value: 0.7880069904644874.\u001b[0m\n"
     ]
    },
    {
     "name": "stdout",
     "output_type": "stream",
     "text": [
      "LogisticRegression(C=1.1125445538589576, max_iter=478.90260096494916,\n",
      "                   multi_class='multinomial', n_jobs=-1, random_state=42,\n",
      "                   solver='newton-cg', tol=0.0007691376722070162,\n",
      "                   warm_start=True)\n"
     ]
    },
    {
     "name": "stderr",
     "output_type": "stream",
     "text": [
      "\u001b[32m[I 2022-03-24 11:50:46,478]\u001b[0m Trial 198 finished with value: 0.7878229186564882 and parameters: {'tol': 0.0007691376722070162, 'C': 1.1125445538589576, 'max_iter': 478.90260096494916, 'warm_start': True}. Best is trial 108 with value: 0.7880069904644874.\u001b[0m\n"
     ]
    },
    {
     "name": "stdout",
     "output_type": "stream",
     "text": [
      "LogisticRegression(C=1.2590178246376162, max_iter=142.4044555532761,\n",
      "                   multi_class='multinomial', n_jobs=-1, random_state=42,\n",
      "                   solver='newton-cg', tol=0.0009200109712417481,\n",
      "                   warm_start=True)\n"
     ]
    },
    {
     "name": "stderr",
     "output_type": "stream",
     "text": [
      "\u001b[32m[I 2022-03-24 11:50:50,662]\u001b[0m Trial 199 finished with value: 0.7876736241668871 and parameters: {'tol': 0.0009200109712417481, 'C': 1.2590178246376162, 'max_iter': 142.4044555532761, 'warm_start': True}. Best is trial 108 with value: 0.7880069904644874.\u001b[0m\n"
     ]
    }
   ],
   "source": [
    "metric_to_optimze = 'precision'  # accuracy, precision, recall, f1\n",
    "study_lr_tfidf = optuna.create_study(direction='maximize')\n",
    "study_lr_tfidf.optimize(objective_LR_tfidf, n_trials=200)"
   ]
  },
  {
   "cell_type": "code",
   "execution_count": 57,
   "metadata": {
    "ExecuteTime": {
     "end_time": "2022-03-24T14:50:54.583900Z",
     "start_time": "2022-03-24T14:50:50.678520Z"
    }
   },
   "outputs": [
    {
     "name": "stdout",
     "output_type": "stream",
     "text": [
      "              precision    recall  f1-score   support\n",
      "\n",
      "           0       0.74      0.71      0.72      9510\n",
      "           1       0.70      0.71      0.70      9550\n",
      "           2       0.92      0.94      0.93      9433\n",
      "\n",
      "    accuracy                           0.79     28493\n",
      "   macro avg       0.79      0.79      0.79     28493\n",
      "weighted avg       0.79      0.79      0.79     28493\n",
      "\n"
     ]
    }
   ],
   "source": [
    "model = LogisticRegression(**study_lr_tfidf.best_params,\n",
    "                           random_state=42,\n",
    "                           n_jobs=-1,\n",
    "                           solver='newton-cg',\n",
    "                           multi_class='multinomial')\n",
    "model.fit(X_train_tfidf, y_train)\n",
    "y_pred_tfidf_best = model.predict(X_test_tfidf)\n",
    "\n",
    "print(metrics.classification_report(y_test, y_pred_tfidf_best))"
   ]
  },
  {
   "cell_type": "code",
   "execution_count": 58,
   "metadata": {
    "ExecuteTime": {
     "end_time": "2022-03-24T14:50:54.599723Z",
     "start_time": "2022-03-24T14:50:54.584766Z"
    }
   },
   "outputs": [
    {
     "data": {
      "text/plain": [
       "{'tol': 0.0004922720011696177,\n",
       " 'C': 1.1551191211813585,\n",
       " 'max_iter': 469.7937093829084,\n",
       " 'warm_start': True}"
      ]
     },
     "execution_count": 58,
     "metadata": {},
     "output_type": "execute_result"
    }
   ],
   "source": [
    "study_lr_tfidf.best_params"
   ]
  },
  {
   "cell_type": "code",
   "execution_count": 59,
   "metadata": {
    "ExecuteTime": {
     "end_time": "2022-03-24T14:50:54.725384Z",
     "start_time": "2022-03-24T14:50:54.601720Z"
    }
   },
   "outputs": [
    {
     "data": {
      "image/png": "[encoded data removed]",
      "text/plain": [
       "<Figure size 432x288 with 1 Axes>"
      ]
     },
     "metadata": {
      "needs_background": "light"
     },
     "output_type": "display_data"
    }
   ],
   "source": [
    "from mlxtend.plotting import plot_confusion_matrix\n",
    "from sklearn.metrics import confusion_matrix\n",
    "cm = confusion_matrix(y_test, y_pred_tfidf_best)\n",
    "\n",
    "plot_confusion_matrix(conf_mat=cm)\n",
    "plt.show()"
   ]
  },
  {
   "cell_type": "markdown",
   "metadata": {},
   "source": [
    "### Modelo escolhido"
   ]
  },
  {
   "cell_type": "code",
   "execution_count": 60,
   "metadata": {
    "ExecuteTime": {
     "end_time": "2022-03-24T14:51:00.616294Z",
     "start_time": "2022-03-24T14:50:54.727386Z"
    }
   },
   "outputs": [
    {
     "name": "stdout",
     "output_type": "stream",
     "text": [
      "              precision    recall  f1-score   support\n",
      "\n",
      "           0       0.72      0.72      0.72      9510\n",
      "           1       0.69      0.70      0.70      9550\n",
      "           2       0.94      0.93      0.94      9433\n",
      "\n",
      "    accuracy                           0.78     28493\n",
      "   macro avg       0.79      0.78      0.79     28493\n",
      "weighted avg       0.79      0.78      0.78     28493\n",
      "\n"
     ]
    }
   ],
   "source": [
    "model = LogisticRegression(**study_lr_cv.best_params,\n",
    "                           random_state=42,\n",
    "                           n_jobs=-1,\n",
    "                           solver='newton-cg',\n",
    "                           multi_class='multinomial')\n",
    "model.fit(X_train_cv, y_train)\n",
    "y_pred_cv_best = model.predict(X_test_cv)\n",
    "\n",
    "print(metrics.classification_report(y_test, y_pred_cv_best))"
   ]
  },
  {
   "cell_type": "markdown",
   "metadata": {},
   "source": [
    "## Mundo Real"
   ]
  },
  {
   "cell_type": "code",
   "execution_count": 61,
   "metadata": {
    "ExecuteTime": {
     "end_time": "2022-03-24T14:51:00.679228Z",
     "start_time": "2022-03-24T14:51:00.618204Z"
    }
   },
   "outputs": [
    {
     "data": {
      "text/html": [
       "<div>\n",
       "<style scoped>\n",
       "    .dataframe tbody tr th:only-of-type {\n",
       "        vertical-align: middle;\n",
       "    }\n",
       "\n",
       "    .dataframe tbody tr th {\n",
       "        vertical-align: top;\n",
       "    }\n",
       "\n",
       "    .dataframe thead th {\n",
       "        text-align: right;\n",
       "    }\n",
       "</style>\n",
       "<table border=\"1\" class=\"dataframe\">\n",
       "  <thead>\n",
       "    <tr style=\"text-align: right;\">\n",
       "      <th></th>\n",
       "      <th>id</th>\n",
       "      <th>tweet_text</th>\n",
       "      <th>tweet_date</th>\n",
       "      <th>query_used</th>\n",
       "    </tr>\n",
       "  </thead>\n",
       "  <tbody>\n",
       "    <tr>\n",
       "      <th>0</th>\n",
       "      <td>1046764676707753987</td>\n",
       "      <td>Apartamento Vila Mariana Praça Monteiro dos Sa...</td>\n",
       "      <td>Mon Oct 01 14:12:01 +0000 2018</td>\n",
       "      <td>:)</td>\n",
       "    </tr>\n",
       "    <tr>\n",
       "      <th>1</th>\n",
       "      <td>1047329264943751169</td>\n",
       "      <td>@FalleNCS @BrasilGameShow quero 1x1 de scout. ...</td>\n",
       "      <td>Wed Oct 03 03:35:29 +0000 2018</td>\n",
       "      <td>:)</td>\n",
       "    </tr>\n",
       "    <tr>\n",
       "      <th>2</th>\n",
       "      <td>1045443874947313665</td>\n",
       "      <td>mais uma analógica no correio à minha espera :...</td>\n",
       "      <td>Thu Sep 27 22:43:37 +0000 2018</td>\n",
       "      <td>:)</td>\n",
       "    </tr>\n",
       "    <tr>\n",
       "      <th>3</th>\n",
       "      <td>1040484298711814144</td>\n",
       "      <td>Em festa de posse como presidente do STF, Toff...</td>\n",
       "      <td>Fri Sep 14 06:16:02 +0000 2018</td>\n",
       "      <td>folha</td>\n",
       "    </tr>\n",
       "    <tr>\n",
       "      <th>4</th>\n",
       "      <td>1045411876887306240</td>\n",
       "      <td>@thethiagor @jubsilva @GSCISA @GrupoMulheRIs A...</td>\n",
       "      <td>Thu Sep 27 20:36:28 +0000 2018</td>\n",
       "      <td>:)</td>\n",
       "    </tr>\n",
       "    <tr>\n",
       "      <th>...</th>\n",
       "      <td>...</td>\n",
       "      <td>...</td>\n",
       "      <td>...</td>\n",
       "      <td>...</td>\n",
       "    </tr>\n",
       "    <tr>\n",
       "      <th>4995</th>\n",
       "      <td>1049243861732794369</td>\n",
       "      <td>Não é nada demais , apenas a verdade :) — Oh.....</td>\n",
       "      <td>Mon Oct 08 10:23:25 +0000 2018</td>\n",
       "      <td>:)</td>\n",
       "    </tr>\n",
       "    <tr>\n",
       "      <th>4996</th>\n",
       "      <td>1039334757690163201</td>\n",
       "      <td>Veja o que é #FATO ou #FAKE na entrevista de A...</td>\n",
       "      <td>Tue Sep 11 02:08:10 +0000 2018</td>\n",
       "      <td>#fato</td>\n",
       "    </tr>\n",
       "    <tr>\n",
       "      <th>4997</th>\n",
       "      <td>1049286902577356801</td>\n",
       "      <td>@nattvieiira de quem???? queria ver, eu sai po...</td>\n",
       "      <td>Mon Oct 08 13:14:27 +0000 2018</td>\n",
       "      <td>:(</td>\n",
       "    </tr>\n",
       "    <tr>\n",
       "      <th>4998</th>\n",
       "      <td>1045349300744671232</td>\n",
       "      <td>ASSASSIN'S CREED ORIGINS: ENFRENTANDO OS IRMÃO...</td>\n",
       "      <td>Thu Sep 27 16:27:49 +0000 2018</td>\n",
       "      <td>:)</td>\n",
       "    </tr>\n",
       "    <tr>\n",
       "      <th>4999</th>\n",
       "      <td>1046943420210659328</td>\n",
       "      <td>a gnt conversava muito mas paramos :( te acho ...</td>\n",
       "      <td>Tue Oct 02 02:02:17 +0000 2018</td>\n",
       "      <td>:(</td>\n",
       "    </tr>\n",
       "  </tbody>\n",
       "</table>\n",
       "<p>5000 rows × 4 columns</p>\n",
       "</div>"
      ],
      "text/plain": [
       "                       id                                         tweet_text  \\\n",
       "0     1046764676707753987  Apartamento Vila Mariana Praça Monteiro dos Sa...   \n",
       "1     1047329264943751169  @FalleNCS @BrasilGameShow quero 1x1 de scout. ...   \n",
       "2     1045443874947313665  mais uma analógica no correio à minha espera :...   \n",
       "3     1040484298711814144  Em festa de posse como presidente do STF, Toff...   \n",
       "4     1045411876887306240  @thethiagor @jubsilva @GSCISA @GrupoMulheRIs A...   \n",
       "...                   ...                                                ...   \n",
       "4995  1049243861732794369  Não é nada demais , apenas a verdade :) — Oh.....   \n",
       "4996  1039334757690163201  Veja o que é #FATO ou #FAKE na entrevista de A...   \n",
       "4997  1049286902577356801  @nattvieiira de quem???? queria ver, eu sai po...   \n",
       "4998  1045349300744671232  ASSASSIN'S CREED ORIGINS: ENFRENTANDO OS IRMÃO...   \n",
       "4999  1046943420210659328  a gnt conversava muito mas paramos :( te acho ...   \n",
       "\n",
       "                          tweet_date query_used  \n",
       "0     Mon Oct 01 14:12:01 +0000 2018         :)  \n",
       "1     Wed Oct 03 03:35:29 +0000 2018         :)  \n",
       "2     Thu Sep 27 22:43:37 +0000 2018         :)  \n",
       "3     Fri Sep 14 06:16:02 +0000 2018      folha  \n",
       "4     Thu Sep 27 20:36:28 +0000 2018         :)  \n",
       "...                              ...        ...  \n",
       "4995  Mon Oct 08 10:23:25 +0000 2018         :)  \n",
       "4996  Tue Sep 11 02:08:10 +0000 2018      #fato  \n",
       "4997  Mon Oct 08 13:14:27 +0000 2018         :(  \n",
       "4998  Thu Sep 27 16:27:49 +0000 2018         :)  \n",
       "4999  Tue Oct 02 02:02:17 +0000 2018         :(  \n",
       "\n",
       "[5000 rows x 4 columns]"
      ]
     },
     "execution_count": 61,
     "metadata": {},
     "output_type": "execute_result"
    }
   ],
   "source": [
    "df_rw = pd.read_csv('./Dados/subm/Subm3Classes.csv')\n",
    "df_rw"
   ]
  },
  {
   "cell_type": "code",
   "execution_count": 62,
   "metadata": {
    "ExecuteTime": {
     "end_time": "2022-03-24T14:51:31.320688Z",
     "start_time": "2022-03-24T14:51:00.680261Z"
    }
   },
   "outputs": [],
   "source": [
    "df_rw[\"filtered_words\"] = df_rw['tweet_text'].apply(lambda x: preprocessamento_texto(x,sw))\n",
    "\n",
    "#juntamos as palavras novamente em uma só string\n",
    "\n",
    "df_rw['join_words'] = df_rw['filtered_words'].apply(lambda x: ' '.join(x))"
   ]
  },
  {
   "cell_type": "code",
   "execution_count": 63,
   "metadata": {
    "ExecuteTime": {
     "end_time": "2022-03-24T14:51:31.352637Z",
     "start_time": "2022-03-24T14:51:31.322691Z"
    }
   },
   "outputs": [
    {
     "data": {
      "text/html": [
       "<div>\n",
       "<style scoped>\n",
       "    .dataframe tbody tr th:only-of-type {\n",
       "        vertical-align: middle;\n",
       "    }\n",
       "\n",
       "    .dataframe tbody tr th {\n",
       "        vertical-align: top;\n",
       "    }\n",
       "\n",
       "    .dataframe thead th {\n",
       "        text-align: right;\n",
       "    }\n",
       "</style>\n",
       "<table border=\"1\" class=\"dataframe\">\n",
       "  <thead>\n",
       "    <tr style=\"text-align: right;\">\n",
       "      <th></th>\n",
       "      <th>id</th>\n",
       "      <th>tweet_text</th>\n",
       "      <th>tweet_date</th>\n",
       "      <th>query_used</th>\n",
       "      <th>filtered_words</th>\n",
       "      <th>join_words</th>\n",
       "    </tr>\n",
       "  </thead>\n",
       "  <tbody>\n",
       "    <tr>\n",
       "      <th>0</th>\n",
       "      <td>1046764676707753987</td>\n",
       "      <td>Apartamento Vila Mariana Praça Monteiro dos Sa...</td>\n",
       "      <td>Mon Oct 01 14:12:01 +0000 2018</td>\n",
       "      <td>:)</td>\n",
       "      <td>[apartamento, vila, mariano, praca, monteiro, ...</td>\n",
       "      <td>apartamento vila mariano praca monteiro santo ...</td>\n",
       "    </tr>\n",
       "    <tr>\n",
       "      <th>1</th>\n",
       "      <td>1047329264943751169</td>\n",
       "      <td>@FalleNCS @BrasilGameShow quero 1x1 de scout. ...</td>\n",
       "      <td>Wed Oct 03 03:35:29 +0000 2018</td>\n",
       "      <td>:)</td>\n",
       "      <td>[x, scout, dar, muito, balir, cagar]</td>\n",
       "      <td>x scout dar muito balir cagar</td>\n",
       "    </tr>\n",
       "    <tr>\n",
       "      <th>2</th>\n",
       "      <td>1045443874947313665</td>\n",
       "      <td>mais uma analógica no correio à minha espera :...</td>\n",
       "      <td>Thu Sep 27 22:43:37 +0000 2018</td>\n",
       "      <td>:)</td>\n",
       "      <td>[analogica, correar, esperar, so, receber, len...</td>\n",
       "      <td>analogica correar esperar so receber lente com...</td>\n",
       "    </tr>\n",
       "    <tr>\n",
       "      <th>3</th>\n",
       "      <td>1040484298711814144</td>\n",
       "      <td>Em festa de posse como presidente do STF, Toff...</td>\n",
       "      <td>Fri Sep 14 06:16:02 +0000 2018</td>\n",
       "      <td>folha</td>\n",
       "      <td>[festa, posse, presidente, stf, toffoli, canta...</td>\n",
       "      <td>festa posse presidente stf toffoli cantar legi...</td>\n",
       "    </tr>\n",
       "    <tr>\n",
       "      <th>4</th>\n",
       "      <td>1045411876887306240</td>\n",
       "      <td>@thethiagor @jubsilva @GSCISA @GrupoMulheRIs A...</td>\n",
       "      <td>Thu Sep 27 20:36:28 +0000 2018</td>\n",
       "      <td>:)</td>\n",
       "      <td>[flavia, tuiter, tambem]</td>\n",
       "      <td>flavia tuiter tambem</td>\n",
       "    </tr>\n",
       "    <tr>\n",
       "      <th>...</th>\n",
       "      <td>...</td>\n",
       "      <td>...</td>\n",
       "      <td>...</td>\n",
       "      <td>...</td>\n",
       "      <td>...</td>\n",
       "      <td>...</td>\n",
       "    </tr>\n",
       "    <tr>\n",
       "      <th>4995</th>\n",
       "      <td>1049243861732794369</td>\n",
       "      <td>Não é nada demais , apenas a verdade :) — Oh.....</td>\n",
       "      <td>Mon Oct 08 10:23:25 +0000 2018</td>\n",
       "      <td>:)</td>\n",
       "      <td>[nao, verdade, oh, pronto, obrigadaaaaa]</td>\n",
       "      <td>nao verdade oh pronto obrigadaaaaa</td>\n",
       "    </tr>\n",
       "    <tr>\n",
       "      <th>4996</th>\n",
       "      <td>1039334757690163201</td>\n",
       "      <td>Veja o que é #FATO ou #FAKE na entrevista de A...</td>\n",
       "      <td>Tue Sep 11 02:08:10 +0000 2018</td>\n",
       "      <td>#fato</td>\n",
       "      <td>[fato, fake, entrevisto, anthony, garoto, rjtv]</td>\n",
       "      <td>fato fake entrevisto anthony garoto rjtv</td>\n",
       "    </tr>\n",
       "    <tr>\n",
       "      <th>4997</th>\n",
       "      <td>1049286902577356801</td>\n",
       "      <td>@nattvieiira de quem???? queria ver, eu sai po...</td>\n",
       "      <td>Mon Oct 08 13:14:27 +0000 2018</td>\n",
       "      <td>:(</td>\n",
       "      <td>[querer, sair, causar, luca]</td>\n",
       "      <td>querer sair causar luca</td>\n",
       "    </tr>\n",
       "    <tr>\n",
       "      <th>4998</th>\n",
       "      <td>1045349300744671232</td>\n",
       "      <td>ASSASSIN'S CREED ORIGINS: ENFRENTANDO OS IRMÃO...</td>\n",
       "      <td>Thu Sep 27 16:27:49 +0000 2018</td>\n",
       "      <td>:)</td>\n",
       "      <td>[assassins, creed, origins, enfrentar, irmaos,...</td>\n",
       "      <td>assassins creed origins enfrentar irmaos ze ru...</td>\n",
       "    </tr>\n",
       "    <tr>\n",
       "      <th>4999</th>\n",
       "      <td>1046943420210659328</td>\n",
       "      <td>a gnt conversava muito mas paramos :( te acho ...</td>\n",
       "      <td>Tue Oct 02 02:02:17 +0000 2018</td>\n",
       "      <td>:(</td>\n",
       "      <td>[gnt, conversar, parir, achar, mt, engracado, ...</td>\n",
       "      <td>gnt conversar parir achar mt engracado caro kk...</td>\n",
       "    </tr>\n",
       "  </tbody>\n",
       "</table>\n",
       "<p>5000 rows × 6 columns</p>\n",
       "</div>"
      ],
      "text/plain": [
       "                       id                                         tweet_text  \\\n",
       "0     1046764676707753987  Apartamento Vila Mariana Praça Monteiro dos Sa...   \n",
       "1     1047329264943751169  @FalleNCS @BrasilGameShow quero 1x1 de scout. ...   \n",
       "2     1045443874947313665  mais uma analógica no correio à minha espera :...   \n",
       "3     1040484298711814144  Em festa de posse como presidente do STF, Toff...   \n",
       "4     1045411876887306240  @thethiagor @jubsilva @GSCISA @GrupoMulheRIs A...   \n",
       "...                   ...                                                ...   \n",
       "4995  1049243861732794369  Não é nada demais , apenas a verdade :) — Oh.....   \n",
       "4996  1039334757690163201  Veja o que é #FATO ou #FAKE na entrevista de A...   \n",
       "4997  1049286902577356801  @nattvieiira de quem???? queria ver, eu sai po...   \n",
       "4998  1045349300744671232  ASSASSIN'S CREED ORIGINS: ENFRENTANDO OS IRMÃO...   \n",
       "4999  1046943420210659328  a gnt conversava muito mas paramos :( te acho ...   \n",
       "\n",
       "                          tweet_date query_used  \\\n",
       "0     Mon Oct 01 14:12:01 +0000 2018         :)   \n",
       "1     Wed Oct 03 03:35:29 +0000 2018         :)   \n",
       "2     Thu Sep 27 22:43:37 +0000 2018         :)   \n",
       "3     Fri Sep 14 06:16:02 +0000 2018      folha   \n",
       "4     Thu Sep 27 20:36:28 +0000 2018         :)   \n",
       "...                              ...        ...   \n",
       "4995  Mon Oct 08 10:23:25 +0000 2018         :)   \n",
       "4996  Tue Sep 11 02:08:10 +0000 2018      #fato   \n",
       "4997  Mon Oct 08 13:14:27 +0000 2018         :(   \n",
       "4998  Thu Sep 27 16:27:49 +0000 2018         :)   \n",
       "4999  Tue Oct 02 02:02:17 +0000 2018         :(   \n",
       "\n",
       "                                         filtered_words  \\\n",
       "0     [apartamento, vila, mariano, praca, monteiro, ...   \n",
       "1                  [x, scout, dar, muito, balir, cagar]   \n",
       "2     [analogica, correar, esperar, so, receber, len...   \n",
       "3     [festa, posse, presidente, stf, toffoli, canta...   \n",
       "4                              [flavia, tuiter, tambem]   \n",
       "...                                                 ...   \n",
       "4995           [nao, verdade, oh, pronto, obrigadaaaaa]   \n",
       "4996    [fato, fake, entrevisto, anthony, garoto, rjtv]   \n",
       "4997                       [querer, sair, causar, luca]   \n",
       "4998  [assassins, creed, origins, enfrentar, irmaos,...   \n",
       "4999  [gnt, conversar, parir, achar, mt, engracado, ...   \n",
       "\n",
       "                                             join_words  \n",
       "0     apartamento vila mariano praca monteiro santo ...  \n",
       "1                         x scout dar muito balir cagar  \n",
       "2     analogica correar esperar so receber lente com...  \n",
       "3     festa posse presidente stf toffoli cantar legi...  \n",
       "4                                  flavia tuiter tambem  \n",
       "...                                                 ...  \n",
       "4995                 nao verdade oh pronto obrigadaaaaa  \n",
       "4996           fato fake entrevisto anthony garoto rjtv  \n",
       "4997                            querer sair causar luca  \n",
       "4998  assassins creed origins enfrentar irmaos ze ru...  \n",
       "4999  gnt conversar parir achar mt engracado caro kk...  \n",
       "\n",
       "[5000 rows x 6 columns]"
      ]
     },
     "execution_count": 63,
     "metadata": {},
     "output_type": "execute_result"
    }
   ],
   "source": [
    "df_rw"
   ]
  },
  {
   "cell_type": "code",
   "execution_count": 64,
   "metadata": {
    "ExecuteTime": {
     "end_time": "2022-03-24T14:51:31.368561Z",
     "start_time": "2022-03-24T14:51:31.354598Z"
    }
   },
   "outputs": [],
   "source": [
    "X_rw = df_rw['join_words']\n"
   ]
  },
  {
   "cell_type": "code",
   "execution_count": 65,
   "metadata": {
    "ExecuteTime": {
     "end_time": "2022-03-24T14:51:31.432388Z",
     "start_time": "2022-03-24T14:51:31.370556Z"
    }
   },
   "outputs": [],
   "source": [
    "\n",
    "X_test_rw = cv.transform(X_rw)"
   ]
  },
  {
   "cell_type": "code",
   "execution_count": 66,
   "metadata": {
    "ExecuteTime": {
     "end_time": "2022-03-24T14:51:37.521759Z",
     "start_time": "2022-03-24T14:51:31.434383Z"
    }
   },
   "outputs": [],
   "source": [
    "model = LogisticRegression(**study_lr_cv.best_params,\n",
    "                           random_state=42,\n",
    "                           n_jobs=-1,\n",
    "                           solver='newton-cg',\n",
    "                           multi_class='multinomial')\n",
    "model.fit(X_train_cv, y_train)\n",
    "y_pred_rw = model.predict(X_test_rw)\n"
   ]
  },
  {
   "cell_type": "code",
   "execution_count": 67,
   "metadata": {
    "ExecuteTime": {
     "end_time": "2022-03-24T14:51:37.552706Z",
     "start_time": "2022-03-24T14:51:37.523722Z"
    }
   },
   "outputs": [],
   "source": [
    "#Gerando o arquivo csv com as predições\n",
    "pd.DataFrame(index=df_rw['id'],data={'sentiment_predict':y_pred_rw}).to_csv('predictions.csv')"
   ]
  }
 ],
 "metadata": {
  "colab": {
   "collapsed_sections": [],
   "name": "Projeto 2 - NLP.ipynb",
   "provenance": []
  },
  "kernelspec": {
   "display_name": "Python 3",
   "language": "python",
   "name": "python3"
  },
  "language_info": {
   "codemirror_mode": {
    "name": "ipython",
    "version": 3
   },
   "file_extension": ".py",
   "mimetype": "text/x-python",
   "name": "python",
   "nbconvert_exporter": "python",
   "pygments_lexer": "ipython3",
   "version": "3.9.5"
  },
  "toc": {
   "base_numbering": 1,
   "nav_menu": {},
   "number_sections": false,
   "sideBar": true,
   "skip_h1_title": false,
   "title_cell": "Table of Contents",
   "title_sidebar": "Contents",
   "toc_cell": false,
   "toc_position": {
    "height": "calc(100% - 180px)",
    "left": "10px",
    "top": "150px",
    "width": "512px"
   },
   "toc_section_display": true,
   "toc_window_display": true
  },
  "varInspector": {
   "cols": {
    "lenName": 16,
    "lenType": 16,
    "lenVar": 40
   },
   "kernels_config": {
    "python": {
     "delete_cmd_postfix": "",
     "delete_cmd_prefix": "del ",
     "library": "var_list.py",
     "varRefreshCmd": "print(var_dic_list())"
    },
    "r": {
     "delete_cmd_postfix": ") ",
     "delete_cmd_prefix": "rm(",
     "library": "var_list.r",
     "varRefreshCmd": "cat(var_dic_list()) "
    }
   },
   "types_to_exclude": [
    "module",
    "function",
    "builtin_function_or_method",
    "instance",
    "_Feature"
   ],
   "window_display": false
  }
 },
 "nbformat": 4,
 "nbformat_minor": 5
}
